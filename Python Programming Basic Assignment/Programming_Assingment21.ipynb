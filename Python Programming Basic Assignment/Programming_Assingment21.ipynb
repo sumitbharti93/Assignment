{
 "cells": [
  {
   "cell_type": "markdown",
   "id": "1dba43f7",
   "metadata": {},
   "source": [
    "# Programming_Assingment21"
   ]
  },
  {
   "cell_type": "code",
   "execution_count": 8,
   "id": "50a045d0",
   "metadata": {},
   "outputs": [
    {
     "name": "stdout",
     "output_type": "stream",
     "text": [
      "Enter the list and argument[1, 10, 20, 42 ], 6\n",
      "[10, 20, 42, 6]\n"
     ]
    }
   ],
   "source": [
    "'''\n",
    "Question1\n",
    "Write a function that takes a list and a number as arguments. Add the number to the end of the list, then remove the \n",
    "first element of the list. The function should then return the updated list.\n",
    "Examples\n",
    "next_in_line([5, 6, 7, 8, 9], 1) ➞ [6, 7, 8, 9, 1]\n",
    "\n",
    "next_in_line([7, 6, 3, 23, 17], 10) ➞ [6, 3, 23, 17, 10]\n",
    "\n",
    "next_in_line([1, 10, 20, 42 ], 6) ➞ [10, 20, 42, 6]\n",
    "\n",
    "next_in_line([], 6) ➞ \"No list has been selected\"\n",
    "\n",
    "\n",
    "'''\n",
    "#Code\n",
    "\n",
    "def next_in_line(lst,argument):\n",
    "    if len(lst)>0:\n",
    "        lst.append(argument)\n",
    "        lst.remove(lst[0])\n",
    "        return lst\n",
    "    else:\n",
    "        return 'no list has been selected'\n",
    "      \n",
    "if __name__==\"__main__\":\n",
    "    lst,argument = eval(input(\"Enter the list and argument\"))\n",
    "    result = next_in_line(lst,argument)\n",
    "    print(result)\n",
    "    \n"
   ]
  },
  {
   "cell_type": "code",
   "execution_count": 16,
   "id": "f2340a3b",
   "metadata": {},
   "outputs": [
    {
     "name": "stdout",
     "output_type": "stream",
     "text": [
      "Enter the list[   { \"name\": \"John\", \"age\": 21, \"budget\": 23000 },   { \"name\": \"Steve\",  \"age\": 32, \"budget\": 40000 },   { \"name\": \"Martin\",  \"age\": 16, \"budget\": 2700 } ]\n",
      "Total budget is  65700\n"
     ]
    }
   ],
   "source": [
    "'''\n",
    "Question2\n",
    "Create the function that takes a list of dictionaries and returns the sum of people's budgets.\n",
    "Examples\n",
    "get_budgets([\n",
    "  { \"name\": \"John\", \"age\": 21, \"budget\": 23000 },\n",
    "  { \"name\": \"Steve\",  \"age\": 32, \"budget\": 40000 },\n",
    "  { \"name\": \"Martin\",  \"age\": 16, \"budget\": 2700 }\n",
    "]) ➞ 65700\n",
    "\n",
    "get_budgets([\n",
    "  { \"name\": \"John\",  \"age\": 21, \"budget\": 29000 },\n",
    "  { \"name\": \"Steve\",  \"age\": 32, \"budget\": 32000 },\n",
    "  { \"name\": \"Martin\",  \"age\": 16, \"budget\": 1600 }\n",
    "]) ➞ 62600\n",
    "\n",
    "'''\n",
    "\n",
    "#Code\n",
    "\n",
    "def get_budgets(lst):\n",
    "    total_budget=0\n",
    "    for i in lst:\n",
    "        total_budget+=i['budget']\n",
    "    return total_budget\n",
    "    \n",
    "if __name__==\"__main__\":\n",
    "    lst = eval(input(\"Enter the list\"))\n",
    "    result = get_budgets(lst)\n",
    "    print('Total budget is ', result)"
   ]
  },
  {
   "cell_type": "code",
   "execution_count": 39,
   "id": "ae58a436",
   "metadata": {},
   "outputs": [
    {
     "name": "stdout",
     "output_type": "stream",
     "text": [
      "Enter the stringhello\n",
      "String in alphabetical order is  ehllo\n",
      "Enter the stringhello\n",
      "String in alphabetical order is  ehllo\n"
     ]
    }
   ],
   "source": [
    "'''\n",
    "Question3\n",
    "Create a function that takes a string and returns a string with its letters in alphabetical order.\n",
    "Examples\n",
    "alphabet_soup(\"hello\") ➞ \"ehllo\"\n",
    "\n",
    "alphabet_soup(\"edabit\") ➞ \"abdeit\"\n",
    "\n",
    "alphabet_soup(\"hacker\") ➞ \"acehkr\"\n",
    "\n",
    "alphabet_soup(\"geek\") ➞ \"eegk\"\n",
    "\n",
    "alphabet_soup(\"javascript\") ➞ \"aacijprstv\"\n",
    "\n",
    "'''\n",
    "#Code\n",
    "#Method 1 \n",
    "def alphabet_soup(st):\n",
    "    st_lst=list(st)\n",
    "    for i in range(len(st_lst)):\n",
    "        for j in range(len(st_lst)):\n",
    "            if st_lst[i]<st_lst[j]:\n",
    "                st_lst[i],st_lst[j]=st_lst[j],st_lst[i]\n",
    "    a = \"\"\n",
    "    for i in st_lst:\n",
    "        a+=i\n",
    "    return a\n",
    "\n",
    "    \n",
    "if __name__==\"__main__\":\n",
    "    st = input(\"Enter the string\")\n",
    "    result = alphabet_soup(st)\n",
    "    print('String in alphabetical order is ', result)\n",
    "\n",
    "#Method2 \n",
    "\n",
    "def alphabet_soup1(st):\n",
    "    return \"\".join(sorted(st))\n",
    "\n",
    "if __name__==\"__main__\":\n",
    "    st = input(\"Enter the string\")\n",
    "    result = alphabet_soup1(st)\n",
    "    print('String in alphabetical order is ', result)\n"
   ]
  },
  {
   "cell_type": "code",
   "execution_count": 22,
   "id": "d484a6be",
   "metadata": {},
   "outputs": [
    {
     "name": "stdout",
     "output_type": "stream",
     "text": [
      "Enter the principal amount, terms in year, ineterst rate, compounding periods per year(100000, 20, 0.15, 365)\n",
      "Total compunded amount is 2007316.26\n"
     ]
    }
   ],
   "source": [
    "'''\n",
    "Question4\n",
    "Suppose that you invest $10,000 for 10 years at an interest rate of 6% compounded monthly. What will be the value of your \n",
    "investment at the end of the 10 year period?\n",
    "Create a function that accepts the principal p, the term in years t, the interest rate r, and the number of \n",
    "compounding periods per year n. The function returns the value at the end of term rounded to the nearest cent.\n",
    "For the example above:\n",
    "compound_interest(10000, 10, 0.06, 12) ➞ 18193.97\n",
    "Note that the interest rate is given as a decimal and n=12 because with monthly compounding there are 12 periods per year. Compounding can also be done annually, quarterly, weekly, or daily.\n",
    "Examples\n",
    "compound_interest(100, 1, 0.05, 1) ➞ 105.0\n",
    "\n",
    "compound_interest(3500, 15, 0.1, 4) ➞ 15399.26\n",
    "\n",
    "compound_interest(100000, 20, 0.15, 365) ➞ 2007316.26\n",
    "'''\n",
    "#Code\n",
    "\n",
    "def compound_interest(principal, term_year,int_rate,comp_per_year):\n",
    "    total_amount = principal*((1+ (int_rate/comp_per_year))**(term_year*comp_per_year))\n",
    "    return total_amount\n",
    "\n",
    " \n",
    "if __name__==\"__main__\":\n",
    "    principal,term_year,int_rate,comp_per_year = eval(input(\"Enter the principal amount, terms in year, ineterst rate, compounding periods per year\"))\n",
    "    result = compound_interest(principal,term_year,int_rate,comp_per_year)\n",
    "    print('Total compunded amount is {0:.2f}'.format(result))\n",
    "\n",
    "\n"
   ]
  },
  {
   "cell_type": "code",
   "execution_count": 2,
   "id": "570e924b",
   "metadata": {},
   "outputs": [
    {
     "name": "stdout",
     "output_type": "stream",
     "text": [
      "Enter the list[10, \"121\", 56, 20, \"car\", 3, \"lion\"]\n",
      "[10, 56, 20, 3]\n"
     ]
    }
   ],
   "source": [
    "'''\n",
    "Question5\n",
    "Write a function that takes a list of elements and returns only the integers.\n",
    "Examples\n",
    "return_only_integer([9, 2, \"space\", \"car\", \"lion\", 16]) ➞ [9, 2, 16]\n",
    "\n",
    "return_only_integer([\"hello\", 81, \"basketball\", 123, \"fox\"]) ➞ [81, 123]\n",
    "\n",
    "return_only_integer([10, \"121\", 56, 20, \"car\", 3, \"lion\"]) ➞ [10, 56, 20, 3]\n",
    "\n",
    "return_only_integer([\"String\",  True,  3.3,  1]) ➞ [1]\n",
    "\n",
    "'''\n",
    "\n",
    "#Code\n",
    "\n",
    "\n",
    "def filter_list(l):\n",
    "    new_list=[]\n",
    "    for i in l:\n",
    "        if type(i)!=str:\n",
    "            new_list.append(i)\n",
    "    return new_list\n",
    "\n",
    "if __name__ ==\"__main__\":\n",
    "    l = eval(input(\"Enter the list\"))\n",
    "    result = filter_list(l)\n",
    "    print(result)\n"
   ]
  },
  {
   "cell_type": "code",
   "execution_count": null,
   "id": "eccc4b2c",
   "metadata": {},
   "outputs": [],
   "source": []
  }
 ],
 "metadata": {
  "kernelspec": {
   "display_name": "Python 3 (ipykernel)",
   "language": "python",
   "name": "python3"
  },
  "language_info": {
   "codemirror_mode": {
    "name": "ipython",
    "version": 3
   },
   "file_extension": ".py",
   "mimetype": "text/x-python",
   "name": "python",
   "nbconvert_exporter": "python",
   "pygments_lexer": "ipython3",
   "version": "3.9.12"
  }
 },
 "nbformat": 4,
 "nbformat_minor": 5
}
