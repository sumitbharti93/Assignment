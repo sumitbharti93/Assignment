{
 "cells": [
  {
   "cell_type": "code",
   "execution_count": 12,
   "id": "efcce2b5",
   "metadata": {},
   "outputs": [
    {
     "name": "stdout",
     "output_type": "stream",
     "text": [
      "Enter the number 80\n",
      "8\n",
      "number is not disarium\n"
     ]
    }
   ],
   "source": [
    "# 1. Write a Python program to check if the given number is a Disarium Number?\n",
    "#Code\n",
    "\n",
    "def disarium_check(num):\n",
    "    temp=num\n",
    "    str_num = str(num)\n",
    "    len_num = len(str_num)\n",
    "    sum_num=0\n",
    "    while num>0:\n",
    "        a = num%10\n",
    "        sum_num = sum_num+a**len_num\n",
    "        num = int(num/10)\n",
    "        len_num-=1\n",
    "    print(sum_num)\n",
    "    if sum_num==temp:\n",
    "        return \"number is disarium\"\n",
    "    else:\n",
    "        return \"number is not disarium\"\n",
    "    \n",
    "num = int(input(\"Enter the number \"))\n",
    "\n",
    "result = disarium_check(num)\n",
    "print(result)"
   ]
  },
  {
   "cell_type": "code",
   "execution_count": 3,
   "id": "95281d1b",
   "metadata": {},
   "outputs": [
    {
     "data": {
      "text/plain": [
       "[1, 2, 3, 4, 5, 6, 7, 8, 9, 89, 135, 175, 518, 598]"
      ]
     },
     "execution_count": 3,
     "metadata": {},
     "output_type": "execute_result"
    }
   ],
   "source": [
    "# 2. Write a Python program to print all disarium numbers between 1 to 100?\n",
    "#Code \n",
    "\n",
    "def func_disarium(num_range):\n",
    "    lst_dis = []\n",
    "    for num in num_range:\n",
    "        temp=num\n",
    "        str_num = str(num)\n",
    "        len_num = len(str_num)\n",
    "        sum=0\n",
    "        while num>0:\n",
    "            a = num%10\n",
    "            sum = sum+a**len_num\n",
    "            num = int(num/10)\n",
    "            len_num-=1\n",
    "        if sum==temp:\n",
    "            lst_dis.append(temp)\n",
    "    return lst_dis\n",
    "\n",
    "num_range = range(1,1000)\n",
    "\n",
    "func_disarium(num_range)\n"
   ]
  },
  {
   "cell_type": "code",
   "execution_count": 24,
   "id": "0972cf96",
   "metadata": {},
   "outputs": [
    {
     "name": "stdout",
     "output_type": "stream",
     "text": [
      "Enter the number to check for happy number 13\n"
     ]
    },
    {
     "data": {
      "text/plain": [
       "True"
      ]
     },
     "execution_count": 24,
     "metadata": {},
     "output_type": "execute_result"
    }
   ],
   "source": [
    "# 3. Write a Python program to check if the given number is Happy Number?\n",
    "# Code\n",
    "\n",
    "def fun_happy_num(num):\n",
    "    sum_set = set()\n",
    "    while(1):\n",
    "        num = square_sum(num)\n",
    "        if (num==1):\n",
    "            return True\n",
    "        if num in sum_set:\n",
    "            return False\n",
    "        sum_set.add(num)\n",
    "    \n",
    "def square_sum(num):\n",
    "    sum_num = 0\n",
    "    while(num):\n",
    "        sum_num += (num%10)**2\n",
    "        num = int(num/10)\n",
    "    return sum_num\n",
    "    \n",
    "num = int(input(\"Enter the number to check for happy number \"))\n",
    "\n",
    "fun_happy_num(num)"
   ]
  },
  {
   "cell_type": "code",
   "execution_count": 36,
   "id": "413cac37",
   "metadata": {},
   "outputs": [
    {
     "name": "stdout",
     "output_type": "stream",
     "text": [
      "[1, 7, 10, 13, 19, 23, 28, 31, 32, 44, 49, 68, 70, 79, 82, 86, 91, 94, 97]\n"
     ]
    }
   ],
   "source": [
    "# 4. Write a Python program to print all happy numbers between 1 and 100?\n",
    "#Code \n",
    "\n",
    "def fun_happy_num(num_range):\n",
    "    lst_happy = []\n",
    "    for num in num_range:\n",
    "        sum_set = set()\n",
    "        temp=num\n",
    "        while(1):\n",
    "            num = square_sum(num)\n",
    "            if (num==1):\n",
    "                lst_happy.append(temp)\n",
    "                break\n",
    "            if num in sum_set:\n",
    "                break\n",
    "            sum_set.add(num)\n",
    "    return lst_happy\n",
    "\n",
    "def square_sum(num):\n",
    "    sum_num = 0\n",
    "    while(num):\n",
    "        sum_num += (num%10)**2\n",
    "        num = int(num/10)\n",
    "    return sum_num\n",
    "    \n",
    "num_range = range(1,100)\n",
    "\n",
    "result = fun_happy_num(num_range)\n",
    "print(result)\n"
   ]
  },
  {
   "cell_type": "code",
   "execution_count": 53,
   "id": "0f8144f1",
   "metadata": {},
   "outputs": [
    {
     "name": "stdout",
     "output_type": "stream",
     "text": [
      "Enter the given number 45\n",
      "Given number is Hrshad Number\n"
     ]
    }
   ],
   "source": [
    "# 5. Write a Python program to determine whether the given number is a Harshad Number?\n",
    "#Code\n",
    "def fun_harshad(num):\n",
    "    sum_of_digits=0\n",
    "    temp = num\n",
    "    while(num>0):\n",
    "        a = num%10\n",
    "        sum_of_digits+=a\n",
    "        num = int(num/10)\n",
    "    if temp%sum_of_digits==0:\n",
    "        return 'Given number is Hrshad Number'\n",
    "    else:\n",
    "        return \"Given number is not harshad\"\n",
    "    \n",
    "num = int(input(\"Enter the given number \"))\n",
    "\n",
    "result = fun_harshad(num)\n",
    "print(result)\n",
    "\n",
    "    \n"
   ]
  },
  {
   "cell_type": "code",
   "execution_count": 74,
   "id": "4ff1a007",
   "metadata": {},
   "outputs": [
    {
     "name": "stdout",
     "output_type": "stream",
     "text": [
      "2\n",
      "6\n",
      "12\n",
      "20\n",
      "30\n",
      "42\n",
      "56\n",
      "72\n",
      "90\n"
     ]
    }
   ],
   "source": [
    "# 6. Write a Python program to print all pronic numbers between 1 and 100?\n",
    "#Code \n",
    "\n",
    "import math\n",
    "def fun_pronic_check(num):\n",
    "    i= 0\n",
    "    while(i<=(int)(math.sqrt(num))):\n",
    "        product_consecutive_num = (i*(i+1))\n",
    "        if (num==product_consecutive_num):\n",
    "            return True\n",
    "        i+=1\n",
    "    return False \n",
    "\n",
    "num_range=range(1,100)\n",
    "for i in num_range:\n",
    "    if fun_pronic_check(i):\n",
    "        print(i)\n",
    "\n"
   ]
  },
  {
   "cell_type": "code",
   "execution_count": 6,
   "id": "99a0f8a4",
   "metadata": {},
   "outputs": [
    {
     "data": {
      "text/plain": [
       "{3}"
      ]
     },
     "execution_count": 6,
     "metadata": {},
     "output_type": "execute_result"
    }
   ],
   "source": []
  },
  {
   "cell_type": "code",
   "execution_count": null,
   "id": "f63f79e7",
   "metadata": {},
   "outputs": [],
   "source": []
  }
 ],
 "metadata": {
  "kernelspec": {
   "display_name": "Python 3 (ipykernel)",
   "language": "python",
   "name": "python3"
  },
  "language_info": {
   "codemirror_mode": {
    "name": "ipython",
    "version": 3
   },
   "file_extension": ".py",
   "mimetype": "text/x-python",
   "name": "python",
   "nbconvert_exporter": "python",
   "pygments_lexer": "ipython3",
   "version": "3.9.12"
  }
 },
 "nbformat": 4,
 "nbformat_minor": 5
}
