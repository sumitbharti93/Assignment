{
 "cells": [
  {
   "cell_type": "code",
   "execution_count": 4,
   "id": "26e99915",
   "metadata": {},
   "outputs": [
    {
     "name": "stdout",
     "output_type": "stream",
     "text": [
      "Enter the number for fun_fact1 5\n",
      "Factorial of given number from fun_fact1 is 120\n",
      "Enter the number for fun_fact25\n",
      "Factorial of given number from fun_fact2 is 120\n"
     ]
    }
   ],
   "source": [
    "# 1. Write a Python Program to Find the Factorial of a Number?\n",
    "#Code \n",
    "#Method1 \n",
    "def fun_fact1(n):\n",
    "    fact =1\n",
    "    for i in range(1,n+1):\n",
    "        fact =fact*i\n",
    "    print(\"Factorial of given number from fun_fact1 is %d\" %fact)\n",
    "n = int(input(\"Enter the number for fun_fact1 \"))\n",
    "\n",
    "fun_fact1(n)\n",
    "\n",
    "#Method2\n",
    "\n",
    "def fun_fact2(n):\n",
    "    if n==1:\n",
    "        return 1\n",
    "    else:\n",
    "        return (n* fun_fact2(n-1))\n",
    "n = int(input(\"Enter the number for fun_fact2\"))\n",
    "\n",
    "fact = fun_fact2(n)\n",
    "print(\"Factorial of given number from fun_fact2 is %d\" %fact)"
   ]
  },
  {
   "cell_type": "code",
   "execution_count": 10,
   "id": "963a464d",
   "metadata": {},
   "outputs": [
    {
     "name": "stdout",
     "output_type": "stream",
     "text": [
      "Enter the number for multiplication table19\n",
      "19 * 1  =  19\n",
      "19 * 2  =  38\n",
      "19 * 3  =  57\n",
      "19 * 4  =  76\n",
      "19 * 5  =  95\n",
      "19 * 6  =  114\n",
      "19 * 7  =  133\n",
      "19 * 8  =  152\n",
      "19 * 9  =  171\n",
      "19 * 10  =  190\n"
     ]
    }
   ],
   "source": [
    "# 2. Write a Python Program to Display the multiplication Table?\n",
    "\n",
    "def fun_mul_table(n):\n",
    "    i=1\n",
    "    while i<=10:\n",
    "        print(f'{n} * {i}  =  {n*i}')\n",
    "        i+=1\n",
    "n = int(input(\"Enter the number for multiplication table\"))\n",
    "              \n",
    "fun_mul_table(n)"
   ]
  },
  {
   "cell_type": "code",
   "execution_count": 55,
   "id": "55e9b165",
   "metadata": {},
   "outputs": [
    {
     "name": "stdout",
     "output_type": "stream",
     "text": [
      "Enter the number of elements you want to print for sequence7\n",
      "1\n",
      "1\n",
      "2\n",
      "3\n",
      "5\n",
      "8\n",
      "13\n",
      "Enter the number of elements you want to print for sequence8\n",
      "0\n",
      "1\n",
      "1\n",
      "2\n",
      "3\n",
      "5\n",
      "8\n",
      "13\n"
     ]
    }
   ],
   "source": [
    "# 3. Write a Python Program to Print the Fibonacci sequence?\n",
    "#Code \n",
    "#Method1 \n",
    "\n",
    "def fun_fibonacci1(n):\n",
    "    a=1\n",
    "    b=1\n",
    "    print(a)\n",
    "    print(b)\n",
    "    i =3\n",
    "    while i<=n:\n",
    "        a,b= a+b,a\n",
    "        print(a)\n",
    "        i+=1\n",
    "n = int(input(\"Enter the number of elements you want to print for sequence\"))\n",
    "\n",
    "fun_fibonacci1(n)\n",
    "\n",
    "#Method2 \n",
    "\n",
    "def fun_fibonacci2(n):\n",
    "    a=0\n",
    "    b=1\n",
    "    while n>0:\n",
    "        print(a)\n",
    "        c = a+b\n",
    "        a=b\n",
    "        b=c\n",
    "        n-=1\n",
    "        \n",
    "n = int(input(\"Enter the number of elements you want to print for sequence\"))\n",
    "\n",
    "fun_fibonacci2(n)"
   ]
  },
  {
   "cell_type": "code",
   "execution_count": 33,
   "id": "e4b1619b",
   "metadata": {},
   "outputs": [
    {
     "name": "stdout",
     "output_type": "stream",
     "text": [
      "Enter the number 407\n",
      "Given number is armstrong\n"
     ]
    }
   ],
   "source": [
    "# 4. Write a Python Program to Check Armstrong Number?\n",
    "#Code\n",
    "\n",
    "def fun_armst(n):\n",
    "    sum=0\n",
    "    temp =n\n",
    "    while n>0:\n",
    "        a = n%10\n",
    "        sum = sum+(a*a*a)\n",
    "        n=int(n/10)\n",
    "    if sum==temp:\n",
    "        print(\"Given number is armstrong\")\n",
    "    else:\n",
    "        print(\"Given number is not armstrong\")\n",
    "        \n",
    "n = int(input(\"Enter the number \"))\n",
    "fun_armst(n)\n",
    "\n"
   ]
  },
  {
   "cell_type": "code",
   "execution_count": 40,
   "id": "fa78b7b3",
   "metadata": {},
   "outputs": [
    {
     "name": "stdout",
     "output_type": "stream",
     "text": [
      "Enter the number 2000\n",
      "0\n",
      "1\n",
      "153\n",
      "370\n",
      "371\n",
      "407\n"
     ]
    }
   ],
   "source": [
    "# 5. Write a Python Program to Find Armstrong Number in an Interval?\n",
    "#Code \n",
    "\n",
    "def fun_armst_int(n):\n",
    "    for i in n:\n",
    "        sum=0\n",
    "        temp =i\n",
    "        while i>0:\n",
    "            a = i%10\n",
    "            sum = sum+(a*a*a)\n",
    "            i=int(i/10)\n",
    "        i = temp\n",
    "        if sum==i:\n",
    "            print(i)\n",
    "        \n",
    "num = int(input(\"Enter the number \"))\n",
    "n = range(num)\n",
    "fun_armst_int(n)\n"
   ]
  },
  {
   "cell_type": "code",
   "execution_count": 46,
   "id": "13e89b70",
   "metadata": {},
   "outputs": [
    {
     "name": "stdout",
     "output_type": "stream",
     "text": [
      "5\n",
      "15\n",
      "5\n",
      "15\n"
     ]
    }
   ],
   "source": [
    "# 6. Write a Python Program to Find the Sum of Natural Numbers?\n",
    "#Code\n",
    "#Method1 \n",
    "def fun_sum_natural_num1(n):\n",
    "    sum = 0\n",
    "    for i in range(1,n+1):\n",
    "        sum=sum+i\n",
    "    print(sum)\n",
    "\n",
    "n = int(input())\n",
    "fun_sum_natural_num1(n)\n",
    "\n",
    "#Method2 \n",
    "def fun_sum_natural_num2(n):\n",
    "    sum = 0\n",
    "    while n>0:\n",
    "        sum=sum+n\n",
    "        n=n-1\n",
    "    print(sum)\n",
    "\n",
    "n = int(input())\n",
    "fun_sum_natural_num2(n)\n"
   ]
  },
  {
   "cell_type": "code",
   "execution_count": null,
   "id": "cb83e819",
   "metadata": {},
   "outputs": [],
   "source": []
  }
 ],
 "metadata": {
  "kernelspec": {
   "display_name": "Python 3 (ipykernel)",
   "language": "python",
   "name": "python3"
  },
  "language_info": {
   "codemirror_mode": {
    "name": "ipython",
    "version": 3
   },
   "file_extension": ".py",
   "mimetype": "text/x-python",
   "name": "python",
   "nbconvert_exporter": "python",
   "pygments_lexer": "ipython3",
   "version": "3.9.12"
  }
 },
 "nbformat": 4,
 "nbformat_minor": 5
}
