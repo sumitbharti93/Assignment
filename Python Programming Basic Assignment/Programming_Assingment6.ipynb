{
 "cells": [
  {
   "cell_type": "code",
   "execution_count": 6,
   "id": "49cbc963",
   "metadata": {},
   "outputs": [
    {
     "name": "stdout",
     "output_type": "stream",
     "text": [
      "Enter the no of elements for the sequence10\n",
      "Enter the first two elements\n",
      "Enter the first element1\n",
      "Enter the second element1\n",
      "1\n",
      "1\n",
      "2\n",
      "3\n",
      "5\n",
      "8\n",
      "13\n",
      "21\n",
      "34\n",
      "55\n"
     ]
    }
   ],
   "source": [
    "# 1. Write a Python Program to Display Fibonacci Sequence Using Recursion?\n",
    "#Code\n",
    "\n",
    "def fun_fibonacci(a,b,n):\n",
    "    if n==1:\n",
    "        print(a)\n",
    "    else:\n",
    "        c=a+b\n",
    "        print(a)\n",
    "        a=b\n",
    "        b=c\n",
    "        return fun_fibonacci(a,b,n-1)\n",
    "    \n",
    "n = int(input(\"Enter the no of elements for the sequence\"))\n",
    "print(\"Enter the first two elements\")\n",
    "a = int(input(\"Enter the first element\"))\n",
    "b = int(input(\"Enter the second element\"))\n",
    "fun_fibonacci(a,b,n)"
   ]
  },
  {
   "cell_type": "code",
   "execution_count": 8,
   "id": "e8c6277e",
   "metadata": {},
   "outputs": [
    {
     "name": "stdout",
     "output_type": "stream",
     "text": [
      "Enter the number for which factorial has to be calculated 6\n"
     ]
    },
    {
     "data": {
      "text/plain": [
       "720"
      ]
     },
     "execution_count": 8,
     "metadata": {},
     "output_type": "execute_result"
    }
   ],
   "source": [
    "# 2. Write a Python Program to Find Factorial of Number Using Recursion?\n",
    "#Code \n",
    "\n",
    "def fun_factorial(n):\n",
    "    if n==1:\n",
    "        return 1\n",
    "    else:\n",
    "        return n*fun_factorial(n-1)\n",
    "    \n",
    "n = int(input(\"Enter the number for which factorial has to be calculated \"))\n",
    "\n",
    "fun_factorial(n)\n",
    "\n"
   ]
  },
  {
   "cell_type": "code",
   "execution_count": 15,
   "id": "41fd1848",
   "metadata": {},
   "outputs": [
    {
     "name": "stdout",
     "output_type": "stream",
     "text": [
      "Enter the value of weight in kg 56.5\n",
      "Enter the value of height in meters 1.8\n",
      "BMI for the given height and weight is 17.438271604938272\n"
     ]
    }
   ],
   "source": [
    "# 3. Write a Python Program to calculate your Body Mass Index?\n",
    "#Code \n",
    "\n",
    "def fun_bmi(weight, height):\n",
    "    BMI = weight/(height*height)\n",
    "    print(f'BMI for the given height and weight is {BMI}')\n",
    "\n",
    "weight = float(input(\"Enter the value of weight in kg \"))\n",
    "height = float(input(\"Enter the value of height in meters \"))\n",
    "\n",
    "fun_bmi(weight, height)\n",
    "    "
   ]
  },
  {
   "cell_type": "code",
   "execution_count": 18,
   "id": "557fbede",
   "metadata": {},
   "outputs": [
    {
     "name": "stdout",
     "output_type": "stream",
     "text": [
      "Enter the number to calculate logarithm of e base \n",
      "10\n",
      "Logarithm of the given number 2.302585092994046\n"
     ]
    }
   ],
   "source": [
    "# 4. Write a Python Program to calculate the natural logarithm of any number?\n",
    "#Code\n",
    "import math\n",
    "def fun_log(n):\n",
    "    log_num = math.log(n)\n",
    "    print(f'Logarithm of the given number {log_num}')\n",
    "\n",
    "n = int(input(\"Enter the number to calculate logarithm of e base \\n\"))\n",
    "\n",
    "fun_log(n)\n"
   ]
  },
  {
   "cell_type": "code",
   "execution_count": 24,
   "id": "b11b1f3e",
   "metadata": {},
   "outputs": [
    {
     "name": "stdout",
     "output_type": "stream",
     "text": [
      "Enter the number of first n natural numbers for which cube sum has to be calculated \n",
      "6\n",
      "441\n"
     ]
    }
   ],
   "source": [
    "# 5.Write a Python Program for cube sum of first n natural numbers?\n",
    "#Code\n",
    "\n",
    "def fun_cub_nat_num(n):\n",
    "    sum =0\n",
    "    while n>0:\n",
    "        sum = sum+(n*n*n)\n",
    "        n-=1\n",
    "    print(sum)\n",
    "        \n",
    "n = int(input(\"Enter the number of first n natural numbers for which cube sum has to be calculated \\n\"))\n",
    "\n",
    "fun_cub_nat_num(n)\n"
   ]
  },
  {
   "cell_type": "code",
   "execution_count": null,
   "id": "4235693f",
   "metadata": {},
   "outputs": [],
   "source": []
  }
 ],
 "metadata": {
  "kernelspec": {
   "display_name": "Python 3 (ipykernel)",
   "language": "python",
   "name": "python3"
  },
  "language_info": {
   "codemirror_mode": {
    "name": "ipython",
    "version": 3
   },
   "file_extension": ".py",
   "mimetype": "text/x-python",
   "name": "python",
   "nbconvert_exporter": "python",
   "pygments_lexer": "ipython3",
   "version": "3.9.12"
  }
 },
 "nbformat": 4,
 "nbformat_minor": 5
}
