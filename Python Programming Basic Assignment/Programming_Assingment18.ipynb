{
 "cells": [
  {
   "cell_type": "markdown",
   "id": "9a2cf561",
   "metadata": {},
   "source": [
    "# Programming_Assingment18"
   ]
  },
  {
   "cell_type": "code",
   "execution_count": 3,
   "id": "f8865d3b",
   "metadata": {},
   "outputs": [
    {
     "name": "stdout",
     "output_type": "stream",
     "text": [
      "Enter the list[1, 2, \"aasf\", \"1\", \"123\", 123]\n",
      "[1, 2, 123]\n"
     ]
    }
   ],
   "source": [
    "'''\n",
    "Question 1\n",
    "Create a function that takes a list of non-negative integers and strings and return a new list without the strings.\n",
    "Examples\n",
    "filter_list([1, 2, \"a\", \"b\"]) ➞ [1, 2]\n",
    "\n",
    "filter_list([1, \"a\", \"b\", 0, 15]) ➞ [1, 0, 15]\n",
    "\n",
    "filter_list([1, 2, \"aasf\", \"1\", \"123\", 123]) ➞ [1, 2, 123]\n",
    "'''\n",
    "#Code\n",
    "\n",
    "def filter_list(l):\n",
    "    new_list=[]\n",
    "    for i in l:\n",
    "        if type(i)!=str:\n",
    "            new_list.append(i)\n",
    "    return new_list\n",
    "\n",
    "if __name__ ==\"__main__\":\n",
    "    l = eval(input(\"Enter the list\"))\n",
    "    result = filter_list(l)\n",
    "    print(result)\n",
    "\n"
   ]
  },
  {
   "cell_type": "code",
   "execution_count": 33,
   "id": "38bf8aee",
   "metadata": {},
   "outputs": [
    {
     "name": "stdout",
     "output_type": "stream",
     "text": [
      "Enter the stringHello World\n",
      "DLROw OLLEh\n"
     ]
    }
   ],
   "source": [
    "'''\n",
    "Question 2\n",
    "The \"Reverser\" takes a string as input and returns that string in reverse order, with the opposite case.\n",
    "Examples\n",
    "reverse(\"Hello World\") ➞ \"DLROw OLLEh\"\n",
    "\n",
    "reverse(\"ReVeRsE\") ➞ \"eSrEvEr\"\n",
    "\n",
    "reverse(\"Radar\") ➞ \"RADAr\"\n",
    "\n",
    "'''\n",
    "#Code\n",
    "\n",
    "def Reverser(st):\n",
    "    reverse_st=\"\"\n",
    "    for i in range(len(st)-1,-1,-1):\n",
    "        reverse_st+=st[i]\n",
    "    reverse_st = reverse_st.swapcase()\n",
    "    return reverse_st\n",
    "\n",
    "if __name__ ==\"__main__\":\n",
    "    st = input(\"Enter the string\")\n",
    "    result = Reverser(st)\n",
    "    print(result)\n",
    "\n",
    "\n"
   ]
  },
  {
   "cell_type": "code",
   "execution_count": 45,
   "id": "bb4ce949",
   "metadata": {},
   "outputs": [
    {
     "name": "stdout",
     "output_type": "stream",
     "text": [
      "Enter the list [1, 2, 3, 4, 5, 6]\n",
      "First element is : 1\n",
      "middle element is : [2, 3, 4, 5]\n",
      "last element is : 6\n",
      "None\n"
     ]
    }
   ],
   "source": [
    "'''\n",
    "Question 3\n",
    "You can assign variables from lists like this:\n",
    "lst = [1, 2, 3, 4, 5, 6]\n",
    "first = lst[0]\n",
    "middle = lst[1:-1]\n",
    "last = lst[-1]\n",
    "\n",
    "print(first) ➞ outputs 1\n",
    "print(middle) ➞ outputs [2, 3, 4, 5]\n",
    "print(last) ➞ outputs 6\n",
    "With Python 3, you can assign variables from lists in a much more succinct way. Create variables first, middle and last \n",
    "from the given list using destructuring assignment (check the Resources tab for some examples), where:\n",
    "first  ➞ 1\n",
    "\n",
    "middle ➞ [2, 3, 4, 5]\n",
    "\n",
    "last ➞ 6\n",
    "Your task is to unpack the list writeyourcodehere into three variables, being first, middle, and last, with middle \n",
    "being everything in between the first and last element. Then print all three variables.\n",
    "\n",
    "'''\n",
    "#Code\n",
    "\n",
    "def list_unpacking(lst):\n",
    "    first, *middle, last = lst\n",
    "    print('First element is :', first)\n",
    "    print('middle element is :', middle)\n",
    "    print('last element is :', last)\n",
    "\n",
    "if __name__ ==\"__main__\":\n",
    "    lst = eval(input(\"Enter the list \"))\n",
    "    result = list_unpacking(lst)\n",
    "    print(result)\n"
   ]
  },
  {
   "cell_type": "code",
   "execution_count": 55,
   "id": "dbf79923",
   "metadata": {},
   "outputs": [
    {
     "name": "stdout",
     "output_type": "stream",
     "text": [
      "Enter the number6\n",
      "720\n"
     ]
    }
   ],
   "source": [
    "'''\n",
    "Question 4\n",
    "Write a function that calculates the factorial of a number recursively.\n",
    "Examples\n",
    "factorial(5) ➞ 120\n",
    "\n",
    "factorial(3) ➞ 6\n",
    "\n",
    "factorial(1) ➞ 1\n",
    "\n",
    "factorial(0) ➞ 1\n",
    "'''\n",
    "#Code\n",
    "\n",
    "#Code\n",
    "\n",
    "def fact(n):\n",
    "    if n==1:\n",
    "        return 1\n",
    "    else:\n",
    "        return n*fact(n-1)\n",
    "    \n",
    "if __name__==\"__main__\":\n",
    "    num = int(input('Enter the number'))\n",
    "    result = fact(num)\n",
    "    print(result)\n",
    "\n",
    "\n"
   ]
  },
  {
   "cell_type": "code",
   "execution_count": 54,
   "id": "cb84e4f4",
   "metadata": {},
   "outputs": [
    {
     "name": "stdout",
     "output_type": "stream",
     "text": [
      "Enter the list [\"a\", \"a\", \"a\", \"b\"], \"a\"\n",
      "['b', 'a', 'a', 'a']\n"
     ]
    }
   ],
   "source": [
    "'''\n",
    "Question 5\n",
    "Write a function that moves all elements of one type to the end of the list.\n",
    "Examples\n",
    "move_to_end([1, 3, 2, 4, 4, 1], 1) ➞ [3, 2, 4, 4, 1, 1]\n",
    "# Move all the 1s to the end of the array.\n",
    "\n",
    "move_to_end([7, 8, 9, 1, 2, 3, 4], 9) ➞ [7, 8, 1, 2, 3, 4, 9]\n",
    "\n",
    "move_to_end([\"a\", \"a\", \"a\", \"b\"], \"a\") ➞ [\"b\", \"a\", \"a\", \"a\"]\n",
    "\n",
    "'''\n",
    "#Code\n",
    "def move_to_end(lst, type_element):\n",
    "    for i in range(len(lst)):\n",
    "        if type_element==lst[i]:\n",
    "            lst.append(lst[i])\n",
    "            lst.remove(lst[i])\n",
    "            \n",
    "    return lst\n",
    "\n",
    "if __name__ ==\"__main__\":\n",
    "    lst,type_element = eval(input(\"Enter the list \"))\n",
    "    result = move_to_end(lst,type_element)\n",
    "    print(result)\n",
    "\n"
   ]
  },
  {
   "cell_type": "code",
   "execution_count": null,
   "id": "27be3ac9",
   "metadata": {},
   "outputs": [],
   "source": []
  }
 ],
 "metadata": {
  "kernelspec": {
   "display_name": "Python 3 (ipykernel)",
   "language": "python",
   "name": "python3"
  },
  "language_info": {
   "codemirror_mode": {
    "name": "ipython",
    "version": 3
   },
   "file_extension": ".py",
   "mimetype": "text/x-python",
   "name": "python",
   "nbconvert_exporter": "python",
   "pygments_lexer": "ipython3",
   "version": "3.9.12"
  }
 },
 "nbformat": 4,
 "nbformat_minor": 5
}
