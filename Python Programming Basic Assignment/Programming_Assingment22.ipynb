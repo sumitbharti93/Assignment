{
 "cells": [
  {
   "cell_type": "markdown",
   "id": "f5f19745",
   "metadata": {},
   "source": [
    "# Programming_Assingment22"
   ]
  },
  {
   "cell_type": "code",
   "execution_count": 6,
   "id": "35ad42fa",
   "metadata": {},
   "outputs": [
    {
     "name": "stdout",
     "output_type": "stream",
     "text": [
      "Enter the details (15, 20, 7)\n",
      "[]\n"
     ]
    }
   ],
   "source": [
    "'''\n",
    "Question1\n",
    "Create a function that takes three parameters where:\n",
    "•\tx is the start of the range (inclusive).\n",
    "•\ty is the end of the range (inclusive).\n",
    "•\tn is the divisor to be checked against.\n",
    "Return an ordered list with numbers in the range that are divisible by the third parameter n. Return an empty list if there are no numbers that are divisible by n.\n",
    "Examples\n",
    "list_operation(1, 10, 3) ➞ [3, 6, 9]\n",
    "\n",
    "list_operation(7, 9, 2) ➞ [8]\n",
    "\n",
    "list_operation(15, 20, 7) ➞ []\n",
    "\n",
    "'''\n",
    "\n",
    "def list_operation(a,b,c):\n",
    "    lst=[]\n",
    "    for i in range(a,b+1):\n",
    "        if i%c==0:\n",
    "            lst.append(i)\n",
    "    return lst\n",
    "            \n",
    "if __name__==\"__main__\":\n",
    "    a,b,c = eval(input(\"Enter the details \"))\n",
    "    result = list_operation(a,b,c)\n",
    "    print(result)\n",
    "\n",
    "\n",
    "\n",
    "\n",
    "\n"
   ]
  },
  {
   "cell_type": "code",
   "execution_count": 15,
   "id": "ad9781ca",
   "metadata": {},
   "outputs": [
    {
     "name": "stdout",
     "output_type": "stream",
     "text": [
      "Enter the details of list1 [1, 2, 3, 4, 5]\n",
      "Enter the details of list2 [0, 1, 2, 3, 4]\n",
      "True\n"
     ]
    }
   ],
   "source": [
    "'''\n",
    "Question2\n",
    "Create a function that takes in two lists and returns True if the second list follows the first list by one element, \n",
    "and False otherwise. In other words, determine if the second list is the first list shifted to the right by 1.\n",
    "Examples\n",
    "simon_says([1, 2], [5, 1]) ➞ True\n",
    "\n",
    "simon_says([1, 2], [5, 5]) ➞ False\n",
    "\n",
    "simon_says([1, 2, 3, 4, 5], [0, 1, 2, 3, 4]) ➞ True\n",
    "\n",
    "simon_says([1, 2, 3, 4, 5], [5, 5, 1, 2, 3]) ➞ False\n",
    "Notes\n",
    "•\tBoth input lists will be of the same length, and will have a minimum length of 2.\n",
    "•\tThe values of the 0-indexed element in the second list and the n-1th indexed element in the first list do not matter.\n",
    "\n",
    "'''\n",
    "\n",
    "#Code\n",
    "\n",
    "def simon_says(lst1,lst2):\n",
    "    *a,b = lst1\n",
    "    c,*d = lst2\n",
    "    if a==d:\n",
    "        return True\n",
    "    else:\n",
    "        return False\n",
    "    \n",
    "\n",
    "if __name__==\"__main__\":\n",
    "    lst1= eval(input(\"Enter the details of list1 \"))\n",
    "    lst2= eval(input(\"Enter the details of list2 \"))\n",
    "    result = simon_says(lst1,lst2)\n",
    "    print(result)\n",
    " \n",
    "\n",
    "\n"
   ]
  },
  {
   "cell_type": "code",
   "execution_count": 20,
   "id": "d2783082",
   "metadata": {},
   "outputs": [
    {
     "name": "stdout",
     "output_type": "stream",
     "text": [
      "Enter the list of string[\"Phoebe\", \"Chandler\", \"Rachel\", \"Ross\", \"Monica\", \"Joey\"]\n",
      "CJMPRR\n"
     ]
    }
   ],
   "source": [
    "'''\n",
    "Question3\n",
    "A group of friends have decided to start a secret society. The name will be the first letter of each of their names, sorted \n",
    "in alphabetical order.\n",
    "Create a function that takes in a list of names and returns the name of the secret society.\n",
    "Examples\n",
    "society_name([\"Adam\", \"Sarah\", \"Malcolm\"]) ➞ \"AMS\"\n",
    "\n",
    "society_name([\"Harry\", \"Newt\", \"Luna\", \"Cho\"]) ➞ \"CHLN\"\n",
    "\n",
    "society_name([\"Phoebe\", \"Chandler\", \"Rachel\", \"Ross\", \"Monica\", \"Joey\"])\n",
    "\n",
    "'''\n",
    "#Code\n",
    "\n",
    "def society_name(lst1):\n",
    "    temp=\"\"\n",
    "    for i in range(len(lst1)):\n",
    "        temp+=lst1[i][0]\n",
    "        \n",
    "    result=\"\".join(sorted(temp))\n",
    "    \n",
    "    return result\n",
    "\n",
    "\n",
    "if __name__==\"__main__\":\n",
    "    lst1= eval(input(\"Enter the list of string\"))\n",
    "    \n",
    "    result = society_name(lst1)\n",
    "    print(result)\n",
    " \n",
    "\n",
    "\n"
   ]
  },
  {
   "cell_type": "code",
   "execution_count": 28,
   "id": "d3ae664c",
   "metadata": {},
   "outputs": [
    {
     "name": "stdout",
     "output_type": "stream",
     "text": [
      "Enter the list of stringConsecutive\n",
      "False\n"
     ]
    }
   ],
   "source": [
    "'''\n",
    "Question4\n",
    "An isogram is a word that has no duplicate letters. Create a function that takes a string and returns either True or \n",
    "False depending on whether or not it's an \"isogram\".\n",
    "Examples\n",
    "is_isogram(\"Algorism\") ➞ True\n",
    "\n",
    "is_isogram(\"PasSword\") ➞ False\n",
    "# Not case sensitive.\n",
    "\n",
    "is_isogram(\"Consecutive\") ➞ False\n",
    "Notes\n",
    "•\tIgnore letter case (should not be case sensitive).\n",
    "•\tAll test cases contain valid one word strings.\n",
    "\n",
    "'''\n",
    "#Code\n",
    "\n",
    "def is_isogram(st):\n",
    "    flag=0\n",
    "    for i in range(len(st)):\n",
    "        for j in range(i+1,len(st)-1):\n",
    "            if st[i].lower()==st[j].lower():\n",
    "                flag=1\n",
    "    if flag==1:\n",
    "        return False\n",
    "    elif flag==0:\n",
    "        return True\n",
    "\n",
    "if __name__==\"__main__\":\n",
    "    st= input(\"Enter the list of string\")\n",
    "    result = is_isogram(st)\n",
    "    print(result)\n",
    "\n"
   ]
  },
  {
   "cell_type": "code",
   "execution_count": 39,
   "id": "541a444f",
   "metadata": {},
   "outputs": [
    {
     "name": "stdout",
     "output_type": "stream",
     "text": [
      "Enter the list of string xyzz\n",
      "True\n"
     ]
    }
   ],
   "source": [
    "'''\n",
    "Question5\n",
    "Create a function that takes a string and returns True or False, depending on whether the characters are in order or not.\n",
    "Examples\n",
    "is_in_order(\"abc\") ➞ True\n",
    "\n",
    "is_in_order(\"edabit\") ➞ False\n",
    "\n",
    "is_in_order(\"123\") ➞ True\n",
    "\n",
    "is_in_order(\"xyzz\") ➞ True\n",
    "Notes\n",
    "You don't have to handle empty strings.\n",
    "\n",
    "'''\n",
    "\n",
    "#Code\n",
    "\n",
    "def is_in_order(st):\n",
    "    if len(st)>0:\n",
    "        count=0\n",
    "        for i in range(len(st)-1):\n",
    "            if st[i]<=st[i+1]:\n",
    "                count+=1\n",
    "        if count==len(st)-1:\n",
    "            return True\n",
    "        else:\n",
    "            return False\n",
    "    else:\n",
    "        return 'empty is not allowed '\n",
    "\n",
    "    \n",
    "if __name__==\"__main__\":\n",
    "    st= input(\"Enter the list of string \")\n",
    "    result = is_in_order(st)\n",
    "    print(result)\n",
    "\n",
    "\n"
   ]
  },
  {
   "cell_type": "code",
   "execution_count": null,
   "id": "38360a5f",
   "metadata": {},
   "outputs": [],
   "source": []
  }
 ],
 "metadata": {
  "kernelspec": {
   "display_name": "Python 3 (ipykernel)",
   "language": "python",
   "name": "python3"
  },
  "language_info": {
   "codemirror_mode": {
    "name": "ipython",
    "version": 3
   },
   "file_extension": ".py",
   "mimetype": "text/x-python",
   "name": "python",
   "nbconvert_exporter": "python",
   "pygments_lexer": "ipython3",
   "version": "3.9.12"
  }
 },
 "nbformat": 4,
 "nbformat_minor": 5
}
