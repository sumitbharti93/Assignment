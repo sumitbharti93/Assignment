{
 "cells": [
  {
   "cell_type": "code",
   "execution_count": 16,
   "id": "4e0e1296",
   "metadata": {},
   "outputs": [
    {
     "name": "stdout",
     "output_type": "stream",
     "text": [
      "0\n",
      "7\n",
      "14\n",
      "21\n",
      "28\n",
      "35\n",
      "42\n",
      "49\n",
      "56\n",
      "63\n",
      "70\n",
      "77\n",
      "84\n",
      "91\n",
      "98\n"
     ]
    }
   ],
   "source": [
    "'''Question 1:\n",
    "Define a class with a generator which can iterate the numbers, which are divisible by 7, between a given range 0 and n. '''\n",
    "\n",
    "#Code\n",
    "\n",
    "class num_generator:\n",
    "    def __init__(self, n):\n",
    "        self.n = n\n",
    "    def fun_num_generator(self):\n",
    "        for i in range(self.n):\n",
    "            if i%7==0:\n",
    "                yield i\n",
    "            \n",
    "a = num_generator(100)\n",
    "d = a.fun_num_generator()\n",
    "\n",
    "for i in d:\n",
    "    print(i)\n"
   ]
  },
  {
   "cell_type": "code",
   "execution_count": 61,
   "id": "d6968a48",
   "metadata": {},
   "outputs": [
    {
     "name": "stdout",
     "output_type": "stream",
     "text": [
      "[('2', 2), ('3.', 1), ('3?', 1), ('New', 1), ('Python', 5), ('Read', 1), ('and', 1), ('between', 1), ('choosing', 1), ('or', 2), ('to', 1)]\n"
     ]
    }
   ],
   "source": [
    "'''\n",
    "Question 2:\n",
    "Write a program to compute the frequency of the words from the input. The output should output after sorting the key \n",
    "alphanumerically. \n",
    "\n",
    "Suppose the following input is supplied to the program:\n",
    "\n",
    "New to Python or choosing between Python 2 and Python 3? Read Python 2 or Python 3.\n",
    "\n",
    "Then, the output should be:\n",
    "\n",
    "2:2\n",
    "\n",
    "3.:1\n",
    "\n",
    "3?:1\n",
    "\n",
    "New:1\n",
    "\n",
    "Python:5\n",
    "\n",
    "Read:1\n",
    "\n",
    "and:1\n",
    "\n",
    "between:1\n",
    "\n",
    "choosing:1\n",
    "\n",
    "or:2\n",
    "\n",
    "to:1\n",
    "\n",
    "'''\n",
    "\n",
    "#Code\n",
    "\n",
    "def func():\n",
    "    st = 'New to Python or choosing between Python 2 and Python 3? Read Python 2 or Python 3.'\n",
    "    lst_st = st.split(' ')\n",
    "    d = {}\n",
    "    \n",
    "    for i in range(len(lst_st)):\n",
    "        count=0\n",
    "        for j in range(len(lst_st)):\n",
    "            if lst_st[i] == lst_st[j]:\n",
    "                count+=1\n",
    "        d[lst_st[i]]=count\n",
    "    print(sorted(d.items()))\n",
    "func()\n",
    "\n",
    "\n",
    "\n"
   ]
  },
  {
   "cell_type": "code",
   "execution_count": 41,
   "id": "d40b7890",
   "metadata": {},
   "outputs": [
    {
     "name": "stdout",
     "output_type": "stream",
     "text": [
      "Male\n",
      "male\n",
      "Female\n",
      "female\n"
     ]
    }
   ],
   "source": [
    "'''\n",
    "Question 3:\n",
    "Define a class Person and its two child classes: Male and Female. All classes have a method \"getGender\" which can print\n",
    "\"Male\" for Male class and \"Female\" for Female class.\n",
    "\n",
    "'''\n",
    "#Code\n",
    "\n",
    "class person:\n",
    "    def getGender(self, gender):\n",
    "        self.gender =gender\n",
    "        if self.gender==\"male\":\n",
    "            print('male')\n",
    "        elif self.gender=='female':\n",
    "            print('female')\n",
    "\n",
    "class Male(person):\n",
    "    def getGender(self, gender):\n",
    "        self.gender =gender\n",
    "        if self.gender==\"male\":\n",
    "            print('male')\n",
    "        elif self.gender=='female':\n",
    "            print('female')\n",
    "            \n",
    "class Female(person):\n",
    "    def getGender(self, gender):\n",
    "        self.gender =gender\n",
    "        if self.gender==\"male\":\n",
    "            print('male')\n",
    "        elif self.gender=='female':\n",
    "            print('female')\n",
    "\n",
    "            \n",
    "gender = person()\n",
    "gender.getGender(input().lower())\n",
    "gender =Male()\n",
    "gender.getGender(input().lower())"
   ]
  },
  {
   "cell_type": "code",
   "execution_count": 43,
   "id": "03d8afc4",
   "metadata": {},
   "outputs": [
    {
     "name": "stdout",
     "output_type": "stream",
     "text": [
      "Generated sentences are\n",
      "I   Play   Hockey .\n",
      "I   Play   Football .\n",
      "I   Love   Hockey .\n",
      "I   Love   Football .\n",
      "You   Play   Hockey .\n",
      "You   Play   Football .\n",
      "You   Love   Hockey .\n",
      "You   Love   Football .\n"
     ]
    }
   ],
   "source": [
    "'''\n",
    "Question 4:\n",
    "Please write a program to generate all sentences where subject is in [\"I\", \"You\"] and verb is in [\"Play\", \"Love\"] and the \n",
    "object is in [\"Hockey\",\"Football\"].\n",
    "'''\n",
    "#Code\n",
    "sub = ['I', 'You']\n",
    "verb = ['Play','Love']\n",
    "obj = ['Hockey', 'Football']\n",
    "print('Generated sentences are')\n",
    "def gen_sentence():\n",
    "    for i in sub:\n",
    "        for j in verb:\n",
    "            for k in obj:\n",
    "                print(i, ' ', j, ' ', k, '.')\n",
    "gen_sentence()"
   ]
  },
  {
   "cell_type": "code",
   "execution_count": 76,
   "id": "ee299f25",
   "metadata": {},
   "outputs": [
    {
     "name": "stdout",
     "output_type": "stream",
     "text": [
      "h4e4l12o8 4w4r4d4!4\n"
     ]
    }
   ],
   "source": [
    "'''\n",
    "Question 5:\n",
    "Please write a program to compress and decompress the string \"hello world!hello world!hello world!hello world!\".\n",
    "\n",
    "'''\n",
    "#Code\n",
    "\n",
    "st = \"hello world!hello world!hello world!hello world!\"\n",
    "comp_str =\"\"\n",
    "def fun_st_comp():\n",
    "    global comp_str\n",
    "    for i in range(len(st)):\n",
    "        count=0\n",
    "        for j in range(i,len(st)):\n",
    "            if st[i]==st[j]:\n",
    "                count+=1\n",
    "                \n",
    "        if st[i] not in comp_str:\n",
    "            comp_str+=st[i]\n",
    "            comp_str+=str(count)\n",
    "    \n",
    "\n",
    "fun_st_comp()\n",
    "    \n",
    "print(comp_str)\n"
   ]
  },
  {
   "cell_type": "code",
   "execution_count": 13,
   "id": "0c8a9e54",
   "metadata": {},
   "outputs": [
    {
     "name": "stdout",
     "output_type": "stream",
     "text": [
      "element is present at index location 10\n"
     ]
    }
   ],
   "source": [
    "'''\n",
    "Question 6:\n",
    "Please write a binary search function which searches an item in a sorted list. The function should return the index of \n",
    "element to be searched in the list.\n",
    "'''\n",
    "#Code\n",
    "\n",
    "def binary_search(arr, low, high, n):\n",
    "    if high>=low:\n",
    "        mid = (low+high)//2\n",
    "        if arr[mid]==n:\n",
    "            return mid\n",
    "        elif arr[mid]>n:\n",
    "            return binary_search(arr,low,mid-1, n)\n",
    "        else:\n",
    "            return binary_search(arr,mid+1,high,n)\n",
    "    else:\n",
    "        return -1\n",
    "    \n",
    "\n",
    "if __name__ =='__main__':\n",
    "    arr = [1,3,5,7,8,10,12,14,16,21,34,57,60,56,78,87]\n",
    "    n=34\n",
    "    low=0\n",
    "    high = len(arr)-1\n",
    "    index = binary_search(arr,low,high,n)\n",
    "    if index==-1:\n",
    "        print('Element is not present in array')\n",
    "    else:\n",
    "        print('element is present at index location', index)\n",
    "\n"
   ]
  },
  {
   "cell_type": "code",
   "execution_count": null,
   "id": "cb8a6063",
   "metadata": {},
   "outputs": [],
   "source": []
  }
 ],
 "metadata": {
  "kernelspec": {
   "display_name": "Python 3 (ipykernel)",
   "language": "python",
   "name": "python3"
  },
  "language_info": {
   "codemirror_mode": {
    "name": "ipython",
    "version": 3
   },
   "file_extension": ".py",
   "mimetype": "text/x-python",
   "name": "python",
   "nbconvert_exporter": "python",
   "pygments_lexer": "ipython3",
   "version": "3.9.12"
  }
 },
 "nbformat": 4,
 "nbformat_minor": 5
}
