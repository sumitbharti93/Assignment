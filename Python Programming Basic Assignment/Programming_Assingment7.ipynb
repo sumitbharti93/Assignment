{
 "cells": [
  {
   "cell_type": "code",
   "execution_count": 4,
   "id": "b7bf8da2",
   "metadata": {},
   "outputs": [
    {
     "name": "stdout",
     "output_type": "stream",
     "text": [
      "Enter the number of elements for array \n",
      "6\n",
      "1\n",
      "2\n",
      "3\n",
      "4\n",
      "5\n",
      "6\n",
      "Sum of the given array 21\n"
     ]
    }
   ],
   "source": [
    "# 1.Write a Python Program to find sum of array?\n",
    "#Code\n",
    "import numpy as np\n",
    "def sum_array(n):\n",
    "    sum =0\n",
    "    for i in range(len(n)):\n",
    "        sum = sum+n[i]\n",
    "    print(f'Sum of the given array {sum}')\n",
    "    \n",
    "l =[]\n",
    "n = int(input(\"Enter the number of elements for array \\n\"))\n",
    "for i in range(n):\n",
    "    l.append(int(input()))\n",
    "arr = np.array(l)\n",
    "sum_array(arr)"
   ]
  },
  {
   "cell_type": "code",
   "execution_count": 9,
   "id": "ad395e6a",
   "metadata": {},
   "outputs": [
    {
     "name": "stdout",
     "output_type": "stream",
     "text": [
      "Enter the number of elements for array \n",
      "5\n",
      "Enter the elemets\n",
      "12\n",
      "34\n",
      "87\n",
      "34\n",
      "56\n",
      "Largest element is 87\n"
     ]
    }
   ],
   "source": [
    "# 2. Write a Python Program to find largest element in an array?\n",
    "#Code \n",
    "import numpy as np\n",
    "import sys\n",
    "def fun_arr_largest(arr):\n",
    "    largest = arr[0]\n",
    "    if len(arr)==1:\n",
    "        print(\"Invalid input\")\n",
    "    else:\n",
    "        for i in range(len(arr)):\n",
    "            if(arr[i]>largest):\n",
    "                largest =arr[i]\n",
    "                \n",
    "    print(f'Largest element is {largest}')\n",
    "    \n",
    "l =[]\n",
    "n = int(input(\"Enter the number of elements for array \\n\"))\n",
    "print(\"Enter the elemets\")\n",
    "for i in range(n):\n",
    "    l.append(int(input()))\n",
    "arr = np.array(l)\n",
    "fun_arr_largest(arr)\n"
   ]
  },
  {
   "cell_type": "code",
   "execution_count": 14,
   "id": "a0907e11",
   "metadata": {},
   "outputs": [
    {
     "name": "stdout",
     "output_type": "stream",
     "text": [
      "Enter the number of elements for array \n",
      "5\n",
      "Enter the elemets\n",
      "1\n",
      "2\n",
      "3\n",
      "4\n",
      "5\n",
      "Array after rotation is [5 4 3 2 1]\n"
     ]
    }
   ],
   "source": [
    "# 3. Write a Python Program for array rotation?\n",
    "#Code \n",
    "import numpy as np\n",
    "def fun_arr_rotation(arr):\n",
    "    arr_rot_list = []\n",
    "    for i in range(len(arr)-1,-1,-1):\n",
    "        arr_rot_list.append(arr[i])\n",
    "    arr_rot_array = np.array(arr_rot_list)\n",
    "    print(f'Array after rotation is {np.array(arr_rot_array)}')\n",
    "\n",
    "l =[]\n",
    "n = int(input(\"Enter the number of elements for array \\n\"))\n",
    "print(\"Enter the elemets\")\n",
    "for i in range(n):\n",
    "    l.append(int(input()))\n",
    "arr = np.array(l)\n",
    "fun_arr_rotation(arr)\n"
   ]
  },
  {
   "cell_type": "code",
   "execution_count": 20,
   "id": "c5d393b9",
   "metadata": {},
   "outputs": [
    {
     "name": "stdout",
     "output_type": "stream",
     "text": [
      "Enter the number of elements for array \n",
      "4\n",
      "Enter the elemets\n",
      "12\n",
      "34\n",
      "67\n",
      "98\n",
      "Enter the postion at which spliting has to be done2\n",
      "[67, 98, 12, 34]\n"
     ]
    }
   ],
   "source": [
    "# 4. Write a Python Program to Split the array and add the first part to the end?\n",
    "#Code \n",
    "\n",
    "def fun_arr_split_add(arr,split_index,k):\n",
    "    for i in range(split_index):\n",
    "        first_element = arr[0]\n",
    "        for j in range(k-1):\n",
    "            arr[j] = arr[j+1]\n",
    "        arr[k-1] = first_element\n",
    "    print(arr)\n",
    "        \n",
    "arr =[]\n",
    "n = int(input(\"Enter the number of elements for array \\n\"))\n",
    "print(\"Enter the elemets\")\n",
    "for i in range(n):\n",
    "    arr.append(int(input()))\n",
    "split_index=int(input(\"Enter the postion at which spliting has to be done\"))\n",
    "k = len(arr)\n",
    "fun_arr_split_add(arr, split_index,k)\n",
    "\n"
   ]
  },
  {
   "cell_type": "code",
   "execution_count": 38,
   "id": "9a7c13da",
   "metadata": {},
   "outputs": [
    {
     "name": "stdout",
     "output_type": "stream",
     "text": [
      "Enter the number of elements for array \n",
      "5\n",
      "Enter the elemets\n",
      "30\n",
      "29\n",
      "28\n",
      "27\n",
      "26\n",
      "Array is monotonic\n"
     ]
    }
   ],
   "source": [
    "# 5. Write a Python Program to check if given array is Monotonic?\n",
    "#Code\n",
    "\n",
    "def arr_monton_check(arr):\n",
    "    a = arr[0]\n",
    "    b = arr[0]\n",
    "    count_1=0\n",
    "    count_2=0\n",
    "    for i in range(1,len(arr)-1):\n",
    "        if a < arr[i] and arr[i]<arr[i+1]:\n",
    "            count_1=count_1+1 \n",
    "        a=arr[i]\n",
    "    for i in range(1,len(arr)-1):\n",
    "        if b > arr[i] and arr[i]>arr[i+1]:\n",
    "            count_2=count_2+1 \n",
    "        b=arr[i]\n",
    "    if count_1 == (len(arr)-2) or count_2==(len(arr)-2):\n",
    "        print(\"Array is monotonic\")\n",
    "    else:\n",
    "        print(\"Array is not monotonic \")\n",
    "\n",
    "\n",
    "arr =[]\n",
    "n = int(input(\"Enter the number of elements for array \\n\"))\n",
    "print(\"Enter the elemets\")\n",
    "for i in range(n):\n",
    "    arr.append(int(input()))\n",
    "arr_monton_check(arr)"
   ]
  },
  {
   "cell_type": "markdown",
   "id": "ad398b40",
   "metadata": {},
   "source": []
  },
  {
   "cell_type": "code",
   "execution_count": null,
   "id": "263664e4",
   "metadata": {},
   "outputs": [],
   "source": []
  }
 ],
 "metadata": {
  "kernelspec": {
   "display_name": "Python 3 (ipykernel)",
   "language": "python",
   "name": "python3"
  },
  "language_info": {
   "codemirror_mode": {
    "name": "ipython",
    "version": 3
   },
   "file_extension": ".py",
   "mimetype": "text/x-python",
   "name": "python",
   "nbconvert_exporter": "python",
   "pygments_lexer": "ipython3",
   "version": "3.9.12"
  }
 },
 "nbformat": 4,
 "nbformat_minor": 5
}
