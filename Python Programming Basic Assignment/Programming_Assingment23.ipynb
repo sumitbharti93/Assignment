{
 "cells": [
  {
   "cell_type": "markdown",
   "id": "1e46a71e",
   "metadata": {},
   "source": [
    "# Programming_Assingment23"
   ]
  },
  {
   "cell_type": "code",
   "execution_count": 15,
   "id": "d75977a0",
   "metadata": {},
   "outputs": [
    {
     "name": "stdout",
     "output_type": "stream",
     "text": [
      "Enter the number 1112111\n",
      "True\n"
     ]
    }
   ],
   "source": [
    "'''\n",
    "Question 1\n",
    "Create a function that takes a number as an argument and returns True or False depending on whether the number is\n",
    "symmetrical or not. A number is symmetrical when it is the same as its reverse.\n",
    "Examples\n",
    "is_symmetrical(7227) ➞ True\n",
    "\n",
    "is_symmetrical(12567) ➞ False\n",
    "\n",
    "is_symmetrical(44444444) ➞ True\n",
    "\n",
    "is_symmetrical(9939) ➞ False\n",
    "\n",
    "is_symmetrical(1112111) ➞ True\n",
    "\n",
    "'''\n",
    "#Code\n",
    "#Method1 \n",
    "def is_symmetrical(num):\n",
    "    sum=0\n",
    "    temp = num\n",
    "    while(num>0):\n",
    "        r = num%10\n",
    "        sum=sum*10+r\n",
    "        num=num//10\n",
    "        \n",
    "    if temp==sum:\n",
    "        return True\n",
    "    else:\n",
    "        return False\n",
    "if __name__ ==\"__main__\":\n",
    "    num = int(input('Enter the number '))\n",
    "    result = is_symmetrical(num)\n",
    "    print(result)\n"
   ]
  },
  {
   "cell_type": "code",
   "execution_count": 23,
   "id": "b37d79a4",
   "metadata": {},
   "outputs": [
    {
     "name": "stdout",
     "output_type": "stream",
     "text": [
      "Enter the string of numbers(\"10, -2\")\n",
      "-20\n"
     ]
    }
   ],
   "source": [
    "'''\n",
    "Question 2\n",
    "Given a string of numbers separated by a comma and space, return the product of the numbers.\n",
    "Examples\n",
    "multiply_nums(\"2, 3\") ➞ 6\n",
    "\n",
    "multiply_nums(\"1, 2, 3, 4\") ➞ 24\n",
    "\n",
    "multiply_nums(\"54, 75, 453, 0\") ➞ 0\n",
    "\n",
    "multiply_nums(\"10, -2\") ➞ -20\n",
    "'''\n",
    "#Code\n",
    "\n",
    "def multiply_nums(str_num):\n",
    "    mul=1\n",
    "    for i in str_num:\n",
    "        mul*=i\n",
    "    return mul\n",
    "\n",
    "if __name__ ==\"__main__\":\n",
    "    str_num = eval(eval(input('Enter the string of numbers')))\n",
    "    result = multiply_nums(str_num)\n",
    "    print(result)\n",
    "\n"
   ]
  },
  {
   "cell_type": "code",
   "execution_count": 33,
   "id": "feb8d533",
   "metadata": {},
   "outputs": [
    {
     "name": "stdout",
     "output_type": "stream",
     "text": [
      "Enter the string of numbers2483\n",
      "416649\n"
     ]
    }
   ],
   "source": [
    "'''\n",
    "Question 3\n",
    "Create a function that squares every digit of a number.\n",
    "Examples\n",
    "square_digits(9119) ➞ 811181\n",
    "\n",
    "square_digits(2483) ➞ 416649\n",
    "\n",
    "square_digits(3212) ➞ 9414\n",
    "Notes\n",
    "The function receives an integer and must return an integer.\n",
    "'''\n",
    "#Code\n",
    "\n",
    "def square_digits(num):\n",
    "    st_num=\"\"\n",
    "    num = str(num)\n",
    "    for i in num:\n",
    "        st_num+=str(int(i)*int(i))\n",
    "    return int(st_num)\n",
    "\n",
    "if __name__ ==\"__main__\":\n",
    "    num = input('Enter the string of numbers')\n",
    "    result = square_digits(num)\n",
    "    print(result)\n",
    "    "
   ]
  },
  {
   "cell_type": "code",
   "execution_count": 37,
   "id": "2fee18ab",
   "metadata": {},
   "outputs": [
    {
     "name": "stdout",
     "output_type": "stream",
     "text": [
      "Enter the list[1, 3, 3, 5, 5]\n",
      "[1, 3, 5]\n"
     ]
    }
   ],
   "source": [
    "'''\n",
    "Question 4\n",
    "Create a function that sorts a list and removes all duplicate items from it.\n",
    "Examples\n",
    "setify([1, 3, 3, 5, 5]) ➞ [1, 3, 5]\n",
    "\n",
    "setify([4, 4, 4, 4]) ➞ [4]\n",
    "\n",
    "setify([5, 7, 8, 9, 10, 15]) ➞ [5, 7, 8, 9, 10, 15]\n",
    "\n",
    "setify([3, 3, 3, 2, 1]) ➞ [1, 2, 3]\n",
    "\n",
    "'''\n",
    "\n",
    "#Code\n",
    "\n",
    "def setify(lst):\n",
    "    lst[::-1]\n",
    "    lst = list(set(lst))\n",
    "    \n",
    "    return lst\n",
    "\n",
    "if __name__ ==\"__main__\":\n",
    "    lst = eval(input('Enter the list'))\n",
    "    result = setify(lst)\n",
    "    print(result)\n",
    "\n"
   ]
  },
  {
   "cell_type": "code",
   "execution_count": 49,
   "id": "ee7bfd8e",
   "metadata": {},
   "outputs": [
    {
     "name": "stdout",
     "output_type": "stream",
     "text": [
      "Enter the number512\n",
      "mean of the sum of all digits 2\n"
     ]
    }
   ],
   "source": [
    "'''\n",
    "Question 5\n",
    "Create a function that returns the mean of all digits.\n",
    "Examples\n",
    "mean(42) ➞ 3\n",
    "\n",
    "mean(12345) ➞ 3\n",
    "\n",
    "mean(666) ➞ 6\n",
    "Notes\n",
    "•\tThe mean of all digits is the sum of digits / how many digits there are (e.g. mean of digits in 512 is (5+1+2)/3(number\n",
    "of digits) = 8/3=2).\n",
    "•\tThe mean will always be an integer.\n",
    "\n",
    "'''\n",
    "#Code\n",
    "\n",
    "\n",
    "def mean(num):\n",
    "    sum=0\n",
    "    n=0\n",
    "    while(num>0):\n",
    "        r = num%10\n",
    "        sum=sum+r\n",
    "        num=num//10\n",
    "        n+=1\n",
    "    mean = sum//n\n",
    "    return mean\n",
    "\n",
    "if __name__ ==\"__main__\":\n",
    "    num = int(input('Enter the number'))\n",
    "    result = mean(num)\n",
    "    print('mean of the sum of all digits', result)\n",
    "\n",
    "\n",
    "\n",
    "\n"
   ]
  },
  {
   "cell_type": "code",
   "execution_count": null,
   "id": "94237670",
   "metadata": {},
   "outputs": [],
   "source": []
  }
 ],
 "metadata": {
  "kernelspec": {
   "display_name": "Python 3 (ipykernel)",
   "language": "python",
   "name": "python3"
  },
  "language_info": {
   "codemirror_mode": {
    "name": "ipython",
    "version": 3
   },
   "file_extension": ".py",
   "mimetype": "text/x-python",
   "name": "python",
   "nbconvert_exporter": "python",
   "pygments_lexer": "ipython3",
   "version": "3.9.12"
  }
 },
 "nbformat": 4,
 "nbformat_minor": 5
}
