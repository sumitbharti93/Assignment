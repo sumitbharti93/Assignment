{
 "cells": [
  {
   "cell_type": "code",
   "execution_count": 57,
   "id": "c6f6770e",
   "metadata": {},
   "outputs": [
    {
     "name": "stdout",
     "output_type": "stream",
     "text": [
      "Enter the number of key value pair\n",
      "5\n",
      "ENter the key a\n",
      "Enter the value345\n",
      "ENter the key b\n",
      "Enter the value345\n",
      "ENter the key c\n",
      "Enter the value\"Sumit\"\n",
      "ENter the key d\n",
      "Enter the value\"Sumit\"\n",
      "ENter the key e\n",
      "Enter the value12\n",
      "Given dictionary is  {'a': 345, 'b': 345, 'c': 'Sumit', 'd': 'Sumit', 'e': 12}\n",
      "Unique values for the given dictionary are  {345, 12, 'Sumit'}\n"
     ]
    }
   ],
   "source": [
    "# 1. Write a Python program to Extract Unique values dictionary values?\n",
    "#Code\n",
    "\n",
    "def dict_values_unique(d):\n",
    "    d_values = d.values()\n",
    "    uniques_values = set(d_values)\n",
    "    \n",
    "    return uniques_values\n",
    "\n",
    "\n",
    "def get_input():\n",
    "    print(\"Enter the number of key value pair\")\n",
    "    num_key_value = int(input())\n",
    "    d = {}\n",
    "    \n",
    "    for i in range(num_key_value):\n",
    "        key = input(\"ENter the key \")\n",
    "        value = eval(input('Enter the value'))\n",
    "        d.setdefault(key, value)\n",
    "    return d\n",
    "\n",
    "def get_result():\n",
    "    d= get_input()\n",
    "    print(\"Given dictionary is \", d)\n",
    "    result = dict_values_unique(d)\n",
    "    return result\n",
    "\n",
    "if __name__ == \"__main__\":\n",
    "    result = get_result()\n",
    "    print(\"Unique values for the given dictionary are \", result )\n"
   ]
  },
  {
   "cell_type": "code",
   "execution_count": 68,
   "id": "5172e559",
   "metadata": {},
   "outputs": [
    {
     "name": "stdout",
     "output_type": "stream",
     "text": [
      "Enter the number of key value pair\n",
      "4\n",
      "ENter the key 1\n",
      "Enter the value2\n",
      "ENter the key 3\n",
      "Enter the value4\n",
      "ENter the key 5\n",
      "Enter the value6\n",
      "ENter the key \"a\"\n",
      "Enter the value8\n",
      "Given dictionary is  {1: 2, 3: 4, 5: 6, 'a': 8}\n",
      "[1, 3, 5, 'a']\n",
      "[2, 4, 6, 8]\n",
      "Sum of all the items in the given dictionary is  29\n"
     ]
    }
   ],
   "source": [
    "# 2. Write a Python program to find the sum of all items in a dictionary?\n",
    "#Code\n",
    "\n",
    "def dict_sum_tiems(d):\n",
    "    keys = list(d.keys())\n",
    "    print(keys)\n",
    "    values = list(d.values())\n",
    "    print(values)\n",
    "    sum = 0\n",
    "    for i in keys:\n",
    "        if type(i)== int or type(i)==float:\n",
    "            sum+=i\n",
    "    for i in values:\n",
    "        if type(i)==int or type(i)==float:\n",
    "            sum+=i\n",
    "    return sum\n",
    "\n",
    "\n",
    "def get_input():\n",
    "    print(\"Enter the number of key value pair\")\n",
    "    num_key_value = int(input())\n",
    "    d = {}\n",
    "    \n",
    "    for i in range(num_key_value):\n",
    "        key = eval(input(\"ENter the key \"))\n",
    "        value = eval(input('Enter the value'))\n",
    "        d.setdefault(key, value)\n",
    "    return d\n",
    "\n",
    "def get_result():\n",
    "    d= get_input()\n",
    "    print(\"Given dictionary is \", d)\n",
    "    result = dict_sum_tiems(d)\n",
    "    return result\n",
    "\n",
    "if __name__ == \"__main__\":\n",
    "    result = get_result()\n",
    "    print(\"Sum of all the items in the given dictionary is \", result )\n"
   ]
  },
  {
   "cell_type": "code",
   "execution_count": 96,
   "id": "ff9e619d",
   "metadata": {},
   "outputs": [
    {
     "name": "stdout",
     "output_type": "stream",
     "text": [
      "Enter the number of key value pair for 1st dictionary\n",
      "2\n",
      "ENter the key a\n",
      "Enter the value1\n",
      "ENter the key b\n",
      "Enter the value2\n",
      "Enter the number of key value pair for 2nd dictionary\n",
      "2\n",
      "ENter the key c\n",
      "Enter the value4\n",
      "ENter the key d\n",
      "Enter the value5\n",
      "Given dictionary is d1 : {'a': 1, 'b': 2} and d2 : {'c': 4, 'd': 5}\n",
      "Final dictionary after merging  {'a': 1, 'b': 2, 'c': 4, 'd': 5}\n"
     ]
    }
   ],
   "source": [
    "# 3. Write a Python program to Merging two Dictionaries?\n",
    "#Code\n",
    "#Method1 \n",
    "def fun_dict_merge(dict1, dict2):\n",
    "    keys2 = list(dict2.keys())\n",
    "    values2 = list(dict2.values())\n",
    "    k=0\n",
    "    for i in keys2:\n",
    "        dict1.setdefault(i,values2[k])  \n",
    "        k=k+1\n",
    "    return dict1\n",
    "\n",
    "#Method2 \n",
    "\n",
    "def fun_dict_merge2(dict1, dict2):\n",
    "    dict1.update(dict2)\n",
    "    return dict1\n",
    "    \n",
    "def get_input():\n",
    "    d1 = {}\n",
    "    print(\"Enter the number of key value pair for 1st dictionary\")\n",
    "    num_key_value1 = int(input())\n",
    "    for i in range(num_key_value1):\n",
    "        key = input(\"ENter the key \")\n",
    "        value = eval(input('Enter the value'))\n",
    "        d1.setdefault(key, value)\n",
    "    d2={}\n",
    "    print(\"Enter the number of key value pair for 2nd dictionary\")\n",
    "    num_key_value2 = int(input())\n",
    "    for i in range(num_key_value2):\n",
    "        key = input(\"ENter the key \")\n",
    "        value = eval(input('Enter the value'))\n",
    "        d2.setdefault(key, value)\n",
    "        \n",
    "    return d1,d2\n",
    "\n",
    "def get_result():\n",
    "    d1,d2= get_input()\n",
    "    print(f\"Given dictionary is d1 : {d1} and d2 : {d2}\")\n",
    "    result = fun_dict_merge2(d1,d2)\n",
    "    return result\n",
    "\n",
    "if __name__ == \"__main__\":\n",
    "    result = get_result()\n",
    "    print(\"Final dictionary after merging \", result )   \n"
   ]
  },
  {
   "cell_type": "code",
   "execution_count": 106,
   "id": "39a579d3",
   "metadata": {},
   "outputs": [
    {
     "name": "stdout",
     "output_type": "stream",
     "text": [
      "Given dict is  {'name': ['Sumit', 'Arvind', 'kumar'], 'roll_no': [1, 2, 3]}\n",
      "Dictionary after flattening is  {'Sumit': 1, 'Arvind': 2, 'kumar': 3}\n"
     ]
    }
   ],
   "source": [
    "# 4. Write a Python program to convert key-values list to flat dictionary?\n",
    "#Code\n",
    "\n",
    "def dict_flatten(d):\n",
    "    flatten_dict = dict(zip(d['name'], d['roll_no']))\n",
    "    return flatten_dict\n",
    "\n",
    "\n",
    "def get_input():\n",
    "    d = {'name': ['Sumit', 'Arvind', 'kumar'], 'roll_no': [1,2,3]}\n",
    "    return d\n",
    "\n",
    "def get_result():\n",
    "    d = get_input()\n",
    "    print(\"Given dict is \", d)\n",
    "    result = dict_flatten(d)\n",
    "    return result\n",
    "\n",
    "if __name__ ==\"__main__\":\n",
    "    result = get_result()\n",
    "    print('Dictionary after flattening is ', result)\n",
    "\n"
   ]
  },
  {
   "cell_type": "code",
   "execution_count": 115,
   "id": "46788001",
   "metadata": {},
   "outputs": [
    {
     "name": "stdout",
     "output_type": "stream",
     "text": [
      "Given dict is  {'Sumit': 1, 'Arvind': 2} {'kumar': 3}\n",
      "Dictionary after insertion at the end  OrderedDict([('kumar', 3), ('Sumit', 1), ('Arvind', 2)])\n"
     ]
    }
   ],
   "source": [
    "# 5. Write a Python program to insertion at the beginning in OrderedDict?\n",
    "#Code\n",
    "\n",
    "from collections import OrderedDict\n",
    "\n",
    "def fun_ordered_dict(d1,d2):\n",
    "    d1=list(d1.items())\n",
    "    ordered_dict = OrderedDict(d1)\n",
    "    ordered_dict.update(d2)\n",
    "    ordered_dict.move_to_end('kumar',last =False)\n",
    "    ordered_dict.update()\n",
    "    \n",
    "    return ordered_dict\n",
    "\n",
    "def get_input():\n",
    "    d1 = {'Sumit':1, \"Arvind\":2}\n",
    "    d2 = {'kumar':3}\n",
    "    return d1, d2\n",
    "\n",
    "def get_result():\n",
    "    d1,d2 = get_input()\n",
    "    print(\"Given dict is \", d1,d2)\n",
    "    result = fun_ordered_dict(d1,d2)\n",
    "    return result\n",
    "\n",
    "if __name__ ==\"__main__\":\n",
    "    result = get_result()\n",
    "    print('Dictionary after insertion at the end ', result)\n",
    "    \n",
    "    \n",
    "\n",
    "\n"
   ]
  },
  {
   "cell_type": "code",
   "execution_count": 23,
   "id": "da80cec6",
   "metadata": {},
   "outputs": [
    {
     "name": "stdout",
     "output_type": "stream",
     "text": [
      "Input string is :  Bangalore is the capital of Karnatka\n",
      "Given pattern / order of character is :  ng\n",
      "Given order of character is present in the input string\n"
     ]
    }
   ],
   "source": [
    "# 6. Write a Python program to check order of character in string using OrderedDict()?\n",
    "#Code\n",
    "\n",
    "from collections import OrderedDict\n",
    "def order_of_character(input_string, pattern):\n",
    "    my_dict  = OrderedDict.fromkeys(input_string)\n",
    "    pattern_len = 0\n",
    "    for key, value in my_dict.items():\n",
    "        if (key==pattern[pattern_len]):\n",
    "            pattern_len+=1\n",
    "        if pattern_len == len(pattern):\n",
    "            return True \n",
    "    return 'order of character is not available in the input_string'\n",
    "\n",
    "input_string = 'Bangalore is the capital of Karnatka'\n",
    "pattern = 'ng'\n",
    "\n",
    "print(\"Input string is : \", input_string)\n",
    "print(\"Given pattern / order of character is : \", pattern)\n",
    "\n",
    "if __name__ ==  '__main__':\n",
    "    result = order_of_character(input_string,pattern)\n",
    "    if (result==True):\n",
    "        print(\"Given order of character is present in the input string\")\n",
    "    else:\n",
    "        print(result)\n",
    "\n"
   ]
  },
  {
   "cell_type": "code",
   "execution_count": 131,
   "id": "3e24331f",
   "metadata": {},
   "outputs": [
    {
     "name": "stdout",
     "output_type": "stream",
     "text": [
      "Given dict is  {'Sumit': 1, 'Arvind': 3, 'Ravi': 2, 'Prakash': 5}\n",
      "Dictionary after sorting {'Arvind': 3, 'Prakash': 5, 'Ravi': 2, 'Sumit': 1}\n"
     ]
    }
   ],
   "source": [
    "# 7. Write a Python program to sort Python Dictionaries by Key or Value?\n",
    "#Code\n",
    "\n",
    "def dict_key_value_sort(d):\n",
    "    keys = list(d.keys())\n",
    "    keys.sort()\n",
    "    final_dict = {}\n",
    "    \n",
    "    for i in keys:\n",
    "        final_dict[i]=d[i]\n",
    "            \n",
    "    return final_dict\n",
    "\n",
    "def get_input():\n",
    "    d = {'Sumit':1, \"Arvind\":3, 'Ravi': 2, 'Prakash': 5}\n",
    "    return d\n",
    "    \n",
    "def get_result():\n",
    "    d = get_input()\n",
    "    print(\"Given dict is \", d)\n",
    "    result = dict_key_value_sort(d)\n",
    "    return result\n",
    "\n",
    "if __name__ ==\"__main__\":\n",
    "    result = get_result()\n",
    "    print('Dictionary after sorting', result)\n",
    "\n",
    "\n"
   ]
  },
  {
   "cell_type": "code",
   "execution_count": null,
   "id": "836d885a",
   "metadata": {},
   "outputs": [],
   "source": []
  }
 ],
 "metadata": {
  "kernelspec": {
   "display_name": "Python 3 (ipykernel)",
   "language": "python",
   "name": "python3"
  },
  "language_info": {
   "codemirror_mode": {
    "name": "ipython",
    "version": 3
   },
   "file_extension": ".py",
   "mimetype": "text/x-python",
   "name": "python",
   "nbconvert_exporter": "python",
   "pygments_lexer": "ipython3",
   "version": "3.9.12"
  }
 },
 "nbformat": 4,
 "nbformat_minor": 5
}
