{
 "cells": [
  {
   "cell_type": "markdown",
   "id": "c8f94c2d",
   "metadata": {},
   "source": [
    "# Programming_Assingment24"
   ]
  },
  {
   "cell_type": "code",
   "execution_count": 5,
   "id": "fdd5ee32",
   "metadata": {},
   "outputs": [
    {
     "name": "stdout",
     "output_type": "stream",
     "text": [
      "ENter the number 25\n",
      "[1, 2, 3, 40, 5, 6, 7, 80, 9, 10, 11, 120, 13, 14, 15, 160, 17, 18, 19, 200, 21, 22, 23, 240, 25]\n"
     ]
    }
   ],
   "source": [
    "'''\n",
    "Question1\n",
    "Create a function that takes an integer and returns a list from 1 to the given number, where:\n",
    "1.\tIf the number can be divided evenly by 4, amplify it by 10 (i.e. return 10 times the number).\n",
    "2.\tIf the number cannot be divided evenly by 4, simply return the number.\n",
    "Examples\n",
    "amplify(4) ➞ [1, 2, 3, 40]\n",
    "\n",
    "amplify(3) ➞ [1, 2, 3]\n",
    "\n",
    "amplify(25) ➞ [1, 2, 3, 40, 5, 6, 7, 80, 9, 10, 11, 120, 13, 14, 15, 160, 17, 18, 19, 200, 21, 22, 23, 240, 25]\n",
    "Notes\n",
    "•\tThe given integer will always be equal to or greater than 1.\n",
    "•\tInclude the number (see example above).\n",
    "•\tTo perform this problem with its intended purpose, try doing it with list comprehensions. If that's too difficult,\n",
    "just solve the challenge any way you can.\n",
    "\n",
    "'''\n",
    "#Code\n",
    "\n",
    "def amplify(num):\n",
    "    lst = [i*10 if i%4==0 else i for i in range(1,num+1)]\n",
    "    return lst \n",
    "\n",
    "if __name__ ==\"__main__\":\n",
    "    num = int(input('ENter the number '))\n",
    "    result = amplify(num)\n",
    "    print(result)\n"
   ]
  },
  {
   "cell_type": "code",
   "execution_count": 18,
   "id": "1aace096",
   "metadata": {},
   "outputs": [
    {
     "name": "stdout",
     "output_type": "stream",
     "text": [
      "ENter the list [0, 0, 0.77, 0, 0]\n",
      "0.77\n"
     ]
    }
   ],
   "source": [
    "'''\n",
    "Question2\n",
    "Create a function that takes a list of numbers and return the number that's unique.\n",
    "Examples\n",
    "unique([3, 3, 3, 7, 3, 3]) ➞ 7\n",
    "\n",
    "unique([0, 0, 0.77, 0, 0]) ➞ 0.77\n",
    "\n",
    "unique([0, 1, 1, 1, 1, 1, 1, 1]) ➞ 0\n",
    "Notes\n",
    "Test cases will always have exactly one unique number while all others are the same.\n",
    "\n",
    "'''\n",
    "#Code\n",
    "def uniq(lst):\n",
    "    for i in range(len(lst)):\n",
    "        count = 0\n",
    "        for j in range(i,len(lst)-1):\n",
    "            if lst[i]==lst[j+1]:\n",
    "                count+=1    \n",
    "        if count==0:\n",
    "            return lst[i]\n",
    "        else:\n",
    "            continue\n",
    "    \n",
    "if __name__ ==\"__main__\":\n",
    "    lst = eval(input('ENter the list '))\n",
    "    result = uniq(lst)\n",
    "    print(result)\n"
   ]
  },
  {
   "cell_type": "code",
   "execution_count": 30,
   "id": "0c544b6d",
   "metadata": {},
   "outputs": [
    {
     "name": "stdout",
     "output_type": "stream",
     "text": [
      "Area of the given circle is  380\n",
      "Perimeter of the given circle is  28\n"
     ]
    }
   ],
   "source": [
    "'''\n",
    "Question3\n",
    "Your task is to create a Circle constructor that creates a circle with a radius provided by an argument. The circles \n",
    "constructed must have two getters getArea() (PIr^2) and getPerimeter() (2PI*r) which give both respective areas and \n",
    "perimeter (circumference).\n",
    "For help with this class, I have provided you with a Rectangle constructor which you can use as a base example.\n",
    "Examples\n",
    "circy = Circle(11)\n",
    "circy.getArea()\n",
    "\n",
    "# Should return 380.132711084365\n",
    "\n",
    "circy = Circle(4.44)\n",
    "circy.getPerimeter()\n",
    "\n",
    "# Should return 27.897342763877365\n",
    "Notes\n",
    "Round results up to the nearest integer.\n",
    "'''\n",
    "#Code\n",
    "class Circle:\n",
    "    def __init__(self,radius):\n",
    "        self.radius = radius\n",
    "        \n",
    "    def getArea(self):\n",
    "        area = 3.14*self.radius*self.radius\n",
    "        return area\n",
    "    def getPerimeter(self):\n",
    "        perimeter = 2*3.14*self.radius\n",
    "        return perimeter\n",
    "\n",
    "if __name__ ==\"__main__\":\n",
    "    circy = Circle(11)\n",
    "    area = circy.getArea()\n",
    "    circy = Circle(4.44)\n",
    "    perimeter = circy.getPerimeter()\n",
    "    print('Area of the given circle is ', round(area))\n",
    "    print('Perimeter of the given circle is ', round(perimeter))\n",
    "\n",
    "    "
   ]
  },
  {
   "cell_type": "code",
   "execution_count": 37,
   "id": "f08b203c",
   "metadata": {},
   "outputs": [
    {
     "name": "stdout",
     "output_type": "stream",
     "text": [
      "ENter the list [\"Turing\", \"Einstein\", \"Jung\"]\n",
      "['Jung', 'Turing', 'Einstein']\n"
     ]
    }
   ],
   "source": [
    "'''\n",
    "Question4\n",
    "Create a function that takes a list of strings and return a list, sorted from shortest to longest.\n",
    "Examples\n",
    "sort_by_length([\"Google\", \"Apple\", \"Microsoft\"])\n",
    "➞ [\"Apple\", \"Google\", \"Microsoft\"]\n",
    "\n",
    "sort_by_length([\"Leonardo\", \"Michelangelo\", \"Raphael\", \"Donatello\"])\n",
    "➞ [\"Raphael\", \"Leonardo\", \"Donatello\", \"Michelangelo\"]\n",
    "\n",
    "sort_by_length([\"Turing\", \"Einstein\", \"Jung\"])\n",
    "➞ [\"Jung\", \"Turing\", \"Einstein\"]\n",
    "Notes\n",
    "All test cases contain lists with strings of different lengths, so you won't have to deal with multiple strings of the \n",
    "same length.\n",
    "\n",
    "'''\n",
    "#Code\n",
    "\n",
    "def sort_by_length(lst):\n",
    "    for i in range(len(lst)):\n",
    "        for j in range(len(lst)):\n",
    "            if len(lst[i])<len(lst[j]):\n",
    "                lst[i],lst[j]=lst[j],lst[i]\n",
    "    return lst\n",
    "    \n",
    "if __name__ ==\"__main__\":\n",
    "    lst = eval(input('ENter the list '))\n",
    "    result = sort_by_length(lst)\n",
    "    print(result)\n",
    "\n"
   ]
  },
  {
   "cell_type": "code",
   "execution_count": 42,
   "id": "f79cfcb5",
   "metadata": {},
   "outputs": [
    {
     "name": "stdout",
     "output_type": "stream",
     "text": [
      "ENter the numbers (3, 4, 5)\n",
      "True\n"
     ]
    }
   ],
   "source": [
    "'''\n",
    "Question5\n",
    "Create a function that validates whether three given integers form a Pythagorean triplet. The sum of the squares of the\n",
    "two smallest integers must equal the square of the largest number to be validated.\n",
    "Examples\n",
    "is_triplet(3, 4, 5) ➞ True\n",
    "# 3² + 4² = 25\n",
    "# 5² = 25\n",
    "\n",
    "is_triplet(13, 5, 12) ➞ True\n",
    "# 5² + 12² = 169\n",
    "# 13² = 169\n",
    "\n",
    "is_triplet(1, 2, 3) ➞ False\n",
    "# 1² + 2² = 5\n",
    "# 3² = 9\n",
    "Notes\n",
    "Numbers may not be given in a sorted order.\n",
    "\n",
    "'''\n",
    "#Code\n",
    "\n",
    "def is_triplet(a,b,c):\n",
    "    maxim = 0\n",
    "    if a>b and a>c:\n",
    "        maxim =a\n",
    "        if (b*b+c*c == a*a):\n",
    "            return True\n",
    "        else:\n",
    "            return False\n",
    "    elif b>c and b>c:\n",
    "        maxim =b\n",
    "        if (a*a+c*c == b*b):\n",
    "            return True \n",
    "        else:\n",
    "            return False\n",
    "    else:\n",
    "        maxim =c \n",
    "        if (a*a+b*b==c*c):\n",
    "            return True \n",
    "        else:\n",
    "            return False \n",
    "\n",
    "        \n",
    "        \n",
    "if __name__ ==\"__main__\":\n",
    "    a,b,c = eval(input('ENter the numbers '))\n",
    "    result = is_triplet(a,b,c)\n",
    "    print(result)\n"
   ]
  },
  {
   "cell_type": "code",
   "execution_count": null,
   "id": "d01f7413",
   "metadata": {},
   "outputs": [],
   "source": []
  }
 ],
 "metadata": {
  "kernelspec": {
   "display_name": "Python 3 (ipykernel)",
   "language": "python",
   "name": "python3"
  },
  "language_info": {
   "codemirror_mode": {
    "name": "ipython",
    "version": 3
   },
   "file_extension": ".py",
   "mimetype": "text/x-python",
   "name": "python",
   "nbconvert_exporter": "python",
   "pygments_lexer": "ipython3",
   "version": "3.9.12"
  }
 },
 "nbformat": 4,
 "nbformat_minor": 5
}
