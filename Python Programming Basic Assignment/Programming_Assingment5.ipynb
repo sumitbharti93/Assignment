{
 "cells": [
  {
   "cell_type": "code",
   "execution_count": 27,
   "id": "cf7783e0",
   "metadata": {},
   "outputs": [
    {
     "name": "stdout",
     "output_type": "stream",
     "text": [
      "Enter the number of n elements5\n",
      "Enter the 5 elements \n",
      "3\n",
      "4\n",
      "7\n",
      "8\n",
      "9\n",
      "LCM of the given elements is 504\n"
     ]
    }
   ],
   "source": [
    "# 1. Write a Python Program to Find LCM?\n",
    "#Code\n",
    "\n",
    "def fun_lcm(a,b):\n",
    "    if a>b:\n",
    "        max =a\n",
    "    else:\n",
    "        max =b\n",
    "        \n",
    "    while (True):\n",
    "        if (max%a==0) and (max%b==0):\n",
    "            break\n",
    "        max = max+1\n",
    "    return max\n",
    "lcm = 1\n",
    "n = int(input(\"Enter the number of n elements\"))\n",
    "l = []\n",
    "print(f\"Enter the {n} elements \")\n",
    "for i in range(n):\n",
    "    l.append(int(input()))\n",
    "for i in range(n):\n",
    "    lcm = fun_lcm(lcm, l[i])\n",
    "\n",
    "print(f'LCM of the given elements is {lcm}')\n",
    "\n",
    "    "
   ]
  },
  {
   "cell_type": "code",
   "execution_count": 35,
   "id": "965959b7",
   "metadata": {},
   "outputs": [
    {
     "name": "stdout",
     "output_type": "stream",
     "text": [
      "Enter the first element40\n",
      "Enter the next element60\n",
      "Enter the number of next n elements4\n",
      "Enter the next 4 elements \n",
      "60\n",
      "80\n",
      "100\n",
      "120\n",
      "HCF of the given elements is 20\n"
     ]
    }
   ],
   "source": [
    "# 2.Write a Python Program to Find HCF?\n",
    "\n",
    "def fun_hcf(a,b):\n",
    "    if a>b:\n",
    "        min =a\n",
    "    else:\n",
    "        min =b\n",
    "        \n",
    "    while (True):\n",
    "        if (a%min==0) and (b%min==0):\n",
    "            break\n",
    "        min = min-1\n",
    "    return min\n",
    "\n",
    "a = int(input(\"Enter the first element \"))\n",
    "b= int(input(\"Enter the next element \"))\n",
    "hcf = fun_hcf(a,b)\n",
    "\n",
    "n = int(input(\"Enter the number of next n elements \"))\n",
    "l = []\n",
    "print(f\"Enter the next {n} elements \")\n",
    "for i in range(n):\n",
    "    l.append(int(input()))\n",
    "for i in range(n):\n",
    "    hcf = fun_hcf(hcf, l[i])\n",
    "\n",
    "print(f'HCF of the given elements is {hcf}')\n"
   ]
  },
  {
   "cell_type": "code",
   "execution_count": 55,
   "id": "4841df1a",
   "metadata": {},
   "outputs": [
    {
     "name": "stdout",
     "output_type": "stream",
     "text": [
      "Enter the decimal number8\n",
      "Binary of the given decimal number is 0b1000\n",
      "Octal of the given decimal number is 0o10\n",
      "Hexadecimal of the given decimal number is 0x8\n"
     ]
    }
   ],
   "source": [
    "# 3. Write a Python Program to Convert Decimal to Binary, Octal and Hexadecimal?\n",
    "#Code \n",
    "def fun_decimal(n):\n",
    "    print(f\"Binary of the given decimal number is {bin(n)}\")\n",
    "    print(f\"Octal of the given decimal number is {oct(n)}\")\n",
    "    print(f\"Hexadecimal of the given decimal number is {hex(n)}\")\n",
    "n = int(input(\"Enter the decimal number\"))\n",
    "\n",
    "fun_decimal(n)\n",
    "    \n",
    "    \n",
    "    \n"
   ]
  },
  {
   "cell_type": "code",
   "execution_count": 46,
   "id": "2793ed7c",
   "metadata": {},
   "outputs": [
    {
     "name": "stdout",
     "output_type": "stream",
     "text": [
      "Enter the character for which ascii value has to be determinedA\n",
      "Ascii value of the given character is 65\n"
     ]
    }
   ],
   "source": [
    "# 4. Write a Python Program To Find ASCII value of a character?\n",
    "#Code\n",
    "\n",
    "def fun_ascii(char):\n",
    "    print(f'Ascii value of the given character is {ord(char)}')\n",
    "    \n",
    "char = input(\"Enter the character for which ascii value has to be determined\")\n",
    "\n",
    "fun_ascii(char)"
   ]
  },
  {
   "cell_type": "code",
   "execution_count": 51,
   "id": "7e2cc16a",
   "metadata": {},
   "outputs": [
    {
     "name": "stdout",
     "output_type": "stream",
     "text": [
      "Enter the numbers for basic mathemathiccal operations \n",
      "Enter the first element 10\n",
      "Enter the second element 5\n",
      "Addition of the given numbers is 15\n",
      "Substraction of the given numbers is 5\n",
      "Multiplication of the given numbers is 50\n",
      "Division of the given numbers is 2.0\n"
     ]
    }
   ],
   "source": [
    "# 5. Write a Python Program to Make a Simple Calculator with 4 basic mathematical operations?\n",
    "#Code \n",
    "\n",
    "def simple_calc(a,b):\n",
    "    print(f'Addition of the given numbers is {a+b}')\n",
    "    print(f'Substraction of the given numbers is {a-b}')\n",
    "    print(f'Multiplication of the given numbers is {a*b}')\n",
    "    print(f'Division of the given numbers is {a/b}')\n",
    "\n",
    "print(\"Enter the numbers for basic mathemathiccal operations \")\n",
    "a = int(input(\"Enter the first element \"))\n",
    "b = int(input(\"Enter the second element \"))\n",
    "\n",
    "simple_calc(a,b)\n",
    "\n"
   ]
  },
  {
   "cell_type": "code",
   "execution_count": null,
   "id": "fe1dde00",
   "metadata": {},
   "outputs": [],
   "source": []
  },
  {
   "cell_type": "code",
   "execution_count": 52,
   "id": "5a50fd4d",
   "metadata": {},
   "outputs": [
    {
     "data": {
      "text/plain": [
       "'0b1000'"
      ]
     },
     "execution_count": 52,
     "metadata": {},
     "output_type": "execute_result"
    }
   ],
   "source": [
    "bin(8)"
   ]
  },
  {
   "cell_type": "code",
   "execution_count": null,
   "id": "73d5a2c4",
   "metadata": {},
   "outputs": [],
   "source": []
  }
 ],
 "metadata": {
  "kernelspec": {
   "display_name": "Python 3 (ipykernel)",
   "language": "python",
   "name": "python3"
  },
  "language_info": {
   "codemirror_mode": {
    "name": "ipython",
    "version": 3
   },
   "file_extension": ".py",
   "mimetype": "text/x-python",
   "name": "python",
   "nbconvert_exporter": "python",
   "pygments_lexer": "ipython3",
   "version": "3.9.12"
  }
 },
 "nbformat": 4,
 "nbformat_minor": 5
}
