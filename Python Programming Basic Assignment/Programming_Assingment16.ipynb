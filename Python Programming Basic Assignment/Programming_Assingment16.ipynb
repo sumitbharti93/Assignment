{
 "cells": [
  {
   "cell_type": "markdown",
   "id": "e806feae",
   "metadata": {},
   "source": [
    "# Programming_Assingment16"
   ]
  },
  {
   "cell_type": "code",
   "execution_count": 8,
   "id": "86042af2",
   "metadata": {},
   "outputs": [
    {
     "name": "stdout",
     "output_type": "stream",
     "text": [
      "incredible\n",
      "in... in... incredible\n",
      "in... in... incredible\n"
     ]
    }
   ],
   "source": [
    "'''\n",
    "Question1. Write a function that stutters a word as if someone is struggling to read it. The first two letters are repeated twice with an ellipsis ... and space after each, and then the word is pronounced with a question mark ?.\n",
    "Examples\n",
    "stutter(\"incredible\") ➞ \"in... in... incredible?\"\n",
    "\n",
    "stutter(\"enthusiastic\") ➞ \"en... en... enthusiastic?\"\n",
    "\n",
    "stutter(\"outstanding\") ➞ \"ou... ou... outstanding?\"\n",
    "\n",
    "Hint :- Assume all input is in lower case and at least two characters long.\n",
    "'''\n",
    "\n",
    "def fun_stutter(st):\n",
    "    result=\"\"\n",
    "    for i in range(0,2):\n",
    "        result+=st[i]\n",
    "    for i in range(0,3):\n",
    "        result+='.'\n",
    "    result+=' '\n",
    "    for i in range(0,2):\n",
    "        result+=st[i]\n",
    "    for i in range(0,3):\n",
    "        result+='.'\n",
    "    result+=\" \"\n",
    "    for i in range(len(st)):\n",
    "        result+=st[i]\n",
    "    print(result)\n",
    "    return result\n",
    "    \n",
    "if __name__ ==\"__main__\":\n",
    "    st = input()\n",
    "    result = fun_stutter(st)\n",
    "    print(result)\n",
    "\n",
    "\n"
   ]
  },
  {
   "cell_type": "code",
   "execution_count": 15,
   "id": "d041c01f",
   "metadata": {},
   "outputs": [
    {
     "name": "stdout",
     "output_type": "stream",
     "text": [
      "ENter the degree in celcius50\n",
      "Angle in degrees is 2864.8\n"
     ]
    }
   ],
   "source": [
    "'''\n",
    "Question 2.Create a function that takes an angle in radians and returns the corresponding angle in degrees rounded to one \n",
    "decimal place.\n",
    "Examples\n",
    "radians_to_degrees(1) ➞ 57.3\n",
    "\n",
    "radians_to_degrees(20) ➞ 1145.9\n",
    "\n",
    "radians_to_degrees(50) ➞ 2864.8\n",
    "\n",
    "'''\n",
    "\n",
    "def fun_rad_deg(angle_rad):\n",
    "    angle_deg = float(angle_rad*57.2958)\n",
    "    return angle_deg\n",
    "\n",
    "if __name__ ==\"__main__\":\n",
    "    angle_deg = float(input(\"ENter the degree in celcius\"))\n",
    "    result = fun_rad_deg(angle_deg)\n",
    "    print(\"Angle in degrees is {0:.1f}\".format(result))\n",
    "\n",
    "\n",
    "\n"
   ]
  },
  {
   "cell_type": "code",
   "execution_count": 18,
   "id": "b243f654",
   "metadata": {},
   "outputs": [
    {
     "name": "stdout",
     "output_type": "stream",
     "text": [
      "ENter the number14\n",
      "Given number is a curzon number\n"
     ]
    }
   ],
   "source": [
    "'''\n",
    "Question 3. In this challenge, establish if a given integer num is a Curzon number. If 1 plus 2 elevated to num is exactly \n",
    "divisible by 1 plus 2 multiplied by num, then num is a Curzon number.\n",
    "Given a non-negative integer num, implement a function that returns True if num is a Curzon number, or False otherwise.\n",
    "Examples\n",
    "is_curzon(5) ➞ True\n",
    "# 2 ** 5 + 1 = 33\n",
    "# 2 * 5 + 1 = 11\n",
    "# 33 is a multiple of 11\n",
    "\n",
    "is_curzon(10) ➞ False\n",
    "# 2 ** 10 + 1 = 1025\n",
    "# 2 * 10 + 1 = 21\n",
    "# 1025 is not a multiple of 21\n",
    "\n",
    "is_curzon(14) ➞ True\n",
    "# 2 ** 14 + 1 = 16385\n",
    "# 2 * 14 + 1 = 29\n",
    "# 16385 is a multiple of 29\n",
    "'''\n",
    "#Code\n",
    "\n",
    "def curzon_check(n):\n",
    "    result1 = 2**n+1\n",
    "    result2 = 2*n+1\n",
    "    if result1%result2==0:\n",
    "        return True\n",
    "    else:\n",
    "        return False\n",
    "    \n",
    "if __name__ ==\"__main__\":\n",
    "    n = int(input(\"ENter the number\"))\n",
    "    result = curzon_check(n)\n",
    "    if result:\n",
    "        print(\"Given number is a curzon number\")\n",
    "    else:\n",
    "        print('Given number is not a curzon number')\n"
   ]
  },
  {
   "cell_type": "code",
   "execution_count": 24,
   "id": "4089d5a8",
   "metadata": {},
   "outputs": [
    {
     "name": "stdout",
     "output_type": "stream",
     "text": [
      "ENter the side length3\n",
      "ARea of the hexagonal is 23.4\n"
     ]
    }
   ],
   "source": [
    "'''\n",
    "Question 4.Given the side length x find the area of a hexagon.\n",
    "\n",
    "Examples\n",
    "area_of_hexagon(1) ➞ 2.6\n",
    "\n",
    "area_of_hexagon(2) ➞ 10.4\n",
    "\n",
    "area_of_hexagon(3) ➞ 23.4\n",
    "\n",
    "'''\n",
    "#Code\n",
    "from math import sqrt\n",
    "\n",
    "def hexagon_area(s):\n",
    "    area = (3*sqrt(3)*(s**2))/2\n",
    "    return area\n",
    "\n",
    "if __name__ ==\"__main__\":\n",
    "    s = int(input(\"ENter the side length\"))\n",
    "    result = hexagon_area(s)\n",
    "    print('ARea of the hexagonal is {0:.1f}'.format(result))\n",
    "\n"
   ]
  },
  {
   "cell_type": "code",
   "execution_count": 52,
   "id": "eb0daa01",
   "metadata": {},
   "outputs": [
    {
     "name": "stdout",
     "output_type": "stream",
     "text": [
      "Enter the decimal number 10\n",
      "1010\n"
     ]
    }
   ],
   "source": [
    "'''\n",
    "Question 5. Create a function that returns a base-2 (binary) representation of a base-10 (decimal) string number. To \n",
    "convert is simple: ((2) means base-2 and (10) means base-10) 010101001(2) = 1 + 8 + 32 + 128.\n",
    "Going from right to left, the value of the most right bit is 1, now from that every bit to the left will be x2 the value,\n",
    "value of an 8 bit binary numbers are (256, 128, 64, 32, 16, 8, 4, 2, 1).\n",
    "\n",
    "Examples\n",
    "binary(1) ➞ \"1\"\n",
    "# 1*1 = 1\n",
    "\n",
    "binary(5) ➞ \"101\"\n",
    "# 1*1 + 1*4 = 5\n",
    "\n",
    "binary(10) ➞ \"1010\"\n",
    "# 1*2 + 1*8 = 10\n",
    "'''\n",
    "#Code\n",
    "\n",
    "def dec_to_binary(n):\n",
    "    binary =\"\"\n",
    "    while n>0:\n",
    "        r = n%2\n",
    "        n=n//2\n",
    "        binary+=str(r)\n",
    "    binary =binary[::-1]\n",
    "    return binary\n",
    "\n",
    "if __name__==\"__main__\":\n",
    "    decimal_input=int(input(\"Enter the decimal number \"))\n",
    "    result = dec_to_binary(decimal_input)\n",
    "    print(result)\n"
   ]
  },
  {
   "cell_type": "code",
   "execution_count": null,
   "id": "0f63bb8f",
   "metadata": {},
   "outputs": [],
   "source": []
  },
  {
   "cell_type": "code",
   "execution_count": null,
   "id": "4518fc2c",
   "metadata": {},
   "outputs": [],
   "source": []
  }
 ],
 "metadata": {
  "kernelspec": {
   "display_name": "Python 3 (ipykernel)",
   "language": "python",
   "name": "python3"
  },
  "language_info": {
   "codemirror_mode": {
    "name": "ipython",
    "version": 3
   },
   "file_extension": ".py",
   "mimetype": "text/x-python",
   "name": "python",
   "nbconvert_exporter": "python",
   "pygments_lexer": "ipython3",
   "version": "3.9.12"
  }
 },
 "nbformat": 4,
 "nbformat_minor": 5
}
