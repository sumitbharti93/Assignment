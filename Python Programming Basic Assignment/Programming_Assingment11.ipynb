{
 "cells": [
  {
   "cell_type": "code",
   "execution_count": 3,
   "id": "0cfac00a",
   "metadata": {},
   "outputs": [
    {
     "name": "stdout",
     "output_type": "stream",
     "text": [
      "Enter the number of words 4\n",
      "Enter the words \n",
      "amit\n",
      "sumit\n",
      "rakesh\n",
      "archit\n",
      "Enter the value of k4\n",
      "Given words are  ['amit', 'sumit', 'rakesh', 'archit']\n",
      "Words greater the length 4 are ['sumit', 'rakesh', 'archit']\n"
     ]
    }
   ],
   "source": [
    "# 1. Write a Python program to find words which are greater than given length k?\n",
    "#Code\n",
    "\n",
    "def words_length(l,k):\n",
    "    final_list = []\n",
    "    for i in range(len(l)):\n",
    "        if len(l[i])>k:\n",
    "            final_list.append(l[i])\n",
    "            \n",
    "    return final_list\n",
    "\n",
    "def get_input():\n",
    "    l = []\n",
    "    number_of_words = int(input(\"Enter the number of words \"))\n",
    "    print(\"Enter the words \")\n",
    "    for i in range(number_of_words):\n",
    "        l.append(input())\n",
    "    k = int(input(\"Enter the value of k\"))\n",
    "    return l,k\n",
    "\n",
    "def get_result():\n",
    "    l,k = get_input()\n",
    "    print(\"Given words are \", l)\n",
    "    result = words_length(l,k)\n",
    "    return result,k\n",
    "\n",
    "if __name__ == \"__main__\":\n",
    "    result,k = get_result()\n",
    "    print(f\"Words greater the length {k} are {result}\")\n",
    "    \n",
    "    \n"
   ]
  },
  {
   "cell_type": "code",
   "execution_count": 8,
   "id": "60e61465",
   "metadata": {},
   "outputs": [
    {
     "name": "stdout",
     "output_type": "stream",
     "text": [
      "Enter the word \n",
      "shantnau\n",
      "Enter the ith character5\n",
      "Word after removing 5 th character is shannau\n"
     ]
    }
   ],
   "source": [
    "# 2. Write a Python program for removing i-th character from a string?\n",
    "#Code\n",
    "\n",
    "def string_remove(st, i):\n",
    "    final_st = \"\"\n",
    "    for k in range(len(st)):\n",
    "        if st[k]!=st[i-1]:\n",
    "            final_st+=st[k]\n",
    "    return final_st,i\n",
    "        \n",
    "def get_input():\n",
    "    print(\"Enter the word \")\n",
    "    word = input()\n",
    "    i = int(input(\"Enter the ith character\"))\n",
    "    return word,i\n",
    "\n",
    "def get_result():\n",
    "    word,i = get_input()\n",
    "    result = string_remove(word,i)\n",
    "    return result\n",
    "\n",
    "if __name__ == \"__main__\":\n",
    "    result,i = get_result()\n",
    "    print(f\"Word after removing {i} th character is {result}\")\n",
    "\n"
   ]
  },
  {
   "cell_type": "code",
   "execution_count": 12,
   "id": "ce67906e",
   "metadata": {},
   "outputs": [
    {
     "name": "stdout",
     "output_type": "stream",
     "text": [
      "Enter the word \n",
      "Bangalore is the capital of Karnataka\n",
      "List of words after split \n",
      " ['Bangalore', 'is', 'the', 'capital', 'of', 'Karnataka']\n",
      "String after join is \n",
      " Bangalore is the capital of Karnataka\n"
     ]
    }
   ],
   "source": [
    "# 3. Write a Python program to split and join a string?\n",
    "# Code\n",
    "\n",
    "def string_split_join(word):\n",
    "    split_word = \"\"\n",
    "    join_word = \"\"\n",
    "    split_word = word.split()\n",
    "    join_word = \" \".join(split_word)\n",
    "    return split_word, join_word\n",
    "        \n",
    "def get_input():\n",
    "    print(\"Enter the word \")\n",
    "    word = input()\n",
    "    return word\n",
    "\n",
    "def get_result():\n",
    "    word = get_input()\n",
    "    split_word,join_word = string_split_join(word)\n",
    "    return split_word,join_word\n",
    "\n",
    "if __name__ == \"__main__\":\n",
    "    split_word, join_word = get_result()\n",
    "    print(\"List of words after split \\n\", split_word)\n",
    "    print(\"String after join is \\n\", join_word)\n",
    "\n",
    "\n"
   ]
  },
  {
   "cell_type": "code",
   "execution_count": 28,
   "id": "645c036a",
   "metadata": {},
   "outputs": [
    {
     "name": "stdout",
     "output_type": "stream",
     "text": [
      "Enter the string \n",
      "100101019\n",
      "Given string is not a binary string \n"
     ]
    }
   ],
   "source": [
    "# 4. Write a Python to check if a given string is binary string or not?\n",
    "#Code\n",
    "\n",
    "def string_binary_check(st):\n",
    "    count = 0\n",
    "    for i in range(len(st)):\n",
    "        if st[i]==\"1\" or st[i]==\"0\":\n",
    "            count+=1\n",
    "    if count==len(st):\n",
    "        return True\n",
    "    else:\n",
    "        return False\n",
    "        \n",
    "def get_input():\n",
    "    print(\"Enter the string \")\n",
    "    word = input()\n",
    "    return word\n",
    "\n",
    "def get_result():\n",
    "    word = get_input()\n",
    "    result = string_binary_check(word)\n",
    "    return result\n",
    "\n",
    "if __name__ == \"__main__\":\n",
    "    result = get_result()\n",
    "    if result:\n",
    "        print(\"Given string is binary string \")\n",
    "    else:\n",
    "        print(\"Given string is not a binary string \")\n"
   ]
  },
  {
   "cell_type": "code",
   "execution_count": 40,
   "id": "e88af72f",
   "metadata": {},
   "outputs": [
    {
     "name": "stdout",
     "output_type": "stream",
     "text": [
      "Enter the 1st string \n",
      "Bangalore is the Capital of Karnataka \n",
      "Enter the second string \n",
      "Chennai is the Capital of Tamilnadu\n",
      "Uncommon words in the given strings are  ['Bangalore', 'Karnataka', 'Chennai', 'Tamilnadu']\n"
     ]
    }
   ],
   "source": [
    "# 5. Write a Python program to find uncommon words from two Strings?\n",
    "#Code\n",
    "\n",
    "def string_uncommon_words(str1, str2):\n",
    "    str1_list = str1.split()\n",
    "    str2_list = str2.split()\n",
    "    uncommon_words = []\n",
    "    \n",
    "    for i in range(len(str1_list)):\n",
    "        count=0\n",
    "        for k in range(len(str2_list)):\n",
    "            if str1_list[i]!=str2_list[k]:\n",
    "                count+=1\n",
    "        if count==len(str2_list):\n",
    "            uncommon_words.append(str1_list[i])\n",
    "            \n",
    "    for i in range(len(str2_list)):\n",
    "        count=0\n",
    "        for k in range(len(str1_list)):\n",
    "            if str2_list[i]!=str1_list[k]:\n",
    "                count+=1\n",
    "        if count==len(str1_list):\n",
    "            uncommon_words.append(str2_list[i])\n",
    "\n",
    "    return uncommon_words\n",
    "    \n",
    "def get_input():\n",
    "    print(\"Enter the 1st string \")\n",
    "    st1 = input()\n",
    "    print(\"Enter the second string \")\n",
    "    st2 = input()\n",
    "    \n",
    "    return st1,st2\n",
    "\n",
    "def get_result():\n",
    "    st1,st2 = get_input()\n",
    "    result = string_uncommon_words(st1,st2)\n",
    "    return result\n",
    "\n",
    "if __name__ == \"__main__\":\n",
    "    result = get_result()\n",
    "    print(\"Uncommon words in the given strings are \", result)\n",
    "\n",
    "    "
   ]
  },
  {
   "cell_type": "code",
   "execution_count": 51,
   "id": "3cc883b3",
   "metadata": {},
   "outputs": [
    {
     "name": "stdout",
     "output_type": "stream",
     "text": [
      "Enter the string \n",
      "aabbccddee fghuijkl mmnnoopp qrst\n",
      "Duplicate characters in the given strings are  ['m', 'a', ' ', 'b', 'o', 'e', 'c', 'p', 'n', 'd']\n"
     ]
    }
   ],
   "source": [
    "# 6. Write a Python to find all duplicate characters in string?\n",
    "#Code\n",
    "\n",
    "def str_dup_char(st):\n",
    "    dup_char = []\n",
    "    for i in range(len(st)):\n",
    "        for j in range(i+1, len(st)):\n",
    "            if st[i]==st[j]:\n",
    "                dup_char.append(st[i])\n",
    "    return dup_char\n",
    "    \n",
    "def get_input():\n",
    "    print(\"Enter the string \")\n",
    "    st = input()\n",
    "    return st\n",
    "\n",
    "def get_result():\n",
    "    st = get_input()\n",
    "    result = str_dup_char(st)\n",
    "    return result\n",
    "\n",
    "if __name__ == \"__main__\":\n",
    "    result = list(set(get_result()))\n",
    "    print(\"Duplicate characters in the given strings are \", result)\n",
    "    \n",
    "    \n",
    "\n",
    "\n"
   ]
  },
  {
   "cell_type": "code",
   "execution_count": 91,
   "id": "54d65717",
   "metadata": {},
   "outputs": [
    {
     "name": "stdout",
     "output_type": "stream",
     "text": [
      "Enter the string \n",
      "sumit%^\n",
      "Yes given string has special characters \n"
     ]
    }
   ],
   "source": [
    "# 7. Write a Python Program to check if a string contains any special character?\n",
    "#Code\n",
    "\n",
    "def special_char_check(st):\n",
    "    count=0\n",
    "    for i in range(len(st)):\n",
    "        if 48<=ord(st[i])<=57 or 65<=ord(st[i])<=90 or 97<=ord(st[i])<=122:    \n",
    "            count+=1\n",
    "    if count!=len(st):\n",
    "        return True\n",
    "    else:\n",
    "        return False\n",
    "    \n",
    "def get_input():\n",
    "    print(\"Enter the string \")\n",
    "    st = input()\n",
    "    return st\n",
    "\n",
    "def get_result():\n",
    "    st = get_input()\n",
    "    result = special_char_check(st)\n",
    "    return result\n",
    "\n",
    "if __name__ == \"__main__\":\n",
    "    result = get_result()\n",
    "    if result:\n",
    "        print(\"Yes given string has special characters \")\n",
    "    else:\n",
    "        print('Given string does not have special chracters ')    \n",
    "    \n",
    "\n"
   ]
  },
  {
   "cell_type": "code",
   "execution_count": null,
   "id": "d8167d4b",
   "metadata": {},
   "outputs": [],
   "source": []
  }
 ],
 "metadata": {
  "kernelspec": {
   "display_name": "Python 3 (ipykernel)",
   "language": "python",
   "name": "python3"
  },
  "language_info": {
   "codemirror_mode": {
    "name": "ipython",
    "version": 3
   },
   "file_extension": ".py",
   "mimetype": "text/x-python",
   "name": "python",
   "nbconvert_exporter": "python",
   "pygments_lexer": "ipython3",
   "version": "3.9.12"
  }
 },
 "nbformat": 4,
 "nbformat_minor": 5
}
