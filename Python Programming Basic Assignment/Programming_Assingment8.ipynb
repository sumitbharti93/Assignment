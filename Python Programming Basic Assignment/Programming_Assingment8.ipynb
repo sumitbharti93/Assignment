{
 "cells": [
  {
   "cell_type": "code",
   "execution_count": 28,
   "id": "7fbd23b7",
   "metadata": {},
   "outputs": [
    {
     "name": "stdout",
     "output_type": "stream",
     "text": [
      "Rows and column for both the matrix should be same \n",
      "Enter the number of rows2\n",
      "Enter the number of columns 3\n",
      "Enter the element for first matrix \n",
      "1\n",
      "2\n",
      "3\n",
      "4\n",
      "5\n",
      "6\n",
      "First matrix is [[1, 2, 3], [4, 5, 6]]\n",
      "Enter the element for second matrix \n",
      "1\n",
      "2\n",
      "3\n",
      "4\n",
      "5\n",
      "6\n",
      "Second matrix is [[1, 2, 3], [4, 5, 6]]\n",
      "Sum of the given matrix is [[2, 4, 6], [8, 10, 12]]\n"
     ]
    }
   ],
   "source": [
    "# 1. Write a Python Program to Add Two Matrices?\n",
    "#Code \n",
    "import numpy as np\n",
    "\n",
    "def add_matrix(mat1, mat2,final_matrix,num_rows,num_coulmns):\n",
    "    final_matrix = final_matrix\n",
    "    for i in range(num_rows):\n",
    "        for j in range(num_coulmns):\n",
    "                final_matrix[i][j] = mat1[i][j]+mat2[i][j]\n",
    "    return final_matrix\n",
    "    \n",
    "l = []\n",
    "mat1 =[]\n",
    "mat2 = []\n",
    "print(\"Rows and column for both the matrix should be same \")\n",
    "\n",
    "num_rows = int(input(\"Enter the number of rows\"))\n",
    "num_coulmns = int(input(\"Enter the number of columns \"))\n",
    "print(\"Enter the element for first matrix \")\n",
    "for i in range(num_rows):\n",
    "    for j in range(num_coulmns):\n",
    "        l.append(int(input()))\n",
    "    mat1.append(l)\n",
    "    l=[]\n",
    "\n",
    "print(f'First matrix is {mat1}')\n",
    "print('Enter the element for second matrix ')\n",
    "for i in range(num_rows):\n",
    "    for j in range(num_coulmns):\n",
    "        l.append(int(input()))\n",
    "    mat2.append(l)\n",
    "    l=[]\n",
    "print(f'Second matrix is {mat2}')\n",
    "final_matrix = mat1[:][:]\n",
    "\n",
    "final_matrix= add_matrix(mat1,mat2,final_matrix, num_rows,num_coulmns)\n",
    "print(f\"Sum of the given matrix is {final_matrix}\")\n"
   ]
  },
  {
   "cell_type": "code",
   "execution_count": 51,
   "id": "bf4afc28",
   "metadata": {},
   "outputs": [
    {
     "name": "stdout",
     "output_type": "stream",
     "text": [
      "Number of columns of mat1 and no of rows for mat2 should be same \n",
      "Enter the number of rows of 1st matrix 3\n",
      "Enter the number of columns for 1st matrix 3\n",
      "Enter the element for first matrix \n",
      "1\n",
      "1\n",
      "1\n",
      "1\n",
      "1\n",
      "1\n",
      "1\n",
      "1\n",
      "1\n",
      "First matrix is [[1, 1, 1], [1, 1, 1], [1, 1, 1]]\n",
      "Enter the number of rows of 2nd matrix 3\n",
      "Enter the number of columns for 2nd matrix 4\n",
      "Enter the element for second matrix \n",
      "2\n",
      "2\n",
      "2\n",
      "2\n",
      "2\n",
      "2\n",
      "2\n",
      "2\n",
      "2\n",
      "2\n",
      "2\n",
      "2\n",
      "Second matrix is [[2, 2, 2, 2], [2, 2, 2, 2], [2, 2, 2, 2]]\n",
      "final matrix after multiplication is [[6, 6, 6, 6], [6, 6, 6, 6], [6, 6, 6, 6]]\n"
     ]
    }
   ],
   "source": [
    "# 2.Write a Python Program to Multiply Two Matrices?\n",
    "#Code\n",
    "\n",
    "import numpy as np\n",
    "\n",
    "def mul_matrix(mat1, mat2, final_matrix, num_rows1, num_coulmns1, num_rows2, num_coulmns2):\n",
    "    \n",
    "    for i in range(num_rows1):\n",
    "        for j in range(num_coulmns2):\n",
    "            for k in range(num_rows2):\n",
    "                final_matrix[i][j] += mat1[i][k]*mat2[k][j]\n",
    "\n",
    "    return final_matrix\n",
    "l = []\n",
    "mat1 =[]\n",
    "mat2 = []\n",
    "\n",
    "print(\"Number of columns of mat1 and no of rows for mat2 should be same \")\n",
    "\n",
    "num_rows1 = int(input(\"Enter the number of rows of 1st matrix \"))\n",
    "num_coulmns1 = int(input(\"Enter the number of columns for 1st matrix \"))\n",
    "print(\"Enter the element for first matrix \")\n",
    "for i in range(num_rows1):\n",
    "    for j in range(num_coulmns1):\n",
    "        l.append(int(input()))\n",
    "    mat1.append(l)\n",
    "    l=[]\n",
    "    \n",
    "print(f'First matrix is {mat1}')\n",
    "\n",
    "num_rows2 = int(input(\"Enter the number of rows of 2nd matrix \"))\n",
    "num_coulmns2 = int(input(\"Enter the number of columns for 2nd matrix \"))\n",
    "\n",
    "print('Enter the element for second matrix ')\n",
    "\n",
    "for i in range(num_rows2):\n",
    "    for j in range(num_coulmns2):\n",
    "        l.append(int(input()))\n",
    "    mat2.append(l)\n",
    "    l=[]\n",
    "    \n",
    "final_matrix = [[0 for x in range(num_coulmns2)] for y in range(num_coulmns1)]\n",
    "    \n",
    "print(f'Second matrix is {mat2}')\n",
    "final_matrix = mul_matrix(mat1,mat2, final_matrix, num_rows1, num_coulmns1, num_rows2, num_coulmns2)\n",
    "print(f'final matrix after multiplication is {final_matrix}')"
   ]
  },
  {
   "cell_type": "code",
   "execution_count": 57,
   "id": "77dccc4b",
   "metadata": {},
   "outputs": [
    {
     "name": "stdout",
     "output_type": "stream",
     "text": [
      "Enter the number of rows2\n",
      "Enter the number of columns 3\n",
      "Enter the element for matrix \n",
      "1\n",
      "2\n",
      "3\n",
      "4\n",
      "5\n",
      "6\n",
      "[[1, 2, 3], [4, 5, 6]]\n",
      "[[1, 4], [2, 5], [3, 6]]\n"
     ]
    }
   ],
   "source": [
    "# 3. Write a Python Program to Transpose a Matrix?\n",
    "#Code\n",
    "def mat_transpose(mat, final_matrix, num_rows, num_columns):\n",
    "    for i in range(num_columns):\n",
    "        for j in range(num_rows):\n",
    "                final_matrix[i][j] = mat[j][i]\n",
    "    return final_matrix\n",
    "\n",
    "l = []\n",
    "mat=[]\n",
    "\n",
    "num_rows = int(input(\"Enter the number of rows\"))\n",
    "num_columns = int(input(\"Enter the number of columns \"))\n",
    "print(\"Enter the element for matrix \")\n",
    "for i in range(num_rows):\n",
    "    for j in range(num_coulmns):\n",
    "        l.append(int(input()))\n",
    "    mat.append(l)\n",
    "    l=[]\n",
    "print(mat)\n",
    "\n",
    "final_matrix = [[0 for x in range(num_rows)] for y in range(num_coulmns)]\n",
    "\n",
    "final_matrix = mat_transpose(mat, final_matrix, num_rows, num_columns)\n",
    "    \n",
    "print(final_matrix)"
   ]
  },
  {
   "cell_type": "code",
   "execution_count": 65,
   "id": "66905995",
   "metadata": {},
   "outputs": [
    {
     "name": "stdout",
     "output_type": "stream",
     "text": [
      "Enter the number of words 5\n",
      "Enter the words\n",
      "sumit\n",
      "amit\n",
      "deepak\n",
      "chandan\n",
      "archit\n",
      "['amit', 'chandan', 'archit', 'deepak', 'sumit']\n"
     ]
    }
   ],
   "source": [
    "# 4. Write a Python Program to Sort Words in Alphabetic Order?\n",
    "#Code \n",
    "\n",
    "def fun_alpha_sort(l):\n",
    "    temp =str(0)\n",
    "    for i in range(len(l)-1):\n",
    "        for k in range(i,len(l)-1):\n",
    "            if l[k]>l[k+1]:\n",
    "                temp = l[k]\n",
    "                l[k] = l[k+1]\n",
    "                l[k+1]=temp\n",
    "    return l\n",
    "l = []\n",
    "num_elements = int(input(\"Enter the number of words \"))\n",
    "print(\"Enter the words\")\n",
    "for i in range(num_elements):\n",
    "    l.append(input())\n",
    "\n",
    "result = fun_alpha_sort(l)\n",
    "    \n",
    "print(result)\n",
    "    "
   ]
  },
  {
   "cell_type": "code",
   "execution_count": 84,
   "id": "2fea0f1d",
   "metadata": {},
   "outputs": [
    {
     "name": "stdout",
     "output_type": "stream",
     "text": [
      "Enter the stringsumit123@#$%%\n",
      "sumit123\n"
     ]
    }
   ],
   "source": [
    "# 5.Write a Python Program to Remove Punctuation From a String?\n",
    "#Code\n",
    "\n",
    "def fun_punc_remove(st):\n",
    "    str_new = ''\n",
    "    for i in range(len(st)):\n",
    "        if 65<ord(st[i])<90 or 97<ord(st[i])<122 or 48<ord(st[i])<57:\n",
    "            str_new = str_new+st[i]\n",
    "    return str_new\n",
    "st = input(\"Enter the string\")\n",
    "result = fun_punc_remove(st)\n",
    "print(result)"
   ]
  },
  {
   "cell_type": "code",
   "execution_count": null,
   "id": "584036c2",
   "metadata": {},
   "outputs": [],
   "source": []
  },
  {
   "cell_type": "code",
   "execution_count": null,
   "id": "cec44eb2",
   "metadata": {},
   "outputs": [],
   "source": []
  }
 ],
 "metadata": {
  "kernelspec": {
   "display_name": "Python 3 (ipykernel)",
   "language": "python",
   "name": "python3"
  },
  "language_info": {
   "codemirror_mode": {
    "name": "ipython",
    "version": 3
   },
   "file_extension": ".py",
   "mimetype": "text/x-python",
   "name": "python",
   "nbconvert_exporter": "python",
   "pygments_lexer": "ipython3",
   "version": "3.9.12"
  }
 },
 "nbformat": 4,
 "nbformat_minor": 5
}
