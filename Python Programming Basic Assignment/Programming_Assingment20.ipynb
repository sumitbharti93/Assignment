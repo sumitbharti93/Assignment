{
 "cells": [
  {
   "cell_type": "markdown",
   "id": "e9113f88",
   "metadata": {},
   "source": [
    "# Programming_Assingment20"
   ]
  },
  {
   "cell_type": "code",
   "execution_count": 28,
   "id": "caba2c33",
   "metadata": {},
   "outputs": [
    {
     "name": "stdout",
     "output_type": "stream",
     "text": [
      "Enter the list[\"A\", 0, \"Edabit\", 1729, \"Python\", \"1729\"]\n",
      "[0, 1729]\n"
     ]
    }
   ],
   "source": [
    "'''\n",
    "Question1\n",
    "Create a function that takes a list of strings and integers, and filters out the list so that it returns a list of integers\n",
    "only.\n",
    "Examples\n",
    "filter_list([1, 2, 3, \"a\", \"b\", 4]) ➞ [1, 2, 3, 4]\n",
    "\n",
    "filter_list([\"A\", 0, \"Edabit\", 1729, \"Python\", \"1729\"]) ➞ [0, 1729]\n",
    "\n",
    "filter_list([\"Nothing\", \"here\"]) ➞ []\n",
    "'''\n",
    "#Code\n",
    "\n",
    "def filter_list(l):\n",
    "    new_list=[]\n",
    "    for i in l:\n",
    "        if type(i)!=str:\n",
    "            new_list.append(i)\n",
    "    return new_list\n",
    "\n",
    "if __name__ ==\"__main__\":\n",
    "    l = eval(input(\"Enter the list\"))\n",
    "    result = filter_list(l)\n",
    "    print(result)\n",
    "\n",
    "\n",
    "\n",
    "\n"
   ]
  },
  {
   "cell_type": "code",
   "execution_count": 4,
   "id": "eb4c4b79",
   "metadata": {},
   "outputs": [
    {
     "name": "stdout",
     "output_type": "stream",
     "text": [
      "Enter the list[5, 4, 3, 2, 1]\n",
      "List with indexes of the element is  [5, 5, 5, 5, 5]\n"
     ]
    }
   ],
   "source": [
    "'''\n",
    "Question2\n",
    "Given a list of numbers, create a function which returns the list but with each element's index in the list added to \n",
    "itself. This means you add 0 to the number at index 0, add 1 to the number at index 1, etc...\n",
    "Examples\n",
    "add_indexes([0, 0, 0, 0, 0]) ➞ [0, 1, 2, 3, 4]\n",
    "\n",
    "add_indexes([1, 2, 3, 4, 5]) ➞ [1, 3, 5, 7, 9]\n",
    "\n",
    "add_indexes([5, 4, 3, 2, 1]) ➞ [5, 5, 5, 5, 5]\n",
    "\n",
    "'''\n",
    "#Code\n",
    "\n",
    "def add_indexes(lst):\n",
    "    index_lst=[]\n",
    "    for i in range(len(lst)):\n",
    "        index_lst.append(i+lst[i])\n",
    "    return index_lst\n",
    "\n",
    "if __name__ ==\"__main__\":\n",
    "    lst = eval(input(\"Enter the list\"))\n",
    "    result = add_indexes(lst)\n",
    "    print('List with indexes of the element is ', result)\n",
    "    "
   ]
  },
  {
   "cell_type": "code",
   "execution_count": 19,
   "id": "a5d91eae",
   "metadata": {},
   "outputs": [
    {
     "name": "stdout",
     "output_type": "stream",
     "text": [
      "Enter the height15\n",
      "Enter the radius6\n",
      "Cone volume is 600.0\n"
     ]
    }
   ],
   "source": [
    "'''Question3\n",
    "Create a function that takes the height and radius of a cone as arguments and returns the volume of the cone rounded to\n",
    "the nearest hundredth. See the resources tab for the formula.\n",
    " \n",
    "Examples\n",
    "cone_volume(3, 2) ➞ 12.57\n",
    "\n",
    "cone_volume(15, 6) ➞ 565.49\n",
    "\n",
    "cone_volume(18, 0) ➞ 0\n",
    "'''\n",
    "#Code\n",
    "\n",
    "def cone_volume(h,r):\n",
    "    volume = (3.141592*r*r*h)/3\n",
    "    volume = round(volume,-2)\n",
    "    return volume\n",
    "\n",
    "if __name__ ==\"__main__\":\n",
    "    height  = int(input(\"Enter the height\"))\n",
    "    radius  = int(input(\"Enter the radius\"))\n",
    "    \n",
    "    result = cone_volume(height, radius)\n",
    "    print(\"Cone volume is {}\".format(result))\n",
    "\n"
   ]
  },
  {
   "cell_type": "code",
   "execution_count": 23,
   "id": "fa7c86a3",
   "metadata": {},
   "outputs": [
    {
     "name": "stdout",
     "output_type": "stream",
     "text": [
      "Enter the number215\n",
      "Number of dots is 23220\n"
     ]
    }
   ],
   "source": [
    "'''\n",
    "Question4\n",
    "This Triangular Number Sequence is generated from a pattern of dots that form a triangle. The first 5 numbers of the \n",
    "sequence, or dots, are: \n",
    "1, 3, 6, 10, 15\n",
    "This means that the first triangle has just one dot, the second one has three dots, the third one has 6 dots and so on.\n",
    "Write a function that gives the number of dots with its corresponding triangle number of the sequence.\n",
    "Examples\n",
    "triangle(1) ➞ 1\n",
    "\n",
    "triangle(6) ➞ 21\n",
    "\n",
    "triangle(215) ➞ 23220\n",
    "'''\n",
    "#Code\n",
    "\n",
    "def triangle(num):\n",
    "    \n",
    "    number_of_dots = 0\n",
    "    j=1\n",
    "    for i in range(num):\n",
    "        number_of_dots+=j\n",
    "        j+=1\n",
    "    return number_of_dots\n",
    "\n",
    "if __name__ ==\"__main__\":\n",
    "    num = int(input(\"Enter the number\"))\n",
    "    \n",
    "    result = triangle(num)\n",
    "    print(\"Number of dots is {}\".format(result))\n",
    "\n"
   ]
  },
  {
   "cell_type": "code",
   "execution_count": 27,
   "id": "b4d27d26",
   "metadata": {},
   "outputs": [
    {
     "name": "stdout",
     "output_type": "stream",
     "text": [
      "Enter the list[7, 2, 3, 6, 5, 9, 1, 4, 8]\n",
      "Missing Value is 10\n"
     ]
    }
   ],
   "source": [
    "'''\n",
    "Question5\n",
    "Create a function that takes a list of numbers between 1 and 10 (excluding one number) and returns the missing number.\n",
    "Examples\n",
    "missing_num([1, 2, 3, 4, 6, 7, 8, 9, 10]) ➞ 5\n",
    "\n",
    "missing_num([7, 2, 3, 6, 5, 9, 1, 4, 8]) ➞ 10\n",
    "\n",
    "missing_num([10, 5, 1, 2, 4, 6, 8, 3, 9]) ➞ 7\n",
    "\n",
    "'''\n",
    "#Code\n",
    "\n",
    "def missing_num(lst):\n",
    "    \n",
    "    for i in range(1,11):\n",
    "            if i not in lst:\n",
    "                return i\n",
    "\n",
    "if __name__ ==\"__main__\":\n",
    "    lst = eval(input(\"Enter the list\"))\n",
    "    \n",
    "    result = missing_num(lst)\n",
    "    \n",
    "    print(\"Missing Value is {}\".format(result))\n",
    "\n",
    "\n",
    "\n",
    "\n",
    "\n"
   ]
  },
  {
   "cell_type": "code",
   "execution_count": null,
   "id": "12cb8e67",
   "metadata": {},
   "outputs": [],
   "source": []
  }
 ],
 "metadata": {
  "kernelspec": {
   "display_name": "Python 3 (ipykernel)",
   "language": "python",
   "name": "python3"
  },
  "language_info": {
   "codemirror_mode": {
    "name": "ipython",
    "version": 3
   },
   "file_extension": ".py",
   "mimetype": "text/x-python",
   "name": "python",
   "nbconvert_exporter": "python",
   "pygments_lexer": "ipython3",
   "version": "3.9.12"
  }
 },
 "nbformat": 4,
 "nbformat_minor": 5
}
