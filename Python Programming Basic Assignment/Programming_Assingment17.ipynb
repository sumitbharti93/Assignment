{
 "cells": [
  {
   "cell_type": "markdown",
   "id": "e90f6a4d",
   "metadata": {},
   "source": [
    "# Programming_Assingment17"
   ]
  },
  {
   "cell_type": "code",
   "execution_count": 4,
   "id": "a90849c7",
   "metadata": {},
   "outputs": [
    {
     "name": "stdout",
     "output_type": "stream",
     "text": [
      "Enter the number a 1\n",
      "Enter the number b 10\n",
      "Enter the number c 20\n",
      "0\n"
     ]
    }
   ],
   "source": [
    "'''\n",
    "Question1. Create a function that takes three arguments a, b, c and returns the sum of the numbers that are evenly divided\n",
    "by c from the range a, b inclusive.\n",
    "Examples\n",
    "evenly_divisible(1, 10, 20) ➞ 0\n",
    "# No number between 1 and 10 can be evenly divided by 20.\n",
    "\n",
    "evenly_divisible(1, 10, 2) ➞ 30\n",
    "# 2 + 4 + 6 + 8 + 10 = 30\n",
    "\n",
    "evenly_divisible(1, 10, 3) ➞ 18\n",
    "# 3 + 6 + 9 = 18\n",
    "\n",
    "'''\n",
    "#Code\n",
    "\n",
    "def evenly_divisible(a,b,c):\n",
    "    sum=0\n",
    "    for i in range(a,b+1):\n",
    "        if i%c==0:\n",
    "            sum+=i\n",
    "    return sum\n",
    "\n",
    "if __name__==\"__main__\":\n",
    "    a = int(input('Enter the number a '))\n",
    "    b = int(input('Enter the number b '))\n",
    "    c = int(input('Enter the number c '))\n",
    "    result = evenly_divisible(a,b,c)\n",
    "    print(result)\n",
    "\n"
   ]
  },
  {
   "cell_type": "code",
   "execution_count": 8,
   "id": "1ab895cf",
   "metadata": {},
   "outputs": [
    {
     "name": "stdout",
     "output_type": "stream",
     "text": [
      "Enter the expression1 < 2 < 6 < 9 > 3\n",
      "True\n"
     ]
    }
   ],
   "source": [
    "'''\n",
    "Question2. Create a function that returns True if a given inequality expression is correct and False otherwise.\n",
    "Examples\n",
    "correct_signs(\"3 < 7 < 11\") ➞ True\n",
    "\n",
    "correct_signs(\"13 > 44 > 33 > 1\") ➞ False\n",
    "\n",
    "correct_signs(\"1 < 2 < 6 < 9 > 3\") ➞ True\n",
    "\n",
    "'''\n",
    "#Code\n",
    "\n",
    "def correct_signs(exp):\n",
    "    result = eval(exp)\n",
    "    return result\n",
    "\n",
    "if __name__==\"__main__\":\n",
    "    exp = input('Enter the expression')\n",
    "    result = correct_signs(exp)\n",
    "    print(result)\n",
    "\n",
    "\n",
    "\n"
   ]
  },
  {
   "cell_type": "code",
   "execution_count": 14,
   "id": "84cdfdea",
   "metadata": {},
   "outputs": [
    {
     "name": "stdout",
     "output_type": "stream",
     "text": [
      "Enter the stringshakespeare\n",
      "Enter the specified character*\n",
      "sh*k*sp**r*\n"
     ]
    }
   ],
   "source": [
    "'''\n",
    "Question3. Create a function that replaces all the vowels in a string with a specified character.\n",
    "Examples\n",
    "replace_vowels(\"the aardvark\", \"#\") ➞ \"th# ##rdv#rk\"\n",
    "\n",
    "replace_vowels(\"minnie mouse\", \"?\") ➞ \"m?nn?? m??s?\"\n",
    "\n",
    "replace_vowels(\"shakespeare\", \"*\") ➞ \"sh*k*sp**r*\"\n",
    "'''\n",
    "#Code\n",
    "\n",
    "def replace_vowels(st, specified_character):\n",
    "    vowel='aeiou'\n",
    "    for i in vowel:\n",
    "        for j in st:\n",
    "            if i==j:\n",
    "                st =st.replace(j, specified_character)\n",
    "    return st\n",
    "if __name__==\"__main__\":\n",
    "    st = input('Enter the string')\n",
    "    specified_character = input(\"Enter the specified character\")\n",
    "    result = replace_vowels(st,specified_character)\n",
    "    print(result)\n"
   ]
  },
  {
   "cell_type": "code",
   "execution_count": 17,
   "id": "821d9646",
   "metadata": {},
   "outputs": [
    {
     "name": "stdout",
     "output_type": "stream",
     "text": [
      "Enter the number6\n",
      "720\n"
     ]
    }
   ],
   "source": [
    "'''\n",
    "Question4. Write a function that calculates the factorial of a number recursively.\n",
    "Examples\n",
    "factorial(5) ➞ 120\n",
    "\n",
    "factorial(3) ➞ 6\n",
    "\n",
    "factorial(1) ➞ 1\n",
    "\n",
    "factorial(0) ➞ 1\n",
    "'''\n",
    "#Code\n",
    "\n",
    "def fact(n):\n",
    "    if n==1:\n",
    "        return 1\n",
    "    else:\n",
    "        return n*fact(n-1)\n",
    "    \n",
    "if __name__==\"__main__\":\n",
    "    num = int(input('Enter the number'))\n",
    "    result = fact(num)\n",
    "    print(result)\n"
   ]
  },
  {
   "cell_type": "code",
   "execution_count": 33,
   "id": "e115379a",
   "metadata": {},
   "outputs": [
    {
     "name": "stdout",
     "output_type": "stream",
     "text": [
      "Enter the first string1 abcde\n",
      "Enter the second string2 bcdef\n",
      "5\n"
     ]
    }
   ],
   "source": [
    "'''\n",
    "Question 5\n",
    "Hamming distance is the number of characters that differ between two strings.\n",
    "To illustrate:\n",
    "String1: \"abcbba\"\n",
    "String2: \"abcbda\"\n",
    "\n",
    "Hamming Distance: 1 - \"b\" vs. \"d\" is the only difference.\n",
    "Create a function that computes the hamming distance between two strings.\n",
    "Examples\n",
    "hamming_distance(\"abcde\", \"bcdef\") ➞ 5\n",
    "\n",
    "hamming_distance(\"abcde\", \"abcde\") ➞ 0\n",
    "\n",
    "hamming_distance(\"strong\", \"strung\") ➞ 1\n",
    "\n",
    "'''\n",
    "#Code\n",
    "\n",
    "def hamming_distance(st1,st2):\n",
    "    ham_distance=0\n",
    "    j=0\n",
    "    for i in range(len(st1)):\n",
    "        ham_distance+=abs(ord(st2[j])-ord(st1[i]))\n",
    "        j+=1\n",
    "    return ham_distance\n",
    "\n",
    "\n",
    "if __name__==\"__main__\":\n",
    "    st1 = input('Enter the first string1 ')\n",
    "    st2 = input('Enter the second string2 ')\n",
    "    result = hamming_distance(st1,st2)\n",
    "    print(result)\n",
    "\n",
    "        \n"
   ]
  },
  {
   "cell_type": "code",
   "execution_count": null,
   "id": "f44ddc21",
   "metadata": {},
   "outputs": [],
   "source": []
  }
 ],
 "metadata": {
  "kernelspec": {
   "display_name": "Python 3 (ipykernel)",
   "language": "python",
   "name": "python3"
  },
  "language_info": {
   "codemirror_mode": {
    "name": "ipython",
    "version": 3
   },
   "file_extension": ".py",
   "mimetype": "text/x-python",
   "name": "python",
   "nbconvert_exporter": "python",
   "pygments_lexer": "ipython3",
   "version": "3.9.12"
  }
 },
 "nbformat": 4,
 "nbformat_minor": 5
}
