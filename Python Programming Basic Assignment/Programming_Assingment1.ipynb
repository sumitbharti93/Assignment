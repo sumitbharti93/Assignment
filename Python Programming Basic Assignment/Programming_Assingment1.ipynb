{
 "cells": [
  {
   "cell_type": "code",
   "execution_count": 1,
   "id": "fc0b97b8",
   "metadata": {},
   "outputs": [
    {
     "name": "stdout",
     "output_type": "stream",
     "text": [
      "Hello Python\n"
     ]
    }
   ],
   "source": [
    "# 1. Write a Python program to print \"Hello Python\"?\n",
    "\n",
    "#Code\n",
    "\n",
    "def print_function():\n",
    "    print('Hello Python')\n",
    "\n",
    "print_function()\n"
   ]
  },
  {
   "cell_type": "code",
   "execution_count": 12,
   "id": "7a0b672a",
   "metadata": {},
   "outputs": [
    {
     "name": "stdout",
     "output_type": "stream",
     "text": [
      "Enter the first element12\n",
      "Enter the second element12\n",
      "sum of the given element is 24\n",
      "division of the given element is 1.0\n"
     ]
    }
   ],
   "source": [
    "# 2.Write a Python program to do arithmetical operations addition and division.?\n",
    "\n",
    "#Code\n",
    "\n",
    "def fun_add_div(a,b):\n",
    "    print(f'sum of the given element is {a+b}')\n",
    "    print(f'division of the given element is {a/b}')\n",
    "a = int(input(\"Enter the first element\")) \n",
    "b = int(input(\"Enter the second element\"))\n",
    "fun_add_div(a,b)\n"
   ]
  },
  {
   "cell_type": "code",
   "execution_count": 9,
   "id": "a76d2321",
   "metadata": {},
   "outputs": [
    {
     "name": "stdout",
     "output_type": "stream",
     "text": [
      "Enter the base 12\n",
      "Enter the height 4\n",
      "area of the given triangle of base 12 and height 4 is 24.0\n"
     ]
    }
   ],
   "source": [
    "# 3.Write a Python program to find the area of a triangle?\n",
    "\n",
    "# Code\n",
    "\n",
    "def area_triangle(base,height):\n",
    "    area = (1/2)*base*height\n",
    "    print(f'area of the given triangle of base {base} and height {height} is {area}')\n",
    "    \n",
    "base = int(input(\"Enter the base \"))\n",
    "height = int(input(\"Enter the height \"))\n",
    "\n",
    "area_triangle(base,height)"
   ]
  },
  {
   "cell_type": "code",
   "execution_count": 16,
   "id": "72363b20",
   "metadata": {},
   "outputs": [
    {
     "name": "stdout",
     "output_type": "stream",
     "text": [
      "Enter the first variable 12\n",
      "Enter the second variable 56\n",
      "The first variable is 56\n",
      "The second variable is 12\n"
     ]
    }
   ],
   "source": [
    "# 4. Write a Python program to swap two variables?\n",
    "\n",
    "def fun_swap(a,b):\n",
    "    temp = a\n",
    "    a=b\n",
    "    b=temp\n",
    "    return a, b\n",
    "\n",
    "a = int(input(\"Enter the first variable \"))\n",
    "b = int(input(\"Enter the second variable \"))\n",
    "\n",
    "a,b = fun_swap(a,b)\n",
    "print(f'The first variable is {a}')\n",
    "print(f'The second variable is {b}')\n"
   ]
  },
  {
   "cell_type": "code",
   "execution_count": null,
   "id": "aa27813d",
   "metadata": {},
   "outputs": [],
   "source": [
    "# 5. Write a Python program to generate a random number?\n",
    "\n",
    "#Code \n",
    "\n",
    "import numpy as np\n",
    "def fun_random_number():\n",
    "    a = np.random.rand()\n",
    "    print(a)\n",
    "fun_random_number()\n"
   ]
  },
  {
   "cell_type": "code",
   "execution_count": null,
   "id": "fea884ad",
   "metadata": {},
   "outputs": [],
   "source": []
  }
 ],
 "metadata": {
  "kernelspec": {
   "display_name": "Python 3 (ipykernel)",
   "language": "python",
   "name": "python3"
  },
  "language_info": {
   "codemirror_mode": {
    "name": "ipython",
    "version": 3
   },
   "file_extension": ".py",
   "mimetype": "text/x-python",
   "name": "python",
   "nbconvert_exporter": "python",
   "pygments_lexer": "ipython3",
   "version": "3.9.12"
  }
 },
 "nbformat": 4,
 "nbformat_minor": 5
}
