{
 "cells": [
  {
   "cell_type": "markdown",
   "id": "9d2d9855",
   "metadata": {},
   "source": [
    "# Programming_Assingment25"
   ]
  },
  {
   "cell_type": "code",
   "execution_count": 4,
   "id": "19c432a8",
   "metadata": {},
   "outputs": [
    {
     "name": "stdout",
     "output_type": "stream",
     "text": [
      "Enter the numbers (1,1,1)\n",
      "3\n"
     ]
    }
   ],
   "source": [
    "'''\n",
    "Question1\n",
    "Create a function that takes three integer arguments (a, b, c) and returns the amount of integers which are of equal value.\n",
    "Examples\n",
    "equal(3, 4, 3) ➞ 2\n",
    "\n",
    "equal(1, 1, 1) ➞ 3\n",
    "\n",
    "equal(3, 4, 1) ➞ 0 \n",
    "Notes\n",
    "Your function must return 0, 2 or 3.\n",
    "'''\n",
    "#Code\n",
    "\n",
    "def equal(a,b,c):\n",
    "    if a==b:\n",
    "        if a==c:\n",
    "            return 3\n",
    "        else:\n",
    "            return 2\n",
    "    elif a==c:\n",
    "        return 2\n",
    "    elif b==c:\n",
    "        return 2\n",
    "    else:\n",
    "        return 0\n",
    "\n",
    "if __name__== \"__main__\":\n",
    "    a,b,c = eval(input('Enter the numbers '))\n",
    "    result = equal(a,b,c)\n",
    "    print(result)\n"
   ]
  },
  {
   "cell_type": "code",
   "execution_count": 15,
   "id": "0773f9ed",
   "metadata": {},
   "outputs": [
    {
     "name": "stdout",
     "output_type": "stream",
     "text": [
      "Enter the numbers ({   \"D\": 1,   \"B\": 2,   \"C\": 3 })\n",
      "[('B', 2), ('C', 3), ('D', 1)]\n"
     ]
    }
   ],
   "source": [
    "'''\n",
    "Question2\n",
    "Write a function that converts a dictionary into a list of keys-values tuples.\n",
    "Examples\n",
    "dict_to_list({\n",
    "  \"D\": 1,\n",
    "  \"B\": 2,\n",
    "  \"C\": 3\n",
    "}) ➞ [(\"B\", 2), (\"C\", 3), (\"D\", 1)]\n",
    "\n",
    "dict_to_list({\n",
    "  \"likes\": 2,\n",
    "  \"dislikes\": 3,\n",
    "  \"followers\": 10\n",
    "}) ➞ [(\"dislikes\", 3), (\"followers\", 10), (\"likes\", 2)]\n",
    "Notes\n",
    "Return the elements in the list in alphabetical order.\n",
    "\n",
    "'''\n",
    "\n",
    "#Code\n",
    "\n",
    "def dict_to_list(dt):\n",
    "    lst = []\n",
    "    keys = sorted(dt.keys())\n",
    "    for i in keys:\n",
    "        d = (i,dt[i])\n",
    "        lst.append(d)\n",
    "    return lst\n",
    "\n",
    "if __name__== \"__main__\":\n",
    "    dt = eval(input('Enter the numbers '))\n",
    "    result = dict_to_list(dt)\n",
    "    print(result)\n",
    "\n"
   ]
  },
  {
   "cell_type": "code",
   "execution_count": 19,
   "id": "811e5843",
   "metadata": {},
   "outputs": [
    {
     "name": "stdout",
     "output_type": "stream",
     "text": [
      "Enter the list [\"a\", \"v\", \"y\", \"z\"]\n",
      "{'a': 'A', 'v': 'V', 'y': 'Y', 'z': 'Z'}\n"
     ]
    }
   ],
   "source": [
    "'''\n",
    "Question3\n",
    "Write a function that creates a dictionary with each (key, value) pair being the (lower case, upper case) versions of a \n",
    "letter, respectively.\n",
    "Examples\n",
    "mapping([\"p\", \"s\"]) ➞ { \"p\": \"P\", \"s\": \"S\" }\n",
    "\n",
    "mapping([\"a\", \"b\", \"c\"]) ➞ { \"a\": \"A\", \"b\": \"B\", \"c\": \"C\" }\n",
    "\n",
    "mapping([\"a\", \"v\", \"y\", \"z\"]) ➞ { \"a\": \"A\", \"v\": \"V\", \"y\": \"Y\", \"z\": \"Z\" }\n",
    "Notes\n",
    "All of the letters in the input list will always be lowercase.\n",
    "\n",
    "'''\n",
    "#Code\n",
    "\n",
    "def mapping(lst):\n",
    "    d = {}\n",
    "    for i in lst:\n",
    "        d[i]=i.upper()\n",
    "    return d\n",
    "\n",
    "if __name__== \"__main__\":\n",
    "    lst = eval(input('Enter the list '))\n",
    "    result = mapping(lst)\n",
    "    print(result)\n",
    "\n"
   ]
  },
  {
   "cell_type": "code",
   "execution_count": 22,
   "id": "af21c90d",
   "metadata": {},
   "outputs": [
    {
     "name": "stdout",
     "output_type": "stream",
     "text": [
      "Enter the string and specified vowel(\"cheese casserole\", \"o\")\n",
      "chooso cossorolo\n"
     ]
    }
   ],
   "source": [
    "'''\n",
    "Question4\n",
    "Write a function, that replaces all vowels in a string with a specified vowel.\n",
    "Examples\n",
    "vow_replace(\"apples and bananas\", \"u\") ➞ \"upplus und bununus\"\n",
    "\n",
    "vow_replace(\"cheese casserole\", \"o\") ➞ \"chooso cossorolo\"\n",
    "\n",
    "vow_replace(\"stuffed jalapeno poppers\", \"e\") ➞ \"steffed jelepene peppers\"\n",
    "Notes\n",
    "All words will be lowercase. Y is not considered a vowel.\n",
    "'''\n",
    "#Code\n",
    "\n",
    "def vow_replace(st, specified_vowel):\n",
    "    #lst_st = list(st)\n",
    "    vowel = 'aeiou'\n",
    "    for i in vowel:\n",
    "        for j in st:\n",
    "            if i== j:\n",
    "                st = st.replace(j, specified_vowel)\n",
    "    return st\n",
    "\n",
    "\n",
    "if __name__== \"__main__\":\n",
    "    st,specified_vowel = eval(input('Enter the string and specified vowel'))\n",
    "    result = vow_replace(st,specified_vowel)\n",
    "    print(result)\n"
   ]
  },
  {
   "cell_type": "code",
   "execution_count": 24,
   "id": "9ed28e8e",
   "metadata": {},
   "outputs": [
    {
     "name": "stdout",
     "output_type": "stream",
     "text": [
      "Enter the stringOh what a beautiful morning.\n",
      "oH wHaT a BeauTiFuL moRNiNg.\n"
     ]
    }
   ],
   "source": [
    "'''\n",
    "Question5\n",
    "Create a function that takes a string as input and capitalizes a letter if its ASCII code is even and returns its \n",
    "lower case version if its ASCII code is odd.\n",
    "Examples\n",
    "ascii_capitalize(\"to be or not to be!\") ➞ \"To Be oR NoT To Be!\"\n",
    "\n",
    "ascii_capitalize(\"THE LITTLE MERMAID\") ➞ \"THe LiTTLe meRmaiD\"\n",
    "\n",
    "ascii_capitalize(\"Oh what a beautiful morning.\") ➞ \"oH wHaT a BeauTiFuL moRNiNg.\"\n",
    "\n",
    "'''\n",
    "def ascii_capitalize(st):\n",
    "    for i in st:\n",
    "        if ord(i)%2==0:\n",
    "            st = st.replace(i,i.upper())\n",
    "        else:\n",
    "            st = st.replace(i,i.lower())\n",
    "\n",
    "    return st\n",
    "\n",
    "\n",
    "\n",
    "if __name__== \"__main__\":\n",
    "    st =  input('Enter the string')\n",
    "    result = ascii_capitalize(st)\n",
    "    print(result)\n"
   ]
  },
  {
   "cell_type": "code",
   "execution_count": null,
   "id": "52fb43a1",
   "metadata": {},
   "outputs": [],
   "source": []
  }
 ],
 "metadata": {
  "kernelspec": {
   "display_name": "Python 3 (ipykernel)",
   "language": "python",
   "name": "python3"
  },
  "language_info": {
   "codemirror_mode": {
    "name": "ipython",
    "version": 3
   },
   "file_extension": ".py",
   "mimetype": "text/x-python",
   "name": "python",
   "nbconvert_exporter": "python",
   "pygments_lexer": "ipython3",
   "version": "3.9.12"
  }
 },
 "nbformat": 4,
 "nbformat_minor": 5
}
