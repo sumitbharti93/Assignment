{
 "cells": [
  {
   "cell_type": "markdown",
   "id": "a541e216",
   "metadata": {},
   "source": [
    "# Programming_Assingment19"
   ]
  },
  {
   "cell_type": "code",
   "execution_count": 4,
   "id": "a939f2e8",
   "metadata": {},
   "outputs": [
    {
     "name": "stdout",
     "output_type": "stream",
     "text": [
      "Enter the string1234!_\n",
      "11223344!!__\n"
     ]
    }
   ],
   "source": [
    "'''\n",
    "Question1\n",
    "Create a function that takes a string and returns a string in which each character is repeated once.\n",
    "Examples\n",
    "double_char(\"String\") ➞ \"SSttrriinngg\"\n",
    "\n",
    "double_char(\"Hello World!\") ➞ \"HHeelllloo  WWoorrlldd!!\"\n",
    "\n",
    "double_char(\"1234!_ \") ➞ \"11223344!!__  \"\n",
    "\n",
    "'''\n",
    "#Code\n",
    "\n",
    "def double_char(st):\n",
    "    new_st=\"\"\n",
    "    for i in st:\n",
    "        new_st+=i+i\n",
    "    return new_st\n",
    "\n",
    "if __name__==\"__main__\":\n",
    "    st = input(\"Enter the string\")\n",
    "    result = double_char(st)\n",
    "    print(result)\n"
   ]
  },
  {
   "cell_type": "code",
   "execution_count": 16,
   "id": "444a881c",
   "metadata": {},
   "outputs": [
    {
     "name": "stdout",
     "output_type": "stream",
     "text": [
      "Enter the string : false\n",
      "True\n"
     ]
    }
   ],
   "source": [
    "'''\n",
    "Question2\n",
    "Create a function that reverses a boolean value and returns the string \"boolean expected\" if another variable type is\n",
    "given.\n",
    "Examples\n",
    "reverse(True) ➞ False\n",
    "\n",
    "reverse(False) ➞ True\n",
    "\n",
    "reverse(0) ➞ \"boolean expected\"\n",
    "\n",
    "reverse(None) ➞ \"boolean expected\"\n",
    "\n",
    "'''\n",
    "\n",
    "#Code\n",
    "\n",
    "def reverse(boolean):\n",
    "    if boolean.lower()=='true':\n",
    "        return False\n",
    "    elif boolean.lower()=='false':\n",
    "        return True\n",
    "    else:\n",
    "        return 'boolean expected '\n",
    "\n",
    "if __name__==\"__main__\":\n",
    "    boolean = input(\"Enter the string : \")\n",
    "    result = reverse(boolean)\n",
    "    print(result)\n",
    "    \n",
    "\n",
    "\n"
   ]
  },
  {
   "cell_type": "code",
   "execution_count": 24,
   "id": "33c5e5d1",
   "metadata": {},
   "outputs": [
    {
     "name": "stdout",
     "output_type": "stream",
     "text": [
      "Enter the number of layers : 21\n",
      "Total thickness is  1048.576 m\n"
     ]
    }
   ],
   "source": [
    "'''\n",
    "Question3\n",
    "Create a function that returns the thickness (in meters) of a piece of paper after folding it n number of times. The paper starts off with a thickness of 0.5mm.\n",
    "Examples\n",
    "num_layers(1) ➞ \"0.001m\"\n",
    "# Paper folded once is 1mm (equal to 0.001m)\n",
    "\n",
    "num_layers(4) ➞ \"0.008m\"\n",
    "# Paper folded 4 times is 8mm (equal to 0.008m)\n",
    "\n",
    "num_layers(21) ➞ \"1048.576m\"\n",
    "# Paper folded 21 times is 1048576mm (equal to 1048.576m)\n",
    "\n",
    "'''\n",
    "#Code\n",
    "\n",
    "def num_layers(num):\n",
    "    basic_thickness = 0.001\n",
    "    total_thickness = 0.001*(2**(num-1))\n",
    "    return total_thickness\n",
    "\n",
    "if __name__==\"__main__\":\n",
    "    num = int(input(\"Enter the number of layers : \"))\n",
    "    result = num_layers(num)\n",
    "    print(\"Total thickness is \", result,'m')\n",
    "    \n"
   ]
  },
  {
   "cell_type": "code",
   "execution_count": 30,
   "id": "f109071b",
   "metadata": {},
   "outputs": [
    {
     "name": "stdout",
     "output_type": "stream",
     "text": [
      "Enter the string : eQuINoX\n",
      "Index of all capital letters is  [1, 3, 4, 6]\n"
     ]
    }
   ],
   "source": [
    "'''\n",
    "Question4\n",
    "Create a function that takes a single string as argument and returns an ordered list containing the indices of all capital \n",
    "letters in the string.\n",
    "Examples\n",
    "index_of_caps(\"eDaBiT\") ➞ [1, 3, 5]\n",
    "\n",
    "index_of_caps(\"eQuINoX\") ➞ [1, 3, 4, 6]\n",
    "\n",
    "index_of_caps(\"determine\") ➞ []\n",
    "\n",
    "index_of_caps(\"STRIKE\") ➞ [0, 1, 2, 3, 4, 5]\n",
    "\n",
    "index_of_caps(\"sUn\") ➞ [1]\n",
    "\n",
    "'''\n",
    "#Code\n",
    "\n",
    "def index_of_caps(st):\n",
    "    l = []\n",
    "    for i in range(len(st)):\n",
    "        if st[i].isupper():\n",
    "            l.append(i)\n",
    "    return l\n",
    "\n",
    "if __name__==\"__main__\":\n",
    "    st = input(\"Enter the string : \")\n",
    "    result = index_of_caps(st)\n",
    "    print(\"Index of all capital letters is \", result)\n",
    "    \n",
    "    "
   ]
  },
  {
   "cell_type": "code",
   "execution_count": 33,
   "id": "9adee0fa",
   "metadata": {},
   "outputs": [
    {
     "name": "stdout",
     "output_type": "stream",
     "text": [
      "Enter the number : 8\n",
      "List of even number is  [2, 4, 6, 8]\n"
     ]
    }
   ],
   "source": [
    "'''\n",
    "Question5\n",
    "Using list comprehensions, create a function that finds all even numbers from 1 to the given number.\n",
    "Examples\n",
    "find_even_nums(8) ➞ [2, 4, 6, 8]\n",
    "\n",
    "find_even_nums(4) ➞ [2, 4]\n",
    "\n",
    "find_even_nums(2) ➞ [2]\n",
    "\n",
    "'''\n",
    "#Code\n",
    "\n",
    "\n",
    "def find_even_nums(num):\n",
    "    even_num = [i for i in range(1,num+1) if i%2==0]\n",
    "    return even_num\n",
    "    \n",
    "if __name__==\"__main__\":\n",
    "    num = int(input(\"Enter the number : \"))\n",
    "    result = find_even_nums(num)\n",
    "    print(\"List of even number is \", result)\n",
    "\n"
   ]
  },
  {
   "cell_type": "code",
   "execution_count": null,
   "id": "34c5ff65",
   "metadata": {},
   "outputs": [],
   "source": []
  },
  {
   "cell_type": "code",
   "execution_count": null,
   "id": "18b8e176",
   "metadata": {},
   "outputs": [],
   "source": []
  },
  {
   "cell_type": "code",
   "execution_count": null,
   "id": "2764c357",
   "metadata": {},
   "outputs": [],
   "source": []
  }
 ],
 "metadata": {
  "kernelspec": {
   "display_name": "Python 3 (ipykernel)",
   "language": "python",
   "name": "python3"
  },
  "language_info": {
   "codemirror_mode": {
    "name": "ipython",
    "version": 3
   },
   "file_extension": ".py",
   "mimetype": "text/x-python",
   "name": "python",
   "nbconvert_exporter": "python",
   "pygments_lexer": "ipython3",
   "version": "3.9.12"
  }
 },
 "nbformat": 4,
 "nbformat_minor": 5
}
