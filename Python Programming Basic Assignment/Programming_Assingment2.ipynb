{
 "cells": [
  {
   "cell_type": "code",
   "execution_count": 2,
   "id": "85c68c7f",
   "metadata": {},
   "outputs": [
    {
     "name": "stdout",
     "output_type": "stream",
     "text": [
      "Enter the distance in kms 20\n",
      "The distance in miles is 12.4274238\n"
     ]
    }
   ],
   "source": [
    "# 1. Write a Python program to convert kilometers to miles?\n",
    "\n",
    "#Code\n",
    "\n",
    "def fun_km_ml(dist_km):\n",
    "    dist_ml = dist_km*0.62137119\n",
    "    print(f'The distance in miles is {dist_ml}')\n",
    "\n",
    "dist_km = int(input('Enter the distance in kms '))\n",
    "\n",
    "fun_km_ml(dist_km)\n",
    "\n"
   ]
  },
  {
   "cell_type": "code",
   "execution_count": 4,
   "id": "3fef3d46",
   "metadata": {},
   "outputs": [
    {
     "name": "stdout",
     "output_type": "stream",
     "text": [
      "Enter the temperature in degree celcius 10\n",
      "Temperature in fahrenheit is 50.0\n"
     ]
    }
   ],
   "source": [
    "# 2. Write a Python program to convert Celsius to Fahrenheit?\n",
    "\n",
    "def fun_cl_to_fah(deg_cl):\n",
    "    deg_fh = (deg_cl*(9/5))+32\n",
    "    print(f'Temperature in fahrenheit is {deg_fh}')\n",
    "\n",
    "deg_cl = int(input('Enter the temperature in degree celcius '))\n",
    "\n",
    "fun_cl_to_fah(deg_cl)\n",
    "\n"
   ]
  },
  {
   "cell_type": "code",
   "execution_count": null,
   "id": "81abfe4c",
   "metadata": {},
   "outputs": [],
   "source": [
    "# 3.Write a Python program to display calendar?\n",
    "#Code\n",
    "\n",
    "import calender \n",
    "\n",
    "def func_display_calender(yy, mm):\n",
    "    print(calender.month(year,mm))\n",
    "    \n",
    "yy = int(input('Enter the year '))\n",
    "mm = int(input('Enter the month '))\n",
    "\n",
    "func_display_calender(yy,mm)"
   ]
  },
  {
   "cell_type": "code",
   "execution_count": 19,
   "id": "43bd2fd6",
   "metadata": {},
   "outputs": [
    {
     "name": "stdout",
     "output_type": "stream",
     "text": [
      "enter the coefficient of quadratic equation a,b, c of ax^2+bx+c\n",
      "Enter the value of a excluding zero1\n",
      "Enter the value of b -5\n",
      "enter the value of c -6\n",
      "roots of the given quadratic quation are 6.0 and -1.0\n"
     ]
    }
   ],
   "source": [
    "# 4. Write a Python program to solve quadratic equation?\n",
    "#Code\n",
    "from math import sqrt\n",
    "\n",
    "def fun_quad(a,b,c):\n",
    "    d = ((b*b)-(4*a*c))\n",
    "    \n",
    "    root1 = (-b+sqrt(d))/(2*a)\n",
    "    root2 = (-b-sqrt(d))/(2*a)\n",
    "    print(f'roots of the given quadratic quation are {root1} and {root2}')\n",
    "    \n",
    "print(\"enter the coefficient of quadratic equation a,b, c of ax^2+bx+c\")\n",
    "\n",
    "a  = int(input(\"Enter the value of a excluding zero\"))\n",
    "b = int(input(\"Enter the value of b \"))\n",
    "c = int(input(\"enter the value of c \"))\n",
    "\n",
    "fun_quad(a,b,c)"
   ]
  },
  {
   "cell_type": "code",
   "execution_count": 35,
   "id": "349dd01a",
   "metadata": {},
   "outputs": [
    {
     "name": "stdout",
     "output_type": "stream",
     "text": [
      "Enter the value of a 12\n",
      "Enter the value of b 20\n",
      "Value of a and b after swap is 20  12\n"
     ]
    }
   ],
   "source": [
    "# 5. Write a Python program to swap two variables without temp variable?\n",
    "# Code \n",
    "\n",
    "def fun_swap(a,b):\n",
    "    a,b = b,a\n",
    "    print(\"Value of a and b after swap is %d  %d\" %(a,b))\n",
    "    \n",
    "a = int(input(\"Enter the value of a \"))\n",
    "b = int(input(\"Enter the value of b \"))\n",
    "fun_swap(a,b)\n",
    "\n"
   ]
  },
  {
   "cell_type": "code",
   "execution_count": null,
   "id": "c7a7feea",
   "metadata": {},
   "outputs": [],
   "source": []
  },
  {
   "cell_type": "code",
   "execution_count": null,
   "id": "00eb5f2e",
   "metadata": {},
   "outputs": [],
   "source": []
  }
 ],
 "metadata": {
  "kernelspec": {
   "display_name": "Python 3 (ipykernel)",
   "language": "python",
   "name": "python3"
  },
  "language_info": {
   "codemirror_mode": {
    "name": "ipython",
    "version": 3
   },
   "file_extension": ".py",
   "mimetype": "text/x-python",
   "name": "python",
   "nbconvert_exporter": "python",
   "pygments_lexer": "ipython3",
   "version": "3.9.12"
  }
 },
 "nbformat": 4,
 "nbformat_minor": 5
}
