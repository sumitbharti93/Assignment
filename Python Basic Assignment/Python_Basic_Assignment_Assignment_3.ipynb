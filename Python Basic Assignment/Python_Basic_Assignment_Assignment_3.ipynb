{
 "cells": [
  {
   "cell_type": "code",
   "execution_count": null,
   "id": "a2a97cb6",
   "metadata": {},
   "outputs": [],
   "source": [
    "1. Why are functions advantageous to have in your programs?\n",
    "Ans - \n",
    "Advantages for having functions in the program. \n",
    "\n",
    "1. Increases readability. \n",
    "2. Increases reusability of the code. \n",
    "3. Decreases complexity of the code. \n",
    "4. Decreases size of the program. \n"
   ]
  },
  {
   "cell_type": "code",
   "execution_count": null,
   "id": "dd7b7856",
   "metadata": {},
   "outputs": [],
   "source": [
    "2. When does the code in a function run: when it's specified or when it's called?\n",
    "    \n",
    "Ans -\n",
    "Function runs when it is called. \n",
    "    "
   ]
  },
  {
   "cell_type": "code",
   "execution_count": null,
   "id": "b59f2b43",
   "metadata": {},
   "outputs": [],
   "source": [
    "3. What statement creates a function?\n",
    "\n",
    "Ans - \n",
    "def function_name():\n",
    "    function definition \n"
   ]
  },
  {
   "cell_type": "code",
   "execution_count": null,
   "id": "cb539679",
   "metadata": {},
   "outputs": [],
   "source": [
    "4. What is the difference between a function and a function call?\n",
    "Ans - \n",
    "A function is a set of programs/codes/instructions which can ne reused when needed while function call is implemented when we need the\n",
    "function to perform the desired task. \n"
   ]
  },
  {
   "cell_type": "code",
   "execution_count": null,
   "id": "162bd145",
   "metadata": {},
   "outputs": [],
   "source": [
    "5. How many global scopes are there in a Python program? How many local scopes?\n",
    "\n",
    "Ans - \n",
    "There is only one global scope in  Python program.\n",
    "while local scopes is not fixed. It depends on the programmer to decide the number of local scopes based on the requirement. \n",
    "It can ne anything\n"
   ]
  },
  {
   "cell_type": "code",
   "execution_count": null,
   "id": "184d34f0",
   "metadata": {},
   "outputs": [],
   "source": [
    "6. What happens to variables in a local scope when the function call returns?\n",
    "Ans - \n",
    "Variables in a local scope gets destoyed when the function call returns. It gets created when the program control eneters \n",
    "the function and it gets destroyed when function call returns.\n"
   ]
  },
  {
   "cell_type": "code",
   "execution_count": null,
   "id": "799ca5a3",
   "metadata": {},
   "outputs": [],
   "source": [
    "7. What is the concept of a return value? Is it possible to have a return value in an expression?\n",
    "Ans - \n",
    "return statement is used to pass value when function is called. It is also used to end the execution of the function. \n",
    "Statement written after function return statement cannot be executed. \n",
    "\n",
    "An expression cannot have return value."
   ]
  },
  {
   "cell_type": "code",
   "execution_count": null,
   "id": "3c32fde4",
   "metadata": {},
   "outputs": [],
   "source": [
    "8. If a function does not have a return statement, what is the return value of a call to that function?\n",
    "\n",
    "Ans - \n",
    "None"
   ]
  },
  {
   "cell_type": "code",
   "execution_count": null,
   "id": "dc27bdde",
   "metadata": {},
   "outputs": [],
   "source": [
    "9. How do you make a function variable refer to the global variable?\n",
    "\n",
    "Ans. We can use the global keyword for the variable inside the function to make it behave as a global variable. \n"
   ]
  },
  {
   "cell_type": "code",
   "execution_count": null,
   "id": "9f59cb5c",
   "metadata": {},
   "outputs": [],
   "source": [
    "10. What is the data type of None?\n",
    "Ans - \n",
    "NoneType"
   ]
  },
  {
   "cell_type": "code",
   "execution_count": null,
   "id": "3955672d",
   "metadata": {},
   "outputs": [],
   "source": [
    "11. What does the sentence import areallyourpetsnamederic do?\n",
    "Ans - \n",
    "\n",
    "It imports the the package/module named areallyourpetsnamederic to the current module. "
   ]
  },
  {
   "cell_type": "code",
   "execution_count": null,
   "id": "7c876d61",
   "metadata": {},
   "outputs": [],
   "source": [
    "12. If you had a bacon() feature in a spam module, what would you call it after importing spam?\n",
    "Ans- \n",
    "\n",
    "spam.bacon()\n"
   ]
  },
  {
   "cell_type": "code",
   "execution_count": null,
   "id": "ded7a615",
   "metadata": {},
   "outputs": [],
   "source": [
    "13. What can you do to save a programme from crashing if it encounters an error?\n",
    "\n",
    "Ans - \n",
    "we can write the program inside try and except block. Whenever any error will occur inside try block except block will\n",
    "catch the error and it will save the program from crashing. \n"
   ]
  },
  {
   "cell_type": "code",
   "execution_count": null,
   "id": "088bcc47",
   "metadata": {},
   "outputs": [],
   "source": [
    "14. What is the purpose of the try clause? What is the purpose of the except clause?\n",
    "Ans:\n",
    "try clause : we write the executable code inside the try block. \n",
    "except clause - It catches the error inside the except clause. "
   ]
  },
  {
   "cell_type": "code",
   "execution_count": null,
   "id": "86024a66",
   "metadata": {},
   "outputs": [],
   "source": []
  }
 ],
 "metadata": {
  "kernelspec": {
   "display_name": "Python 3 (ipykernel)",
   "language": "python",
   "name": "python3"
  },
  "language_info": {
   "codemirror_mode": {
    "name": "ipython",
    "version": 3
   },
   "file_extension": ".py",
   "mimetype": "text/x-python",
   "name": "python",
   "nbconvert_exporter": "python",
   "pygments_lexer": "ipython3",
   "version": "3.9.12"
  }
 },
 "nbformat": 4,
 "nbformat_minor": 5
}
