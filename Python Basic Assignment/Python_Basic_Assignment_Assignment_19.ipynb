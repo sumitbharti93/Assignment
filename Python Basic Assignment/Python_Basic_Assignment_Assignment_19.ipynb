{
 "cells": [
  {
   "cell_type": "markdown",
   "id": "1aa4b20b",
   "metadata": {},
   "source": [
    "# Python_Basic_Assignment_Assignment_19"
   ]
  },
  {
   "cell_type": "code",
   "execution_count": 3,
   "id": "4d5be315",
   "metadata": {},
   "outputs": [
    {
     "name": "stdout",
     "output_type": "stream",
     "text": [
      "<class '__main__.Thing'>\n",
      "<__main__.Thing object at 0x00000293E584A190>\n"
     ]
    }
   ],
   "source": [
    "'''1. Make a class called Thing with no contents and print it. Then, create an object called example from this class and \n",
    "also print it. Are the printed values the same or different?'''\n",
    "\n",
    "class Thing:\n",
    "    pass\n",
    "print(Thing)\n",
    "\n",
    "thing_obj = Thing()\n",
    "print(thing_obj)\n",
    "\n",
    "when we will print class , it will print the class name , but when we will print object, then we will print \n"
   ]
  },
  {
   "cell_type": "code",
   "execution_count": 4,
   "id": "4ddfe21c",
   "metadata": {},
   "outputs": [
    {
     "name": "stdout",
     "output_type": "stream",
     "text": [
      "abc\n"
     ]
    }
   ],
   "source": [
    "# 2. Create a new class called Thing2 and add the value 'abc' to the letters class attribute. Letters should be printed.\n",
    "#Code\n",
    "\n",
    "class Thing2:\n",
    "    letters = 'abc'\n",
    "print(Thing2.letters)"
   ]
  },
  {
   "cell_type": "code",
   "execution_count": 12,
   "id": "0d681ece",
   "metadata": {},
   "outputs": [
    {
     "data": {
      "text/plain": [
       "'xyz'"
      ]
     },
     "execution_count": 12,
     "metadata": {},
     "output_type": "execute_result"
    }
   ],
   "source": [
    "'''3. Make yet another class called, of course, Thing3. This time, assign the value 'xyz' to an instance (object) attribute\n",
    "called letters. Print letters. Do you need to make an object from the class to do this?'''\n",
    "#Code\n",
    "class Thing3:\n",
    "    def __init__(self,letters):\n",
    "        self.letters = letters\n",
    "obj = Thing3('xyz')\n",
    "obj.letters"
   ]
  },
  {
   "cell_type": "code",
   "execution_count": 13,
   "id": "b20372f9",
   "metadata": {},
   "outputs": [
    {
     "name": "stdout",
     "output_type": "stream",
     "text": [
      "Hydrogen\n",
      "H,\n",
      "1\n"
     ]
    }
   ],
   "source": [
    "'''4. Create an Element class with the instance attributes name, symbol, and number. Create a class object with the \n",
    "values 'Hydrogen,' 'H,' and 1.'''\n",
    "#Code\n",
    "\n",
    "class element:\n",
    "    def __init__(self,name,symbol,number):\n",
    "        self.name = name\n",
    "        self.symbol = symbol\n",
    "        self.number = number\n",
    "obj = element('Hydrogen','H,',1)\n",
    "print(obj.name)\n",
    "print(obj.symbol)\n",
    "print(obj.number)\n"
   ]
  },
  {
   "cell_type": "code",
   "execution_count": 18,
   "id": "a06f725b",
   "metadata": {},
   "outputs": [
    {
     "data": {
      "text/plain": [
       "'Hydrogen'"
      ]
     },
     "execution_count": 18,
     "metadata": {},
     "output_type": "execute_result"
    }
   ],
   "source": [
    "'''5. Make a dictionary with these keys and values: 'name': 'Hydrogen', 'symbol': 'H', 'number': 1. Then, create an object\n",
    "called hydrogen from class Element using this dictionary.'''\n",
    "#Code\n",
    "d = {'name': 'Hydrogen', 'symbol': 'H', 'number': 1}\n",
    "class element:\n",
    "    def __init__(self,name,symbol,number):\n",
    "        self.name = name\n",
    "        self.symbol = symbol\n",
    "        self.number = number\n",
    "\n",
    "hydrogen = element(d['name'],d['symbol'],d['number'])\n",
    "hydrogen.name"
   ]
  },
  {
   "cell_type": "code",
   "execution_count": 20,
   "id": "ae0edc19",
   "metadata": {},
   "outputs": [
    {
     "name": "stdout",
     "output_type": "stream",
     "text": [
      "Hydrogen\n",
      "H\n",
      "1\n"
     ]
    }
   ],
   "source": [
    "'''6. For the Element class, define a method called dump() that prints the values of the object’s attributes (name, symbol,\n",
    "and number). Create the hydrogen object from this new definition and use dump() to print its attributes.'''\n",
    "#Code\n",
    "class element:\n",
    "    def __init__(self,name,symbol,number):\n",
    "        self.name = name\n",
    "        self.symbol = symbol\n",
    "        self.number = number\n",
    "    def dump(self):\n",
    "        print(self.name)\n",
    "        print(self.symbol)\n",
    "        print(self.number)\n",
    "hydrogen = element('Hydrogen','H',1)\n",
    "hydrogen.dump()\n",
    "\n"
   ]
  },
  {
   "cell_type": "code",
   "execution_count": 26,
   "id": "46cdf9fa",
   "metadata": {},
   "outputs": [
    {
     "name": "stdout",
     "output_type": "stream",
     "text": [
      "<__main__.element object at 0x00000293E7047F10>\n",
      "Hydrogen\n",
      "H\n",
      "1\n",
      "Hydrogen\n"
     ]
    }
   ],
   "source": [
    "'''7. Call print(hydrogen). In the definition of Element, change the name of method dump to __str__, create a new hydrogen \n",
    "object, and call print(hydrogen) again.'''\n",
    "#Code\n",
    "class element:\n",
    "    def __init__(self,name,symbol,number):\n",
    "        self.name = name\n",
    "        self.symbol = symbol\n",
    "        self.number = number\n",
    "    def dump(self):\n",
    "        print(self.name)\n",
    "        print(self.symbol)\n",
    "        print(self.number)\n",
    "hydrogen = element('Hydrogen','H',1)\n",
    "print(hydrogen)\n",
    "\n",
    "class element:\n",
    "    def __init__(self,name,symbol,number):\n",
    "        self.name = name\n",
    "        self.symbol = symbol\n",
    "        self.number = number\n",
    "    def __str__(self):\n",
    "        print(self.name)\n",
    "        print(self.symbol)\n",
    "        print(self.number)\n",
    "        return self.name\n",
    "hydrogen = element('Hydrogen','H',1)\n",
    "print(hydrogen)\n",
    "\n",
    "\n",
    "# __str__ function should return something otherwise it will give error. Therefore return statement has been appended in\n",
    "the str method. "
   ]
  },
  {
   "cell_type": "code",
   "execution_count": 15,
   "id": "c851d2ef",
   "metadata": {},
   "outputs": [
    {
     "name": "stdout",
     "output_type": "stream",
     "text": [
      "Hydrogen\n",
      "H\n",
      "1\n",
      "None\n"
     ]
    }
   ],
   "source": [
    "'''8. Modify Element to make the attributes name, symbol, and number private. Define a getter property for each to \n",
    "return its value.'''\n",
    "#Code\n",
    "\n",
    "class element:\n",
    "    def __init__(self,name,symbol,number):\n",
    "        self.__name = name\n",
    "        self.__symbol = symbol\n",
    "        self.__number = number\n",
    "    @property\n",
    "    def dump(self):\n",
    "        print(self.__name)\n",
    "        print(self.__symbol)\n",
    "        print(self.__number)\n",
    "hydrogen = element('Hydrogen','H',1)\n",
    "print(hydrogen.dump)\n",
    "\n"
   ]
  },
  {
   "cell_type": "code",
   "execution_count": 4,
   "id": "38cfcb7a",
   "metadata": {},
   "outputs": [
    {
     "name": "stdout",
     "output_type": "stream",
     "text": [
      "Bear eats : berries\n",
      "Rabbit eats: clover\n",
      "Octothorpe eats: campers\n"
     ]
    }
   ],
   "source": [
    "'''9. Define three classes: Bear, Rabbit, and Octothorpe. For each, define only one method: eats(). This should return \n",
    "    'berries' (Bear), 'clover' (Rabbit), or 'campers' (Octothorpe). Create one object from each and print what it eats.'''\n",
    "#Code\n",
    "class Bear:\n",
    "    def eats(self):\n",
    "        return 'berries'\n",
    "class Rabbit:\n",
    "    def eats(self):\n",
    "        return 'clover'\n",
    "class Octothorpe:\n",
    "    def eats(self):\n",
    "        return 'campers'\n",
    "\n",
    "bear = Bear()\n",
    "print('Bear eats :', bear.eats())\n",
    "\n",
    "rabbit = Rabbit()\n",
    "print('Rabbit eats:', rabbit.eats())\n",
    "\n",
    "octo = Octothorpe()\n",
    "print('Octothorpe eats:', octo.eats())\n",
    "\n"
   ]
  },
  {
   "cell_type": "code",
   "execution_count": 7,
   "id": "10bffa54",
   "metadata": {},
   "outputs": [
    {
     "name": "stdout",
     "output_type": "stream",
     "text": [
      "Laser object returns : disintegrate\n",
      "Claw object returns : crush\n",
      "Smartphone object returns : ring\n"
     ]
    }
   ],
   "source": [
    "'''10. Define these classes: Laser, Claw, and SmartPhone. Each has only one method: does(). This returns 'disintegrate' \n",
    "(Laser), 'crush' (Claw), or 'ring' (SmartPhone). Then, define the class Robot that has one instance (object) of each\n",
    "of these. Define a does() method for the Robot that prints what its component objects do.'''\n",
    "\n",
    "#Code\n",
    "class Laser:\n",
    "    def does(self):\n",
    "        return 'disintegrate'\n",
    "class Claw:\n",
    "    def does(self):\n",
    "        return 'crush'\n",
    "class Smartphone:\n",
    "    def does(self):\n",
    "        return 'ring'\n",
    "class Robot:\n",
    "    def does(self):\n",
    "        laser =Laser()\n",
    "        print('Laser object returns :', laser.does())\n",
    "        claw = Claw()\n",
    "        print('Claw object returns :', claw.does())\n",
    "        smart_phone = Smartphone()\n",
    "        print('Smartphone object returns :', smart_phone.does())\n",
    "\n",
    "robot = Robot()\n",
    "robot.does()\n"
   ]
  },
  {
   "cell_type": "code",
   "execution_count": null,
   "id": "c0e8b3f6",
   "metadata": {},
   "outputs": [],
   "source": []
  }
 ],
 "metadata": {
  "kernelspec": {
   "display_name": "Python 3 (ipykernel)",
   "language": "python",
   "name": "python3"
  },
  "language_info": {
   "codemirror_mode": {
    "name": "ipython",
    "version": 3
   },
   "file_extension": ".py",
   "mimetype": "text/x-python",
   "name": "python",
   "nbconvert_exporter": "python",
   "pygments_lexer": "ipython3",
   "version": "3.9.12"
  }
 },
 "nbformat": 4,
 "nbformat_minor": 5
}
