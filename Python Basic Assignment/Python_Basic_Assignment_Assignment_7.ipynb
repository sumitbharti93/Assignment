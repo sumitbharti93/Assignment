{
 "cells": [
  {
   "cell_type": "code",
   "execution_count": null,
   "id": "f0d5c27f",
   "metadata": {},
   "outputs": [],
   "source": [
    "1. What is the name of the feature responsible for generating Regex objects?\n",
    "Ans:-\n",
    "  re module"
   ]
  },
  {
   "cell_type": "code",
   "execution_count": null,
   "id": "c241778d",
   "metadata": {},
   "outputs": [],
   "source": [
    "2. Why do raw strings often appear in Regex objects?\n",
    "Ans:-\n",
    "    Raw strings are used so that backslashes can be considerd as literal characters. "
   ]
  },
  {
   "cell_type": "code",
   "execution_count": null,
   "id": "8654a1dc",
   "metadata": {},
   "outputs": [],
   "source": [
    "3. What is the return value of the search() method?\n",
    "Ans:-\n",
    "    search() method return the match object of first match in the entire string. "
   ]
  },
  {
   "cell_type": "code",
   "execution_count": null,
   "id": "00b49bb0",
   "metadata": {},
   "outputs": [],
   "source": [
    "4. From a Match item, how do you get the actual strings that match the pattern?\n",
    "Ans:-\n",
    "    We have to iterate over the match object using for loop. "
   ]
  },
  {
   "cell_type": "code",
   "execution_count": null,
   "id": "ac49af64",
   "metadata": {},
   "outputs": [],
   "source": [
    "5. In the regex which created from the r'(\\d\\d\\d)-(\\d\\d\\d-\\d\\d\\d\\d)', what does group zero cover? Group 2? Group 1?\n",
    "Ans:-\n",
    "    1. Group zero cover digit from 000-000-0000 to 999-999-9999\n",
    "    2. Group 2 cover digit from 000-0000 to 999-9999\n",
    "    3. Group 1 cover digit from 000 to 9999"
   ]
  },
  {
   "cell_type": "code",
   "execution_count": null,
   "id": "2bbeba30",
   "metadata": {},
   "outputs": [],
   "source": [
    "6. In standard expression syntax, parentheses and intervals have distinct meanings. How can you \n",
    "tell a regex that you want it to fit real parentheses and periods?\n",
    "\n",
    "Ans:-\n",
    "    We have to use backslash before parenthesis and intervals to use it for its real meaning. \n",
    "\n"
   ]
  },
  {
   "cell_type": "code",
   "execution_count": null,
   "id": "b68182e6",
   "metadata": {},
   "outputs": [],
   "source": [
    "7. The findall() method returns a string list or a list of string tuples. What causes it to \n",
    "return one of the two options?\n",
    "Ans:-\n",
    "    String List - It returns string list when there is no grouping inside the pattern. It\n",
    "    will match the entire pattern and then it will return string List. \n",
    "    \n",
    "    List of string tuples:- It returns list of string tuples when there is grouping inside the\n",
    "    pattern. It will match the every group and then it will return List of string tuples. \n"
   ]
  },
  {
   "cell_type": "code",
   "execution_count": null,
   "id": "c561b2e8",
   "metadata": {},
   "outputs": [],
   "source": [
    "8. In standard expressions, what does the | character mean?\n",
    "Ans - 'Either',  'or' "
   ]
  },
  {
   "cell_type": "code",
   "execution_count": null,
   "id": "2e96d683",
   "metadata": {},
   "outputs": [],
   "source": [
    "9. In regular expressions, what does the character stand for?\n",
    "Ans :- All characters excluding having special meaning in regex. \n"
   ]
  },
  {
   "cell_type": "code",
   "execution_count": null,
   "id": "645ae5a0",
   "metadata": {},
   "outputs": [],
   "source": [
    "10.In regular expressions, what is the difference between the + and * characters?\n",
    "Ans :- \n",
    "    \"+\" matches 1 or more characters\n",
    "    \"*\" matches 0 or more characters"
   ]
  },
  {
   "cell_type": "code",
   "execution_count": null,
   "id": "9bc2d433",
   "metadata": {},
   "outputs": [],
   "source": [
    "11. What is the difference between {4} and {4,5} in regular expression?\n",
    "Ans:-\n",
    "    {4}- It will match 4 number of the given character or set of characters. \n",
    "    {4,5} - It will match 4 or 5 number of the given character or set of characters."
   ]
  },
  {
   "cell_type": "code",
   "execution_count": null,
   "id": "4fd10120",
   "metadata": {},
   "outputs": [],
   "source": [
    "12. What do you mean by the \\d, \\w, and \\s shorthand character classes signify in regular \n",
    "expressions?\n",
    "Ans:-\n",
    "    \\d - Digit from 0-9\n",
    "    \\w - word character (a-z,A-Z,0-9,_)\n",
    "    \\s  - whitespace (space, tab, newline)"
   ]
  },
  {
   "cell_type": "code",
   "execution_count": null,
   "id": "4bc452c9",
   "metadata": {},
   "outputs": [],
   "source": [
    "13. What do means by \\D, \\W, and \\S shorthand character classes signify in regular expressions?\n",
    "Ans:-\n",
    "    \\D - Not a Digit from 0-9\n",
    "    \\W - Not a word character (a-z,A-Z,0-9,_)\n",
    "    \\S - Not a whitespace (space, tab, newline)\n",
    "    "
   ]
  },
  {
   "cell_type": "code",
   "execution_count": null,
   "id": "fa92b871",
   "metadata": {},
   "outputs": [],
   "source": [
    "14. What is the difference between .*? and .*?\n",
    "Ans:-\n",
    "    .*? - It will match 0 or more characters of every character \n",
    "    .* - It will match 0 or more characters of any characters till the new line. "
   ]
  },
  {
   "cell_type": "code",
   "execution_count": null,
   "id": "efb32ad4",
   "metadata": {},
   "outputs": [],
   "source": [
    "15. What is the syntax for matching both numbers and lowercase letters with a character class?\n",
    "Ans:-\n",
    "    character_class = [0-9a-z]+"
   ]
  },
  {
   "cell_type": "code",
   "execution_count": null,
   "id": "fdf55e1d",
   "metadata": {},
   "outputs": [],
   "source": [
    "16. What is the procedure for making a normal expression in regax case insensitive?\n",
    "Ans:-\n",
    "    We have to use flags 'IGNORECASE'. \n",
    "    "
   ]
  },
  {
   "cell_type": "code",
   "execution_count": null,
   "id": "7821ae45",
   "metadata": {},
   "outputs": [],
   "source": [
    "17. What does the . character normally match? What does it match if re.DOTALL is passed as \n",
    "2nd argument in re.compile()?\n",
    "Ans:-\n",
    "    . character - It matches all the character excluding the new line.\n",
    "    re.DOTALL - It will match all the characters including newline. \n",
    "    "
   ]
  },
  {
   "cell_type": "code",
   "execution_count": null,
   "id": "fc933506",
   "metadata": {},
   "outputs": [],
   "source": [
    "18. If numReg = re.compile(r'\\d+'), what will numRegex.sub('X', '11 drummers, 10 pipers, five\n",
    "rings, 4 hen') return?\n",
    "Ans:-\n",
    "    'X drummers, X pipers, fiverings, X hen'\n",
    "    "
   ]
  },
  {
   "cell_type": "code",
   "execution_count": null,
   "id": "8dc25e3e",
   "metadata": {},
   "outputs": [],
   "source": [
    "19. What does passing re.VERBOSE as the 2nd argument to re.compile() allow to do?\n",
    "Ans:-\n",
    "    This is a flag in regex. It allows us to write regular expression in more readable format. \n",
    "    It allows us to separate logical sections of the pattern and add comments.\n",
    "    Whitespace within the pattern is ignored, but when present inside th pattern or when it \n",
    "    is  preceded by unescaped sequence or when it is inside the tokens such as *?,(? it can \n",
    "    not be ignored. \n",
    "        When # is present in the line , which is not in charater class or it is not preceded by \n",
    "        the unescaped backslash. All the characters from the leftmost of # to the end of the line\n",
    "        will be ignored. \n",
    "                                                                              \n",
    "    "
   ]
  },
  {
   "cell_type": "code",
   "execution_count": null,
   "id": "11ba9820",
   "metadata": {},
   "outputs": [],
   "source": [
    "20. How would you write a regex that match a number with comma for every three digits? \n",
    "It must match the given following:\n",
    "'42'\n",
    "'1,234'\n",
    "'6,368,745'\n",
    "but not the following:\n",
    "'12,34,567' (which has only two digits between the commas)\n",
    "'1234' (which lacks commas)\n",
    "\n",
    "Ans :-\n",
    "    pattern  = re.compile(r'(^\\d{1,3}(,\\d{3})*$)')\n"
   ]
  },
  {
   "cell_type": "code",
   "execution_count": null,
   "id": "62acfd01",
   "metadata": {},
   "outputs": [],
   "source": [
    "21. How would you write a regex that matches the full name of someone whose last name is\n",
    "Watanabe? You can assume that the first name that comes before it will always be one word\n",
    "that begins with a capital letter. The regex must match the following:\n",
    "'Haruto Watanabe'\n",
    "'Alice Watanabe'\n",
    "'RoboCop Watanabe'\n",
    "but not the following:\n",
    "'haruto Watanabe' (where the first name is not capitalized)\n",
    "'Mr. Watanabe' (where the preceding word has a nonletter character)\n",
    "'Watanabe' (which has no first name)\n",
    "'Haruto watanabe' (where Watanabe is not capitalized)\n",
    "\n",
    "Ans:-\n",
    "    pattern = re.compile(r'[A-Z][a-zA-Z]+\\sWatanabe')"
   ]
  },
  {
   "cell_type": "code",
   "execution_count": 28,
   "id": "1b1d5127",
   "metadata": {},
   "outputs": [],
   "source": [
    "22. How would you write a regex that matches a sentence where the first word is either \n",
    "Alice, Bob, or Carol; the second word is either eats, pets, or throws; the third word is\n",
    "apples, cats, or baseballs; and the sentence ends with a period? This regex should be \n",
    "case-insensitive. It must match the following:\n",
    "'Alice eats apples.'\n",
    "'Bob pets cats.'\n",
    "'Carol throws baseballs.'\n",
    "'Alice throws Apples.'\n",
    "'BOB EATS CATS.'\n",
    "but not the following:\n",
    "'RoboCop eats apples.'\n",
    "'ALICE THROWS FOOTBALLS.'\n",
    "'Carol eats 7 cats.'\n"
   ]
  },
  {
   "cell_type": "code",
   "execution_count": null,
   "id": "973d3004",
   "metadata": {},
   "outputs": [],
   "source": []
  },
  {
   "cell_type": "code",
   "execution_count": null,
   "id": "531daea3",
   "metadata": {},
   "outputs": [],
   "source": []
  }
 ],
 "metadata": {
  "kernelspec": {
   "display_name": "Python 3 (ipykernel)",
   "language": "python",
   "name": "python3"
  },
  "language_info": {
   "codemirror_mode": {
    "name": "ipython",
    "version": 3
   },
   "file_extension": ".py",
   "mimetype": "text/x-python",
   "name": "python",
   "nbconvert_exporter": "python",
   "pygments_lexer": "ipython3",
   "version": "3.9.12"
  }
 },
 "nbformat": 4,
 "nbformat_minor": 5
}
