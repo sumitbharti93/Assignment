{
 "cells": [
  {
   "cell_type": "markdown",
   "id": "77264882",
   "metadata": {},
   "source": [
    "# Python_Basic_Assignment_Assignment_14"
   ]
  },
  {
   "cell_type": "code",
   "execution_count": null,
   "id": "66e159cc",
   "metadata": {},
   "outputs": [],
   "source": [
    "1. What does RGBA stand for?\n",
    "Ans:-\n",
    "    Red,Green, Blue and Alpha"
   ]
  },
  {
   "cell_type": "code",
   "execution_count": null,
   "id": "3f2f4d16",
   "metadata": {},
   "outputs": [],
   "source": [
    "2. From the Pillow module, how do you get the RGBA value of any images?\n",
    "Ans:-\n",
    "    img = Image.open('image.png') # opening the image and getting the image path object\n",
    "    rgba = img.convert('RGBA') # converting the image into RGBA values\n",
    "    data = rgba.getdata() #getting the RGBA values "
   ]
  },
  {
   "cell_type": "code",
   "execution_count": null,
   "id": "85276d70",
   "metadata": {},
   "outputs": [],
   "source": [
    "3. What is a box tuple, and how does it work?\n",
    "Ans:-\n",
    "    Box tuple is a set of four integer which is passed as a argument to the pillow method which represent the position of\n",
    "    the image. \n",
    "    Eg:-(3,1,8,9)\n",
    "        First value(3) - It will represent the the x-cordinate of the left most edge of the box. Also, called left.\n",
    "        Second value (1) - It will represent the y-coordinate of the top edge of the box. Also called top. \n",
    "        Third value (8) - x-cordinate of the right edge of the image. It should be greater than First value. It is also\n",
    "                        called Right. 8 would be excluding from cordinate value. \n",
    "        Fourth Value(9) - y-cordinate of the bottom edge of the image. It is also called Bottom. It should be greater than \n",
    "        second value. 9 would be excluding of the coordinate value. "
   ]
  },
  {
   "cell_type": "code",
   "execution_count": null,
   "id": "489a89da",
   "metadata": {},
   "outputs": [],
   "source": [
    "4. Use your image and load in notebook then, How can you find out the width and height of an Image object?\n",
    "Ans:-\n",
    "    using size attribute on Image object. "
   ]
  },
  {
   "cell_type": "code",
   "execution_count": null,
   "id": "3145bd94",
   "metadata": {},
   "outputs": [],
   "source": [
    "5. What method would you call to get Image object for a 100×100 image, excluding the lower-left quarter of it?\n",
    "Ans:-\n",
    "    Image.crop(0,0,75,100)"
   ]
  },
  {
   "cell_type": "code",
   "execution_count": null,
   "id": "d1d26002",
   "metadata": {},
   "outputs": [],
   "source": [
    "6. After making changes to an Image object, how could you save it as an image file?\n",
    "Ans:-\n",
    "    suppose im is a image object. \n",
    "    im.save(filename) # would save the image to the given file. "
   ]
  },
  {
   "cell_type": "code",
   "execution_count": null,
   "id": "509056e6",
   "metadata": {},
   "outputs": [],
   "source": [
    "7. What module contains Pillow’s shape-drawing code?\n",
    "Ans:-\n",
    "    ImageDraw module "
   ]
  },
  {
   "cell_type": "code",
   "execution_count": null,
   "id": "380296b2",
   "metadata": {},
   "outputs": [],
   "source": [
    "8. Image objects do not have drawing methods. What kind of object does? How do you get this kind of object?\n",
    "Ans:-\n",
    "    Imagedraw module are having drawing methods. \n",
    "    we have to import Imagedraw module and run draw method on it. "
   ]
  },
  {
   "cell_type": "code",
   "execution_count": null,
   "id": "31c72905",
   "metadata": {},
   "outputs": [],
   "source": []
  }
 ],
 "metadata": {
  "kernelspec": {
   "display_name": "Python 3 (ipykernel)",
   "language": "python",
   "name": "python3"
  },
  "language_info": {
   "codemirror_mode": {
    "name": "ipython",
    "version": 3
   },
   "file_extension": ".py",
   "mimetype": "text/x-python",
   "name": "python",
   "nbconvert_exporter": "python",
   "pygments_lexer": "ipython3",
   "version": "3.9.12"
  }
 },
 "nbformat": 4,
 "nbformat_minor": 5
}
