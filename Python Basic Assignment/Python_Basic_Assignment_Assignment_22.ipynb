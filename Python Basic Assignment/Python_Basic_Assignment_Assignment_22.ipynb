{
 "cells": [
  {
   "cell_type": "markdown",
   "id": "4eabfccc",
   "metadata": {},
   "source": [
    "# Python_Basic_Assignment_Assignment_22"
   ]
  },
  {
   "cell_type": "code",
   "execution_count": null,
   "id": "8812bfc2",
   "metadata": {},
   "outputs": [],
   "source": [
    "'''\n",
    "1. What is the result of the code, and explain?\n",
    "\n",
    "\n",
    ">>> X = 'iNeuron'\n",
    ">>> def func():\n",
    "print(X)\n",
    "\n",
    "\n",
    ">>> func()\n",
    "\n",
    "'''\n",
    "Output:-\n",
    "    'iNeuron'\n",
    "Explanation:- func() statement is calling the function and print statement inside the func() is printing the X. \n",
    "    \n",
    "    \n",
    "    "
   ]
  },
  {
   "cell_type": "code",
   "execution_count": null,
   "id": "303e6644",
   "metadata": {},
   "outputs": [],
   "source": [
    "'''\n",
    "2. What is the result of the code, and explain?\n",
    "\n",
    "\n",
    ">>> X = 'iNeuron'\n",
    ">>> def func():\n",
    "X = 'NI!'\n",
    "\n",
    ">>> func()\n",
    ">>> print(X)\n",
    "\n",
    "'''\n",
    "Output:-\n",
    "    'NI!'"
   ]
  },
  {
   "cell_type": "code",
   "execution_count": null,
   "id": "955118ff",
   "metadata": {},
   "outputs": [],
   "source": [
    "'''\n",
    "3. What does this code print, and why?\n",
    "\n",
    ">>> X = 'iNeuron'\n",
    ">>> def func():\n",
    "X = 'NI'\n",
    "print(X)\n",
    "\n",
    ">>> func()\n",
    ">>> print(X)\n",
    "'''\n",
    "output:-\n",
    "    NI\n",
    "    iNeuron\n",
    "Explanation - print statement inside func() will print the local x which is available inside the function. \n",
    "While, print statement outside function will print x available outside function which is global x. \n",
    "\n"
   ]
  },
  {
   "cell_type": "code",
   "execution_count": null,
   "id": "6f33495f",
   "metadata": {},
   "outputs": [],
   "source": [
    "'''\n",
    "4. What output does this code produce? Why?\n",
    "\n",
    "\n",
    ">>> X = 'iNeuron'\n",
    ">>> def func():\n",
    "global X\n",
    "X = 'NI'\n",
    "\n",
    "\n",
    ">>> func()\n",
    ">>> print(X)\n",
    "'''\n",
    "Output:-\n",
    "    NI\n",
    "    NI\n",
    "Explnation :- By using global keyword we can modify the global variable inisde the function. \n",
    "\n",
    "\n"
   ]
  },
  {
   "cell_type": "code",
   "execution_count": null,
   "id": "75076fdc",
   "metadata": {},
   "outputs": [],
   "source": [
    "'''\n",
    "\n",
    "5. What about this code—what’s the output, and why?\n",
    "\n",
    "\n",
    ">>> X = 'iNeuron'\n",
    ">>> def func():\n",
    "X = 'NI'\n",
    "def nested():\n",
    "print(X)\n",
    "nested()\n",
    "\n",
    "\n",
    ">>> func()\n",
    ">>> X\n",
    "\n",
    "\n",
    "'''\n",
    "\n",
    "Output:-\n",
    "    NI\n",
    "    iNeuron\n",
    "    \n",
    "Explanation:-\n",
    "    When nested function will be called it will print x available insided func() as the nested function is \n",
    "    available inisde func function. when func() will be called it will not change global x , therfore when x will \n",
    "    printed it will global x as it is. \n",
    "    "
   ]
  },
  {
   "cell_type": "code",
   "execution_count": null,
   "id": "fe6e1ad6",
   "metadata": {},
   "outputs": [],
   "source": [
    "'''\n",
    "\n",
    "6. How about this code: what is its output in Python 3, and explain?\n",
    "\n",
    "\n",
    ">>> def func():\n",
    "X = 'NI'\n",
    "def nested():\n",
    "nonlocal X\n",
    "X = 'Spam'\n",
    "nested()\n",
    "print(X)\n",
    "\n",
    "\n",
    ">>> func()\n",
    "\n",
    "'''\n",
    "Output:-\n",
    "    Spam\n",
    "Explanation:- When nonlocal keyword is used it will access the x inside func() scope and change it to 'Spam'. Therefore \n",
    "    when x will be printed using print statement we will get 'Spam' as output. \n",
    "\n",
    "\n",
    "\n"
   ]
  },
  {
   "cell_type": "code",
   "execution_count": null,
   "id": "69b8b01e",
   "metadata": {},
   "outputs": [],
   "source": []
  }
 ],
 "metadata": {
  "kernelspec": {
   "display_name": "Python 3 (ipykernel)",
   "language": "python",
   "name": "python3"
  },
  "language_info": {
   "codemirror_mode": {
    "name": "ipython",
    "version": 3
   },
   "file_extension": ".py",
   "mimetype": "text/x-python",
   "name": "python",
   "nbconvert_exporter": "python",
   "pygments_lexer": "ipython3",
   "version": "3.9.12"
  }
 },
 "nbformat": 4,
 "nbformat_minor": 5
}
