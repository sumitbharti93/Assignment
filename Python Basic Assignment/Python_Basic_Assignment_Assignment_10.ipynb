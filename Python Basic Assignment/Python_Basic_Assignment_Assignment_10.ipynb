{
 "cells": [
  {
   "cell_type": "markdown",
   "id": "953a77af",
   "metadata": {},
   "source": [
    "# Python Basic Assignment -10"
   ]
  },
  {
   "cell_type": "code",
   "execution_count": null,
   "id": "269ebebe",
   "metadata": {},
   "outputs": [],
   "source": [
    "1. How do you distinguish between shutil.copy() and shutil.copytree()?\n",
    "Ans:-\n",
    "    shutil.copy() - It will copy a singe file. \n",
    "    shutil.copytree() - It will copy the entire folder including contents. "
   ]
  },
  {
   "cell_type": "code",
   "execution_count": null,
   "id": "364aa0c5",
   "metadata": {},
   "outputs": [],
   "source": [
    "2. What function is used to rename files??\n",
    "Ans:-\n",
    "    os.rename() and shutil.move() function can be used to rename files. "
   ]
  },
  {
   "cell_type": "code",
   "execution_count": null,
   "id": "ba10231e",
   "metadata": {},
   "outputs": [],
   "source": [
    "3. What is the difference between the delete functions in the send2trash and shutil modules?\n",
    "Ans:-\n",
    "    sned2trash function will delete the file and send it torecycle bin. \n",
    "    shutil function will delete the file/folder permanenetly. "
   ]
  },
  {
   "cell_type": "code",
   "execution_count": null,
   "id": "7fb27677",
   "metadata": {},
   "outputs": [],
   "source": [
    "4.ZipFile objects have a close() method just like File objects’ close() method. What ZipFile method is equivalent to \n",
    "File objects’ open() method?\n",
    "ANs:-\n",
    "    zipfile.ZipFile() is equivalent to File object open method. Filename and mode can be passed just like open method of\n",
    "    File object along with other relevant details. \n",
    "    "
   ]
  },
  {
   "cell_type": "code",
   "execution_count": null,
   "id": "04850d9e",
   "metadata": {},
   "outputs": [],
   "source": [
    "5. Create a programme that searches a folder tree for files with a certain file extension (such as .pdf or .jpg). Copy \n",
    "these files from whatever location they are in to a new folder.\n",
    "ANs:-\n",
    "import os,shutil\n",
    "sourcepath  = input(\"Enter the source path \")\n",
    "file_extension = input(\"Enter the ectension of file type \")\n",
    "des_path = input('Enter the source path ')\n",
    "d = os.walk(sourcepath)\n",
    "for folder,subfolder,filenames in d:\n",
    "    print(folder)\n",
    "    print(subfolder)\n",
    "    for filename in filenames:\n",
    "        if filename.endswith('.docx'):\n",
    "            absolute_sourcepath = os.path.join(sourcepath,filename)\n",
    "            print(absolute_sourcepath)\n",
    "            shutil.copy(absolute_sourcepath,des_path)"
   ]
  },
  {
   "cell_type": "code",
   "execution_count": null,
   "id": "bcab9c77",
   "metadata": {},
   "outputs": [],
   "source": []
  }
 ],
 "metadata": {
  "kernelspec": {
   "display_name": "Python 3 (ipykernel)",
   "language": "python",
   "name": "python3"
  },
  "language_info": {
   "codemirror_mode": {
    "name": "ipython",
    "version": 3
   },
   "file_extension": ".py",
   "mimetype": "text/x-python",
   "name": "python",
   "nbconvert_exporter": "python",
   "pygments_lexer": "ipython3",
   "version": "3.9.12"
  }
 },
 "nbformat": 4,
 "nbformat_minor": 5
}
