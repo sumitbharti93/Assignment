{
 "cells": [
  {
   "cell_type": "code",
   "execution_count": null,
   "id": "d1462771",
   "metadata": {},
   "outputs": [],
   "source": [
    "1. What are escape characters, and how do you use them?\n",
    "Ans:-\n",
    "    Different types of escape characters are:\n",
    "        1. \\n - It is used for inserting new line before and after string. \n",
    "        2. \\\\ - It is used to insert backslash in the string. \n",
    "        3. \\r - It is used to create raw string. \n",
    "        4. \\' - It is used to add single quotation to the string. \n",
    "        5. \\b - It is used to provide backspace to the string. \n",
    "        6. \\t - It is used to create tab in the string. \n",
    "        7. \\f - It helps in interpolation of string. \n",
    "\n"
   ]
  },
  {
   "cell_type": "code",
   "execution_count": null,
   "id": "a040c47a",
   "metadata": {},
   "outputs": [],
   "source": [
    "2. What do the escape characters n and t stand for?\n",
    "Ans:-\n",
    "    n stands for new line and t stands for tab. \n"
   ]
  },
  {
   "cell_type": "code",
   "execution_count": null,
   "id": "0cb66d82",
   "metadata": {},
   "outputs": [],
   "source": [
    "3. What is the way to include backslash characters in a string?\n",
    "Ans:-\n",
    "    use \\\\b inside the string"
   ]
  },
  {
   "cell_type": "code",
   "execution_count": null,
   "id": "7dde752c",
   "metadata": {},
   "outputs": [],
   "source": [
    "4. The string \"Howl's Moving Castle\" is a correct value. Why isn't the single quote character in the word \n",
    "Howl's not escaped a problem?\n",
    "\n",
    "Ans:-\n",
    "    String is put in double quotes therefore single quote is not creating any problem. \n"
   ]
  },
  {
   "cell_type": "code",
   "execution_count": null,
   "id": "cf2e7635",
   "metadata": {},
   "outputs": [],
   "source": [
    "5. How do you write a string of newlines if you don't want to use the n character?\n",
    "Ans:\n",
    "    We can write multiple print statement to write string of newlines. \n"
   ]
  },
  {
   "cell_type": "code",
   "execution_count": null,
   "id": "44066c91",
   "metadata": {},
   "outputs": [],
   "source": [
    "6. What are the values of the given expressions?\n",
    "'Hello, world!'[1]\n",
    "'Hello, world!'[0:5]\n",
    "'Hello, world!'[:5]\n",
    "'Hello, world!'[3:]\n",
    "\n",
    "Ans :-\n",
    "    'e'\n",
    "    'Hello'\n",
    "    'Hello'\n",
    "    'lo, world!'\n",
    "    "
   ]
  },
  {
   "cell_type": "code",
   "execution_count": null,
   "id": "b8adc5aa",
   "metadata": {},
   "outputs": [],
   "source": [
    "7. What are the values of the following expressions?\n",
    "'Hello'.upper()\n",
    "'Hello'.upper().isupper()\n",
    "'Hello'.upper().lower()\n",
    "Ans:-\n",
    "    'HELLO'\n",
    "    True\n",
    "    'hello'"
   ]
  },
  {
   "cell_type": "code",
   "execution_count": null,
   "id": "a18d1195",
   "metadata": {},
   "outputs": [],
   "source": [
    "8. What are the values of the following expressions?\n",
    "'Remember, remember, the fifth of July.'.split()\n",
    "'-'.join('There can only one.'.split())\n",
    "Ans:-\n",
    "    ['Remember,', 'remember,', 'the', 'fifth', 'of', 'July.']\n",
    "    'There-can-only-one.'\n",
    "\n"
   ]
  },
  {
   "cell_type": "code",
   "execution_count": null,
   "id": "0dbcad7c",
   "metadata": {},
   "outputs": [],
   "source": [
    "9. What are the methods for right-justifying, left-justifying, and centering a string?\n",
    "Ans:-\n",
    "    ljust()\n",
    "    rjust()\n",
    "    center()\n"
   ]
  },
  {
   "cell_type": "code",
   "execution_count": null,
   "id": "37af0b58",
   "metadata": {},
   "outputs": [],
   "source": [
    "10. What is the best way to remove whitespace characters from the start or end?\n",
    "Ans:-\n",
    "    use string method\n",
    "    1. rstrip() to remove whitespaces from right.\n",
    "    2. lstrip() to remove whitespaces from left. \n"
   ]
  },
  {
   "cell_type": "code",
   "execution_count": null,
   "id": "1b03ee5c",
   "metadata": {},
   "outputs": [],
   "source": []
  }
 ],
 "metadata": {
  "kernelspec": {
   "display_name": "Python 3 (ipykernel)",
   "language": "python",
   "name": "python3"
  },
  "language_info": {
   "codemirror_mode": {
    "name": "ipython",
    "version": 3
   },
   "file_extension": ".py",
   "mimetype": "text/x-python",
   "name": "python",
   "nbconvert_exporter": "python",
   "pygments_lexer": "ipython3",
   "version": "3.9.12"
  }
 },
 "nbformat": 4,
 "nbformat_minor": 5
}
