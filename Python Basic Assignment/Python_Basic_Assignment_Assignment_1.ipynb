{
 "cells": [
  {
   "cell_type": "code",
   "execution_count": null,
   "id": "497ed77d",
   "metadata": {},
   "outputs": [],
   "source": [
    "1. In the below elements which of them are values or an expression? eg:- values can be integer or string and expressions\n",
    "    will be mathematical operators.\n",
    "*\n",
    "'hello'\n",
    "-87.8\n",
    "-\n",
    "/ \n",
    "+ \n",
    "6 \n",
    "\n",
    "Ans - \n",
    "\n",
    "Values - 'hello', -87.8, 6\n",
    "Expression-  *, -, /, +\n"
   ]
  },
  {
   "cell_type": "code",
   "execution_count": null,
   "id": "b3201bbe",
   "metadata": {},
   "outputs": [],
   "source": [
    "2. What is the difference between string and variable?\n",
    "\n",
    "Ans- \n",
    "Variable - It is the name of the memory location where we can store data.In other words, it is a container which is \n",
    "used to store data. \n",
    "String - It is a type of data. It can be represented within single quotes(' '), double quotes(\" \") and triple quotes\n",
    "(''' '''). \n"
   ]
  },
  {
   "cell_type": "code",
   "execution_count": null,
   "id": "ef966463",
   "metadata": {},
   "outputs": [],
   "source": [
    "3. Describe three different data types.\n",
    "\n",
    "Ans. \n",
    "1. Int - Any negative and positive whole numbers falls in this category. \n",
    "2. List - It is an ordered collection of data.It can be created by putting data inside square data. It is mutable which\n",
    "means it can be modified after its creation. \n",
    "3. Tuple - It is also an ordered collection of data. It can be created by putting the data inside the parenthesis. It is \n",
    "not mutable which means it cannot be modified after its creation.\n"
   ]
  },
  {
   "cell_type": "code",
   "execution_count": null,
   "id": "b79b8eeb",
   "metadata": {},
   "outputs": [],
   "source": [
    "4. What is an expression made up of? What do all expressions do?\n",
    "Ans- \n",
    "It is defined as combination of operators and operands which is put together to produce the desired result.\n",
    "\n"
   ]
  },
  {
   "cell_type": "code",
   "execution_count": null,
   "id": "26867c52",
   "metadata": {},
   "outputs": [],
   "source": [
    "5. This assignment statements, like spam = 10. What is the difference between an expression and a statement?\n",
    "\n",
    "Ans - \n",
    "Expression is used to produce some results. It is combination of operators and operands, while statement is used to \n",
    "create any variable or print on the console. "
   ]
  },
  {
   "cell_type": "code",
   "execution_count": null,
   "id": "1d93b4c9",
   "metadata": {},
   "outputs": [],
   "source": [
    "6. After running the following code, what does the variable bacon contain?\n",
    "bacon = 22\n",
    "bacon + 1\n",
    "\n",
    "Ans - \n",
    "bacon = 22"
   ]
  },
  {
   "cell_type": "code",
   "execution_count": null,
   "id": "3809ea4f",
   "metadata": {},
   "outputs": [],
   "source": [
    "7. What should the values of the following two terms be?\n",
    "'spam' + 'spamspam'\n",
    "'spam' * 3\n",
    "Ans- \n",
    "\n",
    "spamspamspam\n",
    "spamspamspam\n"
   ]
  },
  {
   "cell_type": "code",
   "execution_count": null,
   "id": "129f45cf",
   "metadata": {},
   "outputs": [],
   "source": [
    "8. Why is eggs a valid variable name while 100 is invalid?\n",
    "\n",
    "Ans - \"eggs\" is a valid variable name as it start with alphabet which is a valid rule for naming convention of identifier. \n",
    "    Also, it does not conatin any special symbols. \n",
    "       \"100\" is not a valid variable name as it starts with digit. Identifier name cannot starts with digit.\n"
   ]
  },
  {
   "cell_type": "code",
   "execution_count": null,
   "id": "d3984171",
   "metadata": {},
   "outputs": [],
   "source": [
    "9. What three functions can be used to get the integer, floating-point number, or string version of a value?\n",
    "Ans - \n",
    "1. int() - It can be used to get the integer version of a value. \n",
    "2. float() - It can be used to get the float version of a value. \n",
    "3. str() - It can be used to get the string version of a value. \n"
   ]
  },
  {
   "cell_type": "code",
   "execution_count": null,
   "id": "fd0f762c",
   "metadata": {},
   "outputs": [],
   "source": [
    "10. Why does this expression cause an error? How can you fix it?\n",
    "'I have eaten ' + 99 + ' burritos.'\n",
    "\n",
    "Ans - Above given expression causes error as it is trying to concatenate string to integer. It is not supported. We can \n",
    "rectify it by converting value \"99\" to string version. Below can be a rectified statement which will not produce error. \n",
    "\n",
    "'I have eaten ' + '99' + ' burritos.'\n"
   ]
  },
  {
   "cell_type": "code",
   "execution_count": null,
   "id": "3a33df47",
   "metadata": {},
   "outputs": [],
   "source": []
  }
 ],
 "metadata": {
  "kernelspec": {
   "display_name": "Python 3 (ipykernel)",
   "language": "python",
   "name": "python3"
  },
  "language_info": {
   "codemirror_mode": {
    "name": "ipython",
    "version": 3
   },
   "file_extension": ".py",
   "mimetype": "text/x-python",
   "name": "python",
   "nbconvert_exporter": "python",
   "pygments_lexer": "ipython3",
   "version": "3.9.12"
  }
 },
 "nbformat": 4,
 "nbformat_minor": 5
}
