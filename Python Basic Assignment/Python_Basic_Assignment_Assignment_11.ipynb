{
 "cells": [
  {
   "cell_type": "code",
   "execution_count": null,
   "id": "79b63585",
   "metadata": {},
   "outputs": [],
   "source": [
    "1. Create an assert statement that throws an AssertionError if the variable spam is a negative integer.\n",
    "Ans:-\n",
    "    spam = int(input(\"Enter the spam integer\"))\n",
    "    assert spam>0, 'only positive numbers are allowed'\n",
    "    print(spam)"
   ]
  },
  {
   "cell_type": "code",
   "execution_count": null,
   "id": "bc616e18",
   "metadata": {},
   "outputs": [],
   "source": [
    "2. Write an assert statement that triggers an AssertionError if the variables eggs and bacon contain strings that are \n",
    "the same as each other, even if their cases are different (that is, 'hello' and 'hello' are considered the same, and\n",
    "'goodbye' and 'GOODbye' are also considered the same).\n",
    "Ans:-\n",
    "    eggs = input('Enter the eggs string ')\n",
    "    bacon = input('Enter the bacon string ')\n",
    "    assert eggs.lower()!=bacon.lower(), 'same string is not allowed'\n",
    "    print(eggs)\n",
    "    print(bacon)"
   ]
  },
  {
   "cell_type": "code",
   "execution_count": null,
   "id": "e63a9458",
   "metadata": {},
   "outputs": [],
   "source": [
    "3. Create an assert statement that throws an AssertionError every time.\n",
    "Ans:-\n",
    "    assert False, 'raise assertion error'"
   ]
  },
  {
   "cell_type": "code",
   "execution_count": null,
   "id": "5df95ea7",
   "metadata": {},
   "outputs": [],
   "source": [
    "4. What are the two lines that must be present in your software in order to call logging.debug()?\n",
    "Ans:-\n",
    "    import logging\n",
    "    logging.basicConfig(parameters)"
   ]
  },
  {
   "cell_type": "code",
   "execution_count": null,
   "id": "cdc906e8",
   "metadata": {},
   "outputs": [],
   "source": [
    "5. What are the two lines that your program must have in order to have logging.debug() send a logging message to a file \n",
    "named programLog.txt?\n",
    "Ans:-\n",
    "    import logging\n",
    "    logging.basicConfig(filename = 'programLog.txt', level = logging.DEBUG)"
   ]
  },
  {
   "cell_type": "code",
   "execution_count": null,
   "id": "c3eac9f5",
   "metadata": {},
   "outputs": [],
   "source": [
    "6. What are the five levels of logging?\n",
    "Ans:-\n",
    "    CRITICAL \n",
    "    ERROR\n",
    "    WARNING\n",
    "    INFO\n",
    "    DEBUG"
   ]
  },
  {
   "cell_type": "code",
   "execution_count": null,
   "id": "cce70d1b",
   "metadata": {},
   "outputs": [],
   "source": [
    "7. What line of code would you add to your software to disable all logging messages?\n",
    "ANs:-\n",
    "    logging.shutdown()"
   ]
  },
  {
   "cell_type": "code",
   "execution_count": null,
   "id": "472c7c5a",
   "metadata": {},
   "outputs": [],
   "source": [
    "8.Why is using logging messages better than using print() to display the same message?\n",
    "ANs:-\n",
    "    Benefits:-\n",
    "    1. We can set out the destination file for storing useful information about flow of operation of codes. \n",
    "    2. we can set timestamp to th execution of code. \n",
    "    3. We can put level to message while logging an information. "
   ]
  },
  {
   "cell_type": "code",
   "execution_count": null,
   "id": "61650b1a",
   "metadata": {},
   "outputs": [],
   "source": [
    "9. What are the differences between the Step Over, Step In, and Step Out buttons in the debugger?\n",
    "Ans:-\n",
    "    Step Over:- It will move the debugger to the next line. IF the line contains function, then it will be executed and \n",
    "        it will take the return value. \n",
    "    Step In :- It will move to the next line, if the line does not contain any function. But if its contains function, then\n",
    "        debugger control will move to the function and it will start debugging there. \n",
    "    Step out:- It returns to the line where current function was called. \n",
    "        "
   ]
  },
  {
   "cell_type": "code",
   "execution_count": null,
   "id": "e5c45d5a",
   "metadata": {},
   "outputs": [],
   "source": [
    "10.After you click Continue, when will the debugger stop ?\n",
    "Ans:-\n",
    "    It will stop when the next breakpoint will be encountered. "
   ]
  },
  {
   "cell_type": "code",
   "execution_count": null,
   "id": "496ac042",
   "metadata": {},
   "outputs": [],
   "source": [
    "11. What is the concept of a breakpoint?\n",
    "Ans:-\n",
    "    Breakpoint is a place in a program of software where we want to stop the execution of the program. It is used to see \n",
    "    the execution of program in a step wise manner. "
   ]
  }
 ],
 "metadata": {
  "kernelspec": {
   "display_name": "Python 3 (ipykernel)",
   "language": "python",
   "name": "python3"
  },
  "language_info": {
   "codemirror_mode": {
    "name": "ipython",
    "version": 3
   },
   "file_extension": ".py",
   "mimetype": "text/x-python",
   "name": "python",
   "nbconvert_exporter": "python",
   "pygments_lexer": "ipython3",
   "version": "3.9.12"
  }
 },
 "nbformat": 4,
 "nbformat_minor": 5
}
