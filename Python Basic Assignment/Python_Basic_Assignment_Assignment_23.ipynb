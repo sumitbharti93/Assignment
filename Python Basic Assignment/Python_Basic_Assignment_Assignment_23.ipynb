{
 "cells": [
  {
   "cell_type": "markdown",
   "id": "673ebe7c",
   "metadata": {},
   "source": [
    "# Python_Basic_Assignment_Assignment_23"
   ]
  },
  {
   "cell_type": "code",
   "execution_count": null,
   "id": "958ad3cf",
   "metadata": {},
   "outputs": [],
   "source": [
    "'''\n",
    "1. What is the result of the code, and why?\n",
    ">>> def func(a, b=6, c=8):\n",
    "print(a, b, c)\n",
    ">>> func(1, 2)\n",
    "\n",
    "'''\n",
    "Output:- 1 2 8\n",
    "Explanation:- value passed by function calling will replace the default value. "
   ]
  },
  {
   "cell_type": "code",
   "execution_count": null,
   "id": "4834491e",
   "metadata": {},
   "outputs": [],
   "source": [
    "'''\n",
    "2. What is the result of this code, and why?\n",
    ">>> def func(a, b, c=5):\n",
    "print(a, b, c)\n",
    ">>> func(1, c=3, b=2)\n",
    "'''\n",
    "\n",
    "Output:-\n",
    "    1 2 3\n",
    "Explanation:- value passed by function calling will replace the default value. \n"
   ]
  },
  {
   "cell_type": "code",
   "execution_count": null,
   "id": "f68624f5",
   "metadata": {},
   "outputs": [],
   "source": [
    "'''\n",
    "3. How about this code: what is its result, and why?\n",
    ">>> def func(a, *pargs):\n",
    "print(a, pargs)\n",
    ">>> func(1, 2, 3)\n",
    "\n",
    "'''\n",
    "Output:-\n",
    "    1 (2, 3)\n",
    "    \n",
    "Explanation:- *pargs will recive multiple value and will return those values as tuple. "
   ]
  },
  {
   "cell_type": "code",
   "execution_count": null,
   "id": "d5ff33fa",
   "metadata": {},
   "outputs": [],
   "source": [
    "'''\n",
    "4. What does this code print, and why?\n",
    ">>> def func(a, **kargs):\n",
    "print(a, kargs)\n",
    ">>> func(a=1, c=3, b=2)\n",
    "\n",
    "'''\n",
    "O/p:-\n",
    "    1 {'c': 3, 'b': 2}\n",
    "Explanation:- **kargs will receive input as key value pairs and will return those values as dictionary"
   ]
  },
  {
   "cell_type": "code",
   "execution_count": null,
   "id": "21d9a30b",
   "metadata": {},
   "outputs": [],
   "source": [
    "'''\n",
    "5. What gets printed by this, and explain?\n",
    ">>> def func(a, b, c=8, d=5): print(a, b, c, d)\n",
    ">>> func(1, *(5, 6))\n",
    "\n",
    "'''\n",
    "O/p:-\n",
    "    1 5 6 5\n",
    "Explanation:-\n",
    "    5 & 6 will be assigned to b and c as there is no * argument available in func parameter. "
   ]
  },
  {
   "cell_type": "code",
   "execution_count": null,
   "id": "d97505dd",
   "metadata": {},
   "outputs": [],
   "source": []
  },
  {
   "cell_type": "code",
   "execution_count": null,
   "id": "f6b8c965",
   "metadata": {},
   "outputs": [],
   "source": []
  },
  {
   "cell_type": "code",
   "execution_count": null,
   "id": "acab0be0",
   "metadata": {},
   "outputs": [],
   "source": []
  }
 ],
 "metadata": {
  "kernelspec": {
   "display_name": "Python 3 (ipykernel)",
   "language": "python",
   "name": "python3"
  },
  "language_info": {
   "codemirror_mode": {
    "name": "ipython",
    "version": 3
   },
   "file_extension": ".py",
   "mimetype": "text/x-python",
   "name": "python",
   "nbconvert_exporter": "python",
   "pygments_lexer": "ipython3",
   "version": "3.9.12"
  }
 },
 "nbformat": 4,
 "nbformat_minor": 5
}
