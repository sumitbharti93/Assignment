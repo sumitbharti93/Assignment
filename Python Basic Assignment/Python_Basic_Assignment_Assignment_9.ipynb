{
 "cells": [
  {
   "cell_type": "markdown",
   "id": "4e7e6993",
   "metadata": {},
   "source": [
    "# Python Basic Assigmnet - 9"
   ]
  },
  {
   "cell_type": "code",
   "execution_count": null,
   "id": "65bff99c",
   "metadata": {},
   "outputs": [],
   "source": [
    "1. To what does a relative path refer?\n",
    "Ans:-\n",
    "    It refers with respect to the present working directory. "
   ]
  },
  {
   "cell_type": "code",
   "execution_count": null,
   "id": "77da0e8b",
   "metadata": {},
   "outputs": [],
   "source": [
    "2. What does an absolute path start with your operating system?\n",
    "Ans:-\n",
    "    I am working on windows system.Absolute path for this starts with C:/ drive or D:/ drive. "
   ]
  },
  {
   "cell_type": "code",
   "execution_count": null,
   "id": "53cf3a23",
   "metadata": {},
   "outputs": [],
   "source": [
    "3. What do the functions os.getcwd() and os.chdir() do?\n",
    "Ans:-\n",
    "    os.getcwd()- It returns the present working directory. \n",
    "    os.chdir()- It changes the current working directory. New directory is passed as an argument to this function. "
   ]
  },
  {
   "cell_type": "code",
   "execution_count": null,
   "id": "db18d4c8",
   "metadata": {},
   "outputs": [],
   "source": [
    "4. What are the . and .. folders?\n",
    "Ans:-\n",
    "    . refers to the current folder while .. refers to the parent folder. "
   ]
  },
  {
   "cell_type": "code",
   "execution_count": null,
   "id": "6ae22771",
   "metadata": {},
   "outputs": [],
   "source": [
    "5. In C:\\bacon\\eggs\\spam.txt, which part is the dir name, and which part is the base name?\n",
    "    Ans:-\n",
    "        dir name - C:\\bacon\\eggs\n",
    "            base name- spam.txt"
   ]
  },
  {
   "cell_type": "code",
   "execution_count": null,
   "id": "19238b95",
   "metadata": {},
   "outputs": [],
   "source": [
    "6. What are the three “mode” arguments that can be passed to the open() function?\n",
    "Ans:-\n",
    "    'w' for write mode, 'r' for read mode and 'a' for append mode"
   ]
  },
  {
   "cell_type": "code",
   "execution_count": null,
   "id": "cb1556ff",
   "metadata": {},
   "outputs": [],
   "source": [
    "7. What happens if an existing file is opened in write mode?\n",
    "Ans:-\n",
    "    It will overwrite the existing details. "
   ]
  },
  {
   "cell_type": "code",
   "execution_count": null,
   "id": "2a15f960",
   "metadata": {},
   "outputs": [],
   "source": [
    "8. How do you tell the difference between read() and readlines()?\n",
    "Ans:-\n",
    "    read() - It is used to read the entire file.It returns the entire file content as single string. \n",
    "    reaadlines()- It returns the list of strings. Every string is equal to a single line in file. "
   ]
  },
  {
   "cell_type": "code",
   "execution_count": null,
   "id": "64f7c9aa",
   "metadata": {},
   "outputs": [],
   "source": [
    "9. What data structure does a shelf value resemble?\n",
    "Ans:-\n",
    "    A shelf value is dictionary like object. It helps in storing key value pairs to the file."
   ]
  },
  {
   "cell_type": "code",
   "execution_count": null,
   "id": "102fd614",
   "metadata": {},
   "outputs": [],
   "source": []
  }
 ],
 "metadata": {
  "kernelspec": {
   "display_name": "Python 3 (ipykernel)",
   "language": "python",
   "name": "python3"
  },
  "language_info": {
   "codemirror_mode": {
    "name": "ipython",
    "version": 3
   },
   "file_extension": ".py",
   "mimetype": "text/x-python",
   "name": "python",
   "nbconvert_exporter": "python",
   "pygments_lexer": "ipython3",
   "version": "3.9.12"
  }
 },
 "nbformat": 4,
 "nbformat_minor": 5
}
