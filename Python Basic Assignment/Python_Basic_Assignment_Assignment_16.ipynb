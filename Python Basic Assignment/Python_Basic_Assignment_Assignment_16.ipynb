{
 "cells": [
  {
   "cell_type": "markdown",
   "id": "4f3caa63",
   "metadata": {},
   "source": [
    "# Python_Basic_Assignment_Assignment_16"
   ]
  },
  {
   "cell_type": "code",
   "execution_count": 7,
   "id": "9a8e1f17",
   "metadata": {},
   "outputs": [
    {
     "name": "stdout",
     "output_type": "stream",
     "text": [
      "[1993, 1994, 1995, 1996, 1997, 1998]\n"
     ]
    }
   ],
   "source": [
    "'''1. Create a list called years_list, starting with the year of your birth, and each year thereafter until the year of \n",
    "your fifth birthday. For example, if you were born in 1980. the list would be years_list = [1980, 1981, 1982, 1983, 1984, \n",
    "                                                                                            1985].\n",
    "'''\n",
    "#Code\n",
    "years_list=[]\n",
    "year_born = 1993\n",
    "for i in range(6):\n",
    "    years_list.append(year_born)\n",
    "    year_born+=1\n",
    "print(years_list)\n",
    "        "
   ]
  },
  {
   "cell_type": "code",
   "execution_count": null,
   "id": "5b2c735e",
   "metadata": {},
   "outputs": [],
   "source": [
    "2. In which year in years_list was your third birthday? Remember, you were 0 years of age for your first year.\n",
    "Ans:-\n",
    "    third_year = 1993+3 = 1996"
   ]
  },
  {
   "cell_type": "code",
   "execution_count": null,
   "id": "13c049c2",
   "metadata": {},
   "outputs": [],
   "source": [
    "3.In the years list, which year were you the oldest?\n",
    "Ans:-\n",
    "    1998"
   ]
  },
  {
   "cell_type": "code",
   "execution_count": null,
   "id": "d8a3f1f2",
   "metadata": {},
   "outputs": [],
   "source": [
    "4. Make a list called things with these three strings as elements: \"mozzarella\", \"cinderella\", \"salmonella\".\n",
    "ANs:-\n",
    "    things = [\"mozzarella\", \"cinderella\", \"salmonella\"]"
   ]
  },
  {
   "cell_type": "code",
   "execution_count": 14,
   "id": "ce65a946",
   "metadata": {},
   "outputs": [
    {
     "data": {
      "text/plain": [
       "['Mozzarella', 'Cinderella', 'Salmonella']"
      ]
     },
     "execution_count": 14,
     "metadata": {},
     "output_type": "execute_result"
    }
   ],
   "source": [
    "#5. Capitalize the element in things that refers to a person and then print the list. Did it change the element in the list?\n",
    "#Code\n",
    "for i in range(len(things)):\n",
    "    things[i] = things[i].capitalize()\n",
    "things\n",
    "\" yes, it chnaged the element. First letter got changed to uppercase.\""
   ]
  },
  {
   "cell_type": "code",
   "execution_count": 18,
   "id": "770455d4",
   "metadata": {},
   "outputs": [],
   "source": [
    "#6. Make a surprise list with the elements \"Groucho,\" \"Chico,\" and \"Harpo.\"\n",
    "#Code\n",
    "surprise_list = [\"Groucho,\", \"Chico,\",\"Harpo.\"]"
   ]
  },
  {
   "cell_type": "code",
   "execution_count": 19,
   "id": "45c03e05",
   "metadata": {},
   "outputs": [
    {
     "data": {
      "text/plain": [
       "'.oprah'"
      ]
     },
     "execution_count": 19,
     "metadata": {},
     "output_type": "execute_result"
    }
   ],
   "source": [
    "#7. Lowercase the last element of the surprise list, reverse it, and then capitalize it.\n",
    "#Code\n",
    "\n",
    "surprise_list[2].lower()[::-1].capitalize()"
   ]
  },
  {
   "cell_type": "code",
   "execution_count": 23,
   "id": "5340da5a",
   "metadata": {},
   "outputs": [
    {
     "data": {
      "text/plain": [
       "{'dog': 'chien', 'cat': 'chat', 'walrus': 'morse'}"
      ]
     },
     "execution_count": 23,
     "metadata": {},
     "output_type": "execute_result"
    }
   ],
   "source": [
    "'''8. Make an English-to-French dictionary called e2f and print it. Here are your starter words: dog is chien, cat is \n",
    "chat, and walrus is morse.'''\n",
    "#Code\n",
    "e2f = {'dog':\"chien\", 'cat':'chat', 'walrus':'morse'}\n",
    "e2f"
   ]
  },
  {
   "cell_type": "code",
   "execution_count": 24,
   "id": "9c75b9ce",
   "metadata": {},
   "outputs": [
    {
     "data": {
      "text/plain": [
       "'morse'"
      ]
     },
     "execution_count": 24,
     "metadata": {},
     "output_type": "execute_result"
    }
   ],
   "source": [
    "# 9. Write the French word for walrus in your three-word dictionary e2f.\n",
    "#Code\n",
    "e2f['walrus']\n",
    "    "
   ]
  },
  {
   "cell_type": "code",
   "execution_count": 31,
   "id": "2ad8c9ed",
   "metadata": {},
   "outputs": [
    {
     "data": {
      "text/plain": [
       "{'chien': 'dog', 'chat': 'cat', 'morse': 'walrus'}"
      ]
     },
     "execution_count": 31,
     "metadata": {},
     "output_type": "execute_result"
    }
   ],
   "source": [
    "# 10. Make a French-to-English dictionary called f2e from e2f. Use the items method.\n",
    "#Code\n",
    "f2e = {}\n",
    "for keys,values in e2f.items():\n",
    "    f2e[values]=keys\n",
    "f2e"
   ]
  },
  {
   "cell_type": "code",
   "execution_count": 32,
   "id": "8e8417c1",
   "metadata": {},
   "outputs": [
    {
     "data": {
      "text/plain": [
       "'dog'"
      ]
     },
     "execution_count": 32,
     "metadata": {},
     "output_type": "execute_result"
    }
   ],
   "source": [
    "#11. Print the English version of the French word chien using f2e.\n",
    "#Code\n",
    "f2e['chien']"
   ]
  },
  {
   "cell_type": "code",
   "execution_count": 44,
   "id": "06e9a5de",
   "metadata": {},
   "outputs": [
    {
     "name": "stdout",
     "output_type": "stream",
     "text": [
      "{'cat', 'walrus', 'dog'}\n"
     ]
    }
   ],
   "source": [
    "# 12. Make and print a set of English words from the keys in e2f.\n",
    "s=set()\n",
    "for keys in e2f.keys():\n",
    "    s.add(keys)\n",
    "print(s)"
   ]
  },
  {
   "cell_type": "code",
   "execution_count": 47,
   "id": "33214722",
   "metadata": {},
   "outputs": [
    {
     "data": {
      "text/plain": [
       "{'animals': {'cats': ['Henri', 'Grumpy', 'Lucy'], 'octopi': {}, 'emus': {}},\n",
       " 'plants': {},\n",
       " 'other': {}}"
      ]
     },
     "execution_count": 47,
     "metadata": {},
     "output_type": "execute_result"
    }
   ],
   "source": [
    "'''13. Make a multilevel dictionary called life. Use these strings for the topmost keys: 'animals', 'plants', and 'other'. \n",
    "    Make the 'animals' key refer to another dictionary with the keys 'cats', 'octopi', and 'emus'. Make the 'cats' key \n",
    "    refer to a list of strings with the values 'Henri', 'Grumpy', and 'Lucy'. Make all the other keys refer to empty \n",
    "    dictionaries.'''\n",
    "#Code\n",
    "life = {'animals':{'cats':['Henri','Grumpy','Lucy'], 'octopi':{}, 'emus':{}}, 'plants':{}, 'other':{}}\n",
    "life"
   ]
  },
  {
   "cell_type": "code",
   "execution_count": 49,
   "id": "3490cb96",
   "metadata": {},
   "outputs": [
    {
     "data": {
      "text/plain": [
       "dict_keys(['animals', 'plants', 'other'])"
      ]
     },
     "execution_count": 49,
     "metadata": {},
     "output_type": "execute_result"
    }
   ],
   "source": [
    "# 14. Print the top-level keys of life.\n",
    "#Code\n",
    "life.keys()"
   ]
  },
  {
   "cell_type": "code",
   "execution_count": 51,
   "id": "cc09ce43",
   "metadata": {},
   "outputs": [
    {
     "data": {
      "text/plain": [
       "dict_keys(['cats', 'octopi', 'emus'])"
      ]
     },
     "execution_count": 51,
     "metadata": {},
     "output_type": "execute_result"
    }
   ],
   "source": [
    "#15. Print the keys for life['animals'].\n",
    "#Code\n",
    "life['animals'].keys()"
   ]
  },
  {
   "cell_type": "code",
   "execution_count": 52,
   "id": "f541b390",
   "metadata": {},
   "outputs": [
    {
     "data": {
      "text/plain": [
       "['Henri', 'Grumpy', 'Lucy']"
      ]
     },
     "execution_count": 52,
     "metadata": {},
     "output_type": "execute_result"
    }
   ],
   "source": [
    "#16. Print the values for life['animals']['cats']\n",
    "life['animals']['cats']"
   ]
  },
  {
   "cell_type": "code",
   "execution_count": null,
   "id": "52f4f7c9",
   "metadata": {},
   "outputs": [],
   "source": []
  }
 ],
 "metadata": {
  "kernelspec": {
   "display_name": "Python 3 (ipykernel)",
   "language": "python",
   "name": "python3"
  },
  "language_info": {
   "codemirror_mode": {
    "name": "ipython",
    "version": 3
   },
   "file_extension": ".py",
   "mimetype": "text/x-python",
   "name": "python",
   "nbconvert_exporter": "python",
   "pygments_lexer": "ipython3",
   "version": "3.9.12"
  }
 },
 "nbformat": 4,
 "nbformat_minor": 5
}
