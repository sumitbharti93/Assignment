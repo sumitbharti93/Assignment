{
 "cells": [
  {
   "cell_type": "markdown",
   "id": "70f9a7aa",
   "metadata": {},
   "source": [
    "# Python_Basic_Assignment_Assignment_24"
   ]
  },
  {
   "cell_type": "code",
   "execution_count": null,
   "id": "7c9cc964",
   "metadata": {},
   "outputs": [],
   "source": [
    "# 1. What is the relationship between def statements and lambda expressions ?\n",
    "ANs:-\n",
    "    Def statement is used for function defenition.\n",
    "    EG:-\n",
    "        def func(parameters):\n",
    "            body of the function\n",
    "            return statement \n",
    "        \n",
    "    Here, func() is the name of the function. def is the keyword for function declaration. \n",
    "    \n",
    "    While, lambda is a anonymous function. There is no nmae for the function. It is used for simple program. Lengthy\n",
    "    program is not advisable inside the lambda function. \n",
    "    Eg:-\n",
    "        lambda x : x**2\n",
    "        \n",
    "        Here x is the parameter that lambda function will take and x**2 is the return of the lambda function \n",
    "\n",
    "\n"
   ]
  },
  {
   "cell_type": "code",
   "execution_count": null,
   "id": "aa0268a4",
   "metadata": {},
   "outputs": [],
   "source": [
    "# 2. What is the benefit of lambda?\n",
    "#ANs:-\n",
    "    lambda provides a shortcut for declaring small anonymous function. It behaves like just normal functions with the def\n",
    "    keyword. Itcan be also used function objects are required. \n"
   ]
  },
  {
   "cell_type": "code",
   "execution_count": null,
   "id": "22985c31",
   "metadata": {},
   "outputs": [],
   "source": [
    "# 3. Compare and contrast map, filter, and reduce.\n",
    "ANs:-\n",
    "    map:- It is function which mapes the given iterable(list,tuple etc) for each value to the given function and returns a \n",
    "        iterable object which then an be passed to list, set to receive list, set of elements respectively. \n",
    "        eg:\n",
    "            map(func, iterable)\n",
    "            iterable is any list, tuple etc. The value of the iterable will be passed to func and it will return value\n",
    "        accordingly. map function will return iterable which can be iterate over and can be passed to list and set etc. \n",
    "    \n",
    "    filter - It is same like map function .The only difference is, it will filter out the value where given function is \n",
    "    returning nonetype. \n",
    "    Eg:-\n",
    "        filter(func, iterable)\n",
    "        For any value of iterablw in given func if return value is nonetype then it will filter out that result. \n",
    "    \n",
    "    reduce:-It is used to pass all the elements of the given sequence to the passed function. It takes two elements of the \n",
    "    sequence at once and takes the return value at first element for the enxt operation and takes the second element from \n",
    "    the sequence. \n",
    "    Eg:\n",
    "        reduce(func, sequence)\n"
   ]
  },
  {
   "cell_type": "code",
   "execution_count": null,
   "id": "0efe6b03",
   "metadata": {},
   "outputs": [],
   "source": [
    "# 4. What are function annotations, and how are they used?\n",
    "Ans:-\n",
    "    Function annotations are arbitrary python expressions that are associated with various part of functions.\n",
    "    These expressions are evaluated at compile time and have no life in python’s runtime environment. Python does \n",
    "    not attach any meaning to these annotations.\n",
    "    EG:\n",
    "        sum(x:int, y:int)-> int:\n",
    "            return x+y\n",
    "        \n",
    "    Here : int for the parameteris just an annotation which is juts for inoformation , what kind of parameter the given\n",
    "        function is taking. \n",
    "    -> is giveing information about return type. \n",
    "    "
   ]
  },
  {
   "cell_type": "code",
   "execution_count": null,
   "id": "bc2014eb",
   "metadata": {},
   "outputs": [],
   "source": [
    "# 5. What are recursive functions, and how are they used?\n",
    "Ans:-\n",
    "    Recurvise functions are those kinds of functions which call themselves again and again based on the given condition\n",
    "    It can be used for so many operations.\n",
    "    EG:-\n",
    "def func(x):\n",
    "    if x<=10:\n",
    "        print(x)\n",
    "    elif x>10:\n",
    "        print(x)\n",
    "        x=x-1\n",
    "        func(x)\n",
    "func(20)"
   ]
  },
  {
   "cell_type": "code",
   "execution_count": null,
   "id": "d4ec38f1",
   "metadata": {},
   "outputs": [],
   "source": [
    "# 6. What are some general design guidelines for coding functions?\n",
    "ANs:-\n",
    "    1. use 4 spaces for indenatation not tabs\n",
    "    2. use docstrings to give onformation about functions \n",
    "    3. Wrap lines so that lines dont exceed beyond 79 characters\n",
    "    4. keep on updating comments\n",
    "    5. use default encoding utf-8\n",
    "    6. use unserscore for naming of the function between meaning set of words. \n",
    "    7. use self keyword as the first argument for class method\n",
    "\n"
   ]
  },
  {
   "cell_type": "code",
   "execution_count": null,
   "id": "73554800",
   "metadata": {},
   "outputs": [],
   "source": []
  }
 ],
 "metadata": {
  "kernelspec": {
   "display_name": "Python 3 (ipykernel)",
   "language": "python",
   "name": "python3"
  },
  "language_info": {
   "codemirror_mode": {
    "name": "ipython",
    "version": 3
   },
   "file_extension": ".py",
   "mimetype": "text/x-python",
   "name": "python",
   "nbconvert_exporter": "python",
   "pygments_lexer": "ipython3",
   "version": "3.9.12"
  }
 },
 "nbformat": 4,
 "nbformat_minor": 5
}
