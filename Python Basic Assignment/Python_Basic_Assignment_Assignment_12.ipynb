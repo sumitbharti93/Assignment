{
 "cells": [
  {
   "cell_type": "markdown",
   "id": "9858ae7b",
   "metadata": {},
   "source": [
    "# Python Basic Assignment-Assignment-12"
   ]
  },
  {
   "cell_type": "code",
   "execution_count": null,
   "id": "72a9cf73",
   "metadata": {},
   "outputs": [],
   "source": [
    "1. In what modes should the PdfFileReader() and PdfFileWriter() File objects will be opened?\n",
    "Ans:-\n",
    "    PdfFileReader() should be opened in rb(read binary) mode. \n",
    "    PdfFileWriter() should be opened in wb(write binary) mode. "
   ]
  },
  {
   "cell_type": "code",
   "execution_count": null,
   "id": "720317b5",
   "metadata": {},
   "outputs": [],
   "source": [
    "2. From a PdfFileReader object, how do you get a Page object for page 5?\n",
    "Ans:-\n",
    "    suppose a is PDFFileReader object then we can get a page object by below program\n",
    "    a.getPage(5)"
   ]
  },
  {
   "cell_type": "code",
   "execution_count": null,
   "id": "3f69af4b",
   "metadata": {},
   "outputs": [],
   "source": [
    "3. What PdfFileReader variable stores the number of pages in the PDF document?\n",
    "Ans:-\n",
    "    numPages"
   ]
  },
  {
   "cell_type": "code",
   "execution_count": null,
   "id": "2ba61d3f",
   "metadata": {},
   "outputs": [],
   "source": [
    "4. If a PdfFileReader object’s PDF is encrypted with the password swordfish, what must you do before you can obtain Page \n",
    "objects from it?\n",
    "Ans:-\n",
    "    We should decryt it first using the available decrypt method on PDFfile object. \n",
    "    Eg:-\n",
    "        pdffileobject.decrypt('swordfish')"
   ]
  },
  {
   "cell_type": "code",
   "execution_count": null,
   "id": "f3d6e567",
   "metadata": {},
   "outputs": [],
   "source": [
    "5. What methods do you use to rotate a page?\n",
    "Ans:-\n",
    "    Two methods are available fpr rotating a page. \n",
    "    1. rotateClockWise() # For rotating clockwise\n",
    "    1. rotateCounterClockWise() # For rotating counter clockwise\n",
    "    "
   ]
  },
  {
   "cell_type": "code",
   "execution_count": null,
   "id": "a176c2ae",
   "metadata": {},
   "outputs": [],
   "source": [
    "6. What is the difference between a Run object and a Paragraph object?\n",
    "Ans:-\n",
    "    Paragraph object is created for all the paragraphs in the document.A paragraph object begins whenever user press enter \n",
    "    or return while typing in the word document. \n",
    "    A run object is continous run of text in the same style. "
   ]
  },
  {
   "cell_type": "code",
   "execution_count": null,
   "id": "52e49018",
   "metadata": {},
   "outputs": [],
   "source": [
    "7. How do you obtain a list of Paragraph objects for a Document object that’s stored in a variable named doc?\n",
    "Ans:-\n",
    "    doc.paragraphs"
   ]
  },
  {
   "cell_type": "code",
   "execution_count": null,
   "id": "f15c6b63",
   "metadata": {},
   "outputs": [],
   "source": [
    "8. What type of object has bold, underline, italic, strike, and outline variables?\n",
    "Ans:-\n",
    "    Run object bold, underline, italic, strike, and outline variables. "
   ]
  },
  {
   "cell_type": "code",
   "execution_count": null,
   "id": "cf36b07a",
   "metadata": {},
   "outputs": [],
   "source": [
    "9. What is the difference between False, True, and None for the bold variable?\n",
    "Ans:-\n",
    "    bold = True # It will set the style to bold\n",
    "    bold = Flase # Style will not be set to bold\n",
    "    bold = None # style is not applicable "
   ]
  },
  {
   "cell_type": "code",
   "execution_count": null,
   "id": "ab948a26",
   "metadata": {},
   "outputs": [],
   "source": [
    "10. How do you create a Document object for a new Word document?\n",
    "Ans:-\n",
    "    from docx import Document\n",
    "    document = Document() #Object for new word document has been created "
   ]
  },
  {
   "cell_type": "code",
   "execution_count": null,
   "id": "0fcb9343",
   "metadata": {},
   "outputs": [],
   "source": [
    "11. How do you add a paragraph with the text 'Hello, there!' to a Document object stored in a variable named doc?\n",
    "Ans:-\n",
    "    doc.add_paragraph('Hello, there!')"
   ]
  },
  {
   "cell_type": "code",
   "execution_count": null,
   "id": "af9605a1",
   "metadata": {},
   "outputs": [],
   "source": [
    "12. What integers represent the levels of headings available in Word documents?\n",
    "Ans:-\n",
    "    Level of heading can be sepcified by using the level attribute inside the add_heading method. \n",
    "    There are total of 5 levels. They are 0,1,2,3,4. "
   ]
  },
  {
   "cell_type": "code",
   "execution_count": null,
   "id": "7e5d4a01",
   "metadata": {},
   "outputs": [],
   "source": []
  }
 ],
 "metadata": {
  "kernelspec": {
   "display_name": "Python 3 (ipykernel)",
   "language": "python",
   "name": "python3"
  },
  "language_info": {
   "codemirror_mode": {
    "name": "ipython",
    "version": 3
   },
   "file_extension": ".py",
   "mimetype": "text/x-python",
   "name": "python",
   "nbconvert_exporter": "python",
   "pygments_lexer": "ipython3",
   "version": "3.9.12"
  }
 },
 "nbformat": 4,
 "nbformat_minor": 5
}
