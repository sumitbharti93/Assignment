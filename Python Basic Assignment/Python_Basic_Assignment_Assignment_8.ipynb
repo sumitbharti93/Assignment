{
 "cells": [
  {
   "cell_type": "markdown",
   "id": "6e9bba26",
   "metadata": {},
   "source": [
    "# Python Basic Assignment - 8\n",
    "    "
   ]
  },
  {
   "cell_type": "code",
   "execution_count": null,
   "id": "dcca0cf8",
   "metadata": {},
   "outputs": [],
   "source": [
    "1. Is the Python Standard Library included with PyInputPlus?\n",
    "Ans:-\n",
    "    It is not included with python standard library. We need to install it seperately. "
   ]
  },
  {
   "cell_type": "code",
   "execution_count": null,
   "id": "6466e153",
   "metadata": {},
   "outputs": [],
   "source": [
    "2. Why is PyInputPlus commonly imported with import pyinputplus as pypi?\n",
    "Ans:-\n",
    "    Alias pypi is used so that we can use shorter name to call module , functions of the library."
   ]
  },
  {
   "cell_type": "code",
   "execution_count": null,
   "id": "907b58a6",
   "metadata": {},
   "outputs": [],
   "source": [
    "3. How do you distinguish between inputInt() and inputFloat()?\n",
    "Ans:-\n",
    "    inputInt() - Accepts a integer value\n",
    "    inputFloat() - Accepts a float value"
   ]
  },
  {
   "cell_type": "code",
   "execution_count": null,
   "id": "8bf06859",
   "metadata": {},
   "outputs": [],
   "source": [
    "4. Using PyInputPlus, how do you ensure that the user enters a whole number between 0 and 99?\n",
    "Ans:-\n",
    "    inputInt() accepts min and max as range for input. \n",
    "    inputInt(min=1, max=98)\n",
    "    "
   ]
  },
  {
   "cell_type": "code",
   "execution_count": null,
   "id": "0264b92f",
   "metadata": {},
   "outputs": [],
   "source": [
    "5. What is transferred to the keyword arguments allowRegexes and blockRegexes?\n",
    "Ans:-\n",
    "    allowRegexes - It will allow only those regex to pass the validation which is passed as an argument. \n",
    "    blockRegexes - It will block those regex which is passed as an argument. \n",
    "    "
   ]
  },
  {
   "cell_type": "code",
   "execution_count": null,
   "id": "c8825bab",
   "metadata": {},
   "outputs": [],
   "source": [
    "6. If a blank input is entered three times, what does inputStr(limit=3) do?\n",
    "Ans:-\n",
    "    It will raise retrylimitexception."
   ]
  },
  {
   "cell_type": "code",
   "execution_count": null,
   "id": "cdcd3ce9",
   "metadata": {},
   "outputs": [],
   "source": [
    "7. If blank input is entered three times, what does inputStr(limit=3, default='hello') do?\n",
    "Ans:-\n",
    "    It will print 'hello'"
   ]
  },
  {
   "cell_type": "code",
   "execution_count": null,
   "id": "5f14172e",
   "metadata": {},
   "outputs": [],
   "source": []
  }
 ],
 "metadata": {
  "kernelspec": {
   "display_name": "Python 3 (ipykernel)",
   "language": "python",
   "name": "python3"
  },
  "language_info": {
   "codemirror_mode": {
    "name": "ipython",
    "version": 3
   },
   "file_extension": ".py",
   "mimetype": "text/x-python",
   "name": "python",
   "nbconvert_exporter": "python",
   "pygments_lexer": "ipython3",
   "version": "3.9.12"
  }
 },
 "nbformat": 4,
 "nbformat_minor": 5
}
