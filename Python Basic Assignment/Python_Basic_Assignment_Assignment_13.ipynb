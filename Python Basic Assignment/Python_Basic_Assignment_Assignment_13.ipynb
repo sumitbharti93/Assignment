{
 "cells": [
  {
   "cell_type": "markdown",
   "id": "baedee5d",
   "metadata": {},
   "source": [
    "# Python_Basic_Assignment_Assignment_13"
   ]
  },
  {
   "cell_type": "code",
   "execution_count": null,
   "id": "e04adbeb",
   "metadata": {},
   "outputs": [],
   "source": [
    "1. What advantages do Excel spreadsheets have over CSV spreadsheets?\n",
    "Ans:-\n",
    "    1. Reading large data is easier in Excel spreadsheet compared to CSV spreadsheets. \n",
    "    2. Multiple sheets can be stored in Excel, but the same is not true with CSV. \n",
    "    3. Excel is capable of storing information with formatting and formula , but the same can not be achieved with CSV. \n",
    "    4. External linking of data is possible in Excel, but it is possible in CSV. "
   ]
  },
  {
   "cell_type": "code",
   "execution_count": null,
   "id": "2a95bd0d",
   "metadata": {},
   "outputs": [],
   "source": [
    "2.What do you pass to csv.reader() and csv.writer() to create reader and writer objects?\n",
    "Ans:-\n",
    "    We pass file objects to both the methods. "
   ]
  },
  {
   "cell_type": "code",
   "execution_count": null,
   "id": "92a76194",
   "metadata": {},
   "outputs": [],
   "source": [
    "3. What modes do File objects for reader and writer objects need to be opened in?\n",
    "Ans:-\n",
    "    Fore reader it should be opened in 'r' mode and for write objects it should be opened in 'w' mode."
   ]
  },
  {
   "cell_type": "code",
   "execution_count": null,
   "id": "3e5d28f9",
   "metadata": {},
   "outputs": [],
   "source": [
    "4. What method takes a list argument and writes it to a CSV file?\n",
    "Ans:-\n",
    "    writerow() method."
   ]
  },
  {
   "cell_type": "code",
   "execution_count": null,
   "id": "cc905de1",
   "metadata": {},
   "outputs": [],
   "source": [
    "5. What do the keyword arguments delimiter and line terminator do?\n",
    "Ans:-\n",
    "    delimeter - It replaces the existing delimeter with the delimeter which has been passed with the argumentt delimeter. \n",
    "    line terminator - It is used to terminate lines produced by writer objects. \n",
    "    "
   ]
  },
  {
   "cell_type": "code",
   "execution_count": null,
   "id": "5bd4b782",
   "metadata": {},
   "outputs": [],
   "source": [
    "6. What function takes a string of JSON data and returns a Python data structure?\n",
    "Ans:-\n",
    "    json.loads()"
   ]
  },
  {
   "cell_type": "code",
   "execution_count": null,
   "id": "16ce3da4",
   "metadata": {},
   "outputs": [],
   "source": [
    "7. What function takes a Python data structure and returns a string of JSON data?\n",
    "Ans:-\n",
    "    json.dumps()"
   ]
  },
  {
   "cell_type": "code",
   "execution_count": null,
   "id": "f23fd77c",
   "metadata": {},
   "outputs": [],
   "source": []
  },
  {
   "cell_type": "code",
   "execution_count": null,
   "id": "5b68fa93",
   "metadata": {},
   "outputs": [],
   "source": []
  }
 ],
 "metadata": {
  "kernelspec": {
   "display_name": "Python 3 (ipykernel)",
   "language": "python",
   "name": "python3"
  },
  "language_info": {
   "codemirror_mode": {
    "name": "ipython",
    "version": 3
   },
   "file_extension": ".py",
   "mimetype": "text/x-python",
   "name": "python",
   "nbconvert_exporter": "python",
   "pygments_lexer": "ipython3",
   "version": "3.9.12"
  }
 },
 "nbformat": 4,
 "nbformat_minor": 5
}
