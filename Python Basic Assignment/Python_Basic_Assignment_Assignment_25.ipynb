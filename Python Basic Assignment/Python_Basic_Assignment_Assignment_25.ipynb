{
 "cells": [
  {
   "cell_type": "markdown",
   "id": "cc33688c",
   "metadata": {},
   "source": [
    "# Python_Basic_Assignment_Assignment_25"
   ]
  },
  {
   "cell_type": "code",
   "execution_count": null,
   "id": "1f7d9aa4",
   "metadata": {},
   "outputs": [],
   "source": [
    "# 1) . What is the difference between enclosing a list comprehension in square brackets and parentheses?\n",
    "Ans:-\n",
    "    [] brackets is used for list comprehension while () 'parenthesis' is used for set comprehencion. \n",
    "\n"
   ]
  },
  {
   "cell_type": "code",
   "execution_count": null,
   "id": "65e277db",
   "metadata": {},
   "outputs": [],
   "source": [
    "# 2) What is the relationship between generators and iterators?\n",
    "Ans:-\n",
    "    generator uses function to implement generator while iterator uses classes to implement ierator. \n",
    "    generator is used to generate an genrator object. It contains the previous value and logic to generator next value \n",
    "    therefore reducing memory space. It does not conatin the entire sequence. It uses yield keyword. \n",
    "        while iter() method is used over iterables to generate iterator. after that next() method is used to get the\n",
    "    element. \n",
    "        "
   ]
  },
  {
   "cell_type": "code",
   "execution_count": null,
   "id": "97d4e918",
   "metadata": {},
   "outputs": [],
   "source": [
    "# 3) What are the signs that a function is a generator function?\n",
    "Ans:-\n",
    "    It will contain a yield keyword. \n",
    "    "
   ]
  },
  {
   "cell_type": "code",
   "execution_count": null,
   "id": "8697f727",
   "metadata": {},
   "outputs": [],
   "source": [
    "# 4) What is the purpose of a yield statement?\n",
    "Ans:-\n",
    "    It will turn normal function into a generator function. "
   ]
  },
  {
   "cell_type": "code",
   "execution_count": null,
   "id": "f6ac709a",
   "metadata": {},
   "outputs": [],
   "source": [
    "#5) What is the relationship between map calls and list comprehensions? Make a comparison and contrast between the two.\n",
    "\n",
    "ANs:-\n",
    "    1. List comprehension return list while map function returns iterator object.\n",
    "    2. List comprehenion allows filtering while map doesnt allow that. \n",
    "    3. List comprehension is more concise and easier to read as compare to map. \n",
    "    \n",
    "\n"
   ]
  },
  {
   "cell_type": "code",
   "execution_count": null,
   "id": "61526df6",
   "metadata": {},
   "outputs": [],
   "source": []
  },
  {
   "cell_type": "code",
   "execution_count": null,
   "id": "20342bd5",
   "metadata": {},
   "outputs": [],
   "source": []
  }
 ],
 "metadata": {
  "kernelspec": {
   "display_name": "Python 3 (ipykernel)",
   "language": "python",
   "name": "python3"
  },
  "language_info": {
   "codemirror_mode": {
    "name": "ipython",
    "version": 3
   },
   "file_extension": ".py",
   "mimetype": "text/x-python",
   "name": "python",
   "nbconvert_exporter": "python",
   "pygments_lexer": "ipython3",
   "version": "3.9.12"
  }
 },
 "nbformat": 4,
 "nbformat_minor": 5
}
