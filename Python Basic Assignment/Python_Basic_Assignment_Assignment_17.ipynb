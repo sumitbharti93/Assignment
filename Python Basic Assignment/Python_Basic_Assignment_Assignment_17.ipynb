{
 "cells": [
  {
   "cell_type": "markdown",
   "id": "f659ba6b",
   "metadata": {},
   "source": [
    "# Python_Basic_Assignment_Assignment_17"
   ]
  },
  {
   "cell_type": "code",
   "execution_count": 2,
   "id": "fa0b402d",
   "metadata": {},
   "outputs": [
    {
     "name": "stdout",
     "output_type": "stream",
     "text": [
      "just right\n"
     ]
    }
   ],
   "source": [
    "'''1. Assign the value 7 to the variable guess_me. Then, write the conditional tests (if, else, and elif) to print the \n",
    "string 'too low' if guess_me is less than 7, 'too high' if greater than 7, and 'just right' if equal to 7.'''\n",
    "#Code\n",
    "guess_me = 7\n",
    "if guess_me<7:\n",
    "    print('too low')\n",
    "elif guess_me>7:\n",
    "    print('too high')\n",
    "else:\n",
    "    print('just right')\n"
   ]
  },
  {
   "cell_type": "code",
   "execution_count": 6,
   "id": "1908e2a2",
   "metadata": {},
   "outputs": [
    {
     "name": "stdout",
     "output_type": "stream",
     "text": [
      "too low\n",
      "too low\n",
      "too low\n",
      "too low\n",
      "too low\n",
      "too low\n"
     ]
    }
   ],
   "source": [
    "'''\n",
    "2. Assign the value 7 to the variable guess_me and the value 1 to the variable start. Write a while loop that compares \n",
    "start with guess_me. Print too low if start is less than guess me. If start equals guess_me, print 'found it!' and exit \n",
    "the loop. If start is greater than guess_me, print 'oops' and exit the loop. Increment start at the end of the loop.\n",
    "'''\n",
    "#Code\n",
    "guess_me = 7\n",
    "start = 1\n",
    "while(start<guess_me):\n",
    "    print('too low')\n",
    "    start+=1\n",
    "while(start)"
   ]
  },
  {
   "cell_type": "code",
   "execution_count": 7,
   "id": "094cda21",
   "metadata": {},
   "outputs": [
    {
     "name": "stdout",
     "output_type": "stream",
     "text": [
      "3\n",
      "2\n",
      "1\n",
      "0\n"
     ]
    }
   ],
   "source": [
    "# 3. Print the following values of the list [3, 2, 1, 0] using a for loop.\n",
    "#Code\n",
    "for i in range(len([3,2,1,0])):\n",
    "    print([3,2,1,0][i])"
   ]
  },
  {
   "cell_type": "code",
   "execution_count": 8,
   "id": "8325d497",
   "metadata": {},
   "outputs": [
    {
     "data": {
      "text/plain": [
       "[0, 2, 4, 6, 8]"
      ]
     },
     "execution_count": 8,
     "metadata": {},
     "output_type": "execute_result"
    }
   ],
   "source": [
    "# 4. Use a list comprehension to make a list of the even numbers in range(10)\n",
    "#Code\n",
    "\n",
    "[i for i in range(10) if i%2==0]"
   ]
  },
  {
   "cell_type": "code",
   "execution_count": 11,
   "id": "d6976964",
   "metadata": {},
   "outputs": [
    {
     "data": {
      "text/plain": [
       "{0: 0, 1: 1, 2: 4, 3: 9, 4: 16, 5: 25, 6: 36, 7: 49, 8: 64, 9: 81}"
      ]
     },
     "execution_count": 11,
     "metadata": {},
     "output_type": "execute_result"
    }
   ],
   "source": [
    "'''5. Use a dictionary comprehension to create the dictionary squares. Use range(10) to return the keys, and use the \n",
    "square of each key as its value.'''\n",
    "#Code\n",
    "d = {}\n",
    "{i:i*i for i in range(10)}\n"
   ]
  },
  {
   "cell_type": "code",
   "execution_count": 16,
   "id": "64de33c3",
   "metadata": {},
   "outputs": [
    {
     "data": {
      "text/plain": [
       "{1, 3, 5, 7, 9}"
      ]
     },
     "execution_count": 16,
     "metadata": {},
     "output_type": "execute_result"
    }
   ],
   "source": [
    "# 6. Construct the set odd from the odd numbers in the range using a set comprehension (10).\n",
    "#Code\n",
    "{i for i in range(10) if i%2!=0}"
   ]
  },
  {
   "cell_type": "code",
   "execution_count": 18,
   "id": "c3a51a27",
   "metadata": {},
   "outputs": [
    {
     "name": "stdout",
     "output_type": "stream",
     "text": [
      "Got\n",
      "0\n",
      "1\n",
      "2\n",
      "3\n",
      "4\n",
      "5\n",
      "6\n",
      "7\n",
      "8\n",
      "9\n"
     ]
    }
   ],
   "source": [
    "'''7. Use a generator comprehension to return the string 'Got ' and a number for the numbers in range(10). Iterate through\n",
    "this by using a for loop.'''\n",
    "#Code\n",
    "lst = ['Got', 0,1,2,3,4,5,6,7,8,9]\n",
    "generator_expression = iter(lst)\n",
    "for i in generator_expression:\n",
    "    print(i)"
   ]
  },
  {
   "cell_type": "code",
   "execution_count": 21,
   "id": "d9905b40",
   "metadata": {},
   "outputs": [
    {
     "data": {
      "text/plain": [
       "['Harry', 'Ron', 'Hermione']"
      ]
     },
     "execution_count": 21,
     "metadata": {},
     "output_type": "execute_result"
    }
   ],
   "source": [
    "# 8. Define a function called good that returns the list ['Harry', 'Ron', 'Hermione'].\n",
    "#Code\n",
    "def func_list():\n",
    "    return ['Harry', 'Ron', 'Hermione']\n",
    "func_list()"
   ]
  },
  {
   "cell_type": "code",
   "execution_count": 28,
   "id": "82b0928b",
   "metadata": {},
   "outputs": [
    {
     "name": "stdout",
     "output_type": "stream",
     "text": [
      "5\n"
     ]
    }
   ],
   "source": [
    "'''9. Define a generator function called get_odds that returns the odd numbers from range(10). Use a for loop to find\n",
    "and print the third value returned.'''\n",
    "#Code\n",
    "def get_odds(n):\n",
    "    for i in range(n):\n",
    "        if i%2!=0:\n",
    "            yield i\n",
    "a=0\n",
    "for i in get_odds(10):\n",
    "    if a==2:\n",
    "        print(i)\n",
    "    a+=1"
   ]
  },
  {
   "cell_type": "code",
   "execution_count": 34,
   "id": "846d37b8",
   "metadata": {},
   "outputs": [
    {
     "name": "stdout",
     "output_type": "stream",
     "text": [
      "-4\n",
      "calling my custom exception:  Caught an oops\n"
     ]
    }
   ],
   "source": [
    "'''10. Define an exception called OopsException. Raise this exception to see what happens. Then write the code to\n",
    "catch this exception and print 'Caught an oops'.'''\n",
    "#Code\n",
    "\n",
    "def OOpsException(a):\n",
    "    if a<0:\n",
    "        raise Exception('Caught an oops')\n",
    "    return a \n",
    "try:\n",
    "    a = int(input())\n",
    "    OOpsException(a)\n",
    "except Exception as e:\n",
    "    print('calling my custom exception: ', e)\n"
   ]
  },
  {
   "cell_type": "code",
   "execution_count": 36,
   "id": "9697b528",
   "metadata": {},
   "outputs": [
    {
     "data": {
      "text/plain": [
       "{'Creature of Habit': 'A nun turns into a monster',\n",
       " 'Crewel Fate': 'A haunted yarn shop'}"
      ]
     },
     "execution_count": 36,
     "metadata": {},
     "output_type": "execute_result"
    }
   ],
   "source": [
    "'''11. Use zip() to make a dictionary called movies that pairs these lists: titles = ['Creature of Habit', 'Crewel Fate'] \n",
    "    and plots = ['A nun turns into a monster', 'A haunted yarn shop'].'''\n",
    "#Code\n",
    "\n",
    "titles = ['Creature of Habit', 'Crewel Fate']\n",
    "plots = ['A nun turns into a monster', 'A haunted yarn shop']\n",
    "movies = dict(zip(titles,plots))\n",
    "movies"
   ]
  },
  {
   "cell_type": "code",
   "execution_count": null,
   "id": "0c7790f7",
   "metadata": {},
   "outputs": [],
   "source": []
  }
 ],
 "metadata": {
  "kernelspec": {
   "display_name": "Python 3 (ipykernel)",
   "language": "python",
   "name": "python3"
  },
  "language_info": {
   "codemirror_mode": {
    "name": "ipython",
    "version": 3
   },
   "file_extension": ".py",
   "mimetype": "text/x-python",
   "name": "python",
   "nbconvert_exporter": "python",
   "pygments_lexer": "ipython3",
   "version": "3.9.12"
  }
 },
 "nbformat": 4,
 "nbformat_minor": 5
}
