{
 "cells": [
  {
   "cell_type": "raw",
   "id": "2263ebf3",
   "metadata": {},
   "source": [
    "1.What are the two values of the Boolean data type? How do you write them?\n",
    "Ans - \n",
    "\n",
    "True\n",
    "False\n"
   ]
  },
  {
   "cell_type": "raw",
   "id": "6ea2545d",
   "metadata": {},
   "source": [
    "2. What are the three different types of Boolean operators?\n",
    "Ans - \n",
    " 'and' , 'or' and 'not'  are different types of Boolean opeartors which produce boolean data ie. True or False. \n"
   ]
  },
  {
   "cell_type": "raw",
   "id": "e3f4e056",
   "metadata": {},
   "source": [
    "3. Make a list of each Boolean operator's truth tables (i.e. every possible combination of Boolean values for the \n",
    "operator and what it evaluate ).\n",
    "\n",
    "  Boolean  Value    Boolean Operator       Final Value \n",
    "1. True    True        and                    True \n",
    "2. True    False       and                    False\n",
    "3. False   True        and                    False\n",
    "4. False   False       and                    False\n",
    "\n",
    "5. True     True        or                     True\n",
    "6. True     False       or                     True\n",
    "7. True     False       or                     True\n",
    "8. False    False       or                     False \n",
    "\n",
    "9. True                not                     False \n",
    "10 False               not                     True \n"
   ]
  },
  {
   "cell_type": "raw",
   "id": "3d6fe559",
   "metadata": {},
   "source": [
    "4. What are the values of the following expressions?\n",
    "(5 > 4) and (3 == 5)                     \n",
    "not (5 > 4)                              \n",
    "(5 > 4) or (3 == 5)                      \n",
    "not ((5 > 4) or (3 == 5))                \n",
    "(True and True) and (True == False)      \n",
    "(not False) or (not True)                \n",
    "\n",
    "Ans - \n",
    "False \n",
    "False\n",
    "True\n",
    "False\n",
    "False\n",
    "True"
   ]
  },
  {
   "cell_type": "raw",
   "id": "25db76dc",
   "metadata": {},
   "source": [
    "5. What are the six comparison operators?\n",
    "\n",
    "Ans - \n",
    "1. >\n",
    "2. <\n",
    "3. >=\n",
    "4. <=\n",
    "5. ==\n",
    "6. !=\n"
   ]
  },
  {
   "cell_type": "raw",
   "id": "55d6acd8",
   "metadata": {},
   "source": [
    "6. How do you tell the difference between the equal to and assignment operators?Describe a condition and when you would\n",
    "use one.\n",
    "\n",
    "Ans - \n",
    "Equal to operation is denoted as \"==\" while assignment operator is denoted as '='. \n",
    "Consider below example. \n",
    "a = 10 # here we are assigning value 10 to variable a. \n",
    "\n",
    "a==10 # here we are checking whether 'a' is equal to or not. \n",
    "\n",
    "When we have to assign any value then we will use assignment operator. When we have to check a condition for any \n",
    "variable whether it is equal to any value or not , then we will use equal to operator. "
   ]
  },
  {
   "cell_type": "raw",
   "id": "1bd61235",
   "metadata": {},
   "source": [
    "7. Identify the three blocks in this code:\n",
    "spam = 0\n",
    "if spam == 10:\n",
    "print('eggs')\n",
    "if spam > 5:\n",
    "print('bacon')\n",
    "else:\n",
    "print('ham')\n",
    "print('spam')\n",
    "print('spam')\n",
    "\n",
    "Ans:- \n",
    "Block1 \n",
    "if spam==10:\n",
    "    print('eggs')\n",
    "    \n",
    "Block2\n",
    "\n",
    "if spam>5:\n",
    "    print('bacon')\n",
    "    \n",
    "Block3\n",
    "\n",
    "else:\n",
    "    print('ham')\n",
    "    print('spam')\n",
    "    print('spam')\n"
   ]
  },
  {
   "cell_type": "raw",
   "id": "71a22e26",
   "metadata": {},
   "source": [
    "8. Write code that prints Hello if 1 is stored in spam, prints Howdy if 2 is stored in spam, and prints Greetings! \n",
    "if anything else is stored in spam.\n",
    "\n",
    "spam = 10\n",
    "\n",
    "if spam==1:\n",
    "    print('Hello')\n",
    "elif spam==2:\n",
    "    print('Howdy')\n",
    "else:\n",
    "    print(\"Greetings!\")\n"
   ]
  },
  {
   "cell_type": "raw",
   "id": "8790edf4",
   "metadata": {},
   "source": [
    "9.If your programme is stuck in an endless loop, what keys you’ll press?\n",
    "Ans -\n",
    "ctrl+c\n"
   ]
  },
  {
   "cell_type": "raw",
   "id": "2b95b8d0",
   "metadata": {},
   "source": [
    "10. How can you tell the difference between break and continue?\n",
    "\n",
    "Ans-\n",
    "Break - Whenever the program will encounter break statement control will come out from the current loop. \n",
    "\n",
    "continue - Whenever the program will encounter continue statement it will not execute the next statement after contnue statement but it will not come out of the loop. \n",
    "\n"
   ]
  },
  {
   "cell_type": "code",
   "execution_count": null,
   "id": "33746d6f",
   "metadata": {},
   "outputs": [],
   "source": [
    "11. In a for loop, what is the difference between range(10), range(0, 10), and range(0, 10, 1)?\n",
    "Ans-\n",
    "\n",
    "There is no difference as all of the expression will produce the same result. It will 0 to 10 with a step size of 1. \n"
   ]
  },
  {
   "cell_type": "code",
   "execution_count": null,
   "id": "54eba5a5",
   "metadata": {},
   "outputs": [],
   "source": [
    "12. Write a short program that prints the numbers 1 to 10 using a for loop. Then write an equivalent program that \n",
    "prints the numbers 1 to 10 using a while loop.\n",
    "\n",
    "Ans - \n",
    "Program1 - using for loop\n",
    "\n",
    "for i in range(1,11):\n",
    "    print(i)\n",
    "    \n",
    "Program2 - using while loop \n",
    "\n",
    "i = 1\n",
    "while i<=10:\n",
    "    print(i)\n",
    "    i+=1\n"
   ]
  },
  {
   "cell_type": "code",
   "execution_count": null,
   "id": "1b5ef811",
   "metadata": {},
   "outputs": [],
   "source": [
    "13. If you had a function named bacon() inside a module named spam, how would you call it after importing spam?\n",
    "\n",
    "Ans -\n",
    "\n",
    "spam.bacon()\n"
   ]
  },
  {
   "cell_type": "code",
   "execution_count": null,
   "id": "8942f9c2",
   "metadata": {},
   "outputs": [],
   "source": []
  }
 ],
 "metadata": {
  "kernelspec": {
   "display_name": "Python 3 (ipykernel)",
   "language": "python",
   "name": "python3"
  },
  "language_info": {
   "codemirror_mode": {
    "name": "ipython",
    "version": 3
   },
   "file_extension": ".py",
   "mimetype": "text/x-python",
   "name": "python",
   "nbconvert_exporter": "python",
   "pygments_lexer": "ipython3",
   "version": "3.9.12"
  }
 },
 "nbformat": 4,
 "nbformat_minor": 5
}
