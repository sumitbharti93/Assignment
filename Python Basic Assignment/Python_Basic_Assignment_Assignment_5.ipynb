{
 "cells": [
  {
   "cell_type": "raw",
   "id": "b6f32d5a",
   "metadata": {},
   "source": [
    "1. What does an empty dictionary's code look like?\n",
    "Ans:-\n",
    "    {}\n",
    "    "
   ]
  },
  {
   "cell_type": "raw",
   "id": "4f6a5b33",
   "metadata": {},
   "source": [
    "2. What is the value of a dictionary value with the key 'foo' and the value 42?\n",
    "Ans:-\n",
    "    42"
   ]
  },
  {
   "cell_type": "raw",
   "id": "a8ad1757",
   "metadata": {},
   "source": [
    "3. What is the most significant distinction between a dictionary and a list?\n",
    "Ans:-\n",
    "    1. List contain only sequence of values while dictionary conatin key, value pair. \n",
    "    2. List is an ordered set of collection while dictionary is not. \n"
   ]
  },
  {
   "cell_type": "raw",
   "id": "d973eece",
   "metadata": {},
   "source": [
    "4. What happens if you try to access spam['foo'] if spam is {'bar': 100}?\n",
    "Ans:-\n",
    "    It will give keyerror as there is no key as named 'foo'\n",
    "    "
   ]
  },
  {
   "cell_type": "raw",
   "id": "2e20913d",
   "metadata": {},
   "source": [
    "5. If a dictionary is stored in spam, what is the difference between the expressions 'cat' in spam and 'cat' in \n",
    "spam.keys()?\n",
    "Ans:-\n",
    "    There is no difference as \"in\" operator will check whether 'cat' exists in the spam or not. Also in spam.keys() it will\n",
    "    check whether 'cat' exists or not. \n",
    "\n",
    "    "
   ]
  },
  {
   "cell_type": "raw",
   "id": "916af215",
   "metadata": {},
   "source": [
    "6. If a dictionary is stored in spam, what is the difference between the expressions 'cat' in spam and 'cat' in \n",
    "spam.values()?\n",
    "\n",
    "Ans:-\n",
    "    There is no difference as \"in\" operator will check whether 'cat' exists in the spam or not. Also in spam.values() it will\n",
    "    check whether 'cat' exists or not.  \n"
   ]
  },
  {
   "cell_type": "raw",
   "id": "e3cf07f4",
   "metadata": {},
   "source": [
    "7. What is a shortcut for the following code?\n",
    "if 'color' not in spam:\n",
    "spam['color'] = 'black'\n",
    "Ans:-\n",
    "    spam.setdefault('color', 'black')"
   ]
  },
  {
   "cell_type": "raw",
   "id": "9258ac4d",
   "metadata": {},
   "source": [
    "8. How do you \"pretty print\" dictionary values using which module and function?\n",
    "Ans:-\n",
    "    pprint.pprint()\n"
   ]
  },
  {
   "cell_type": "code",
   "execution_count": null,
   "id": "0eff3b89",
   "metadata": {},
   "outputs": [],
   "source": []
  },
  {
   "cell_type": "code",
   "execution_count": null,
   "id": "9f7c9393",
   "metadata": {},
   "outputs": [],
   "source": []
  }
 ],
 "metadata": {
  "kernelspec": {
   "display_name": "Python 3 (ipykernel)",
   "language": "python",
   "name": "python3"
  },
  "language_info": {
   "codemirror_mode": {
    "name": "ipython",
    "version": 3
   },
   "file_extension": ".py",
   "mimetype": "text/x-python",
   "name": "python",
   "nbconvert_exporter": "python",
   "pygments_lexer": "ipython3",
   "version": "3.9.12"
  }
 },
 "nbformat": 4,
 "nbformat_minor": 5
}
