{
 "cells": [
  {
   "cell_type": "raw",
   "id": "8deab11e",
   "metadata": {},
   "source": [
    "1. What exactly is []?\n",
    "Ans:\n",
    "It is square bracket. It has many utility in python such as creating list, for comprehension purpose, slicing etc. "
   ]
  },
  {
   "cell_type": "raw",
   "id": "933ab38f",
   "metadata": {},
   "source": [
    "2. In a list of values stored in a variable called spam, how would you assign the value 'hello' as the third value? (Assume [2, 4, 6, 8, 10] are in spam.)\n",
    "Ans - \n",
    "\n",
    "spam[2] = 'hello'\n"
   ]
  },
  {
   "cell_type": "raw",
   "id": "b354aad3",
   "metadata": {},
   "source": [
    "Let's pretend the spam includes the list ['a', 'b', 'c', 'd'] for the next three queries.\n",
    "3. What is the value of spam[int(int('3' * 2) / 11)]?\n",
    "Ans - \n",
    "'d'\n"
   ]
  },
  {
   "cell_type": "raw",
   "id": "92667f1d",
   "metadata": {},
   "source": [
    "4. What is the value of spam[-1]?\n",
    "Ans -\n",
    "'d'"
   ]
  },
  {
   "cell_type": "raw",
   "id": "6e1ffc0e",
   "metadata": {},
   "source": [
    "5. What is the value of spam[:2]?\n",
    "Ans - \n",
    "['a','b']"
   ]
  },
  {
   "cell_type": "raw",
   "id": "f6703a0f",
   "metadata": {},
   "source": [
    "Let's pretend bacon has the list [3.14, 'cat,' 11, 'cat,' True] for the next three questions.\n",
    "6. What is the value of bacon.index('cat')?\n",
    "Ans - \n",
    "1\n",
    "\n"
   ]
  },
  {
   "cell_type": "raw",
   "id": "5499bd9a",
   "metadata": {},
   "source": [
    "7. How does bacon.append(99) change the look of the list value in bacon?\n",
    "ans -\n",
    "bacon = [3.14,'cat', 11, 'cat', True, 99]\n"
   ]
  },
  {
   "cell_type": "raw",
   "id": "fed8d968",
   "metadata": {},
   "source": [
    "8. How does bacon.remove('cat') change the look of the list in bacon?\n",
    "Ans - \n",
    "bacon = [3.14, 11, 'cat', True, 99]"
   ]
  },
  {
   "cell_type": "raw",
   "id": "f665fef0",
   "metadata": {},
   "source": [
    "9. What are the list concatenation and list replication operators?\n",
    "Ans - \n",
    "'+' is the list concatenation operator.\n",
    "'*' is the list replication operators."
   ]
  },
  {
   "cell_type": "raw",
   "id": "bcc5ffaf",
   "metadata": {},
   "source": [
    "10. What is difference between the list methods append() and insert()?\n",
    "Ans - \n",
    "append() method appends the element at the end of the sequence of the list. It takes one argument as value which is to be\n",
    "appended. \n",
    "insert() method insert elements at the given index. It takes two argument . First argument shall be index at which the \n",
    "object has to be inserted and second argument as object which has to be inserted. \n"
   ]
  },
  {
   "cell_type": "raw",
   "id": "e30e46c4",
   "metadata": {},
   "source": [
    "11. What are the two methods for removing items from a list?\n",
    "Ans. \n",
    "remove(value) - It removes the first occurence of the value. \n",
    "pop(index) - It removes and return value at given index. \n"
   ]
  },
  {
   "cell_type": "raw",
   "id": "13c6bd94",
   "metadata": {},
   "source": [
    "12. Describe how list values and string values are identical.\n",
    "Ans - \n",
    "List and string values both are subscriptable. Slicing operations with both the values can be done. \n"
   ]
  },
  {
   "cell_type": "raw",
   "id": "8e8ada82",
   "metadata": {},
   "source": [
    "13. What's the difference between tuples and lists?\n",
    "Ans. \n",
    "Differences:-\n",
    "    1. tuples are represented within parenthesis \"()\" while lists are represented within square brackets \"[]\".\n",
    "    2. Lists are mutable while tuples are immutable. \n",
    "    3. Lists item reassignment can be done while tuples item reassignment cannot be done. \n"
   ]
  },
  {
   "cell_type": "raw",
   "id": "71343e41",
   "metadata": {},
   "source": [
    "14. How do you type a tuple value that only contains the integer 42?\n",
    "Ans-\n",
    "A comma has to be inserted after the integer value. \n",
    "(value,)\n"
   ]
  },
  {
   "cell_type": "raw",
   "id": "730ebb48",
   "metadata": {},
   "source": [
    "15. How do you get a list value's tuple form? How do you get a tuple value's list form?\n",
    "Ans- \n",
    "\n",
    "We can pass the list value's to the tuple() method to receive it in tuple form. In the same manner, tuple value's can be\n",
    "passed to list to receive it in list form. \n"
   ]
  },
  {
   "cell_type": "raw",
   "id": "361640e7",
   "metadata": {},
   "source": [
    "16. Variables that \"contain\" list values are not necessarily lists themselves. Instead, what do they contain?\n",
    "Ans - \n",
    "They are identifier so they follow the naming convention of identifier in python. \n",
    "\n"
   ]
  },
  {
   "cell_type": "raw",
   "id": "8c478425",
   "metadata": {},
   "source": [
    "17. How do you distinguish between copy.copy() and copy.deepcopy()?\n",
    "Ans:-\n",
    "    copy.copy() creates a shallow copy of the object. \n",
    "    copy.deepcopy() creates a deep copy of the object. \n"
   ]
  },
  {
   "cell_type": "code",
   "execution_count": null,
   "id": "93d5a9bd",
   "metadata": {},
   "outputs": [],
   "source": []
  }
 ],
 "metadata": {
  "kernelspec": {
   "display_name": "Python 3 (ipykernel)",
   "language": "python",
   "name": "python3"
  },
  "language_info": {
   "codemirror_mode": {
    "name": "ipython",
    "version": 3
   },
   "file_extension": ".py",
   "mimetype": "text/x-python",
   "name": "python",
   "nbconvert_exporter": "python",
   "pygments_lexer": "ipython3",
   "version": "3.9.12"
  }
 },
 "nbformat": 4,
 "nbformat_minor": 5
}
