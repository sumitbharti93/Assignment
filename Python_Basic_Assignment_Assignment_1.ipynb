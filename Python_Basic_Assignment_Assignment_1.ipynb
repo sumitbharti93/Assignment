{
 "cells": [
  {
   "cell_type": "raw",
   "id": "0821cbbe",
   "metadata": {},
   "source": [
    "1. In the below elements which of them are values or an expression? eg:- values can be integer or string and expressions will be mathematical operators.\n",
    "*\n",
    "'hello'\n",
    "-87.8\n",
    "-\n",
    "/ \n",
    "+ \n",
    "6 \n",
    "\n",
    "Ans - \n",
    "\n",
    "Values - 'hello', -87.8, 6\n",
    "Expression-  *, -, /, +\n"
   ]
  },
  {
   "cell_type": "raw",
   "id": "3ea523df",
   "metadata": {},
   "source": [
    "2. What is the difference between string and variable?\n",
    "\n",
    "Ans- \n",
    "Variable - It is the name of the memory location where we can store data.In other words, it is a container which is used to store data. \n",
    "String - It is a type of data. It can be represented within single quotes(' '), double quotes(\" \") and triple quotes(''' '''). \n"
   ]
  },
  {
   "cell_type": "raw",
   "id": "a1934611",
   "metadata": {},
   "source": [
    "3. Describe three different data types.\n",
    "\n",
    "Ans. \n",
    "1. Int - Any negative and positive whole numbers falls in this category. \n",
    "2. List - It is an ordered collection of data.It can be created by putting data inside square data. It is mutable which means it can be modified after its creation. \n",
    "3. Tuple - It is also an ordered collection of data. It can be created by putting the data inside the parenthesis. It is not mutable which means it cannot be modified after its creation.\n"
   ]
  },
  {
   "cell_type": "raw",
   "id": "d8b38267",
   "metadata": {},
   "source": [
    "4. What is an expression made up of? What do all expressions do?\n",
    "Ans- \n",
    "It is defined as combination of operators and operands which is put together to produce the desired result.\n",
    "\n"
   ]
  },
  {
   "cell_type": "raw",
   "id": "86535ee8",
   "metadata": {},
   "source": [
    "5. This assignment statements, like spam = 10. What is the difference between an expression and a statement?\n",
    "\n",
    "Ans - \n",
    "Expression is used to produce some results. It is combination of operators and operands, while statement is used to create any variable or print on the console. "
   ]
  },
  {
   "cell_type": "raw",
   "id": "537ae6ef",
   "metadata": {},
   "source": [
    "6. After running the following code, what does the variable bacon contain?\n",
    "bacon = 22\n",
    "bacon + 1\n",
    "\n",
    "Ans - \n",
    "bacon = 22"
   ]
  },
  {
   "cell_type": "raw",
   "id": "56363f7b",
   "metadata": {},
   "source": [
    "7. What should the values of the following two terms be?\n",
    "'spam' + 'spamspam'\n",
    "'spam' * 3\n",
    "Ans- \n",
    "\n",
    "spamspamspam\n",
    "spamspamspam\n"
   ]
  },
  {
   "cell_type": "raw",
   "id": "15557f9b",
   "metadata": {},
   "source": [
    "8. Why is eggs a valid variable name while 100 is invalid?\n",
    "\n",
    "Ans - \"eggs\" is a valid variable name as it start with alphabet which is a valid rule for naming convention of identifier. Also, it does not conatin any special symbols. \n",
    "       \"100\" is not a valid variable name as it starts with digit. Identifier name cannot starts with digit.\n"
   ]
  },
  {
   "cell_type": "raw",
   "id": "c0faa757",
   "metadata": {},
   "source": [
    "9. What three functions can be used to get the integer, floating-point number, or string version of a value?\n",
    "Ans - \n",
    "1. int() - It can be used to get the integer version of a value. \n",
    "2. float() - It can be used to get the float version of a value. \n",
    "3. str() - It can be used to get the string version of a value. \n"
   ]
  },
  {
   "cell_type": "raw",
   "id": "01c679e2",
   "metadata": {},
   "source": [
    "10. Why does this expression cause an error? How can you fix it?\n",
    "'I have eaten ' + 99 + ' burritos.'\n",
    "\n",
    "Ans - Above given expression causes error as it is trying to concatenate string to integer. It is not supported. We can rectify it by converting value \"99\" to string version. Below can be a rectified statement which will not produce error. \n",
    "\n",
    "'I have eaten ' + '99' + ' burritos.'\n"
   ]
  },
  {
   "cell_type": "code",
   "execution_count": null,
   "id": "3a33df47",
   "metadata": {},
   "outputs": [],
   "source": []
  }
 ],
 "metadata": {
  "kernelspec": {
   "display_name": "Python 3 (ipykernel)",
   "language": "python",
   "name": "python3"
  },
  "language_info": {
   "codemirror_mode": {
    "name": "ipython",
    "version": 3
   },
   "file_extension": ".py",
   "mimetype": "text/x-python",
   "name": "python",
   "nbconvert_exporter": "python",
   "pygments_lexer": "ipython3",
   "version": "3.9.12"
  }
 },
 "nbformat": 4,
 "nbformat_minor": 5
}
