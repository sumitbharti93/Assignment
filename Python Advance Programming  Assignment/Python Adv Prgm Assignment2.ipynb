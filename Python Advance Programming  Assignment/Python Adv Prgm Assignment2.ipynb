{
 "cells": [
  {
   "cell_type": "markdown",
   "id": "109fa7a5",
   "metadata": {},
   "source": [
    "# Python Adv Prgm Assignment2"
   ]
  },
  {
   "cell_type": "code",
   "execution_count": 6,
   "id": "df96e5df",
   "metadata": {},
   "outputs": [
    {
     "name": "stdout",
     "output_type": "stream",
     "text": [
      "Enter the number 8\n",
      "141\n"
     ]
    }
   ],
   "source": [
    "'''\n",
    "1. Write a function that takes a positive integer num and calculates how many dots exist in a pentagonal shape around the \n",
    "center dot on the Nth iteration.\n",
    "\n",
    "In the image below you can see the first iteration is only a single dot. On the second, there are 6 dots. On the third, \n",
    "there are 16 dots, and on the fourth there are 31 dots.\n",
    "\n",
    "Return the number of dots that exist in the whole pentagon on the Nth iteration.\n",
    "\n",
    "Examples\n",
    "\n",
    "pentagonal(1) ➞ 1\n",
    "\n",
    "pentagonal(2) ➞ 6\n",
    "\n",
    "pentagonal(3) ➞ 16\n",
    "\n",
    "pentagonal(8) ➞ 141\n",
    "\n",
    "'''\n",
    "#Code\n",
    "\n",
    "def pentagonal(num):\n",
    "    total_dot =1\n",
    "    for i in range(num):\n",
    "        total_dot+=5*i\n",
    "        \n",
    "    return total_dot\n",
    "\n",
    "if __name__ ==\"__main__\":\n",
    "    num =int(input(\"Enter the number \"))\n",
    "    result = pentagonal(num)\n",
    "    print(result)\n"
   ]
  },
  {
   "cell_type": "code",
   "execution_count": 12,
   "id": "afae37dd",
   "metadata": {},
   "outputs": [
    {
     "name": "stdout",
     "output_type": "stream",
     "text": [
      "Enter the number alpaca\n",
      "0c0pl0aca\n"
     ]
    }
   ],
   "source": [
    "'''\n",
    "2.  Make a function that encrypts a given input with these steps:\n",
    "\n",
    "Input: \"apple\"\n",
    "\n",
    "Step 1: Reverse the input: \"elppa\"\n",
    "\n",
    "Step 2: Replace all vowels using the following chart:\n",
    "\n",
    "a => 0\n",
    "e => 1\n",
    "i => 2\n",
    "o => 2\n",
    "u => 3\n",
    "\n",
    "# \"1lpp0\"\n",
    "\n",
    "Step 3: Add \"aca\" to the end of the word: \"1lpp0aca\"\n",
    "\n",
    "Output: \"1lpp0aca\"\n",
    "\n",
    "Examples\n",
    "\n",
    "encrypt(\"banana\") ➞ \"0n0n0baca\"\n",
    "\n",
    "encrypt(\"karaca\") ➞ \"0c0r0kaca\"\n",
    "\n",
    "encrypt(\"burak\") ➞ \"k0r3baca\"\n",
    "\n",
    "encrypt(\"alpaca\") ➞ \"0c0pl0aca\"\n",
    "\n",
    "'''\n",
    "#Code\n",
    "values_dict = {'a':0,'e':1,'i':2,'o':2,'u':3}\n",
    "def encrypt(st):\n",
    "    st =st[::-1]\n",
    "    vowel  ='aeiou'\n",
    "    for i in st:\n",
    "        for j in vowel:\n",
    "            if j==i:\n",
    "                st = st.replace(i, str(values_dict[i]))\n",
    "    st = st+\"aca\"\n",
    "    return st\n",
    "\n",
    "if __name__ ==\"__main__\":\n",
    "    st = input(\"Enter the number \")\n",
    "    result = encrypt(st)\n",
    "    print(result)\n",
    "\n"
   ]
  },
  {
   "cell_type": "code",
   "execution_count": 36,
   "id": "364ece77",
   "metadata": {},
   "outputs": [
    {
     "name": "stdout",
     "output_type": "stream",
     "text": [
      "Enter the month and year 1, 1985\n",
      "False\n"
     ]
    }
   ],
   "source": [
    "'''\n",
    "3. Given the month and year as numbers, return whether that month contains a Friday 13th.(i.e You can check Python's\n",
    "datetime module)\n",
    "\n",
    "Examples\n",
    "\n",
    "has_friday_13(3, 2020) ➞ True\n",
    "\n",
    "has_friday_13(10, 2017) ➞ True\n",
    "\n",
    "has_friday_13(1, 1985) ➞ False\n",
    "\n",
    "'''\n",
    "#Code\n",
    "\n",
    "import datetime\n",
    "from datetime import date\n",
    "def has_friday(st):\n",
    "    month, year = st\n",
    "    day=13\n",
    "    \n",
    "    result = datetime.date(year,month,day).strftime(\"%A\")\n",
    "    if result == \"Friday\":\n",
    "        return True\n",
    "    else:\n",
    "        return False\n",
    "\n",
    "if __name__ ==\"__main__\":\n",
    "    st = eval(input(\"Enter the month and year \"))\n",
    "    result = has_friday(st)\n",
    "    print(result)\n",
    "\n"
   ]
  },
  {
   "cell_type": "code",
   "execution_count": 31,
   "id": "7a364ddc",
   "metadata": {},
   "outputs": [
    {
     "name": "stdout",
     "output_type": "stream",
     "text": [
      "2\n"
     ]
    }
   ],
   "source": [
    "'''\n",
    "4. Write a regular expression that will help us count how many bad cookies are produced every day. You must use RegEx \n",
    "negative lookbehind.\n",
    "\n",
    "Example\n",
    "\n",
    "lst = [\"bad cookie\", \"good cookie\", \"bad cookie\", \"good cookie\", \"good cookie\"]\n",
    "pattern = \"yourregularexpressionhere\"\n",
    "\n",
    "len(re.findall(pattern, \", \".join(lst))) ➞ 2\n",
    "\n",
    "'''\n",
    "#Code\n",
    "\n",
    "import re \n",
    "lst = [\"bad cookie\", \"good cookie\", \"bad cookie\", \"good cookie\", \"good cookie\"]\n",
    "pattern = re.compile('(?<!e)bad cookie')\n",
    "\n",
    "d = len(re.findall(pattern, ' '.join(lst)))\n",
    "print(d)\n"
   ]
  },
  {
   "cell_type": "code",
   "execution_count": 73,
   "id": "63c69f59",
   "metadata": {},
   "outputs": [
    {
     "name": "stdout",
     "output_type": "stream",
     "text": [
      "Enter the list [\"cow\", \"pig\", \"cow\", \"cow\", \"table\", \"table\", \"table\", \"chair\", \"pencil\", \"arm\", \"pig\"]\n",
      "{'tables', 'chair', 'arm', 'pencil', 'pigs', 'cows'}\n"
     ]
    }
   ],
   "source": [
    "'''\n",
    "5. Given a list of words in the singular form, return a set of those words in the plural form if they appear more than \n",
    "once in the list.\n",
    "\n",
    "Examples\n",
    "\n",
    "pluralize([\"cow\", \"pig\", \"cow\", \"cow\"]) ➞ { \"cows\", \"pig\" }\n",
    "\n",
    "pluralize([\"table\", \"table\", \"table\"]) ➞ { \"tables\" }\n",
    "\n",
    "pluralize([\"chair\", \"pencil\", \"arm\"]) ➞ { \"chair\", \"pencil\", \"arm\" }\n",
    "\n",
    "'''\n",
    "#Code\n",
    "\n",
    "def pluralize(lst):\n",
    "    l = []\n",
    "    s =set()\n",
    "    for i in range(len(lst)):\n",
    "        count = 0\n",
    "        if lst[i] in l:\n",
    "            continue\n",
    "        for j in range(i, len(lst)-1):\n",
    "            if lst[i]==lst[j+1]:\n",
    "                l.append(lst[i])\n",
    "                count=1\n",
    "                break\n",
    "        if count == 1:\n",
    "            s.add(lst[i]+'s')\n",
    "        elif count==0:\n",
    "            s.add(lst[i])\n",
    "            \n",
    "    return s\n",
    "    \n",
    "if __name__ ==\"__main__\":\n",
    "    lst = eval(input(\"Enter the list \"))\n",
    "    result = pluralize(lst)\n",
    "    print(result)\n"
   ]
  },
  {
   "cell_type": "code",
   "execution_count": null,
   "id": "97b84ed9",
   "metadata": {},
   "outputs": [],
   "source": []
  },
  {
   "cell_type": "code",
   "execution_count": null,
   "id": "3e211cf1",
   "metadata": {},
   "outputs": [],
   "source": []
  },
  {
   "cell_type": "code",
   "execution_count": null,
   "id": "9bd1fa1e",
   "metadata": {},
   "outputs": [],
   "source": []
  },
  {
   "cell_type": "code",
   "execution_count": null,
   "id": "21c16585",
   "metadata": {},
   "outputs": [],
   "source": []
  }
 ],
 "metadata": {
  "kernelspec": {
   "display_name": "Python 3 (ipykernel)",
   "language": "python",
   "name": "python3"
  },
  "language_info": {
   "codemirror_mode": {
    "name": "ipython",
    "version": 3
   },
   "file_extension": ".py",
   "mimetype": "text/x-python",
   "name": "python",
   "nbconvert_exporter": "python",
   "pygments_lexer": "ipython3",
   "version": "3.9.12"
  }
 },
 "nbformat": 4,
 "nbformat_minor": 5
}
