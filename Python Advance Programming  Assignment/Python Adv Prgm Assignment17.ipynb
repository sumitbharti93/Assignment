{
 "cells": [
  {
   "cell_type": "markdown",
   "id": "12cc2200",
   "metadata": {},
   "source": [
    "# Python Adv Prgm Assignment17"
   ]
  },
  {
   "cell_type": "code",
   "execution_count": 25,
   "id": "387d3dd5",
   "metadata": {},
   "outputs": [
    {
     "name": "stdout",
     "output_type": "stream",
     "text": [
      "Enter the list[   [1, 1, 1],   [2, 2, 2],   [3, 3, 3] ]\n",
      "[[1, 2, 3], [1, 2, 3], [1, 2, 3]]\n"
     ]
    }
   ],
   "source": [
    "'''\n",
    "1. Create a function that transposes a 2D matrix.\n",
    "\n",
    "Examples\n",
    "\n",
    "transpose_matrix([\n",
    "  [1, 1, 1],\n",
    "  [2, 2, 2],\n",
    "  [3, 3, 3]\n",
    "]) ➞ [\n",
    "  [1, 2, 3],\n",
    "  [1, 2, 3],\n",
    "  [1, 2, 3]\n",
    "]\n",
    "\n",
    "transpose_matrix([\n",
    "  [5, 5],\n",
    "  [6, 7],\n",
    "  [9, 1]\n",
    "]) ➞ [\n",
    "  [5, 6, 9],\n",
    "  [5, 7, 1]\n",
    "]\n",
    "'''\n",
    "def transpose_matrix(lst):\n",
    "    transpose_mat =[[0 for i in range(len(lst))] for i in range(len(lst[0]))]\n",
    "    for i in range(len(lst)):\n",
    "        for j in range(len(lst[0])):\n",
    "            transpose_mat[j][i] = lst[i][j]\n",
    "    return transpose_mat\n",
    "\n",
    "if __name__ == \"__main__\":\n",
    "    lst = eval(input(\"Enter the list\"))\n",
    "    result = transpose_matrix(lst)\n",
    "    print(result)\n",
    "\n"
   ]
  },
  {
   "cell_type": "code",
   "execution_count": 48,
   "id": "c6d4600e",
   "metadata": {},
   "outputs": [
    {
     "name": "stdout",
     "output_type": "stream",
     "text": [
      "Enter the hex code#CD5C58C\n",
      "False\n"
     ]
    }
   ],
   "source": [
    "'''\n",
    "2. Create a function that determines whether a string is a valid hex code.\n",
    "\n",
    "A hex code must begin with a pound key # and is exactly 6 characters in length. Each character\n",
    "must be a digit from 0-9 or an alphabetic character from A-F. All alphabetic characters may be \n",
    "uppercase or lowercase.\n",
    "\n",
    "Examples\n",
    "\n",
    "is_valid_hex_code(\"#CD5C5C\") ➞ True\n",
    "\n",
    "is_valid_hex_code(\"#EAECEE\") ➞ True\n",
    "\n",
    "is_valid_hex_code(\"#eaecee\") ➞ True\n",
    "\n",
    "is_valid_hex_code(\"#CD5C58C\") ➞ False\n",
    "# Length exceeds 6\n",
    "\n",
    "is_valid_hex_code(\"#CD5C5Z\") ➞ False\n",
    "# Not all alphabetic characters in A-F\n",
    "\n",
    "is_valid_hex_code(\"#CD5C&C\") ➞ False\n",
    "# Contains unacceptable character\n",
    "\n",
    "is_valid_hex_code(\"CD5C5C\") ➞ False\n",
    "# Missing #\n",
    "\n",
    "'''\n",
    "#Code\n",
    "import re\n",
    "def is_valid_hex_code(st):\n",
    "    pattern  = re.compile(r'^\\#[a-fA-F0-9]{6}$')\n",
    "    if re.findall(pattern, st):\n",
    "        return True\n",
    "    else:\n",
    "        return False\n",
    "\n",
    "if __name__ == \"__main__\":\n",
    "    st = input(\"Enter the hex code\")\n",
    "    result = is_valid_hex_code(st)\n",
    "    print(result)\n",
    "\n",
    "\n"
   ]
  },
  {
   "cell_type": "code",
   "execution_count": 91,
   "id": "9160c021",
   "metadata": {},
   "outputs": [
    {
     "name": "stdout",
     "output_type": "stream",
     "text": [
      "Enter the expression[\"2+3=5\", \"4+4=9\", \"3-1=2\"]\n",
      "67%\n"
     ]
    }
   ],
   "source": [
    "'''\n",
    "3. Given a list of math equations (given as strings), return the percentage of correct answers \n",
    "as a string. Round to the nearest whole number.\n",
    "\n",
    "Examples\n",
    "\n",
    "mark_maths([\"2+2=4\", \"3+2=5\", \"10-3=3\", \"5+5=10\"]) ➞ \"75%\"\n",
    "\n",
    "mark_maths([\"1-2=-2\"]), \"0%\"\n",
    "\n",
    "mark_maths([\"2+3=5\", \"4+4=9\", \"3-1=2\"]) ➞ \"67%\"\n",
    "'''\n",
    "#Code\n",
    "import re\n",
    "def mark_maths(st):\n",
    "    count = 0\n",
    "    for i in range(len(st)):\n",
    "        new_st = st[i].split('=')\n",
    "        pattern = re.compile(r\"[+-]?\\d+\")\n",
    "        d = pattern.findall(new_st[0])\n",
    "        total = sum(map(int,d))\n",
    "        if total == int(new_st[1]):\n",
    "            count+=1\n",
    "    result = round(((count/len(st))*100))\n",
    "    return str(result)+\"%\"\n",
    "\n",
    "\n",
    "if __name__ == \"__main__\":\n",
    "    st = eval(input(\"Enter the expression\"))\n",
    "    result = mark_maths(st)\n",
    "    print(result)\n"
   ]
  },
  {
   "cell_type": "code",
   "execution_count": 117,
   "id": "2682aae7",
   "metadata": {},
   "outputs": [
    {
     "name": "stdout",
     "output_type": "stream",
     "text": [
      "Enter the list1 and list2[3, \"111\"], [2, \"011\"]\n",
      "True\n"
     ]
    }
   ],
   "source": [
    "'''\n",
    "4. There are two players, Alice and Bob, each with a 3-by-3 grid. A referee tells Alice to fill \n",
    "out one particular row in the grid (say the second row) by putting either a 1 or a 0 in each box,\n",
    "such that the sum of the numbers in that row is odd. The referee tells Bob to fill out one column\n",
    "in the grid (say the first column) by putting either a 1 or a 0 in each box, such that the sum of\n",
    "the numbers in that column is even.\n",
    "\n",
    "Alice and Bob win the game if Alice’s numbers give an odd sum, Bob’s give an even sum, and \n",
    "(most important) they’ve each written down the same number in the one square where their row \n",
    "and column intersect.\n",
    "\n",
    "Examples\n",
    "\n",
    "magic_square_game([2, \"100\"], [1, \"101\"]) ➞ False\n",
    "\n",
    "magic_square_game([2, \"001\"], [1, \"101\"]) ➞ True\n",
    "\n",
    "magic_square_game([3, \"111\"], [2, \"011\"]) ➞ True\n",
    "\n",
    "magic_square_game([1, \"010\"], [3, \"101\"]) ➞ False\n",
    "\n",
    "# Two lists, Alice [row, \"her choice\"], Bob [column, \"his choice\"]\n",
    "'''\n",
    "#Code\n",
    "def magic_square_game(lst1,lst2):\n",
    "    mat_1=[[0 for i in range(3)]for i in range(3)]\n",
    "    mat_2 = [[0 for i in range(3)]for i in range(3)]\n",
    "    \n",
    "    for i in range(len(lst1[1])):\n",
    "        mat_1[(lst1[0])-1][i] = int(lst1[1][i])\n",
    "    for i in range(len(lst2[1])):\n",
    "        mat_2[i][(lst2[0])-1] = int(lst2[1][i])\n",
    "        \n",
    "    lst1_sum = sum(map(int,lst1[1]))\n",
    "    lst2_sum = sum(map(int,lst2[1]))\n",
    "    if lst1_sum%2!=0 and lst2_sum%2==0:\n",
    "        if mat_1[lst1[0]-1][lst2[0]-1]==mat_2[lst1[0]-1][lst2[0]-1]:\n",
    "            return True\n",
    "        else:\n",
    "            return False\n",
    "    else:\n",
    "        return False\n",
    "    \n",
    "if __name__ == \"__main__\":\n",
    "    lst1,lst2 = eval(input(\"Enter the list1 and list2\"))\n",
    "    result = magic_square_game(lst1,lst2)\n",
    "    print(result)"
   ]
  },
  {
   "cell_type": "code",
   "execution_count": 139,
   "id": "b86eeafb",
   "metadata": {},
   "outputs": [
    {
     "name": "stdout",
     "output_type": "stream",
     "text": [
      "Enter the list1 and list290, 75, 65\n",
      "0h 38min 34s\n"
     ]
    }
   ],
   "source": [
    "'''\n",
    "5. From point A, an object is moving towards point B at constant velocity va (in km/hr). From \n",
    "point B, another object is moving towards point A at constant velocity vb (in km/hr). Knowing\n",
    "this and the distance between point A and B (in km), write a function that returns how much time\n",
    "passes until both objects meet.\n",
    "\n",
    "Format the output like this:\n",
    "\n",
    "\"2h 23min 34s\"\n",
    "\n",
    "Examples\n",
    "\n",
    "lets_meet(100, 10, 30) ➞ \"2h 30min 0s\"\n",
    "\n",
    "lets_meet(280, 70, 80) ➞ \"1h 52min 0s\"\n",
    "\n",
    "lets_meet(90, 75, 65) ➞ \"0h 38min 34s\"\n",
    "'''\n",
    "#Code\n",
    "def lets_meet(distance, va, vb):\n",
    "    relative_speed = va+vb\n",
    "    time_sec = (distance*60*60)/relative_speed\n",
    "    time_hr = int(time_sec/3600)\n",
    "    time_sec = time_sec%3600\n",
    "    time_min = time_sec/60\n",
    "    time_sec= time_sec%60\n",
    "    \n",
    "    final_time = str(time_hr)+\"h \"+str(int(time_min))+\"min \"+str(int(time_sec))+\"s\"\n",
    "    return final_time\n",
    "\n",
    "if __name__ == \"__main__\":\n",
    "    distance, va,vb =  eval(input(\"Enter the list1 and list2\"))\n",
    "    result = lets_meet(distance,va, vb)\n",
    "    print(result)"
   ]
  },
  {
   "cell_type": "code",
   "execution_count": null,
   "id": "fa02c496",
   "metadata": {},
   "outputs": [],
   "source": []
  }
 ],
 "metadata": {
  "kernelspec": {
   "display_name": "Python 3 (ipykernel)",
   "language": "python",
   "name": "python3"
  },
  "language_info": {
   "codemirror_mode": {
    "name": "ipython",
    "version": 3
   },
   "file_extension": ".py",
   "mimetype": "text/x-python",
   "name": "python",
   "nbconvert_exporter": "python",
   "pygments_lexer": "ipython3",
   "version": "3.9.12"
  }
 },
 "nbformat": 4,
 "nbformat_minor": 5
}
