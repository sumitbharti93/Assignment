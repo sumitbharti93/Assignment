{
 "cells": [
  {
   "cell_type": "markdown",
   "id": "3d24580c",
   "metadata": {},
   "source": [
    "# Python Adv Prgm Assignment12"
   ]
  },
  {
   "cell_type": "code",
   "execution_count": 77,
   "id": "c43b0ff4",
   "metadata": {},
   "outputs": [
    {
     "name": "stdout",
     "output_type": "stream",
     "text": [
      "Enter the two numbers1222, 30277\n",
      "31499\n"
     ]
    }
   ],
   "source": [
    "'''\n",
    "1. For this challenge, forget how to add two numbers together. The best explanation on what to do for this function is \n",
    "this meme:\n",
    "\n",
    "Examples\n",
    "\n",
    "meme_sum(26, 39) ➞ 515\n",
    "# 2+3 = 5, 6+9 = 15\n",
    "# 26 + 39 = 515\n",
    "\n",
    "meme_sum(122, 81) ➞ 1103\n",
    "# 1+0 = 1, 2+8 = 10, 2+1 = 3\n",
    "# 122 + 81 = 1103\n",
    "\n",
    "meme_sum(1222, 30277) ➞ 31499\n",
    "\n",
    "'''\n",
    "def meme_sum(a,b):\n",
    "    a = str(a)\n",
    "    b = str(b)\n",
    "    sum_total =\"\"\n",
    "    if len(a)>=len(b):\n",
    "        j = len(b)-1\n",
    "        for i in range(len(a)-1,-1,-1):\n",
    "            d = \"\"\n",
    "            if j>=0:\n",
    "                d = str(int(a[i])+int(b[j]))\n",
    "                d = d[::-1]\n",
    "                sum_total+=d\n",
    "                j -=1\n",
    "            else:\n",
    "                sum_total+=a[i]\n",
    "            \n",
    "    else:\n",
    "        j = len(a)-1\n",
    "        for i in range(len(b)-1,-1,-1):\n",
    "            d = \"\"\n",
    "            if j>=0:\n",
    "                d = str(int(b[i])+int(a[j]))\n",
    "                d = d[::-1]\n",
    "                sum_total+=d\n",
    "                j -=1\n",
    "            else:\n",
    "                sum_total+=b[i]\n",
    "                \n",
    "    sum_total = sum_total[::-1]\n",
    "    return int(sum_total)\n",
    "                        \n",
    "                        \n",
    "if __name__  == \"__main__\":\n",
    "    a,b  = eval(input(\"Enter the two numbers\"))\n",
    "    result = meme_sum(a,b)\n",
    "    print(result)\n",
    "\n"
   ]
  },
  {
   "cell_type": "code",
   "execution_count": 91,
   "id": "bad24f77",
   "metadata": {},
   "outputs": [
    {
     "name": "stdout",
     "output_type": "stream",
     "text": [
      "Enter the number24\n",
      "29\n"
     ]
    }
   ],
   "source": [
    "'''\n",
    "2. Given an integer, create a function that returns the next prime. If the number is prime, return the number itself.\n",
    "\n",
    "Examples\n",
    "\n",
    "next_prime(12) ➞ 13\n",
    "\n",
    "next_prime(24) ➞ 29\n",
    "\n",
    "next_prime(11) ➞ 11\n",
    "# 11 is a prime, so we return the number itself.\n",
    "'''\n",
    "#Code\n",
    "def next_prime(num):\n",
    "    if num==1:\n",
    "        pass\n",
    "    elif num==2 or num==3:\n",
    "        return num\n",
    "    else:\n",
    "        for i in range(num):\n",
    "            flag=0\n",
    "            for i in range(2,(int(num//2)+1)):\n",
    "                if num%i==0:\n",
    "                    flag=1\n",
    "                    break\n",
    "            if flag==0:\n",
    "                return num\n",
    "            else:\n",
    "                num+=1\n",
    "\n",
    "                        \n",
    "if __name__  == \"__main__\":\n",
    "    num  = int(input(\"Enter the number\"))\n",
    "    result = next_prime(num)\n",
    "    print(result)\n",
    "\n"
   ]
  },
  {
   "cell_type": "code",
   "execution_count": 99,
   "id": "80d795cc",
   "metadata": {},
   "outputs": [
    {
     "name": "stdout",
     "output_type": "stream",
     "text": [
      "Enter the tr_min, up_hill_speed, down_hill_speed 30, 8, 24\n",
      "12\n"
     ]
    }
   ],
   "source": [
    "'''\n",
    "3. If a person traveled up a hill for 18mins at 20mph and then traveled back down the same path at 60mph then their \n",
    "average speed traveled was 30mph.\n",
    "\n",
    "Write a function that returns the average speed traveled given an uphill time, uphill rate and a downhill rate. Uphill \n",
    "time is given in minutes. Return the rate as an integer (mph). No rounding is necessary.\n",
    "\n",
    "Examples\n",
    "\n",
    "ave_spd(18, 20, 60) ➞ 30\n",
    "\n",
    "ave_spd(30, 10, 30) ➞ 15\n",
    "\n",
    "ave_spd(30, 8, 24) ➞ 12\n",
    "'''\n",
    "#Code\n",
    "\n",
    "def ave_speed(tr_min, up_hill_speed, down_hill_speed):\n",
    "    time_up_hill = (tr_min/60)\n",
    "    distance_up_hill = time_up_hill*up_hill_speed\n",
    "    total_distance = 2*distance_up_hill\n",
    "    time_down_hill = distance_up_hill/down_hill_speed\n",
    "    total_time = time_up_hill+time_down_hill\n",
    "    av_speed = total_distance/total_time\n",
    "    return av_speed\n",
    "\n",
    "if __name__ == \"__main__\":\n",
    "    tr_min,up_hill_speed,down_hill_speed = eval(input(\"Enter the tr_min, up_hill_speed, down_hill_speed \"))\n",
    "    result = ave_speed(tr_min,up_hill_speed, down_hill_speed)\n",
    "    print(int(result))\n",
    "\n"
   ]
  },
  {
   "cell_type": "code",
   "execution_count": 28,
   "id": "c96e5396",
   "metadata": {},
   "outputs": [
    {
     "name": "stdout",
     "output_type": "stream",
     "text": [
      "Enter the number10\n",
      "5\n"
     ]
    }
   ],
   "source": [
    "'''\n",
    "4. The Kempner Function, applied to a composite number, permits to find the smallest integer greater than zero whose \n",
    "factorial is exactly divided by the number.\n",
    "\n",
    "kempner(6) ➞ 3\n",
    "\n",
    "1! = 1 % 6 > 0\n",
    "2! = 2 % 6 > 0\n",
    "3! = 6 % 6 === 0\n",
    "\n",
    "kempner(10) ➞ 5\n",
    "\n",
    "1! = 1 % 10 > 0\n",
    "2! = 2 % 10 > 0\n",
    "3! = 6 % 10 > 0\n",
    "4! = 24 % 10 > 0\n",
    "5! = 120 % 10 === 0\n",
    "\n",
    "A Kempner Function applied to a prime will always return the prime itself.\n",
    "\n",
    "kempner(2) ➞ 2\n",
    "kempner(5) ➞ 5\n",
    "\n",
    "Given an integer n, implement a Kempner Function.\n",
    "\n",
    "Examples\n",
    "\n",
    "kempner(6) ➞ 3\n",
    "\n",
    "kempner(10) ➞ 5\n",
    "\n",
    "kempner(2) ➞ 2\n",
    "'''\n",
    "#Code\n",
    "def kempner(num):\n",
    "    temp_num=0\n",
    "    while(True):\n",
    "        temp_num+=1\n",
    "        i= temp_num\n",
    "        mul =1\n",
    "        while(i>0):\n",
    "            mul*=i\n",
    "            i-=1\n",
    "        if mul%num==0:\n",
    "            break\n",
    "    return temp_num\n",
    "\n",
    "\n",
    "\n",
    "if __name__  == \"__main__\":\n",
    "    num  = int(input(\"Enter the number\"))\n",
    "    result = kempner(num)\n",
    "    print(result)\n",
    "\n"
   ]
  },
  {
   "cell_type": "code",
   "execution_count": 47,
   "id": "7fd20c42",
   "metadata": {},
   "outputs": [
    {
     "name": "stdout",
     "output_type": "stream",
     "text": [
      "Enter the lst of weights[2, 1, 2, 5, 4, 3, 6, 1, 1, 9, 3, 2]\n",
      "5\n"
     ]
    }
   ],
   "source": [
    "'''\n",
    "5. You work in a factory, and your job is to take items from a conveyor belt and pack them into boxes. Each box can hold a\n",
    "maximum of 10 kgs. Given a list containing the weight (in kg) of each item, how many boxes would you need to pack all of \n",
    "the items?\n",
    "\n",
    "Example\n",
    "\n",
    "boxes([2, 1, 2, 5, 4, 3, 6, 1, 1, 9, 3, 2]) ➞ 5\n",
    "\n",
    "# Box 1 = [2, 1, 2, 5] (10kg)\n",
    "# Box 2 = [4, 3] (7kg)\n",
    "# Box 3 = [6, 1, 1] (8kg)\n",
    "# Box 4 = [9] (9kg)\n",
    "# Box 5 = [3, 2] (5kg)\n",
    "'''\n",
    "#Code\n",
    "\n",
    "\n",
    "def boxes(lst):\n",
    "    count=0\n",
    "    sum_total=0\n",
    "    for i in range(len(lst)-1):\n",
    "        if sum_total<=10:\n",
    "            sum_total+=lst[i]\n",
    "            if sum_total+lst[i+1]<=10:\n",
    "                continue\n",
    "            elif sum_total+lst[i+1]>10:\n",
    "                sum_total=0\n",
    "                count+=1\n",
    "    return count+1\n",
    "\n",
    "if __name__  == \"__main__\":\n",
    "    lst  = eval(input(\"Enter the lst of weights\"))\n",
    "    result = boxes(lst)\n",
    "    print(result)\n"
   ]
  },
  {
   "cell_type": "code",
   "execution_count": null,
   "id": "3a4e342b",
   "metadata": {},
   "outputs": [],
   "source": []
  }
 ],
 "metadata": {
  "kernelspec": {
   "display_name": "Python 3 (ipykernel)",
   "language": "python",
   "name": "python3"
  },
  "language_info": {
   "codemirror_mode": {
    "name": "ipython",
    "version": 3
   },
   "file_extension": ".py",
   "mimetype": "text/x-python",
   "name": "python",
   "nbconvert_exporter": "python",
   "pygments_lexer": "ipython3",
   "version": "3.9.12"
  }
 },
 "nbformat": 4,
 "nbformat_minor": 5
}
