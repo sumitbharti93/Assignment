{
 "cells": [
  {
   "cell_type": "markdown",
   "id": "065ffeda",
   "metadata": {},
   "source": [
    "# Python Adv Prgm Assignment14"
   ]
  },
  {
   "cell_type": "code",
   "execution_count": 20,
   "id": "a128cc73",
   "metadata": {},
   "outputs": [
    {
     "name": "stdout",
     "output_type": "stream",
     "text": [
      "Enter the list[2, 100]\n",
      "[27.0, 75.0]\n"
     ]
    }
   ],
   "source": [
    "'''\n",
    "1. Given a list of numbers, create a function that removes 25% from every number in the list except the smallest number, \n",
    "and adds the total amount removed to the smallest number.\n",
    "\n",
    "Examples\n",
    "\n",
    "show_the_love([4, 1, 4]) ➞ [3, 3, 3]\n",
    "\n",
    "show_the_love([16, 10, 8]) ➞ [12, 7.5, 14.5]\n",
    "\n",
    "show_the_love([2, 100]) ➞ [27, 75]\n",
    "'''\n",
    "#Code\n",
    "\n",
    "def show_the_love(lst):\n",
    "    sum_avg = 0\n",
    "    min_index = lst.index(min(lst))\n",
    "    for i in range(len(lst)):\n",
    "        if lst[i]!=min(lst):\n",
    "            sum_avg+=(lst[i]/4)\n",
    "            lst[i]=lst[i]*(3/4)\n",
    "    \n",
    "    lst[min_index]+=sum_avg\n",
    "    \n",
    "    return lst\n",
    "\n",
    "if __name__ == \"__main__\":\n",
    "    lst = eval(input(\"Enter the list\"))\n",
    "    result = show_the_love(lst)\n",
    "    print(result)\n"
   ]
  },
  {
   "cell_type": "code",
   "execution_count": 40,
   "id": "088ac435",
   "metadata": {},
   "outputs": [
    {
     "name": "stdout",
     "output_type": "stream",
     "text": [
      "Enter the list\"kerfuffle\", \"fluffy\"\n",
      "['flu', 'ekr', 'y']\n"
     ]
    }
   ],
   "source": [
    "'''\n",
    "2. Create a function that takes in two words as input and returns a list of three elements, in the following order:\n",
    "\n",
    "   1.Shared letters between two words.\n",
    "   2.Letters unique to word 1.\n",
    "   3.Letters unique to word 2.\n",
    "\n",
    "Each element should have unique letters, and have each letter be alphabetically sorted.\n",
    "\n",
    "Examples\n",
    "\n",
    "letters(\"sharp\", \"soap\") ➞ [\"aps\", \"hr\", \"o\"]\n",
    "\n",
    "letters(\"board\", \"bored\") ➞ [\"bdor\", \"a\", \"e\"]\n",
    "\n",
    "letters(\"happiness\", \"envelope\") ➞ [\"enp\", \"ahis\", \"lov\"]\n",
    "\n",
    "letters(\"kerfuffle\", \"fluffy\") ➞ [\"flu\", \"ekr\", \"y\"]\n",
    "# Even with multiple matching letters (e.g. 3 f's), there should \n",
    "# only exist a single \"f\" in your first element.\n",
    "\n",
    "letters(\"match\", \"ham\") ➞ [\"ahm\", \"ct\", \"\"]\n",
    "# \"ham\" does not contain any letters that are not found already \n",
    "# in \"match\".\n",
    "'''\n",
    "#Code\n",
    "def letters(wd1, wd2):\n",
    "    lst  = []\n",
    "    shared_letter = \"\"\n",
    "    unique_wd1 = \"\"\n",
    "    unique_wd2=\"\"\n",
    "    for j in wd2:\n",
    "        if j in wd1:\n",
    "            shared_letter+=j\n",
    "            wd1 = wd1.replace(j, \"\")\n",
    "            wd2 = wd2.replace(j,\"\")\n",
    "    \n",
    "    \"\".join(s)\n",
    "    lst.append(\"\".join((sorted(set(shared_letter)))))\n",
    "    lst.append(\"\".join((sorted(set(wd1)))))\n",
    "    lst.append(\"\".join((sorted(set(wd2)))))\n",
    "    \n",
    "    return lst\n",
    "\n",
    "if __name__ == \"__main__\":\n",
    "    wd1,wd2 = eval(input(\"Enter the list\"))\n",
    "    result = letters(wd1,wd2)\n",
    "    print(result)\n",
    "\n",
    "\n"
   ]
  },
  {
   "cell_type": "code",
   "execution_count": 59,
   "id": "2bcc93de",
   "metadata": {},
   "outputs": [
    {
     "name": "stdout",
     "output_type": "stream",
     "text": [
      "Enter the list[1, 2, 3, 4, 5, 6, 7]\n",
      "[[1, 7], [2, 6], [3, 5], [4, 4]]\n"
     ]
    }
   ],
   "source": [
    "'''\n",
    "3. Write a function that pairs the first number in an array with the last, the second number with the second to last, etc.\n",
    "\n",
    "Examples\n",
    "\n",
    "pairs([1, 2, 3, 4, 5, 6, 7]) ➞ [[1, 7], [2, 6], [3, 5], [4, 4]]\n",
    "\n",
    "pairs([1, 2, 3, 4, 5, 6]) ➞ [[1, 6], [2, 5], [3, 4]]\n",
    "\n",
    "pairs([5, 9, 8, 1, 2]) ➞ [[5, 2], [9, 1], [8, 8]]\n",
    "\n",
    "pairs([]) ➞ []\n",
    "'''\n",
    "#Code\n",
    "def pairs(lst):\n",
    "    l=[]\n",
    "    if len(lst)%2==0:\n",
    "        for i in range(int(len(lst)/2)):\n",
    "            l_a = []\n",
    "            l_a.append(lst[i])\n",
    "            l_a.append(lst[-1-i])\n",
    "            l.append(l_a)\n",
    "    else:\n",
    "        for i in range(int(len(lst)/2)+1):\n",
    "            l_a = []\n",
    "            l_a.append(lst[i])\n",
    "            l_a.append(lst[-1-i])\n",
    "            l.append(l_a)   \n",
    "\n",
    "    return l\n",
    "\n",
    "\n",
    "if __name__ == \"__main__\":\n",
    "    lst = eval(input(\"Enter the list\"))\n",
    "    result = pairs(lst)\n",
    "    print(result)\n",
    "\n"
   ]
  },
  {
   "cell_type": "code",
   "execution_count": 75,
   "id": "bca04b2b",
   "metadata": {},
   "outputs": [
    {
     "name": "stdout",
     "output_type": "stream",
     "text": [
      "Enter the numbers in string \"1\", \"\"\n",
      "1\n",
      "0\n",
      "1\n"
     ]
    }
   ],
   "source": [
    "'''\n",
    "4. Write a function that adds two numbers. The catch, however, is that the numbers will be strings.\n",
    "\n",
    "Examples\n",
    "\n",
    "add_str_nums(\"4\", \"5\") ➞ \"9\"\n",
    "\n",
    "add_str_nums(\"abcdefg\", \"3\") ➞ \"-1\"\n",
    "\n",
    "add_str_nums(\"1\", \"\") ➞ \"1\"\n",
    "\n",
    "add_str_nums(\"1874682736267235927359283579235789257\", \"32652983572985729\") ➞ \"1874682736267235927391936562808774986\"\n",
    "\n",
    "'''\n",
    "#Code\n",
    "def add_str_nums(st1, st2):\n",
    "    print(len(st1))\n",
    "    print(len(st2))\n",
    "    if len(st1)>0 and len(st2)==0:\n",
    "        return st1\n",
    "    elif len(st1)==0 and len(s2)>0:\n",
    "        return st1\n",
    "    elif 48<=ord(st1[0])<=57 and 48<=ord(st2[0])<=57:\n",
    "        return str(int(st1)+int(st2))\n",
    "    else:\n",
    "        return -1\n",
    "\n",
    "\n",
    "    \n",
    "if __name__ == \"__main__\":\n",
    "    st1, st2 = eval(input(\"Enter the numbers in string \"))\n",
    "    result = add_str_nums(st1,st2)\n",
    "    print(result)\n",
    "\n",
    "\n",
    "    "
   ]
  },
  {
   "cell_type": "code",
   "execution_count": 96,
   "id": "ab31202c",
   "metadata": {},
   "outputs": [
    {
     "name": "stdout",
     "output_type": "stream",
     "text": [
      "Enter the in string hTsii  s aimex dpus rtni.g\n",
      "This is a mixed up string.\n"
     ]
    }
   ],
   "source": [
    "'''\n",
    "5. lPaeesh le pemu mnxit ehess rtnisg! Oh, sorry, that was supposed to say: Please help me unmix these strings!\n",
    "\n",
    "Somehow my strings have all become mixed up; every pair of characters has been swapped. Help me undo this so I can \n",
    "understand my strings again.\n",
    "\n",
    "Examples\n",
    "\n",
    "unmix(\"123456\") ➞ \"214365\"\n",
    "\n",
    "unmix(\"hTsii  s aimex dpus rtni.g\") ➞ \"This is a mixed up string.\"\n",
    "\n",
    "unmix(\"badce\") ➞ \"abcde\"\n",
    "'''\n",
    "#Code\n",
    "def unmix(st):\n",
    "    lst = list(st)\n",
    "    if len(lst)%2==0:\n",
    "        for i in range(0,len(st),2):\n",
    "            temp = lst[i]\n",
    "            lst[i]=lst[i+1]\n",
    "            lst[i+1] = temp\n",
    "    else:\n",
    "        for i in range(0,len(st)-1,2):\n",
    "            temp = lst[i]\n",
    "            lst[i]=lst[i+1]\n",
    "            lst[i+1] = temp        \n",
    "\n",
    "    return \"\".join(lst)\n",
    "\n",
    "if __name__ == \"__main__\":\n",
    "    st = input(\"Enter the in string \")\n",
    "    result = unmix(st)\n",
    "    print(result)\n",
    "\n",
    "\n"
   ]
  },
  {
   "cell_type": "code",
   "execution_count": null,
   "id": "09e3aa55",
   "metadata": {},
   "outputs": [],
   "source": []
  },
  {
   "cell_type": "code",
   "execution_count": null,
   "id": "78615843",
   "metadata": {},
   "outputs": [],
   "source": []
  },
  {
   "cell_type": "code",
   "execution_count": null,
   "id": "101e993a",
   "metadata": {},
   "outputs": [],
   "source": []
  }
 ],
 "metadata": {
  "kernelspec": {
   "display_name": "Python 3 (ipykernel)",
   "language": "python",
   "name": "python3"
  },
  "language_info": {
   "codemirror_mode": {
    "name": "ipython",
    "version": 3
   },
   "file_extension": ".py",
   "mimetype": "text/x-python",
   "name": "python",
   "nbconvert_exporter": "python",
   "pygments_lexer": "ipython3",
   "version": "3.9.12"
  }
 },
 "nbformat": 4,
 "nbformat_minor": 5
}
