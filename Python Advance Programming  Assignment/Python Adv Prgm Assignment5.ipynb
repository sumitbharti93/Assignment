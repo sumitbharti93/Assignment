{
 "cells": [
  {
   "cell_type": "markdown",
   "id": "30038b56",
   "metadata": {},
   "source": [
    "# Python Adv Prgm Assignment5"
   ]
  },
  {
   "cell_type": "code",
   "execution_count": 28,
   "id": "965f1d2c",
   "metadata": {},
   "outputs": [
    {
     "name": "stdout",
     "output_type": "stream",
     "text": [
      "Enter the number 1\n",
      "2\n"
     ]
    }
   ],
   "source": [
    "'''\n",
    "1. Create a function that takes a number n (integer greater than zero) as an argument, and returns 2 if n is odd and 8 if\n",
    "n is even.\n",
    "\n",
    "You can only use the following arithmetic operators: addition of numbers +, subtraction of numbers -, multiplication of \n",
    "number *, division of number /, and exponentiation **.\n",
    "\n",
    "You are not allowed to use any other methods in this challenge (i.e. no if statements, comparison operators, etc).\n",
    "\n",
    "Examples\n",
    "\n",
    "f(1) ➞ 2\n",
    "\n",
    "f(2) ➞ 8\n",
    "\n",
    "f(3) ➞ 2\n",
    "\n",
    "'''\n",
    "#Code\n",
    "def f(num):\n",
    "    a = int(num/2)\n",
    "    b = (num)-(2*a)\n",
    "    result = (b-2)**2+(b-2)**2\n",
    "    return result\n",
    "\n",
    "if __name__ == \"__main__\":\n",
    "    num = int(input(\"Enter the number \"))\n",
    "    result = f(num)\n",
    "    print(result)\n",
    "\n"
   ]
  },
  {
   "cell_type": "code",
   "execution_count": 4,
   "id": "3ee682aa",
   "metadata": {},
   "outputs": [
    {
     "name": "stdout",
     "output_type": "stream",
     "text": [
      "Enter the list [\"A\", \"B\", \"B\", \"A\", \"C\", \"C\"]\n",
      "None\n"
     ]
    }
   ],
   "source": [
    "'''\n",
    "2. Create a function that returns the majority vote in a list. A majority vote is an element that occurs > N/2 times in a\n",
    "list (where N is the length of the list).\n",
    "\n",
    "Examples\n",
    "\n",
    "majority_vote([\"A\", \"A\", \"B\"]) ➞ \"A\"\n",
    "\n",
    "majority_vote([\"A\", \"A\", \"A\", \"B\", \"C\", \"A\"]) ➞ \"A\"\n",
    "\n",
    "majority_vote([\"A\", \"B\", \"B\", \"A\", \"C\", \"C\"]) ➞ None\n",
    "\n",
    "'''\n",
    "#Code\n",
    "def majority_vote(lst):\n",
    "    N = len(lst)\n",
    "    for i in lst:\n",
    "        n = lst.count(i)\n",
    "        if n>(N/2):\n",
    "            return i\n",
    "\n",
    "if __name__ == \"__main__\":\n",
    "    lst = eval(input(\"Enter the list \"))\n",
    "    result = majority_vote(lst)\n",
    "    print(result)\n",
    "\n"
   ]
  },
  {
   "cell_type": "code",
   "execution_count": 30,
   "id": "f6691225",
   "metadata": {},
   "outputs": [
    {
     "name": "stdout",
     "output_type": "stream",
     "text": [
      "Enter the st, sub_st, replace_char \"Why did the chicken cross the road?\", [\"did\", \"chicken\", \"road?\"], \"*\"\n",
      "Why *** the ******* cross the *****\n"
     ]
    }
   ],
   "source": [
    "'''\n",
    "3. Create a function that takes a string txt and censors any word from a given list lst. The text removed must be replaced \n",
    "by the given character char.\n",
    "\n",
    "Examples\n",
    "\n",
    "censor_string(\"Today is a Wednesday!\", [\"Today\", \"a\"], \"-\") ➞ \"----- is - Wednesday!\"\n",
    "\n",
    "censor_string(\"The cow jumped over the moon.\", [\"cow\", \"over\"], \"*\"), \"The *** jumped **** the moon.\")\n",
    "\n",
    "censor_string(\"Why did the chicken cross the road?\", [\"Did\", \"chicken\", \"road\"], \"*\") ➞ \"Why *** the ******* cross the \n",
    "****?\"\n",
    "'''\n",
    "\n",
    "def censor_string(st, sub_st, replace_char):\n",
    "    lst_st = st.split(\" \")\n",
    "    for i in range(len(sub_st)):\n",
    "        for j in range(len(lst_st)):\n",
    "            if sub_st[i]==lst_st[j]:\n",
    "                a = \"\"\n",
    "                for k in range(len(lst_st[j])):\n",
    "                    a+=replace_char\n",
    "                lst_st[j]=a\n",
    "    return \" \".join(lst_st)\n",
    "                    \n",
    "if __name__ == \"__main__\":\n",
    "    st, sub_st, replace_char = eval(input(\"Enter the st, sub_st, replace_char \"))\n",
    "    result = censor_string(st,sub_st, replace_char)\n",
    "    print(result)\n",
    "\n",
    "\n"
   ]
  },
  {
   "cell_type": "code",
   "execution_count": 53,
   "id": "00016c5a",
   "metadata": {},
   "outputs": [
    {
     "name": "stdout",
     "output_type": "stream",
     "text": [
      "Enter the number 123220\n",
      "False\n"
     ]
    }
   ],
   "source": [
    "'''\n",
    "4. In mathematics a Polydivisible Number (or magic number) is a number in a given number base with digits abcde... that \n",
    "has the following properties:\n",
    "\n",
    "-  Its first digit a is not 0.\n",
    "- The number formed by its first two digits ab is a multiple of 2.\n",
    "- The number formed by its first three digits abc is a multiple of 3.\n",
    "- The number formed by its first four digits abcd is a multiple of 4.\n",
    "\n",
    "Create a function which takes an integer n and returns True if the given number is a Polydivisible Number and False \n",
    "otherwise.\n",
    "\n",
    "Examples\n",
    "\n",
    "is_polydivisible(1232) ➞ True\n",
    "# 1     / 1 = 1\n",
    "# 12    / 2 = 6\n",
    "# 123   / 3 = 41\n",
    "# 1232  / 4 = 308\n",
    "\n",
    "is_polydivisible(123220 ) ➞ False\n",
    "# 1   / 1 = 1\n",
    "# 12   / 2 = 6\n",
    "# 123   / 3 = 41\n",
    "# 1232   / 4 = 308\n",
    "# 12322   / 5 = 2464.4         # Not a Whole Number\n",
    "# 123220   /6 = 220536.333...  # Not a Whole Number\n",
    "\n",
    "'''\n",
    "def is_polydivisible(num):\n",
    "    num = str(num)\n",
    "    j=1\n",
    "    count = 0\n",
    "    for i in range(1,len(num)+1):\n",
    "        if int(num[0:i])%j==0:\n",
    "            count+=1\n",
    "        j+=1\n",
    "    if count==len(num):\n",
    "        return True\n",
    "    else:\n",
    "        return False \n",
    "    \n",
    "if __name__ == \"__main__\":\n",
    "    num = int(input(\"Enter the number \"))\n",
    "    result = is_polydivisible(num)\n",
    "    print(result)\n",
    "\n"
   ]
  },
  {
   "cell_type": "code",
   "execution_count": 62,
   "id": "6572a2f4",
   "metadata": {},
   "outputs": [
    {
     "name": "stdout",
     "output_type": "stream",
     "text": [
      "Enter the numbers [2, 3, 4, 11, 20, 50, 71]\n",
      "87\n"
     ]
    }
   ],
   "source": [
    "'''\n",
    "5. Create a function that takes a list of numbers and returns the sum of all prime numbers in the list.\n",
    "\n",
    "Examples\n",
    "\n",
    "sum_primes([1, 2, 3, 4, 5, 6, 7, 8, 9, 10]) ➞ 17\n",
    "\n",
    "sum_primes([2, 3, 4, 11, 20, 50, 71]) ➞ 87\n",
    "\n",
    "sum_primes([]) ➞ None\n",
    "\n",
    "'''\n",
    "#Code\n",
    "\n",
    "def sum_primes(lst):\n",
    "    sum_total = 0\n",
    "    for i in range(len(lst)):\n",
    "        flag = 0\n",
    "        if lst[i]==2 & lst[i]==3 :\n",
    "            sum_total+=num\n",
    "        elif lst[i]==1:\n",
    "            flag =1 \n",
    "        else:\n",
    "            for j in range(2,int(lst[i]/2+1)):\n",
    "                if lst[i]%j==0:\n",
    "                    flag = 1\n",
    "                    break\n",
    "        if flag==0:\n",
    "            sum_total+=lst[i]\n",
    "                       \n",
    "    return sum_total\n",
    "\n",
    "\n",
    "if __name__ == \"__main__\":\n",
    "    list_num = eval(input(\"Enter the numbers \"))\n",
    "    result = sum_primes(list_num)\n",
    "    print(result)\n",
    "\n",
    "\n",
    "\n"
   ]
  },
  {
   "cell_type": "code",
   "execution_count": null,
   "id": "100b977e",
   "metadata": {},
   "outputs": [],
   "source": []
  },
  {
   "cell_type": "code",
   "execution_count": null,
   "id": "48dba68c",
   "metadata": {},
   "outputs": [],
   "source": []
  }
 ],
 "metadata": {
  "kernelspec": {
   "display_name": "Python 3 (ipykernel)",
   "language": "python",
   "name": "python3"
  },
  "language_info": {
   "codemirror_mode": {
    "name": "ipython",
    "version": 3
   },
   "file_extension": ".py",
   "mimetype": "text/x-python",
   "name": "python",
   "nbconvert_exporter": "python",
   "pygments_lexer": "ipython3",
   "version": "3.9.12"
  }
 },
 "nbformat": 4,
 "nbformat_minor": 5
}
