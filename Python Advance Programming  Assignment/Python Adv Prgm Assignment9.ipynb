{
 "cells": [
  {
   "cell_type": "markdown",
   "id": "5833465d",
   "metadata": {},
   "source": [
    "# Python Adv Prgm Assignment9"
   ]
  },
  {
   "cell_type": "code",
   "execution_count": 42,
   "id": "bea237bc",
   "metadata": {},
   "outputs": [
    {
     "name": "stdout",
     "output_type": "stream",
     "text": [
      "Enter the duration 51:20:09\n",
      "Enter the speed 0.5\n",
      "102:40:18\n"
     ]
    }
   ],
   "source": [
    "'''\n",
    "1. YouTube offers different playback speed options for users. This allows users to increase or decrease the speed of the \n",
    "video content. Given the actual duration and playback speed of the video, calculate the playback duration of the video.\n",
    "\n",
    "Examples\n",
    "\n",
    "playback_duration(\"00:30:00\", 2) ➞ \"00:15:00\"\n",
    "\n",
    "playback_duration(\"01:20:00\", 1.5) ➞ \"00:53:20\"\n",
    "\n",
    "playback_duration(\"51:20:09\", 0.5) ➞ \"102:40:18\"\n",
    "\n",
    "'''\n",
    "#Code\n",
    "def playback_duration(actual_duration, speed):\n",
    "    lst = actual_duration.split(\":\")\n",
    "    total_duration_secs = int(lst[0])*3600+int(lst[1])*60+int(lst[2])\n",
    "    final_duration_secs = total_duration_secs/speed\n",
    "    fd_hour = int(final_duration_secs//3600)\n",
    "    fd_min = int((final_duration_secs%3600)//60)\n",
    "\n",
    "    fd_sec = int((final_duration_secs%3600)%60)\n",
    "    final_duration = str(fd_hour)+\":\"+str(fd_min)+\":\"+str(fd_sec)\n",
    "    print(final_duration)\n",
    "\n",
    "if __name__ ==\"__main__\":\n",
    "    actual_duration = input(\"Enter the duration \")\n",
    "    speed = float(input(\"Enter the speed \"))\n",
    "    playback_duration(actual_duration, speed)\n",
    "\n"
   ]
  },
  {
   "cell_type": "code",
   "execution_count": 6,
   "id": "0f776924",
   "metadata": {},
   "outputs": [
    {
     "name": "stdout",
     "output_type": "stream",
     "text": [
      "Enter the number 16\n",
      "None\n"
     ]
    }
   ],
   "source": [
    "'''\n",
    "2. We needs your help to construct a building which will be a pile of n cubes. The cube at the bottom will have a \n",
    "volume of n^3, the cube above will have volume of (n-1)^3 and so on until the top which will have a volume of 1^3.\n",
    "\n",
    "Given the total volume m of the building, can you find the number of cubes n required for the building?\n",
    "\n",
    "In other words, you have to return an integer n such that:\n",
    "\n",
    "n^3 + (n-1)^3 + ... + 1^3 == m\n",
    "\n",
    "Return None if there is no such number.\n",
    "\n",
    "Examples\n",
    "\n",
    "pile_of_cubes(1071225) ➞ 45\n",
    "\n",
    "pile_of_cubes(4183059834009) ➞ 2022\n",
    "\n",
    "pile_of_cubes(16) ➞ None\n",
    "\n",
    "'''\n",
    "#Code\n",
    "\n",
    "def pile_of_cubes(num):\n",
    "    total_sum=0\n",
    "    for i in range(int(pow(num,1/3))):\n",
    "        total_sum+=i**3\n",
    "        if total_sum==num:\n",
    "            return i\n",
    "    \n",
    "    \n",
    "if __name__ ==\"__main__\":\n",
    "    num = int(input(\"Enter the number \"))\n",
    "    result = pile_of_cubes(num)\n",
    "    print(result)  \n",
    "\n"
   ]
  },
  {
   "cell_type": "code",
   "execution_count": 15,
   "id": "d5f534f7",
   "metadata": {},
   "outputs": [
    {
     "name": "stdout",
     "output_type": "stream",
     "text": [
      "Enter the list [1, 2, 4, 9, 10, -10, -9, 3]\n",
      "4\n"
     ]
    }
   ],
   "source": [
    "'''\n",
    "3. A fulcrum of a list is an integer such that all elements to the left of it and all elements to the right of it sum to \n",
    "the same value. Write a function that finds the fulcrum of a list.\n",
    "\n",
    "To illustrate:\n",
    "\n",
    "find_fulcrum([3, 1, 5, 2, 4, 6, -1]) ➞ 2\n",
    "// Since [3, 1, 5] and [4, 6, -1] both sum to 9\n",
    "\n",
    "Examples\n",
    "\n",
    "find_fulcrum([1, 2, 4, 9, 10, -10, -9, 3]) ➞ 4\n",
    "\n",
    "find_fulcrum([9, 1, 9]) ➞ 1\n",
    "\n",
    "find_fulcrum([7, -1, 0, -1, 1, 1, 2, 3]) ➞ 0\n",
    "\n",
    "find_fulcrum([8, 8, 8, 8]) ➞ -1\n",
    "\n",
    "'''\n",
    "#Code\n",
    "\n",
    "def find_fulcrum(lst):\n",
    "    sum_left=0\n",
    "    sum_right = 0\n",
    "    flag = 0\n",
    "    index = 0\n",
    "    for i in range(1,len(lst)):\n",
    "        sum_left = sum(lst[0:i])\n",
    "        sum_right = sum(lst[(i+1):])\n",
    "        if sum_left==sum_right:\n",
    "            flag=1\n",
    "            index = i\n",
    "    if flag==1:\n",
    "        return lst[index]\n",
    "    else:\n",
    "        return -1\n",
    "        \n",
    "        \n",
    "if __name__ ==\"__main__\":\n",
    "    lst = eval(input(\"Enter the list \"))\n",
    "    result = find_fulcrum(lst)\n",
    "    print(result) \n"
   ]
  },
  {
   "cell_type": "code",
   "execution_count": 24,
   "id": "e97985eb",
   "metadata": {},
   "outputs": [
    {
     "name": "stdout",
     "output_type": "stream",
     "text": [
      "Enter the list [50, 20, 30, 90, 30, 20, 50, 20, 90]\n",
      "4\n"
     ]
    }
   ],
   "source": [
    "'''\n",
    "4. Given a list of integers representing the color of each sock, determine how many pairs of socks with matching colors\n",
    "there are. For example, there are 7 socks with colors [1, 2, 1, 2, 1, 3, 2]. There is one pair of color 1 and one of color \n",
    "2. There are three odd socks left, one of each color. The number of pairs is 2.\n",
    "\n",
    "Create a function that returns an integer representing the number of matching pairs of socks that are available.\n",
    "\n",
    "Examples\n",
    "\n",
    "sock_merchant([10, 20, 20, 10, 10, 30, 50, 10, 20]) ➞ 3\n",
    "\n",
    "sock_merchant([50, 20, 30, 90, 30, 20, 50, 20, 90]) ➞ 4\n",
    "\n",
    "sock_merchant([]) ➞ 0\n",
    "\n",
    "'''\n",
    "def sock_merchant(lst):\n",
    "    num_pairs = 0\n",
    "    l = []\n",
    "    for i in range(len(lst)):\n",
    "        count=1\n",
    "        if lst[i] in l:\n",
    "            continue\n",
    "        for j in range(i,len(lst)-1):\n",
    "            if lst[i]==lst[j+1]:\n",
    "                count+=1\n",
    "        l.append(lst[i])\n",
    "        num_pairs+=int(count/2)\n",
    "    return num_pairs\n",
    "\n",
    "if __name__ ==\"__main__\":\n",
    "    lst = eval(input(\"Enter the list \"))\n",
    "    result = sock_merchant(lst)\n",
    "    print(result) \n",
    "\n",
    "\n",
    "\n"
   ]
  },
  {
   "cell_type": "code",
   "execution_count": 42,
   "id": "5730c2d4",
   "metadata": {},
   "outputs": [
    {
     "name": "stdout",
     "output_type": "stream",
     "text": [
      "Enter the list -12 13%14&-11\n",
      "-23\n"
     ]
    }
   ],
   "source": [
    "'''\n",
    "5. Create a function that takes a string containing integers as well as other characters and return the sum of the \n",
    "negative integers only.\n",
    "\n",
    "Examples\n",
    "\n",
    "negative_sum(\"-12 13%14&-11\") ➞ -23\n",
    "# -12 + -11 = -23\n",
    "\n",
    "negative_sum(\"22 13%14&-11-22 13 12\") ➞ -33\n",
    "# -11 + -22 = -33\n",
    "\n",
    "'''\n",
    "import re\n",
    "def negative_sum(st):\n",
    "    pattern = re.compile(r'[-]\\d+')\n",
    "    list_neg_num = re.findall(pattern, st)\n",
    "    \n",
    "    sum_total = 0\n",
    "    for i in range(len(list_neg_num)):\n",
    "        sum_total+=int(list_neg_num[i])\n",
    "        \n",
    "    return sum_total\n",
    "\n",
    "if __name__ ==\"__main__\":\n",
    "    st = input(\"Enter the list \")\n",
    "    result = negative_sum(st)\n",
    "    print(result) \n",
    "\n"
   ]
  },
  {
   "cell_type": "code",
   "execution_count": null,
   "id": "f42fae3e",
   "metadata": {},
   "outputs": [],
   "source": []
  },
  {
   "cell_type": "code",
   "execution_count": null,
   "id": "9f6d3589",
   "metadata": {},
   "outputs": [],
   "source": []
  }
 ],
 "metadata": {
  "kernelspec": {
   "display_name": "Python 3 (ipykernel)",
   "language": "python",
   "name": "python3"
  },
  "language_info": {
   "codemirror_mode": {
    "name": "ipython",
    "version": 3
   },
   "file_extension": ".py",
   "mimetype": "text/x-python",
   "name": "python",
   "nbconvert_exporter": "python",
   "pygments_lexer": "ipython3",
   "version": "3.9.12"
  }
 },
 "nbformat": 4,
 "nbformat_minor": 5
}
