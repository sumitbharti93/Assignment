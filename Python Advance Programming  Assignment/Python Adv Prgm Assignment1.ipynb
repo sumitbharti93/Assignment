{
 "cells": [
  {
   "cell_type": "markdown",
   "id": "696349d2",
   "metadata": {},
   "source": [
    "# Python Adv Prgm Assignment1"
   ]
  },
  {
   "cell_type": "code",
   "execution_count": 86,
   "id": "a7001a1f",
   "metadata": {},
   "outputs": [
    {
     "name": "stdout",
     "output_type": "stream",
     "text": [
      "Enter the list of lists([   [\"!!!\", \"O\", \"!\"],   [\"X\", \"#\", \"!!!\"],   [\"!!\", \"X\", \"O\"] ])\n",
      "0\n"
     ]
    }
   ],
   "source": [
    "'''\n",
    "1. Write a function that takes a list of lists and returns the value of all of the symbols in it, where each symbol adds \n",
    "or takes something from the total score. Symbol values:\n",
    "\n",
    "# = 5\n",
    "O = 3\n",
    "X = 1\n",
    "! = -1\n",
    "!! = -3\n",
    "!!! = -5\n",
    "\n",
    "A list of lists containing 2 #s, a O, and a !!! would equal (0 + 5 + 5 + 3 - 5) 8.\n",
    "\n",
    "If the final score is negative, return 0 (e.g. 3 #s, 3 !!s, 2 !!!s and a X would be (0 + 5 + 5 + 5 - 3 - 3 - 3 - 5 - 5 + 1)\n",
    "-3, so return 0.\n",
    "\n",
    "Examples\n",
    "\n",
    "check_score([\n",
    "  [\"#\", \"!\"],\n",
    "  [\"!!\", \"X\"]\n",
    "]) ➞ 2\n",
    "\n",
    "check_score([\n",
    "  [\"!!!\", \"O\", \"!\"],\n",
    "  [\"X\", \"#\", \"!!!\"],\n",
    "  [\"!!\", \"X\", \"O\"]\n",
    "]) ➞ 0\n",
    "\n",
    "'''\n",
    "#Code\n",
    "\n",
    "sym_values_dict = {'#':5, 'O':3, \"X\" : 1, \"!\":-1, \"!!\":-3, \"!!!\":-5}\n",
    "\n",
    "def check_score(lst):\n",
    "    score =0\n",
    "    flat_lst = [i for sub_lists in lst for i in sub_lists]\n",
    "    for i in flat_lst:\n",
    "        score+=sym_values_dict[i]\n",
    "    return score\n",
    "    \n",
    "if __name__ ==\"__main__\":\n",
    "    lst = eval(input(\"Enter the list of lists\"))\n",
    "    result = check_score(lst)\n",
    "    if result>=0:\n",
    "        print(result)\n",
    "    else:\n",
    "        print(0)\n",
    "\n"
   ]
  },
  {
   "cell_type": "code",
   "execution_count": 19,
   "id": "3e271767",
   "metadata": {},
   "outputs": [
    {
     "name": "stdout",
     "output_type": "stream",
     "text": [
      "84\n"
     ]
    }
   ],
   "source": [
    "'''\n",
    "2. Create a function that takes a variable number of arguments, each argument representing the number of items in a group,\n",
    "and returns the number of permutations (combinations) of items that you could get by taking one item from each group.\n",
    "\n",
    "Examples\n",
    "\n",
    "combinations(2, 3) ➞ 6\n",
    "\n",
    "combinations(3, 7, 4) ➞ 84\n",
    "\n",
    "combinations(2, 3, 4, 5) ➞ 120\n",
    "\n",
    "'''\n",
    "\n",
    "def combinations(*args):\n",
    "    result = 1\n",
    "    for i in args:\n",
    "        result*=i\n",
    "    return result\n",
    "\n",
    "if __name__ ==\"__main__\":\n",
    "    a,b,c = (3,7,4)\n",
    "    result = combinations(a,b,c)\n",
    "    print(result)\n"
   ]
  },
  {
   "cell_type": "code",
   "execution_count": 21,
   "id": "6cfd5172",
   "metadata": {},
   "outputs": [
    {
     "name": "stdout",
     "output_type": "stream",
     "text": [
      "Enter the string EDABBIT CHALLENGE\n",
      ".-...--...-.....- -.-......-.-...-...-.--..\n"
     ]
    }
   ],
   "source": [
    "'''\n",
    "3. Create a function that takes a string as an argument and returns the Morse code equivalent.\n",
    "\n",
    "Examples\n",
    "\n",
    "encode_morse(\"EDABBIT CHALLENGE\") ➞ \". -.. .- -... -... .. -   -.-. .... .- .-.. .-.. . -. --. .\"\n",
    "\n",
    "encode_morse(\"HELP ME !\") ➞ \".... . .-.. .--.   -- .   -.-.--\"\n",
    "\n",
    "This dictionary can be used for coding:\n",
    "\n",
    "char_to_dots = {\n",
    "  'A': '.-', 'B': '-...', 'C': '-.-.', 'D': '-..', 'E': '.', 'F': '..-.',\n",
    "  'G': '--.', 'H': '....', 'I': '..', 'J': '.---', 'K': '-.-', 'L': '.-..',\n",
    "  'M': '--', 'N': '-.', 'O': '---', 'P': '.--.', 'Q': '--.-', 'R': '.-.',\n",
    "  'S': '...', 'T': '-', 'U': '..-', 'V': '...-', 'W': '.--', 'X': '-..-',\n",
    "  'Y': '-.--', 'Z': '--..', ' ': ' ', '0': '-----',\n",
    "  '1': '.----', '2': '..---', '3': '...--', '4': '....-', '5': '.....',\n",
    "  '6': '-....', '7': '--...', '8': '---..', '9': '----.',\n",
    "  '&': '.-...', \"'\": '.----.', '@': '.--.-.', ')': '-.--.-', '(': '-.--.',\n",
    "  ':': '---...', ',': '--..--', '=': '-...-', '!': '-.-.--', '.': '.-.-.-',\n",
    "  '-': '-....-', '+': '.-.-.', '\"': '.-..-.', '?': '..--..', '/': '-..-.'\n",
    "}\n",
    "\n",
    "'''\n",
    "#Code\n",
    "\n",
    "char_to_dots = {\n",
    "  'A': '.-', 'B': '-...', 'C': '-.-.', 'D': '-..', 'E': '.', 'F': '..-.',\n",
    "  'G': '--.', 'H': '....', 'I': '..', 'J': '.---', 'K': '-.-', 'L': '.-..',\n",
    "  'M': '--', 'N': '-.', 'O': '---', 'P': '.--.', 'Q': '--.-', 'R': '.-.',\n",
    "  'S': '...', 'T': '-', 'U': '..-', 'V': '...-', 'W': '.--', 'X': '-..-',\n",
    "  'Y': '-.--', 'Z': '--..', ' ': ' ', '0': '-----',\n",
    "  '1': '.----', '2': '..---', '3': '...--', '4': '....-', '5': '.....',\n",
    "  '6': '-....', '7': '--...', '8': '---..', '9': '----.',\n",
    "  '&': '.-...', \"'\": '.----.', '@': '.--.-.', ')': '-.--.-', '(': '-.--.',\n",
    "  ':': '---...', ',': '--..--', '=': '-...-', '!': '-.-.--', '.': '.-.-.-',\n",
    "  '-': '-....-', '+': '.-.-.', '\"': '.-..-.', '?': '..--..', '/': '-..-.'\n",
    "}\n",
    "\n",
    "\n",
    "def encode_morse(st):\n",
    "    encode = \"\"\n",
    "    for i in st:\n",
    "        encode+=char_to_dots[i]\n",
    "    return encode\n",
    "        \n",
    "if __name__ ==\"__main__\":\n",
    "    st = input(\"Enter the string \")\n",
    "    result = encode_morse(st)\n",
    "    print(result)\n"
   ]
  },
  {
   "cell_type": "code",
   "execution_count": 56,
   "id": "7d9dfed3",
   "metadata": {},
   "outputs": [
    {
     "name": "stdout",
     "output_type": "stream",
     "text": [
      "Enter the number 56963\n",
      "True\n"
     ]
    }
   ],
   "source": [
    "'''\n",
    "4.  Write a function that takes a number and returns True if it's a prime; False otherwise. The number can be \n",
    "2^64-1 (2 to the power of 63, not XOR). With the standard technique it would be O(2^64-1), which is much too large \n",
    "for the 10 second time limit.\n",
    "\n",
    "Examples\n",
    "\n",
    "prime(7) ➞ True\n",
    "\n",
    "prime(56963) ➞ True\n",
    "\n",
    "prime(5151512515524) ➞ False\n",
    "\n",
    "'''\n",
    "#Code\n",
    "def prime(num):\n",
    "    higher_range = num//2\n",
    "    flag =0\n",
    "    if num==2 or num==3:\n",
    "        return True\n",
    "    else:\n",
    "        for i in range(2,higher_range+1):\n",
    "            if num%i==0:\n",
    "                flag =1\n",
    "                break\n",
    "            \n",
    "    if flag ==1:\n",
    "        return False\n",
    "    else:\n",
    "        return True \n",
    "\n",
    "    \n",
    "    \n",
    "if __name__ ==\"__main__\":\n",
    "    num = int(input(\"Enter the number \"))\n",
    "    result = prime(num)\n",
    "    print(result)\n"
   ]
  },
  {
   "cell_type": "code",
   "execution_count": 62,
   "id": "c1065ce7",
   "metadata": {},
   "outputs": [
    {
     "name": "stdout",
     "output_type": "stream",
     "text": [
      "Enter the string tesh\n",
      "[False, True, True, False]\n"
     ]
    }
   ],
   "source": [
    "'''\n",
    "5.  Create a function that converts a word to a bitstring and then to a boolean list based on the following criteria:\n",
    "\n",
    "    1. Locate the position of the letter in the English alphabet (from 1 to 26).\n",
    "    2. Odd positions will be represented as 1 and 0 otherwise.\n",
    "    3. Convert the represented positions to boolean values, 1 for True and 0 for False.\n",
    "    4. Store the conversions into an array.\n",
    "\n",
    " Examples\n",
    "\n",
    "to_boolean_list(\"deep\") ➞ [False, True, True, False]\n",
    "# deep converts to 0110\n",
    "# d is the 4th alphabet - 0\n",
    "# e is the 5th alphabet - 1\n",
    "# e is the 5th alphabet - 1\n",
    "# p is the 16th alphabet - 0\n",
    "\n",
    "to_boolean_list(\"loves\") ➞ [False, True, False, True, True]\n",
    "\n",
    "to_boolean_list(\"tesh\") ➞ [False, True, True, False]\n",
    "'''\n",
    "#Code\n",
    "\n",
    "def to_boolean_list(st):\n",
    "    boolean = \"\"\n",
    "    lst_boolean = []\n",
    "    for i in st:\n",
    "        if ord(i)%2==0:\n",
    "            boolean+='0'\n",
    "        else:\n",
    "            boolean+='1'\n",
    "    for i in boolean:\n",
    "        if i=='0':\n",
    "            lst_boolean.append(False)\n",
    "        else:\n",
    "            lst_boolean.append(True) \n",
    "    return lst_boolean\n",
    "            \n",
    "if __name__ ==\"__main__\":\n",
    "    st = input(\"Enter the string \")\n",
    "    result = to_boolean_list(st)\n",
    "    print(result)\n"
   ]
  },
  {
   "cell_type": "code",
   "execution_count": null,
   "id": "041b911e",
   "metadata": {},
   "outputs": [],
   "source": []
  }
 ],
 "metadata": {
  "kernelspec": {
   "display_name": "Python 3 (ipykernel)",
   "language": "python",
   "name": "python3"
  },
  "language_info": {
   "codemirror_mode": {
    "name": "ipython",
    "version": 3
   },
   "file_extension": ".py",
   "mimetype": "text/x-python",
   "name": "python",
   "nbconvert_exporter": "python",
   "pygments_lexer": "ipython3",
   "version": "3.9.12"
  }
 },
 "nbformat": 4,
 "nbformat_minor": 5
}
