{
 "cells": [
  {
   "cell_type": "markdown",
   "id": "9f1044eb",
   "metadata": {},
   "source": [
    "# Python Adv Prgm Assignment20"
   ]
  },
  {
   "cell_type": "code",
   "execution_count": 13,
   "id": "57cb3ef5",
   "metadata": {},
   "outputs": [
    {
     "name": "stdout",
     "output_type": "stream",
     "text": [
      "Enter the stringp.one\n",
      "<p class=></p>'one'></p>\n"
     ]
    }
   ],
   "source": [
    "'''\n",
    "1. Create a function based on the input and output. Look at the examples, there is a pattern.\n",
    "\n",
    "Examples\n",
    "\n",
    "secret(\"p.one.two.three\") ➞ \"<p class='one two three'></p>\"\n",
    "\n",
    "secret(\"p.one\") ➞ \"<p class='one'></p>\"\n",
    "\n",
    "secret(\"p.four.five\") ➞ \"<p class='four five'></p>\"\n",
    "\n",
    "'''\n",
    "#Code\n",
    "def secret(st):\n",
    "    lst = st.split(\".\")\n",
    "    new_st = \"<p class=></p>'\"\n",
    "    \n",
    "    for i in range(1,len(lst)):\n",
    "        new_st+=lst[i]\n",
    "        if i<len(lst)-1:\n",
    "            new_st+=\" \"\n",
    "        \n",
    "    new_st+=\"'\"\n",
    "    new_st+=\"></p>\"\n",
    "    return new_st\n",
    "\n",
    "if __name__ == \"__main__\":\n",
    "    st = input(\"Enter the string\")\n",
    "    result = secret(st)\n",
    "    print(result)"
   ]
  },
  {
   "cell_type": "code",
   "execution_count": 21,
   "id": "a528d3d9",
   "metadata": {},
   "outputs": [
    {
     "name": "stdout",
     "output_type": "stream",
     "text": [
      "Enter the number 1191\n",
      "1\n"
     ]
    }
   ],
   "source": [
    "'''\n",
    "2. Create a function which counts how many lone 1s appear in a given number. Lone means the \n",
    "number doesn't appear twice or more in a row.\n",
    "\n",
    "Examples\n",
    "\n",
    "count_lone_ones(101) ➞ 2\n",
    "\n",
    "count_lone_ones(1191) ➞ 1\n",
    "\n",
    "count_lone_ones(1111) ➞ 0\n",
    "\n",
    "count_lone_ones(462) ➞ 0\n",
    "\n",
    "'''\n",
    "import re \n",
    "def count_lone_ones(num):\n",
    "    num = str(num)\n",
    "    pattern = re.compile(r'(?<!1)1(?!1)')\n",
    "    list_of_lone_ones = pattern.findall(num)\n",
    "    \n",
    "    return len(list_of_lone_ones)\n",
    "\n",
    "if __name__ == \"__main__\":\n",
    "    num = int(input(\"Enter the number \"))\n",
    "    result = count_lone_ones(num)\n",
    "    print(result)   \n",
    "    "
   ]
  },
  {
   "cell_type": "code",
   "execution_count": 26,
   "id": "f1f7e036",
   "metadata": {},
   "outputs": [
    {
     "name": "stdout",
     "output_type": "stream",
     "text": [
      "Enter the rows and columns 3,6\n",
      "[[1, 4, 7, 10, 13, 16], [2, 5, 8, 11, 14, 17], [3, 6, 9, 12, 15, 18]]\n"
     ]
    }
   ],
   "source": [
    "'''\n",
    "3. Write a method that accepts two integer parameters rows and cols. The output is a 2d array \n",
    "of numbers displayed in column-major order, meaning the numbers shown increase sequentially down \n",
    "each column and wrap to the top of the next column to the right once the bottom of the current \n",
    "column is reached.\n",
    "\n",
    "Examples\n",
    "\n",
    "printGrid(3, 6) ➞ [\n",
    "  [1, 4, 7, 10, 13, 16],\n",
    "  [2, 5, 8, 11, 14, 17],\n",
    "  [3, 6, 9, 12, 15, 18]\n",
    "]\n",
    "\n",
    "printGrid(5, 3) ➞ [\n",
    "  [1, 6, 11],\n",
    "  [2, 7, 12],\n",
    "  [3, 8, 13],\n",
    "  [4, 9, 14],\n",
    "  [5, 10, 15]\n",
    "]\n",
    "\n",
    "printGrid(4, 1) ➞ [\n",
    "  [1],\n",
    "  [2],\n",
    "  [3],\n",
    "  [4]\n",
    "]\n",
    "'''\n",
    "#Code\n",
    "def printGrid(rows,columns):\n",
    "    grid = []\n",
    "    num=1\n",
    "    for row in range(rows):\n",
    "        row_num = []\n",
    "        temp = num\n",
    "        num+=1\n",
    "        for column in range(columns):\n",
    "            row_num.append(temp)\n",
    "            temp+=rows\n",
    "        grid.append(row_num)\n",
    "    return grid\n",
    "    \n",
    "if __name__ == \"__main__\":\n",
    "    rows,columns = eval(input(\"Enter the rows and columns \"))\n",
    "    result = printGrid(rows,columns)\n",
    "    print(result)      \n"
   ]
  },
  {
   "cell_type": "code",
   "execution_count": 29,
   "id": "c2db896a",
   "metadata": {},
   "outputs": [
    {
     "name": "stdout",
     "output_type": "stream",
     "text": [
      "Enter the list of integers [-2, 6, 4, 5, 7, -1, 1, 3, 6, -2, 9, 10, 2, 2]\n",
      "8\n"
     ]
    }
   ],
   "source": [
    "'''\n",
    "4. Given a list of integers, return the smallest positive integer not present in the list.\n",
    "\n",
    "Here is a representative example. Consider the list:\n",
    "\n",
    "[-2, 6, 4, 5, 7, -1, 7, 1, 3, 6, 6, -2, 9, 10, 2, 2]\n",
    "\n",
    "After reordering, the list becomes:\n",
    "\n",
    "[-2, -2, -1, 1, 2, 2, 3, 4, 5, 6, 6, 6, 7, 7, 9, 10]\n",
    "\n",
    "from which we see that the smallest missing positive integer is 8.\n",
    "\n",
    "Examples\n",
    "\n",
    "min_miss_pos([-2, 6, 4, 5, 7, -1, 1, 3, 6, -2, 9, 10, 2, 2]) ➞ 8\n",
    "# After sorting, list becomes [-2, -2, -1, 1, 2, 2, 3, 4, 5, 6, 6, 7, 9, 10]\n",
    "# So the smallest missing positive integer is 8\n",
    "\n",
    "min_miss_pos([5, 9, -2, 0, 1, 3, 9, 3, 8, 9]) ➞ 2\n",
    "# After sorting, list becomes [-2, 0, 1, 3, 3, 5, 8, 9, 9, 9]\n",
    "# So the smallest missing positive integer is 2\n",
    "\n",
    "min_miss_pos([0, 4, 4, -1, 9, 4, 5, 2, 10, 7, 6, 3, 10, 9]) ➞ 1\n",
    "# After sorting, list becomes [-1, 0, 2, 3, 4, 4, 4, 5, 6, 7, 9, 9, 10, 10]\n",
    "# So the smallest missing positive integer is 1\n",
    "'''\n",
    "#Code\n",
    "def min_miss_pos(lst):\n",
    "    lst = sorted(lst)\n",
    "    for i in range(1,len(lst)):\n",
    "        if i not in lst:\n",
    "            return i\n",
    "if __name__ == \"__main__\":\n",
    "    lst = eval(input(\"Enter the list of integers \"))\n",
    "    result = min_miss_pos(lst)\n",
    "    print(result)        \n",
    "        "
   ]
  },
  {
   "cell_type": "code",
   "execution_count": 54,
   "id": "26c55d8e",
   "metadata": {},
   "outputs": [
    {
     "name": "stdout",
     "output_type": "stream",
     "text": [
      "Enter the min_order, min_price 5,20\n",
      "['Spider-Man']\n"
     ]
    }
   ],
   "source": [
    "'''\n",
    "5. Google is launching a network of autonomous pizza delivery drones and wants you to create a \n",
    "flexible rewards system (Pizza Points™) that can be tweaked in the future. The rules are simple: \n",
    "if a customer has made at least N orders of at least Y price, they get a FREE pizza!\n",
    "\n",
    "Create a function that takes a dictionary of customers, a minimum number of orders and a minimum\n",
    "order price. Return a list of customers that are eligible for a free pizza.\n",
    "\n",
    "Examples\n",
    "\n",
    "customers = {\n",
    "  \"Batman\": [22, 30, 11, 17, 15, 52, 27, 12],\n",
    "  \"Spider-Man\": [5, 17, 30, 33, 40, 22, 26, 10, 11, 45]\n",
    "}\n",
    "\n",
    "  pizza_points(customers, 5, 20) ➞ [\"Spider-Man\"]\n",
    "\n",
    "  pizza_points(customers, 3, 10) ➞ [\"Batman\", \"Spider-Man\"]\n",
    "\n",
    "  pizza_points(customers, 5, 100) ➞ []\n",
    "  \n",
    "'''\n",
    "#Code\n",
    "def pizzz_points(customers, min_order, min_price):\n",
    "    count = 0\n",
    "    eligible_customer = []\n",
    "    for keys,values in customers.items():\n",
    "        for j in values:\n",
    "            if j>min_price:\n",
    "                count+=1\n",
    "        if count>=min_order:\n",
    "            eligible_customer.append(keys)\n",
    "    return eligible_customer\n",
    "\n",
    "if __name__ == \"__main__\":\n",
    "    customers = {\n",
    "  \"Batman\": [22, 30, 11, 17, 15, 52, 27, 12],\n",
    "  \"Spider-Man\": [5, 17, 30, 33, 40, 22, 26, 10, 11, 45] } \n",
    "    min_order, min_price = eval(input(\"Enter the min_order, min_price \"))\n",
    "    result = pizzz_points(customers, min_order, min_price)\n",
    "    print(result)  "
   ]
  },
  {
   "cell_type": "code",
   "execution_count": null,
   "id": "186b5993",
   "metadata": {},
   "outputs": [],
   "source": []
  }
 ],
 "metadata": {
  "kernelspec": {
   "display_name": "Python 3 (ipykernel)",
   "language": "python",
   "name": "python3"
  },
  "language_info": {
   "codemirror_mode": {
    "name": "ipython",
    "version": 3
   },
   "file_extension": ".py",
   "mimetype": "text/x-python",
   "name": "python",
   "nbconvert_exporter": "python",
   "pygments_lexer": "ipython3",
   "version": "3.9.12"
  }
 },
 "nbformat": 4,
 "nbformat_minor": 5
}
