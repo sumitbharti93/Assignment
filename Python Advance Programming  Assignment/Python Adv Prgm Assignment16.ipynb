{
 "cells": [
  {
   "cell_type": "markdown",
   "id": "c4ccce8e",
   "metadata": {},
   "source": [
    "# Python Adv Prgm Assignment16"
   ]
  },
  {
   "cell_type": "code",
   "execution_count": 13,
   "id": "2f8d770c",
   "metadata": {},
   "outputs": [
    {
     "name": "stdout",
     "output_type": "stream",
     "text": [
      "Enter the string ABACADAEAFAGAHAIAJA\n",
      "True\n"
     ]
    }
   ],
   "source": [
    "'''\n",
    "1. Rondo Form is a type of musical structure, in which there is a recurring theme/refrain, \n",
    "notated as A. Here are the rules for valid rondo forms:\n",
    "\n",
    "   - Rondo forms always start and end with an A section.\n",
    "   - In between the A sections, there should be contrasting sections notated as B, then C, \n",
    "   then D, etc... No letter should be skipped.\n",
    "   - There shouldn't be any repeats in the sequence (such as ABBACCA).\n",
    "\n",
    "Create a function which validates whether a given string is a valid Rondo Form.\n",
    "\n",
    "Examples\n",
    "\n",
    "valid_rondo(\"ABACADAEAFAGAHAIAJA\") ➞ True\n",
    "\n",
    "valid_rondo(\"ABA\") ➞ True\n",
    "\n",
    "valid_rondo(\"ABBACCA\") ➞ False\n",
    "\n",
    "valid_rondo(\"ACAC\") ➞ False\n",
    "\n",
    "valid_rondo(\"A\") ➞ False\n",
    "\n",
    "'''\n",
    "#Code\n",
    "def valid_rondo(st):\n",
    "    if len(st)==1:\n",
    "        return False\n",
    "    elif st[0]!='A' or st[-1]!=\"A\":\n",
    "        return False\n",
    "    else:\n",
    "        word_order = ord(st[1])\n",
    "        flag = 0\n",
    "        for i in range(0,len(st),2):\n",
    "            word_order+=1\n",
    "            if st[i]!=\"A\" and st[i+2]!=\"A\" and ord(st[i+1])!=word_order:\n",
    "                flag=1\n",
    "                break\n",
    "        if flag==1:\n",
    "            return False\n",
    "        else:\n",
    "            return True \n",
    "\n",
    "if __name__ ==\"__main__\":\n",
    "    st = input(\"Enter the string \")\n",
    "    result = valid_rondo(st)\n",
    "    print(result)\n"
   ]
  },
  {
   "cell_type": "code",
   "execution_count": 47,
   "id": "8431d06f",
   "metadata": {},
   "outputs": [
    {
     "name": "stdout",
     "output_type": "stream",
     "text": [
      "Enter the search string mat\n",
      " I have a mat.\n"
     ]
    }
   ],
   "source": [
    "'''\n",
    "2. Create a function that returns the whole of the first sentence which contains a specific word. Include the full stop at the end of the sentence.\n",
    "\n",
    "Examples\n",
    "\n",
    "txt = \"I have a cat. I have a mat. Things are going swell.\"\n",
    "\n",
    "sentence_searcher(txt, \"have\") ➞ \"I have a cat.\"\n",
    "\n",
    "sentence_searcher(txt, \"MAT\") ➞ \"I have a mat.\"\n",
    "\n",
    "sentence_searcher(txt, \"things\") ➞ \"Things are going swell.\"\n",
    "\n",
    "sentence_searcher(txt, \"flat\") ➞ \"\"\n",
    "'''\n",
    "#Code\n",
    "def sentence_searcher(txt, search_string):\n",
    "    st_lst = txt.split(\".\")\n",
    "    flag=0\n",
    "    search_string = search_string.lower()\n",
    "    for i in range(len(st_lst)):\n",
    "        search_lst = st_lst[i].split(\" \")\n",
    "        for j in range(len(search_lst)):\n",
    "            if search_string == search_lst[j].lower():\n",
    "                flag=1\n",
    "                return st_lst[i]+\".\"\n",
    "    if flag==0:\n",
    "        return \"\"\n",
    "    \n",
    "if __name__ ==\"__main__\":\n",
    "    txt = \"I have a cat. I have a mat. Things are going well.\"\n",
    "    search_string = input(\"Enter the search string \")\n",
    "    result = sentence_searcher(txt,search_string)\n",
    "    print(result) \n",
    "    \n"
   ]
  },
  {
   "cell_type": "code",
   "execution_count": 76,
   "id": "e5a0421f",
   "metadata": {},
   "outputs": [
    {
     "name": "stdout",
     "output_type": "stream",
     "text": [
      "Enter the search string 54210\n",
      "10 200 4000 50000 \n"
     ]
    }
   ],
   "source": [
    "'''\n",
    "3. Given a number, find the \"round \"of each digit of the number. An integer is called \"round\" if \n",
    "all its digits except the leftmost (most significant) are equal to zero.\n",
    "\n",
    "    - Round numbers: 4000, 1, 9, 800, 90\n",
    "    - Not round numbers: 110, 707, 222, 1001\n",
    "\n",
    "Create a function that takes a number and returns the \"round\" of each digit (except if the digit \n",
    "is zero) as a string. Check out the following examples for more clarification.\n",
    "\n",
    "Examples\n",
    "\n",
    "sum_round(101) ➞ \"1 100\"\n",
    "\n",
    "sum_round(1234) ➞ \"4 30 200 1000\"\n",
    "\n",
    "sum_round(54210) ➞ \"10 200 4000 50000\"\n",
    "'''\n",
    "#Code\n",
    "\n",
    "def sum_round(num):\n",
    "    result = \"\"\n",
    "    count = 1\n",
    "    while(num>0):\n",
    "        r = num%10\n",
    "        r = r*count*1\n",
    "        if r!=0:\n",
    "            result+=str(r)+' '\n",
    "        count = count*10\n",
    "        num=int(num/10)\n",
    "\n",
    "    return result\n",
    "\n",
    "if __name__ ==\"__main__\":\n",
    "    num = int(input(\"Enter the search string \"))\n",
    "    result = sum_round(num)\n",
    "    print(result) \n",
    "    "
   ]
  },
  {
   "cell_type": "code",
   "execution_count": 84,
   "id": "a2aca9e5",
   "metadata": {},
   "outputs": [
    {
     "name": "stdout",
     "output_type": "stream",
     "text": [
      "Enter the number 5\n",
      "[[1, 2, 3, 4, 5], [2, 4, 6, 8, 10], [3, 6, 9, 12, 15], [4, 8, 12, 16, 20], [5, 10, 15, 20, 25]]\n"
     ]
    }
   ],
   "source": [
    "'''\n",
    "4. Your task, is to create N x N multiplication table, of size n provided in parameter.\n",
    "\n",
    "For example, when n is 5, the multiplication table is:\n",
    "\n",
    "   - 1, 2, 3, 4, 5\n",
    "   - 2, 4, 6, 8, 10\n",
    "   - 3, 6, 9, 12, 15\n",
    "   - 4, 8, 12, 16, 20\n",
    "   - 5, 10, 15, 20, 25\n",
    "\n",
    "This example will result in:\n",
    "\n",
    "[[1, 2, 3, 4, 5], [2, 4, 6, 8, 10], [3, 6, 9, 12, 15], [4, 8, 12, 16, 20], [5, 10, 15, 20, 25]]\n",
    "\n",
    "Examples\n",
    "\n",
    "multiplication_table(1) ➞ [[1]]\n",
    "\n",
    "multiplication_table(3) ➞ [[1, 2, 3], [2, 4, 6], [3, 6, 9]]\n",
    "'''\n",
    "#Code\n",
    "def multiplication_table(num):\n",
    "    final_table = []\n",
    "    for i in range(1,num+1):\n",
    "        temp_table = []\n",
    "        for j in range(1,num+1):\n",
    "            temp_table.append(i*j)\n",
    "        final_table.append(temp_table)\n",
    "    return final_table\n",
    "\n",
    "if __name__ ==\"__main__\":\n",
    "    num = int(input(\"Enter the number \"))\n",
    "    result = multiplication_table(num)\n",
    "    print(result) \n"
   ]
  },
  {
   "cell_type": "code",
   "execution_count": 103,
   "id": "688fac4e",
   "metadata": {},
   "outputs": [
    {
     "name": "stdout",
     "output_type": "stream",
     "text": [
      "Enter the strings \"Sam I am!\", \"Green eggs and HAM.\"\n",
      "True\n"
     ]
    }
   ],
   "source": [
    "'''\n",
    "5. Create a function that returns True if two lines rhyme and False otherwise. For the purposes \n",
    "of this exercise, two lines rhyme if the last word from each sentence contains the same vowels.\n",
    "\n",
    "Examples\n",
    "\n",
    "does_rhyme(\"Sam I am!\", \"Green eggs and ham.\") ➞ True\n",
    "\n",
    "does_rhyme(\"Sam I am!\", \"Green eggs and HAM.\") ➞ True\n",
    "# Capitalization and punctuation should not matter.\n",
    "\n",
    "does_rhyme(\"You are off to the races\", \"a splendid day.\") ➞ False\n",
    "\n",
    "does_rhyme(\"and frequently do?\", \"you gotta move.\") ➞ False\n",
    "'''\n",
    "#Code\n",
    "def does_rhyme(st1,st2):\n",
    "    lst_st1 = st1.split(\" \")\n",
    "    lst_st2 = st2.split(\" \")\n",
    "    vowel_st1 = \"\"\n",
    "    vowel_st2 = \"\"\n",
    "    for vowel in 'aeiou':\n",
    "        if vowel in lst_st1[-1].lower():\n",
    "            vowel_st1 = vowel\n",
    "    for vowel in 'aeiuo':\n",
    "        if vowel in lst_st2[-1].lower():\n",
    "            vowel_st2 = vowel\n",
    "    if vowel_st1==vowel_st2:\n",
    "        return True\n",
    "    else:\n",
    "        return False\n",
    "\n",
    "if __name__ ==\"__main__\":\n",
    "    st1,st2 = eval(input(\"Enter the strings \"))\n",
    "    result = does_rhyme(st1,st2)\n",
    "    print(result) \n"
   ]
  },
  {
   "cell_type": "code",
   "execution_count": null,
   "id": "1b001929",
   "metadata": {},
   "outputs": [],
   "source": []
  }
 ],
 "metadata": {
  "kernelspec": {
   "display_name": "Python 3 (ipykernel)",
   "language": "python",
   "name": "python3"
  },
  "language_info": {
   "codemirror_mode": {
    "name": "ipython",
    "version": 3
   },
   "file_extension": ".py",
   "mimetype": "text/x-python",
   "name": "python",
   "nbconvert_exporter": "python",
   "pygments_lexer": "ipython3",
   "version": "3.9.12"
  }
 },
 "nbformat": 4,
 "nbformat_minor": 5
}
