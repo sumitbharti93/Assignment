{
 "cells": [
  {
   "cell_type": "markdown",
   "id": "0adb6d91",
   "metadata": {},
   "source": [
    "# Python Adv Prgm Assignment19"
   ]
  },
  {
   "cell_type": "code",
   "execution_count": 5,
   "id": "4dd9faf3",
   "metadata": {},
   "outputs": [
    {
     "name": "stdout",
     "output_type": "stream",
     "text": [
      "Enter the n , el1 and el2 3, \"A\", \"B\"\n",
      "[['A', 'B', 'A'], ['B', 'A', 'B'], ['A', 'B', 'A']]\n"
     ]
    }
   ],
   "source": [
    "'''\n",
    "1. Create a checker board generator, which takes as inputs n and 2 elements to generate an n x n \n",
    "checkerboard with those two elements as alternating squares.\n",
    "\n",
    "Examples\n",
    "\n",
    "checker_board(2, 7, 6) ➞ [\n",
    "  [7, 6],\n",
    "  [6, 7]\n",
    "]\n",
    "\n",
    "checker_board(3, \"A\", \"B\") ➞ [\n",
    "  [\"A\", \"B\", \"A\"],\n",
    "  [\"B\", \"A\", \"B\"],\n",
    "  [\"A\", \"B\", \"A\"]\n",
    "]\n",
    "\n",
    "checker_board(4, \"c\", \"d\") ➞ [\n",
    "  [\"c\", \"d\", \"c\", \"d\"],\n",
    "  [\"d\", \"c\", \"d\", \"c\"],\n",
    "  [\"c\", \"d\", \"c\", \"d\"],\n",
    "  [\"d\", \"c\", \"d\", \"c\"]\n",
    "]\n",
    "\n",
    "checker_board(4, \"c\", \"c\") ➞ \"invalid\"\n",
    "'''\n",
    "#Code\n",
    "def checker_board(n, el1, el2):\n",
    "    if el1==el2:\n",
    "        return 'invalid'\n",
    "    else:\n",
    "        final_board =[]\n",
    "        for i in range(n):\n",
    "            single_board = []\n",
    "            for j in range(n):\n",
    "                if i%2==0:\n",
    "                    if j%2==0:\n",
    "                        single_board.append(el1)\n",
    "                    else:\n",
    "                        single_board.append(el2)\n",
    "                else:\n",
    "                    if j%2==0:\n",
    "                        single_board.append(el2)\n",
    "                    else:\n",
    "                        single_board.append(el1)\n",
    "            final_board.append(single_board)\n",
    "        return final_board\n",
    "\n",
    "if __name__ == \"__main__\":\n",
    "    n, el1, el2 = eval(input(\"Enter the n , el1 and el2 \"))\n",
    "    result = checker_board(n,el1,el2)\n",
    "    print(result)\n",
    "    "
   ]
  },
  {
   "cell_type": "code",
   "execution_count": 15,
   "id": "2262aa9c",
   "metadata": {},
   "outputs": [
    {
     "name": "stdout",
     "output_type": "stream",
     "text": [
      "Enter the st abcdaaa\n",
      "False\n"
     ]
    }
   ],
   "source": [
    "'''\n",
    "2. A string is an almost-palindrome if, by changing only one character, you can make it a \n",
    "palindrome. Create a function that returns True if a string is an almost-palindrome and False \n",
    "otherwise.\n",
    "\n",
    "Examples\n",
    "\n",
    "almost_palindrome(\"abcdcbg\") ➞ True\n",
    "# Transformed to \"abcdcba\" by changing \"g\" to \"a\".\n",
    "\n",
    "almost_palindrome(\"abccia\") ➞ True\n",
    "# Transformed to \"abccba\" by changing \"i\" to \"b\".\n",
    "\n",
    "almost_palindrome(\"abcdaaa\") ➞ False\n",
    "# Can't be transformed to a palindrome in exactly 1 turn.\n",
    "\n",
    "almost_palindrome(\"1234312\") ➞ False\n",
    "\n",
    "'''\n",
    "def almost_palindrome(st):\n",
    "    lst = list(st)\n",
    "    count =0\n",
    "    flag=0\n",
    "    for i in range(int(len(st)/2)):\n",
    "        if count==0:\n",
    "            if lst[i]!=lst[-1-i]:\n",
    "                lst[i]==lst[-1-i]\n",
    "                count=1\n",
    "        else:\n",
    "            if lst[i]!=lst[-1-i]:\n",
    "                flag=1\n",
    "                break\n",
    "    if flag==0:\n",
    "        return True\n",
    "    else:\n",
    "        return False\n",
    "    \n",
    "if __name__ == \"__main__\":\n",
    "    st = input(\"Enter the st \")\n",
    "    result = almost_palindrome(st)\n",
    "    print(result)               \n",
    "            \n"
   ]
  },
  {
   "cell_type": "code",
   "execution_count": 25,
   "id": "84f38daf",
   "metadata": {},
   "outputs": [
    {
     "name": "stdout",
     "output_type": "stream",
     "text": [
      "Enter the num 30\n",
      "Number of prime numbers upto the given integer is : 10\n"
     ]
    }
   ],
   "source": [
    "'''\n",
    "3. Create a function that finds how many prime numbers there are, up to the given integer.\n",
    "\n",
    "Examples\n",
    "\n",
    "prime_numbers(10) ➞ 4\n",
    "# 2, 3, 5 and 7\n",
    "\n",
    "prime_numbers(20) ➞ 8\n",
    "# 2, 3, 5, 7, 11, 13, 17 and 19\n",
    "\n",
    "prime_numbers(30) ➞ 10\n",
    "# 2, 3, 5, 7, 11, 13, 17, 19, 23 and 29\n",
    "'''\n",
    "#Code\n",
    "def prime_numbers(num):\n",
    "    count =0\n",
    "    for i in range(2,num+1):\n",
    "        if i==2 or i==3:\n",
    "            count+=1\n",
    "        else:\n",
    "            flag=0\n",
    "            for j in range(2,int(i/2)+1):\n",
    "                if i%j==0:\n",
    "                    flag=1\n",
    "                    break\n",
    "            if flag==0:\n",
    "                count+=1\n",
    "    return count\n",
    "\n",
    "if __name__ == \"__main__\":\n",
    "    num = int(input(\"Enter the num \"))\n",
    "    result = prime_numbers(num)\n",
    "    print('Number of prime numbers upto the given integer is :', result)               \n",
    "                    \n",
    "        \n",
    "        \n",
    "        "
   ]
  },
  {
   "cell_type": "code",
   "execution_count": 65,
   "id": "74dc36cd",
   "metadata": {},
   "outputs": [
    {
     "name": "stdout",
     "output_type": "stream",
     "text": [
      "Enter the day list and number of days[\"Monday\", \"Tuesday\", \"Friday\"], 1\n",
      "['Tuesday', 'Wednesday', 'Saturday']\n"
     ]
    }
   ],
   "source": [
    "'''\n",
    "4. If today was Monday, in two days, it would be Wednesday.\n",
    "\n",
    "Create a function that takes in a list of days as input and the number of days to increment by. \n",
    "Return a list of days after n number of days has passed.\n",
    "\n",
    "Examples\n",
    "\n",
    "after_n_days([\"Thursday\", \"Monday\"], 4) ➞ [\"Monday\", \"Friday\"]\n",
    "\n",
    "after_n_days([\"Sunday\", \"Sunday\", \"Sunday\"], 1) ➞ [\"Monday\", \"Monday\", \"Monday\"]\n",
    "\n",
    "after_n_days([\"Monday\", \"Tuesday\", \"Friday\"], 1) ➞ [\"Tuesday\", \"Wednesday\", \"Saturday\"]\n",
    "'''\n",
    "#Code\n",
    "weekdaymap = ['Monday', 'Tuesday', 'Wednesday', 'Thursday', 'Friday', 'Saturday','Sunday']\n",
    "def after_n_days(lst, num_days):\n",
    "    final_day_lst = []\n",
    "    for i in range(len(lst)):\n",
    "        day_index = weekdaymap.index(lst[i])\n",
    "        day_index+=num_days\n",
    "        day_index = day_index%7\n",
    "        day = weekdaymap[day_index]\n",
    "        final_day_lst.append(day)\n",
    "    return final_day_lst\n",
    "\n",
    "if __name__ == \"__main__\":\n",
    "    lst, num_days = eval(input(\"Enter the day list and number of days\"))\n",
    "    result = after_n_days(lst, num_days)\n",
    "    print(result)               \n",
    "                    "
   ]
  },
  {
   "cell_type": "code",
   "execution_count": 55,
   "id": "442329e9",
   "metadata": {},
   "outputs": [
    {
     "name": "stdout",
     "output_type": "stream",
     "text": [
      "Enter the lst1 and lst2 [\"Beth T.\"], [\"Brandishing Mimosa\"]\n",
      "False\n"
     ]
    }
   ],
   "source": [
    "'''\n",
    "5. You are in the process of creating a chat application and want to add an anonymous name \n",
    "feature. This anonymous name feature will create an alias that consists of two capitalized words \n",
    "beginning with the same letter as the users first name.\n",
    "\n",
    "Create a function that determines if the list of users is mapped to a list of anonymous names \n",
    "correctly.\n",
    "\n",
    "Examples\n",
    "\n",
    "is_correct_aliases([\"Adrian M.\", \"Harriet S.\", \"Mandy T.\"], [\"Amazing Artichoke\",\n",
    "\"Hopeful Hedgehog\", \"Marvelous Mouse\"]) ➞ True\n",
    "\n",
    "is_correct_aliases([\"Rachel F.\", \"Pam G.\", \"Fred Z.\", \"Nancy K.\"], [\"Reassuring Rat\", \n",
    "\"Peaceful Panda\", \"Fantastic Frog\", \"Notable Nickel\"]) ➞ True\n",
    "\n",
    "is_correct_aliases([\"Beth T.\"], [\"Brandishing Mimosa\"]) ➞ False\n",
    "# Both words in \"Brandishing Mimosa\" should begin with a \"B\" - \"Brandishing Beaver\" would do \n",
    "the trick.\n",
    "'''\n",
    "#Code\n",
    "def is_correct_aliases(lst1,lst2):\n",
    "    flag=0\n",
    "    for i in range(len(lst1)):\n",
    "        lst2_word = lst2[i].split(\" \")\n",
    "        if not (lst2_word[0][0].startswith(lst1[i][0]) and lst2_word[1][0].startswith(lst1[i][0])):\n",
    "            flag=1\n",
    "    if flag==0:\n",
    "        return True\n",
    "    else:\n",
    "        return False\n",
    "    \n",
    "if __name__ == \"__main__\":\n",
    "    lst1,lst2 = eval(input(\"Enter the lst1 and lst2 \"))\n",
    "    result = is_correct_aliases(lst1,lst2)\n",
    "    print(result)\n"
   ]
  },
  {
   "cell_type": "code",
   "execution_count": null,
   "id": "9c485405",
   "metadata": {},
   "outputs": [],
   "source": []
  },
  {
   "cell_type": "code",
   "execution_count": null,
   "id": "d332b5c6",
   "metadata": {},
   "outputs": [],
   "source": []
  }
 ],
 "metadata": {
  "kernelspec": {
   "display_name": "Python 3 (ipykernel)",
   "language": "python",
   "name": "python3"
  },
  "language_info": {
   "codemirror_mode": {
    "name": "ipython",
    "version": 3
   },
   "file_extension": ".py",
   "mimetype": "text/x-python",
   "name": "python",
   "nbconvert_exporter": "python",
   "pygments_lexer": "ipython3",
   "version": "3.9.12"
  }
 },
 "nbformat": 4,
 "nbformat_minor": 5
}
