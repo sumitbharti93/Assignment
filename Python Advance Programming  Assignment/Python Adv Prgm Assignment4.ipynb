{
 "cells": [
  {
   "cell_type": "markdown",
   "id": "33f12755",
   "metadata": {},
   "source": [
    "# Python Adv Prgm Assignment4"
   ]
  },
  {
   "cell_type": "code",
   "execution_count": 11,
   "id": "27122038",
   "metadata": {},
   "outputs": [
    {
     "name": "stdout",
     "output_type": "stream",
     "text": [
      "Enter the number 50\n",
      "12586269025\n"
     ]
    }
   ],
   "source": [
    "'''\n",
    "1. In mathematics, the Fibonacci numbers, commonly denoted Fn, form a sequence, called the Fibonacci sequence, such \n",
    "that each number is the sum of the two preceding ones, starting from 0 and 1:\n",
    "\n",
    "The beginning of the sequence is this:\n",
    "\n",
    "0, 1, 1, 2, 3, 5, 8, 13, 21, 34, 55, 89, 144, ...\n",
    "\n",
    "The function fastFib(num) returns the fibonacci number Fn, of the given num as an argument.\n",
    "\n",
    "Examples\n",
    "\n",
    "fib_fast(5) ➞ 5\n",
    "\n",
    "fib_fast(10) ➞ 55\n",
    "\n",
    "fib_fast(20) ➞ 6765\n",
    "\n",
    "fib_fast(50) ➞ 12586269025\n",
    "\n",
    "'''\n",
    "\n",
    "#Code\n",
    "\n",
    "def fib_fast(num):\n",
    "    a = 0\n",
    "    b = 1\n",
    "    for i in range((num)):\n",
    "        c = a+b\n",
    "        a,b = b,c\n",
    "        \n",
    "    return a\n",
    "\n",
    "if __name__ ==\"__main__\":\n",
    "    num = int(input(\"Enter the number \"))\n",
    "    result = fib_fast(num)\n",
    "    print(result)\n",
    "\n",
    "\n"
   ]
  },
  {
   "cell_type": "code",
   "execution_count": 32,
   "id": "8d869c49",
   "metadata": {},
   "outputs": [
    {
     "name": "stdout",
     "output_type": "stream",
     "text": [
      "Enter the string Marty Poppinson\n",
      "4d 61 72 74 79 20 50 6f 70 70 69 6e 73 6f 6e \n"
     ]
    }
   ],
   "source": [
    "'''\n",
    "2. Create a function that takes a strings characters as ASCII and returns each characters hexadecimal value as a string.\n",
    "\n",
    "Examples\n",
    "\n",
    "convert_to_hex(\"hello world\") ➞ \"68 65 6c 6c 6f 20 77 6f 72 6c 64\"\n",
    "\n",
    "convert_to_hex(\"Big Boi\") ➞ \"42 69 67 20 42 6f 69\"\n",
    "\n",
    "convert_to_hex(\"Marty Poppinson\") ➞ \"4d 61 72 74 79 20 50 6f 70 70 69 6e 73 6f 6e\"\n",
    "\n",
    "'''\n",
    "#Code\n",
    "\n",
    "def convert_to_hex(st):\n",
    "    hex_value=\"\"\n",
    "    for i in st:\n",
    "        hex_value+= (hex(ord(i)).split(\"x\"))[1]\n",
    "        hex_value+=\" \"\n",
    "    return hex_value\n",
    "if __name__ ==\"__main__\":\n",
    "    st = input(\"Enter the string \")\n",
    "    result = convert_to_hex(st)\n",
    "    print(result)\n",
    "\n",
    "\n"
   ]
  },
  {
   "cell_type": "code",
   "execution_count": 12,
   "id": "d4c36f81",
   "metadata": {},
   "outputs": [
    {
     "name": "stdout",
     "output_type": "stream",
     "text": [
      "Enter the string*PP*RC*S*\n",
      "Enter the removed vowelUEAE\n",
      "UEAE\n",
      "UPPERCASE\n"
     ]
    }
   ],
   "source": [
    "'''\n",
    "3. Someone has attempted to censor my strings by replacing every vowel with a *, l*k* th*s. Luckily, I've been able to \n",
    "find the vowels that were removed.\n",
    "\n",
    "Given a censored string and a string of the censored vowels, return the original uncensored string.\n",
    "\n",
    "Example\n",
    "\n",
    "uncensor(\"Wh*r* d*d my v*w*ls g*?\", \"eeioeo\") ➞ \"Where did my vowels go?\"\n",
    "\n",
    "uncensor(\"abcd\", \"\") ➞ \"abcd\"\n",
    "\n",
    "uncensor(\"*PP*RC*S*\", \"UEAE\") ➞ \"UPPERCASE\"\n",
    "\n",
    "'''\n",
    "#Code\n",
    "\n",
    "def uncensor(st, removed_vowel):\n",
    "    print(removed_vowel)\n",
    "    j = 0\n",
    "    lst_st =list(st)\n",
    "    for i in range(len(st)):\n",
    "        if st[i]=='*':\n",
    "            d= removed_vowel[j]\n",
    "            lst_st[i]=removed_vowel[j]\n",
    "            j=j+1\n",
    "    lst_st = \"\".join(lst_st)\n",
    "    return lst_st\n",
    "\n",
    "if __name__ ==\"__main__\":\n",
    "    st = input(\"Enter the string\")\n",
    "    removed_vowel = input(\"Enter the removed vowel\")\n",
    "    result = uncensor(st, removed_vowel)\n",
    "    print(result)\n",
    "\n"
   ]
  },
  {
   "cell_type": "code",
   "execution_count": 5,
   "id": "855ffe85",
   "metadata": {},
   "outputs": [
    {
     "name": "stdout",
     "output_type": "stream",
     "text": [
      "Enter the domain_name8.8.4.4\n",
      "dns.google\n"
     ]
    }
   ],
   "source": [
    "'''\n",
    "4. Write a function that takes an IP address and returns the domain name using PTR DNS records.\n",
    "\n",
    "Example\n",
    "get_domain(\"8.8.8.8\") ➞ \"dns.google\"\n",
    "\n",
    "get_domain(\"8.8.4.4\") ➞ \"dns.google\"\n",
    "\n",
    "'''\n",
    "#Code\n",
    "import socket\n",
    "\n",
    "def get_domain(IP_address):\n",
    "    domain_name = socket.gethostbyaddr(IP_address)\n",
    "    return domain_name[0]\n",
    "\n",
    "\n",
    "if __name__ ==\"__main__\":\n",
    "    IP_address = input(\"Enter the domain_name\")\n",
    "    result = get_domain(IP_address)\n",
    "    print(result)\n"
   ]
  },
  {
   "cell_type": "code",
   "execution_count": 29,
   "id": "7304970c",
   "metadata": {},
   "outputs": [
    {
     "name": "stdout",
     "output_type": "stream",
     "text": [
      "Enter the number 6\n",
      "24883200\n"
     ]
    }
   ],
   "source": [
    "'''\n",
    "5. Create a function that takes an integer n and returns the factorial of factorials. See below examples for a better\n",
    "understanding:\n",
    "\n",
    "Examples\n",
    "\n",
    "fact_of_fact(4) ➞ 288\n",
    "# 4! * 3! * 2! * 1! = 288\n",
    "\n",
    "fact_of_fact(5) ➞ 34560\n",
    "\n",
    "fact_of_fact(6) ➞ 24883200\n",
    "'''\n",
    "#Code\n",
    "def fact_of_fact(num):\n",
    "    total_fact=1\n",
    "    while(num>0):\n",
    "        temp = num\n",
    "        while(temp>0):\n",
    "            total_fact*=temp\n",
    "            temp-=1\n",
    "        num-=1\n",
    "    return total_fact\n",
    "\n",
    "\n",
    "if __name__ ==\"__main__\":\n",
    "    num = int(input(\"Enter the number \"))\n",
    "    result = fact_of_fact(num)\n",
    "    print(result)\n"
   ]
  },
  {
   "cell_type": "code",
   "execution_count": null,
   "id": "fa27ff75",
   "metadata": {},
   "outputs": [],
   "source": []
  }
 ],
 "metadata": {
  "kernelspec": {
   "display_name": "Python 3 (ipykernel)",
   "language": "python",
   "name": "python3"
  },
  "language_info": {
   "codemirror_mode": {
    "name": "ipython",
    "version": 3
   },
   "file_extension": ".py",
   "mimetype": "text/x-python",
   "name": "python",
   "nbconvert_exporter": "python",
   "pygments_lexer": "ipython3",
   "version": "3.9.12"
  }
 },
 "nbformat": 4,
 "nbformat_minor": 5
}
