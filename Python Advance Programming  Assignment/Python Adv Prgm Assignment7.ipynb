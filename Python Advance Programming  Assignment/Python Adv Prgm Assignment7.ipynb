{
 "cells": [
  {
   "cell_type": "markdown",
   "id": "838c7cd0",
   "metadata": {},
   "source": [
    "# Python Adv Prgm Assignment7"
   ]
  },
  {
   "cell_type": "code",
   "execution_count": 4,
   "id": "9bc189f2",
   "metadata": {},
   "outputs": [
    {
     "name": "stdout",
     "output_type": "stream",
     "text": [
      "enter the lst[   \"AAAAAAAAAAA\",   \"AABBBBBBBAA\",   \"AABCCCCCBAA\",   \"AABCAAACBAA\",   \"AABCADACBAA\",   \"AABCAAACBAA\",   \"AABCCCCCBAA\",   \"AABBBBBBBAA\",   \"AAAAAAAAAAA\" ]\n",
      "5\n"
     ]
    }
   ],
   "source": [
    "'''\n",
    "1. Write a function that counts how many concentric layers a rug.\n",
    "\n",
    "Examples\n",
    "\n",
    "count_layers([\n",
    "  \"AAAA\",\n",
    "  \"ABBA\",\n",
    "  \"AAAA\"\n",
    "]) ➞ 2\n",
    "\n",
    "count_layers([\n",
    "  \"AAAAAAAAA\",\n",
    "  \"ABBBBBBBA\",\n",
    "  \"ABBAAABBA\",\n",
    "  \"ABBBBBBBA\",\n",
    "  \"AAAAAAAAA\"\n",
    "]) ➞ 3\n",
    "\n",
    "count_layers([\n",
    "  \"AAAAAAAAAAA\",\n",
    "  \"AABBBBBBBAA\",\n",
    "  \"AABCCCCCBAA\",\n",
    "  \"AABCAAACBAA\",\n",
    "  \"AABCADACBAA\",\n",
    "  \"AABCAAACBAA\",\n",
    "  \"AABCCCCCBAA\",\n",
    "  \"AABBBBBBBAA\",\n",
    "  \"AAAAAAAAAAA\"\n",
    "]) ➞ 5\n",
    "'''\n",
    "#Code\n",
    "\n",
    "def count_layers(lst):\n",
    "    count = 0\n",
    "    for i in range((len(lst)//2+1)):\n",
    "        if lst[i]==lst[-1-i]:\n",
    "            count+=1\n",
    "    return count\n",
    "\n",
    "if __name__ == \"__main__\":\n",
    "    lst  =eval(input(\"enter the lst\"))\n",
    "    result = count_layers(lst)\n",
    "    print(result)\n"
   ]
  },
  {
   "cell_type": "code",
   "execution_count": 26,
   "id": "26d25ca8",
   "metadata": {},
   "outputs": [
    {
     "name": "stdout",
     "output_type": "stream",
     "text": [
      "enter the lst[   \"Dub,Dancehall\",   \"Industrial,Heavy Metal\",   \"Techno,Dubstep\",   \"Synth-pop,Euro-Disco\",   \"Industrial,Techno,Minimal\" ]\n",
      "9\n"
     ]
    }
   ],
   "source": [
    "'''\n",
    ". There are many different styles of music and many albums exhibit multiple styles. Create a function that takes a list \n",
    "of musical styles from albums and returns how many styles are unique.\n",
    "\n",
    "Examples\n",
    "\n",
    "unique_styles([\n",
    "  \"Dub,Dancehall\",\n",
    "  \"Industrial,Heavy Metal\",\n",
    "  \"Techno,Dubstep\",\n",
    "  \"Synth-pop,Euro-Disco\",\n",
    "  \"Industrial,Techno,Minimal\"\n",
    "]) ➞ 9\n",
    "\n",
    "unique_styles([\n",
    "  \"Soul\",\n",
    "  \"House,Folk\",\n",
    "  \"Trance,Downtempo,Big Beat,House\",\n",
    "  \"Deep House\",\n",
    "  \"Soul\"\n",
    "]) ➞ 7\n",
    "'''\n",
    "#Code\n",
    "\n",
    "def unique_styles(lst):\n",
    "    lst = [i for sub_lst in lst for i in sub_lst.split(\",\")]\n",
    "    count = len(lst)\n",
    "    for i in range(len(lst)):\n",
    "        for j in range(i+1,len(lst)):\n",
    "            if lst[i]==lst[j]:\n",
    "                count-=1\n",
    "    return count\n",
    "\n",
    "if __name__ == \"__main__\":\n",
    "    lst  =eval(input(\"enter the lst\"))\n",
    "    result = unique_styles(lst)\n",
    "    print(result)\n",
    "\n"
   ]
  },
  {
   "cell_type": "code",
   "execution_count": 12,
   "id": "5b59b13a",
   "metadata": {},
   "outputs": [
    {
     "name": "stdout",
     "output_type": "stream",
     "text": [
      "enter the number11\n",
      "True\n"
     ]
    }
   ],
   "source": [
    "'''\n",
    "3. Create a function that finds a target number in a list of prime numbers. Implement a binary search algorithm in your \n",
    "function. The target number will be from 2 through 97. If the target is prime then return \"yes\" else return \"no\".\n",
    "\n",
    "Examples\n",
    "\n",
    "primes = [2, 3, 5, 7, 11, 13, 17, 19, 23, 29, 31, 37, 41, 43, 47, 53, 59, 61, 67, 71, 73, 79, 83, 89, 97]\n",
    "\n",
    "\n",
    "is_prime(primes, 3) ➞ \"yes\"\n",
    "\n",
    "is_prime(primes, 4) ➞ \"no\"\n",
    "\n",
    "is_prime(primes, 67) ➞ \"yes\"\n",
    "\n",
    "is_prime(primes, 36) ➞ \"no\"\n",
    "\n",
    "'''\n",
    "def is_prime(primes, num,low,high):\n",
    "\n",
    "    if high>=low:\n",
    "        mid = (low+high)//2\n",
    "        \n",
    "        if primes[mid]==num:\n",
    "            return True\n",
    "        elif primes[mid]>num:\n",
    "            high = mid-1\n",
    "            return is_prime(primes,num,low,high)\n",
    "        else:\n",
    "            low = mid+1\n",
    "            return is_prime(primes, num, low,high)\n",
    "    else:\n",
    "        return False \n",
    "\n",
    "if __name__ == \"__main__\":\n",
    "    primes = [2, 3, 5, 7, 11, 13, 17, 19, 23, 29, 31, 37, 41, 43, 47, 53, 59, 61, 67, 71, 73, 79, 83, 89, 97]\n",
    "    low = 0\n",
    "    high = len(primes)\n",
    "    num  =int(input(\"enter the number\"))\n",
    "    result = is_prime(primes, num,low,high)\n",
    "    print(result)\n",
    "\n"
   ]
  },
  {
   "cell_type": "code",
   "execution_count": 18,
   "id": "162c3fa7",
   "metadata": {},
   "outputs": [
    {
     "name": "stdout",
     "output_type": "stream",
     "text": [
      "enter the n,a,b 3, 1, 27\n",
      "3\n"
     ]
    }
   ],
   "source": [
    "'''\n",
    "4. Create a function that takes in n, a, b and returns the number of positive values raised to the nth power that lie in\n",
    "the range [a, b], inclusive.\n",
    "\n",
    "Examples\n",
    "\n",
    "power_ranger(2, 49, 65) ➞ 2\n",
    "# 2 squares (n^2) lie between 49 and 65, 49 (7^2) and 64 (8^2)\n",
    "\n",
    "power_ranger(3, 1, 27) ➞ 3\n",
    "# 3 cubes (n^3) lie between 1 and 27, 1 (1^3), 8 (2^3) and 27 (3^3)\n",
    "\n",
    "power_ranger(10, 1, 5) ➞ 1\n",
    "# 1 value raised to the 10th power lies between 1 and 5, 1 (1^10)\n",
    "\n",
    "power_ranger(5, 31, 33) ➞ 1\n",
    "\n",
    "power_ranger(4, 250, 1300) ➞ 3\n",
    "\n",
    "'''\n",
    "from math import pow\n",
    "\n",
    "def power_ranger(n,a,b):\n",
    "    count = 0\n",
    "    for i in range(int(pow(b,1/n))+1):\n",
    "        if a<=(i**n)<=b:\n",
    "            count+=1\n",
    "            \n",
    "    return count\n",
    "\n",
    "if __name__ == \"__main__\":\n",
    "    n,a,b  =eval(input(\"enter the n,a,b \"))\n",
    "    result = power_ranger(n,a,b)\n",
    "    print(result)\n",
    "\n"
   ]
  },
  {
   "cell_type": "code",
   "execution_count": 35,
   "id": "6b6948f1",
   "metadata": {},
   "outputs": [
    {
     "name": "stdout",
     "output_type": "stream",
     "text": [
      "enter the number 90010\n",
      "90981\n"
     ]
    }
   ],
   "source": [
    "'''\n",
    "5. Given a number, return the difference between the maximum and minimum numbers that can be formed when the digits are \n",
    "rearranged.\n",
    "\n",
    "Examples\n",
    "\n",
    "rearranged_difference(972882) ➞ 760833\n",
    "# 988722 - 227889 = 760833\n",
    "\n",
    "rearranged_difference(3320707) ➞ 7709823\n",
    "# 7733200 - 23377 = 7709823\n",
    "\n",
    "rearranged_difference(90010) ➞ 90981\n",
    "# 91000 - 19 = 90981\n",
    "'''\n",
    "#Code\n",
    "\n",
    "def rearranged_difference(num):\n",
    "    num = str(num)\n",
    "    num_lst = [int(i) for i in num]\n",
    "    max_num = \"\"\n",
    "    min_num = \"\"\n",
    "    \n",
    "    for i in range(len(num_lst)):\n",
    "        for j in range(i,len(num_lst)-1):\n",
    "            if num_lst[i]<num_lst[j+1]:\n",
    "                num_lst[i],num_lst[j+1]=num_lst[j+1],num_lst[i]\n",
    "                \n",
    "    max_num = [str(i) for i in num_lst]\n",
    "    max_num  = int(\"\".join(max_num))\n",
    "    temp = num_lst\n",
    "    \n",
    "    for i in range(len(temp)):\n",
    "        for j in range(i,len(temp)-1):\n",
    "            if temp[i]>temp[j+1]:\n",
    "                temp[i],temp[j+1]=temp[j+1],temp[i]\n",
    "                \n",
    "    min_num = [str(i) for i in temp]\n",
    "    min_mum = int(\"\".join(min_num))\n",
    "    difference = max_num-min_mum\n",
    "    \n",
    "    return difference\n",
    "\n",
    "if __name__ == \"__main__\":\n",
    "    num  =int(input(\"enter the number \"))\n",
    "    result = rearranged_difference(num)\n",
    "    print(result)\n",
    "\n"
   ]
  },
  {
   "cell_type": "code",
   "execution_count": null,
   "id": "9a978307",
   "metadata": {},
   "outputs": [],
   "source": []
  }
 ],
 "metadata": {
  "kernelspec": {
   "display_name": "Python 3 (ipykernel)",
   "language": "python",
   "name": "python3"
  },
  "language_info": {
   "codemirror_mode": {
    "name": "ipython",
    "version": 3
   },
   "file_extension": ".py",
   "mimetype": "text/x-python",
   "name": "python",
   "nbconvert_exporter": "python",
   "pygments_lexer": "ipython3",
   "version": "3.9.12"
  }
 },
 "nbformat": 4,
 "nbformat_minor": 5
}
