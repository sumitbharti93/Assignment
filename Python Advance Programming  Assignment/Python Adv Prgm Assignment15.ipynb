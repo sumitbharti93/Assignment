{
 "cells": [
  {
   "cell_type": "markdown",
   "id": "8c5f56a9",
   "metadata": {},
   "source": [
    "# Python Adv Prgm Assignment15"
   ]
  },
  {
   "cell_type": "code",
   "execution_count": 18,
   "id": "222fbad3",
   "metadata": {},
   "outputs": [
    {
     "name": "stdout",
     "output_type": "stream",
     "text": [
      "Enter the string and list \"Natalie Portman\", [\"ornamental\", \"pita\"]\n",
      "True\n"
     ]
    }
   ],
   "source": [
    "'''\n",
    "1. Write a function that returns True if a given name can generate an array of words.\n",
    "\n",
    "Examples\n",
    "\n",
    "anagram(\"Justin Bieber\", [\"injures\", \"ebb\", \"it\"]) ➞ True\n",
    "\n",
    "anagram(\"Natalie Portman\", [\"ornamental\", \"pita\"]) ➞ True\n",
    "\n",
    "anagram(\"Chris Pratt\", [\"chirps\", \"rat\"]) ➞ False\n",
    "# Not all letters are used\n",
    "\n",
    "anagram(\"Jeff Goldblum\", [\"jog\", \"meld\", \"bluffs\"]) ➞ False\n",
    "# \"s\" does not exist in the original name\n",
    "\n",
    "'''\n",
    "#Code\n",
    "def anagram(st, lst):\n",
    "    new_st = \"\".join(lst)\n",
    "    if(len(st))!=len(st):\n",
    "        return False\n",
    "    else:\n",
    "        count=0\n",
    "        for i in st:\n",
    "            if i.lower() in new_st:\n",
    "                count+=1\n",
    "        if count ==len(st)-1:\n",
    "            return True \n",
    "        else:\n",
    "            return False\n",
    "        \n",
    "        \n",
    "if __name__ ==\"__main__\":\n",
    "    st,lst= eval(input(\"Enter the string and list \"))\n",
    "    result = anagram(st,lst)\n",
    "    print(result)\n"
   ]
  },
  {
   "cell_type": "code",
   "execution_count": 35,
   "id": "7cc2d952",
   "metadata": {},
   "outputs": [
    {
     "name": "stdout",
     "output_type": "stream",
     "text": [
      "Enter the list [   { \"name\": \"a\", \"score\": 100, \"reputation\": 20 },   { \"name\": \"b\", \"score\": 90, \"reputation\": 40 },   { \"name\": \"c\", \"score\": 115, \"reputation\": 30 }, ]\n",
      "[140, 170, 175]\n",
      "[{'name': 'c', 'score': 115, 'reputation': 30}, {'name': 'b', 'score': 90, 'reputation': 40}, {'name': 'a', 'score': 100, 'reputation': 20}]\n"
     ]
    }
   ],
   "source": [
    "'''\n",
    "2. Given an array of users, each defined by an object with the following properties: name, score, reputation create a \n",
    "function that sorts the array to form the correct leaderboard.\n",
    "\n",
    "The leaderboard takes into consideration the score of each user of course, but an emphasis is put on their reputation \n",
    "in the community, so to get the trueScore, you should add the reputation multiplied by 2 to the score.\n",
    "\n",
    "Once you know the trueScore of each user, sort the array according to it in descending order.\n",
    "\n",
    "Examples\n",
    "\n",
    "leaderboards([\n",
    "  { \"name\": \"a\", \"score\": 100, \"reputation\": 20 },\n",
    "  { \"name\": \"b\", \"score\": 90, \"reputation\": 40 },\n",
    "  { \"name\": \"c\", \"score\": 115, \"reputation\": 30 },\n",
    "]) ➞ [\n",
    "  { \"name\": \"c\", \"score\": 115, \"reputation\": 30 },  # trueScore = 175\n",
    "  { \"name\": \"b\", \"score\": 90, \"reputation\": 40 },   # trueScore = 170\n",
    "  { \"name\": \"a\", \"score\": 100, \"reputation\": 20 }   # trueScore = 140\n",
    "]\n",
    "\n",
    "'''\n",
    "#Code\n",
    "\n",
    "def leaderboards(lst):\n",
    "    final_lst = []\n",
    "    final_score = []\n",
    "    for i in range(len(lst)):\n",
    "        score=lst[i]['score']+lst[i]['reputation']*2\n",
    "        final_score.append(score)\n",
    "    print(final_score)\n",
    "    for i in range(len(lst)):\n",
    "        for j in range(len(lst)-1-i):\n",
    "            if final_score[j]<final_score[j+1]:\n",
    "                lst[j],lst[j+1] = lst[j+1],lst[j]\n",
    "    \n",
    "    return lst\n",
    "if __name__ ==\"__main__\":\n",
    "    lst= eval(input(\"Enter the list \"))\n",
    "    result = leaderboards(lst)\n",
    "    print(result)\n"
   ]
  },
  {
   "cell_type": "code",
   "execution_count": 43,
   "id": "3e489122",
   "metadata": {},
   "outputs": [
    {
     "name": "stdout",
     "output_type": "stream",
     "text": [
      "Enter the string and list \"helicopter\", [\"o\", \"e\", \"s\"]\n",
      "----------\n"
     ]
    }
   ],
   "source": [
    "'''\n",
    "3. Create a function that, given a phrase and a number of letters guessed, returns a string with hyphens - for every\n",
    "letter of the phrase not guessed, and each letter guessed in place.\n",
    "\n",
    "Examples\n",
    "\n",
    "hangman(\"helicopter\", [\"o\", \"e\", \"s\"]) ➞ \"-e---o--e-\"\n",
    "\n",
    "hangman(\"tree\", [\"r\", \"t\", \"e\"]) ➞ \"tree\"\n",
    "\n",
    "hangman(\"Python rules\", [\"a\", \"n\", \"p\", \"r\", \"z\"]) ➞ \"P----n r----\"\n",
    "\n",
    "hangman(\"He\"s a very naughty boy!\", [\"e\", \"a\", \"y\"]) ➞ \"-e\"- a -e-y -a----y –y!\"\n",
    "'''\n",
    "#Code\n",
    "def hangman(st, lst):\n",
    "    for i in lst:\n",
    "        for j in st :\n",
    "            if i!=j:\n",
    "                st = st.replace(j,'-')\n",
    "    return st\n",
    "\n",
    "if __name__ ==\"__main__\":\n",
    "    st, lst= eval(input(\"Enter the string and list \"))\n",
    "    result = hangman(st,lst)\n",
    "    print(result)\n"
   ]
  },
  {
   "cell_type": "code",
   "execution_count": 52,
   "id": "e148bea0",
   "metadata": {},
   "outputs": [
    {
     "name": "stdout",
     "output_type": "stream",
     "text": [
      "Enter the string and list 85\n",
      "[85, 256, 128, 64, 32, 16, 8, 4, 2, 1]\n",
      "256\n"
     ]
    }
   ],
   "source": [
    "'''\n",
    "4. The Collatz sequence is as follows:\n",
    "\n",
    "  - Start with some given integer n.\n",
    "  - If it is even, the next number will be n divided by 2.\n",
    "  - If it is odd, multiply it by 3 and add 1 to make the next number.\n",
    "  - The sequence stops when it reaches 1.\n",
    "\n",
    "According to the Collatz conjecture, it will always reach 1. If that's true, you can construct a finite sequence following\n",
    "the aforementioned method for any given integer.\n",
    "\n",
    "Write a function that takes in an integer n and returns the highest integer in the corresponding Collatz sequence.\n",
    "\n",
    "Examples\n",
    "\n",
    "max_collatz(10) ➞ 16\n",
    "# Collatz sequence: 10, 5, 16, 8, 4, 2, 1\n",
    "\n",
    "max_collatz(32) ➞ 32\n",
    "# Collatz sequence: 32, 16, 8, 4, 2, 1\n",
    "\n",
    "max_collatz(85) ➞ 256\n",
    "# Collatz sequence: 85, 256, 128, 64, 32, 16, 8, 4, 2, 1\n",
    "'''\n",
    "#Code\n",
    "\n",
    "l = []\n",
    "def max_collatz(n):\n",
    "    if n==1:\n",
    "        l.append(int(n))\n",
    "        return max(l)\n",
    "    elif n%2==0:\n",
    "        l.append(int(n))\n",
    "        return max_collatz(n/2)\n",
    "    else:\n",
    "        l.append(int(n))\n",
    "        return max_collatz(n*3+1)\n",
    "\n",
    "if __name__ ==\"__main__\":\n",
    "    num = int(input(\"Enter the string and list \"))\n",
    "    result = max_collatz(num)\n",
    "    print(result)\n"
   ]
  },
  {
   "cell_type": "code",
   "execution_count": 65,
   "id": "7ddf9c28",
   "metadata": {},
   "outputs": [
    {
     "name": "stdout",
     "output_type": "stream",
     "text": [
      "Enter the list [1, 5, 9, 2, 789, 563, 444]\n",
      "[444, 563, 789, 1, 2, 5, 9]\n"
     ]
    }
   ],
   "source": [
    "'''\n",
    "5. Write a function that sorts a list of integers by their digit length in descending order, then settles ties by sorting \n",
    "numbers with the same digit length in ascending order.\n",
    "\n",
    "Examples\n",
    "\n",
    "digit_sort([77, 23, 5, 7, 101])\n",
    "➞ [101, 23, 77, 5, 7]\n",
    "\n",
    "digit_sort([1, 5, 9, 2, 789, 563, 444])\n",
    "➞ [444, 563, 789, 1, 2, 5, 9]\n",
    "\n",
    "digit_sort([53219, 3772, 564, 32, 1])\n",
    "➞ [53219, 3772, 564, 32, 1]\n",
    "\n",
    "'''\n",
    "#Code\n",
    "\n",
    "def digit_sort(lst):\n",
    "    for i in range(len(lst)):\n",
    "        for j in range(len(lst)-i-1):\n",
    "            if len(str(lst[j]))<len(str(lst[j+1])):\n",
    "                lst[j],lst[j+1] = lst[j+1],lst[j]\n",
    "    for i in range(len(lst)):\n",
    "        for j in range(len(lst)-i-1):\n",
    "            if len(str(lst[j]))==len(str(lst[j+1])):\n",
    "                if lst[j]>lst[j+1]:\n",
    "                    lst[j], lst[j+1] = lst[j+1],lst[j]\n",
    "\n",
    "    return lst\n",
    "if __name__ ==\"__main__\":\n",
    "    lst = eval(input(\"Enter the list \"))\n",
    "    result = digit_sort(lst)\n",
    "    print(result)\n"
   ]
  },
  {
   "cell_type": "code",
   "execution_count": null,
   "id": "ac17d493",
   "metadata": {},
   "outputs": [],
   "source": []
  },
  {
   "cell_type": "code",
   "execution_count": null,
   "id": "67ca1b87",
   "metadata": {},
   "outputs": [],
   "source": []
  },
  {
   "cell_type": "code",
   "execution_count": null,
   "id": "1c670637",
   "metadata": {},
   "outputs": [],
   "source": []
  }
 ],
 "metadata": {
  "kernelspec": {
   "display_name": "Python 3 (ipykernel)",
   "language": "python",
   "name": "python3"
  },
  "language_info": {
   "codemirror_mode": {
    "name": "ipython",
    "version": 3
   },
   "file_extension": ".py",
   "mimetype": "text/x-python",
   "name": "python",
   "nbconvert_exporter": "python",
   "pygments_lexer": "ipython3",
   "version": "3.9.12"
  }
 },
 "nbformat": 4,
 "nbformat_minor": 5
}
