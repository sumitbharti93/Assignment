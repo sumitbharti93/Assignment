{
 "cells": [
  {
   "cell_type": "markdown",
   "id": "2948ca11",
   "metadata": {},
   "source": [
    "# Python Adv Prgm Assignment13"
   ]
  },
  {
   "cell_type": "code",
   "execution_count": 1,
   "id": "07e2815d",
   "metadata": {},
   "outputs": [
    {
     "name": "stdout",
     "output_type": "stream",
     "text": [
      "Enter the list [\"b\", \"b\", \"l\", \"l\", \"g\", \"n\", \"o\", \"a\", \"w\"]\n",
      "Enter the string ballon\n",
      "['b', 'g', 'w']\n"
     ]
    }
   ],
   "source": [
    "'''\n",
    "1. Create a function that takes a list and string. The function should remove the letters in the string from the list, and\n",
    "return the list.\n",
    "\n",
    "Examples\n",
    "\n",
    "remove_letters([\"s\", \"t\", \"r\", \"i\", \"n\", \"g\", \"w\"], \"string\") ➞ [\"w\"]\n",
    "\n",
    "remove_letters([\"b\", \"b\", \"l\", \"l\", \"g\", \"n\", \"o\", \"a\", \"w\"], \"balloon\") ➞ [\"b\", \"g\", \"w\"]\n",
    "\n",
    "remove_letters([\"d\", \"b\", \"t\", \"e\", \"a\", \"i\"], \"edabit\") ➞ []\n",
    "\n",
    "'''\n",
    "#Code\n",
    "def remove_letters(lst, st):\n",
    "    for j in range(len(st)):\n",
    "        lst.remove(st[j])\n",
    "    return lst\n",
    "        \n",
    "if __name__ ==\"__main__\":\n",
    "    lst = eval(input(\"Enter the list \"))\n",
    "    st = input(\"Enter the string \")\n",
    "    result = remove_letters(lst,st)\n",
    "    print(result)\n"
   ]
  },
  {
   "cell_type": "code",
   "execution_count": 19,
   "id": "9141910d",
   "metadata": {},
   "outputs": [
    {
     "name": "stdout",
     "output_type": "stream",
     "text": [
      "Enter the number 5\n",
      "39\n"
     ]
    }
   ],
   "source": [
    "'''\n",
    "2. A block sequence in three dimensions. We can write a formula for this one:\n",
    "\n",
    "Create a function that takes a number (step) as an argument and returns the amount of blocks in \n",
    "that step.\n",
    "\n",
    "Examples\n",
    "\n",
    "blocks(1) ➞ 5\n",
    "\n",
    "blocks(5) ➞ 39\n",
    "\n",
    "blocks(2) ➞ 12\n",
    "'''\n",
    "#Code\n",
    "def blocks(num):\n",
    "    a = 5\n",
    "    b = 7\n",
    "    blocks =0\n",
    "    for i in range(num):\n",
    "        blocks+= a\n",
    "        a = b\n",
    "        b =b+1\n",
    "    return blocks\n",
    "\n",
    "if __name__ ==\"__main__\":\n",
    "    num = int(input(\"Enter the number \"))\n",
    "    result = blocks(num)\n",
    "    print(result)\n",
    "\n",
    "\n"
   ]
  },
  {
   "cell_type": "code",
   "execution_count": 4,
   "id": "3214c351",
   "metadata": {},
   "outputs": [
    {
     "name": "stdout",
     "output_type": "stream",
     "text": [
      "Enter the string 5,9\n",
      "4\n"
     ]
    }
   ],
   "source": [
    "'''\n",
    "3. Create a function that subtracts one positive integer from another, without using any arithmetic operators such as -, \n",
    "%, /, +, etc.\n",
    "\n",
    "Examples\n",
    "\n",
    "my_sub(5, 9) ➞ 4\n",
    "\n",
    "my_sub(10, 30) ➞ 20\n",
    "\n",
    "my_sub(0, 0) ➞ 0\n",
    "'''\n",
    "#Code\n",
    "def my_sub(a,b):\n",
    "    if (a==0):\n",
    "        return b\n",
    "    else:\n",
    "        return my_sub((~b&a)<<1, b^a)\n",
    "\n",
    "if __name__ ==\"__main__\":\n",
    "    a,b = eval(input(\"Enter the string \"))\n",
    "    result = my_sub(a,b)\n",
    "    print(result)\n",
    "\n"
   ]
  },
  {
   "cell_type": "code",
   "execution_count": 33,
   "id": "3c13f229",
   "metadata": {},
   "outputs": [
    {
     "name": "stdout",
     "output_type": "stream",
     "text": [
      "Enter the string p30,d2k,p60,d200,p360\"\n",
      "2200\n"
     ]
    }
   ],
   "source": [
    "'''\n",
    "4. Create a function that takes a string containing money in dollars and pounds sterling (seperated by comma) and returns \n",
    "the sum of dollar bills only, as an integer.\n",
    "\n",
    "For the input string:\n",
    "\n",
    "   - Each amount is prefixed by the currency symbol: $ for dollars and £ for pounds.\n",
    "   - Thousands are represented by the suffix k.\n",
    "\n",
    "i.e. $4k = $4,000 and £40k = £40,000\n",
    "\n",
    "Examples\n",
    "\n",
    "add_bill(\"d20,p40,p60,d50\") ➞ 20 + 50 = 70\n",
    "\n",
    "add_bill(\"p30,d20,p60,d150,p360\") ➞ 20  + 150 = 170\n",
    "\n",
    "add_bill(\"p30,d2k,p60,d200,p360\") ➞ 2 * 1000 + 200 = 2200\n",
    "'''\n",
    "#Code\n",
    "import re \n",
    "def add_bill(bill_st):\n",
    "    pattern1 = re.compile(r'(?<=d)\\d+(?!k)')\n",
    "    pattern2 = re.compile(r'(?<=d)\\d+(?=k)')\n",
    "    dollar_number = re.findall(pattern1, bill_st)\n",
    "    dollar_k = re.findall(pattern2, bill_st)\n",
    "    \n",
    "    sum_total = 0\n",
    "    for i in range(len(dollar_number)):\n",
    "        sum_total+=int(dollar_number[i])\n",
    "    for i in range(len(dollar_k)):\n",
    "        sum_total+=int(dollar_k[i])*1000\n",
    "    return sum_total\n",
    "\n",
    "if __name__ ==\"__main__\":\n",
    "    bill_st = input(\"Enter the string \")\n",
    "    result = add_bill(bill_st)\n",
    "    print(result)\n",
    "\n",
    "\n"
   ]
  },
  {
   "cell_type": "code",
   "execution_count": 1,
   "id": "b0720f67",
   "metadata": {},
   "outputs": [
    {
     "name": "stdout",
     "output_type": "stream",
     "text": [
      "Enter the string [[5], [6], [9]]\n",
      "[5, 6, 9]\n"
     ]
    }
   ],
   "source": [
    "'''\n",
    "5. Create a function that flips a horizontal list into a vertical list, and a vertical list into a horizontal list.\n",
    "\n",
    "In other words, take an 1 x n list (1 row + n columns) and flip it into a n x 1 list (n rows and 1 column), and vice \n",
    "versa.\n",
    "\n",
    "Examples\n",
    "\n",
    "flip_list([1, 2, 3, 4]) ➞ [[1], [2], [3], [4]]\n",
    "# Take a horizontal list and flip it vertical.\n",
    "\n",
    "flip_list([[5], [6], [9]]) ➞ [5, 6, 9]\n",
    "# Take a vertical list and flip it horizontal.\n",
    "\n",
    "flip_list([]) ➞ []\n",
    "'''\n",
    "#Code\n",
    "\n",
    "def flip_list(lst):\n",
    "    converted_lst = []\n",
    "    if len(lst)>0:\n",
    "        if type(lst[0])== int:\n",
    "            for i in range(len(lst)):\n",
    "                converted_lst.append([lst[i]])\n",
    "        else :\n",
    "            for i in range(len(lst)):\n",
    "                converted_lst.append(lst[i][0])\n",
    "    else:\n",
    "        return lst\n",
    "    return converted_lst\n",
    "\n",
    "if __name__ ==\"__main__\":\n",
    "    lst = eval(input(\"Enter the string \"))\n",
    "    result = flip_list(lst)\n",
    "    print(result)\n",
    "\n"
   ]
  },
  {
   "cell_type": "code",
   "execution_count": null,
   "id": "31fcb048",
   "metadata": {},
   "outputs": [],
   "source": []
  }
 ],
 "metadata": {
  "kernelspec": {
   "display_name": "Python 3 (ipykernel)",
   "language": "python",
   "name": "python3"
  },
  "language_info": {
   "codemirror_mode": {
    "name": "ipython",
    "version": 3
   },
   "file_extension": ".py",
   "mimetype": "text/x-python",
   "name": "python",
   "nbconvert_exporter": "python",
   "pygments_lexer": "ipython3",
   "version": "3.9.12"
  }
 },
 "nbformat": 4,
 "nbformat_minor": 5
}
