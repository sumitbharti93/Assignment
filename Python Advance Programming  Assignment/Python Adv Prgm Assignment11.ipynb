{
 "cells": [
  {
   "cell_type": "markdown",
   "id": "18e51037",
   "metadata": {},
   "source": [
    "# Python Adv Prgm Assignment11"
   ]
  },
  {
   "cell_type": "code",
   "execution_count": 6,
   "id": "747504a5",
   "metadata": {},
   "outputs": [
    {
     "name": "stdout",
     "output_type": "stream",
     "text": [
      "Enter the list[1009, 10, 10, 10, 3, 33, 9, 4, 1, 61, 63, 69, 1087, 1091, 1093, 1097]\n",
      "[1009, 3, 61, 1087, 1091, 1093, 1097]\n"
     ]
    }
   ],
   "source": [
    "'''\n",
    "1. Create a function that takes a list and returns a new list containing only prime numbers.\n",
    "\n",
    "Examples\n",
    "\n",
    "filter_primes([7, 9, 3, 9, 10, 11, 27]) ➞ [7, 3, 11]\n",
    "\n",
    "filter_primes([10007, 1009, 1007, 27, 147, 77, 1001, 70]) ➞ [10007, 1009]\n",
    "\n",
    "filter_primes([1009, 10, 10, 10, 3, 33, 9, 4, 1, 61, 63, 69, 1087, 1091, 1093, 1097]) ➞ [1009, 3, 61, 1087, 1091, 1093, \n",
    "1097]\n",
    "\n",
    "'''\n",
    "#Code\n",
    "def filter_primes(lst):\n",
    "    prime_num = []\n",
    "    for i in range(len(lst)):\n",
    "        flag=0\n",
    "        if lst[i]==2 or lst[i]==3:\n",
    "            prime_num.append(lst[i])\n",
    "        elif lst[i]==1:\n",
    "            pass\n",
    "        else:\n",
    "            for j in range(2,int(lst[i]/2+1)):\n",
    "                if lst[i]%j==0:\n",
    "                    flag=1\n",
    "                    break\n",
    "            if flag==0:\n",
    "                prime_num.append(lst[i])\n",
    "    return prime_num\n",
    "\n",
    "if __name__ == \"__main__\":\n",
    "    lst = eval(input(\"Enter the list\"))\n",
    "    result = filter_primes(lst)\n",
    "    print(result)\n",
    "\n"
   ]
  },
  {
   "cell_type": "code",
   "execution_count": 12,
   "id": "afd2c046",
   "metadata": {},
   "outputs": [
    {
     "name": "stdout",
     "output_type": "stream",
     "text": [
      "Enter the list[0, 0, 0, 0, 4, 0, 0, 0, 0]\n",
      "[0, 1, 2, 3, 4, 3, 2, 1, 0]\n"
     ]
    }
   ],
   "source": [
    "'''\n",
    "2. Once a water balloon pops, is soaks the area around it. The ground gets drier the further away you travel from the \n",
    "balloon.\n",
    "\n",
    "The effect of a water balloon popping can be modeled using a list. Create a function that takes a list which takes the \n",
    "pre-pop state and returns the state after the balloon is popped. The pre-pop state will contain at most a single balloon, \n",
    "whose size is represented by the only non-zero element.\n",
    "\n",
    "Examples\n",
    "\n",
    "pop([0, 0, 0, 0, 4, 0, 0, 0, 0]) ➞ [0, 1, 2, 3, 4, 3, 2, 1, 0]\n",
    "\n",
    "pop([0, 0, 0, 3, 0, 0, 0]) ➞ [0, 1, 2, 3, 2, 1, 0]\n",
    "\n",
    "pop([0, 0, 2, 0, 0]) ➞ [0, 1, 2, 1, 0]\n",
    "\n",
    "pop([0]) ➞ [0]\n",
    "'''\n",
    "#Code\n",
    "def pop(lst):\n",
    "    mid = len(lst)//2\n",
    "    mid_element = lst[mid]\n",
    "    j =1\n",
    "    for i in range(mid):\n",
    "        lst[mid-j]=mid_element-1\n",
    "        lst[mid+j]= mid_element-1\n",
    "        mid_element-=1\n",
    "        j+=1\n",
    "    return lst\n",
    "\n",
    "if __name__ == \"__main__\":\n",
    "    lst = eval(input(\"Enter the list\"))\n",
    "    result = pop(lst)\n",
    "    print(result)\n",
    "\n"
   ]
  },
  {
   "cell_type": "code",
   "execution_count": 20,
   "id": "e5b10cbe",
   "metadata": {},
   "outputs": [
    {
     "name": "stdout",
     "output_type": "stream",
     "text": [
      "Enter the number6\n",
      "Loves me, Loves me not, Loves me, Loves me not, Loves me, LOVES ME NOT\n"
     ]
    }
   ],
   "source": [
    "'''\n",
    "3. \"Loves me, loves me not\" is a traditional game in which a person plucks off all the petals of a flower one by one, \n",
    "saying the phrase \"Loves me\" and \"Loves me not\" when determining whether the one that they love, loves them back.\n",
    "\n",
    "Given a number of petals, return a string which repeats the phrases \"Loves me\" and \"Loves me not\" for every alternating\n",
    "petal, and return the last phrase in all caps. Remember to put a comma and space between phrases.\n",
    "\n",
    "Examples\n",
    "\n",
    "loves_me(3) ➞ \"Loves me, Loves me not, LOVES ME\"\n",
    "\n",
    "loves_me(6) ➞ \"Loves me, Loves me not, Loves me, Loves me not, Loves me, LOVES ME NOT\"\n",
    "\n",
    "loves_me(1) ➞ \"LOVES ME\"\n",
    "\n",
    "'''\n",
    "#Code\n",
    "def loves_me(num):\n",
    "    st = \"\"\n",
    "    for i in range(1,num+1):\n",
    "        if i<num:\n",
    "            if i%2!=0:\n",
    "                st+=\"Loves me, \"\n",
    "            else:\n",
    "                st+=\"Loves me not, \"\n",
    "        else:\n",
    "            if i%2!=0:\n",
    "                st+=\"LOVES ME\"\n",
    "            else:\n",
    "                st+=\"LOVES ME NOT\"\n",
    "    return st\n",
    "\n",
    "if __name__ == \"__main__\":\n",
    "    st = int(input(\"Enter the number\"))\n",
    "    result = loves_me(st)\n",
    "    print(result)\n",
    "\n"
   ]
  },
  {
   "cell_type": "code",
   "execution_count": 54,
   "id": "157a15e9",
   "metadata": {},
   "outputs": [
    {
     "name": "stdout",
     "output_type": "stream",
     "text": [
      "Enter the list[\"572z\", \"5y5\", \"304q2\"]\n",
      "['304q2', '5y5', '572z']\n"
     ]
    }
   ],
   "source": [
    "'''\n",
    "4. Write a function that sorts each string in a list by the letter in alphabetic ascending order (a-z).\n",
    "\n",
    "Examples\n",
    "\n",
    "sort_by_letter([\"932c\", \"832u32\", \"2344b\"])\n",
    "➞ [\"2344b\", \"932c\", \"832u32\"]\n",
    "\n",
    "sort_by_letter([\"99a\", \"78b\", \"c2345\", \"11d\"])\n",
    "➞ [\"99a\", \"78b\", \"c2345\", \"11d\"]\n",
    "\n",
    "sort_by_letter([\"572z\", \"5y5\", \"304q2\"])\n",
    "➞ [\"304q2\", \"5y5\", \"572z\"]\n",
    "\n",
    "sort_by_letter([])\n",
    "➞ []\n",
    "\n",
    "'''\n",
    "#Code\n",
    "import re\n",
    "pattern  = re.compile(r\"[a-z]\")\n",
    "def sort_by_letter(lst):\n",
    "    letter_lst = []\n",
    "    sorted_lst = []\n",
    "    for i in range(len(lst)):\n",
    "        letter = re.findall(pattern, lst[i])\n",
    "        letter_lst.append(letter[0])\n",
    "        \n",
    "    letter_lst = sorted(letter_lst)\n",
    "    \n",
    "    for i in range(len(letter_lst)):\n",
    "        for j in range(len(lst)):\n",
    "            if letter_lst[i] in lst[j]:\n",
    "                sorted_lst.append(lst[j])\n",
    "                \n",
    "    return sorted_lst\n",
    "\n",
    "if __name__ == \"__main__\":\n",
    "    lst = eval(input(\"Enter the list\"))\n",
    "    result = sort_by_letter(lst)\n",
    "    print(result)\n"
   ]
  },
  {
   "cell_type": "code",
   "execution_count": 60,
   "id": "2b7c39a9",
   "metadata": {},
   "outputs": [
    {
     "name": "stdout",
     "output_type": "stream",
     "text": [
      "Enter the list[\"AB\", \"CA\", \"BC\", \"AB\", \"AC\"]\n",
      "C\n"
     ]
    }
   ],
   "source": [
    "'''\n",
    "5. There are three cups on a table, at positions A, B, and C. At the start, there is a ball hidden under the cup at \n",
    "position B.\n",
    "\n",
    "However, I perform several swaps on the cups, which is notated as two letters. For example, if I swap the cups at\n",
    "positions A and B, I could notate this as AB or BA.\n",
    "\n",
    "Create a function that returns the letter position that the ball is at, once I finish swapping the cups. The swaps will \n",
    "be given to you as a list.\n",
    "\n",
    "Example\n",
    "\n",
    "cup_swapping([\"AB\", \"CA\", \"AB\"]) ➞ \"C\"\n",
    "\n",
    "# Ball begins at position B.\n",
    "# Cups A and B swap, so the ball is at position A.\n",
    "# Cups C and A swap, so the ball is at position C.\n",
    "# Cups A and B swap, but the ball is at position C, so it doesn't move.\n",
    "\n",
    "'''\n",
    "#Code\n",
    "def cup_swapping(lst):\n",
    "    swap_position = \"B\"\n",
    "    for i in range(len(lst)):\n",
    "        if swap_position in lst[i]:\n",
    "            if swap_position ==lst[i][0]:\n",
    "                swap_position = swap_position.replace(swap_position, lst[i][1])\n",
    "            else:\n",
    "                swap_position = swap_position.replace(swap_position, lst[i][0])\n",
    "    return swap_position\n",
    "\n",
    "\n",
    "if __name__ == \"__main__\":\n",
    "    lst = eval(input(\"Enter the list\"))\n",
    "    result = cup_swapping(lst)\n",
    "    print(result)\n",
    "\n",
    "\n"
   ]
  },
  {
   "cell_type": "code",
   "execution_count": null,
   "id": "64cf1874",
   "metadata": {},
   "outputs": [],
   "source": []
  }
 ],
 "metadata": {
  "kernelspec": {
   "display_name": "Python 3 (ipykernel)",
   "language": "python",
   "name": "python3"
  },
  "language_info": {
   "codemirror_mode": {
    "name": "ipython",
    "version": 3
   },
   "file_extension": ".py",
   "mimetype": "text/x-python",
   "name": "python",
   "nbconvert_exporter": "python",
   "pygments_lexer": "ipython3",
   "version": "3.9.12"
  }
 },
 "nbformat": 4,
 "nbformat_minor": 5
}
