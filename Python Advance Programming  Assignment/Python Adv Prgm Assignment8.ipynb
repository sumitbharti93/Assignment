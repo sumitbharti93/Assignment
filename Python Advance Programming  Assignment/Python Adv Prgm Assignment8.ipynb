{
 "cells": [
  {
   "cell_type": "markdown",
   "id": "4be7ac2a",
   "metadata": {},
   "source": [
    "# Python Adv Prgm Assignment8"
   ]
  },
  {
   "cell_type": "code",
   "execution_count": 8,
   "id": "64e8bf6c",
   "metadata": {},
   "outputs": [
    {
     "name": "stdout",
     "output_type": "stream",
     "text": [
      "enter the string a very large appliance\n",
      "True\n"
     ]
    }
   ],
   "source": [
    "'''\n",
    "1. Given a sentence as txt, return True if any two adjacent words have this property: One word ends with a vowel, while \n",
    "the word immediately after begins with a vowel (a e i o u).\n",
    "\n",
    "Examples\n",
    "\n",
    "vowel_links(\"a very large appliance\") ➞ True\n",
    "\n",
    "vowel_links(\"go to edabit\") ➞ True\n",
    "\n",
    "vowel_links(\"an open fire\") ➞ False\n",
    "\n",
    "vowel_links(\"a sudden applause\") ➞ False\n",
    "'''\n",
    "#Code\n",
    "\n",
    "def vowel_links(st):\n",
    "    st_lst = st.split(\" \")\n",
    "    flag = 0\n",
    "    for i in range(len(st_lst)-1):\n",
    "        if st_lst[i][-1] in \"aeiou\" and st_lst[i+1][0] in 'aeiou':\n",
    "            flag =1\n",
    "            \n",
    "    if flag==1:\n",
    "        return True\n",
    "    else:\n",
    "            return False\n",
    "        \n",
    "if __name__ == \"__main__\":\n",
    "    st = input(\"enter the string \")\n",
    "    result = vowel_links(st)\n",
    "    print(result)\n",
    "\n",
    "\n"
   ]
  },
  {
   "cell_type": "code",
   "execution_count": 16,
   "id": "c73bc03d",
   "metadata": {},
   "outputs": [
    {
     "name": "stdout",
     "output_type": "stream",
     "text": [
      "enter the string, first_letter, second_letter \"knaves knew about waterfalls\", \"k\", \"w\"\n",
      "True\n"
     ]
    }
   ],
   "source": [
    "'''\n",
    "2. You are given three inputs: a string, one letter, and a second letter.\n",
    "\n",
    "Write a function that returns True if every instance of the first letter occurs before every instance of the second letter.\n",
    "\n",
    "Examples\n",
    "\n",
    "first_before_second(\"a rabbit jumps joyfully\", \"a\", \"j\") ➞ True\n",
    "# Every instance of \"a\" occurs before every instance of \"j\".\n",
    "\n",
    "first_before_second(\"knaves knew about waterfalls\", \"k\", \"w\") ➞  True\n",
    "\n",
    "first_before_second(\"happy birthday\", \"a\", \"y\") ➞ False\n",
    "# The \"a\" in \"birthday\" occurs after the \"y\" in \"happy\".\n",
    "\n",
    "first_before_second(\"precarious kangaroos\", \"k\", \"a\") ➞ False\n",
    "'''\n",
    "#Code\n",
    "\n",
    "def first_before_second(st, first_letter, second_letter):\n",
    "    first_instance = []\n",
    "    for i in range(len(st)):\n",
    "        if first_letter == st[i]:\n",
    "            first_instance.append(i)\n",
    "    second_isntance = st.index(second_letter)\n",
    "    flag = 0\n",
    "    for i in range(len(first_instance)):\n",
    "        if second_isntance<first_instance[i]:\n",
    "            flag = 1\n",
    "            \n",
    "    if flag ==1:\n",
    "        return False\n",
    "    else:\n",
    "        return True \n",
    "    \n",
    "if __name__ == \"__main__\":\n",
    "    st,first_letter, second_letter = eval(input(\"enter the string, first_letter, second_letter \"))\n",
    "    result = first_before_second(st,first_letter, second_letter)\n",
    "    print(result)\n",
    "\n"
   ]
  },
  {
   "cell_type": "code",
   "execution_count": 27,
   "id": "47a455e6",
   "metadata": {},
   "outputs": [
    {
     "name": "stdout",
     "output_type": "stream",
     "text": [
      "enter the string and specifier [\"A\", \"R\", \"B\", \"I\", \"T\", \"R\", \"A\", \"R\", \"I\", \"L\", \"Y\"], \"odd\"\n",
      "['A', 'B', 'T', 'A', 'I', 'Y']\n"
     ]
    }
   ],
   "source": [
    "'''\n",
    "3. Create a function that returns the characters from a list or string r on odd or even positions, depending on the \n",
    "specifier s. The specifier will be \"odd\" for items on odd positions (1, 3, 5, ...) and \"even\" for items on even positions \n",
    "(2, 4, 6, ...).\n",
    "\n",
    "Examples\n",
    "\n",
    "char_at_pos([2, 4, 6, 8, 10], \"even\") ➞ [4, 8]\n",
    "# 4 & 8 occupy the 2nd & 4th positions\n",
    "\n",
    "char_at_pos(\"EDABIT\", \"odd\") ➞ \"EAI\"\n",
    "# \"E\", \"A\" and \"I\" occupy the 1st, 3rd and 5th positions\n",
    "\n",
    "char_at_pos([\"A\", \"R\", \"B\", \"I\", \"T\", \"R\", \"A\", \"R\", \"I\", \"L\", \"Y\"], \"odd\") ➞ [\"A\", \"B\", \"T\", \"A\", \"I\", \"Y\"]\n",
    "'''\n",
    "#Code\n",
    "def char_at_pos(iter_data, specifier):\n",
    "    s_pos_lst = []\n",
    "    s_pos_str = \"\"\n",
    "    if specifier =='even':\n",
    "        if type(iter_data) == list:\n",
    "            for i in range(len(iter_data)-1):\n",
    "                if (i+1)%2==0:\n",
    "                    s_pos_lst.append(iter_data[i])\n",
    "            return s_pos_lst\n",
    "        elif type(iter_data)==str:\n",
    "            for i in range(len(iter_data)-1):\n",
    "                if (i+1)%2==0:\n",
    "                    s_pos_str+=iter_data[i]\n",
    "            return s_pos_str\n",
    "            \n",
    "    elif specifier==\"odd\":\n",
    "        if type(iter_data) == list:\n",
    "            for i in range(len(iter_data)):\n",
    "                if (i+1)%2!=0:\n",
    "                    s_pos_lst.append(iter_data[i])\n",
    "            return s_pos_lst\n",
    "        elif type(iter_data)==str:\n",
    "            for i in range(len(iter_data)):\n",
    "                if (i+1)%2!=0:\n",
    "                    s_pos_str+=iter_data[i]\n",
    "            return s_pos_str\n",
    "    \n",
    "\n",
    "if __name__ == \"__main__\":\n",
    "    iter_data, specifier = eval(input(\"enter the string and specifier \"))\n",
    "    result = char_at_pos(iter_data, specifier)\n",
    "    print(result)\n",
    "       \n",
    "\n"
   ]
  },
  {
   "cell_type": "code",
   "execution_count": 79,
   "id": "131e86b9",
   "metadata": {},
   "outputs": [
    {
     "name": "stdout",
     "output_type": "stream",
     "text": [
      "enter the lst of numbers[1024, 192, 2048, 512]\n",
      "64\n"
     ]
    }
   ],
   "source": [
    "'''\n",
    "4. Write a function that returns the greatest common divisor of all list elements. If the greatest common divisor is 1,\n",
    "return 1.\n",
    "\n",
    "Examples\n",
    "\n",
    "GCD([10, 20, 40]) ➞ 10\n",
    "\n",
    "GCD([1, 2, 3, 100]) ➞ 1\n",
    "\n",
    "GCD([1024, 192, 2048, 512]) ➞ 64\n",
    "\n",
    "'''\n",
    "#Code\n",
    "\n",
    "def GCD(lst):\n",
    "    iter_len = len(lst)\n",
    "    gcd = 1\n",
    "    for i in range(iter_len-1):\n",
    "        new_lst = lst[-1:-3:-1]\n",
    "        if new_lst[0]>new_lst[1]:\n",
    "            a =new_lst[1]\n",
    "        else:\n",
    "            a = new_lst[0]\n",
    "        for k in range(a):\n",
    "            j=0\n",
    "            if new_lst[j]%a==0 and new_lst[j+1]%a==0:\n",
    "                gcd  = a\n",
    "                break\n",
    "            a-=1\n",
    "        lst.remove(lst[-1])\n",
    "        lst.remove(lst[-1])\n",
    "        lst.append(gcd)\n",
    "    return gcd\n",
    "        \n",
    "if __name__ == \"__main__\":\n",
    "    lst = eval(input(\"enter the lst of numbers\"))\n",
    "    result = GCD(lst)\n",
    "    print(result)\n",
    "\n"
   ]
  },
  {
   "cell_type": "code",
   "execution_count": 36,
   "id": "bcf814e4",
   "metadata": {},
   "outputs": [
    {
     "name": "stdout",
     "output_type": "stream",
     "text": [
      "enter the number 934\n",
      "Neither\n"
     ]
    }
   ],
   "source": [
    "'''\n",
    "5. A number/string is a palindrome if the digits/characters are the same when read both forward and backward. Examples \n",
    "include \"racecar\" and 12321. Given a positive number n, check if n or the binary representation of n is palindromic. \n",
    "Return the following:\n",
    "\n",
    "- \"Decimal only.\" if only n is a palindrome.\n",
    "- \"Binary only.\" if only the binary representation of n is a palindrome.\n",
    "- \"Decimal and binary.\" if both are palindromes.\n",
    "- \"Neither!\" if neither are palindromes.\n",
    "\n",
    "Examples\n",
    "\n",
    "palindrome_type(1306031) ➞ \"Decimal only.\"\n",
    "# decimal = 1306031\n",
    "# binary  = \"100111110110110101111\"\n",
    "\n",
    "palindrome_type(427787) ➞ \"Binary only.\"\n",
    "# decimal = 427787\n",
    "# binary  = \"1101000011100001011\"\n",
    "\n",
    "palindrome_type(313) ➞ \"Decimal and binary.\"\n",
    "# decimal = 313\n",
    "# binary  = 100111001\n",
    "\n",
    "palindrome_type(934) ➞ \"Neither!\"\n",
    "# decimal = 934\n",
    "# binary  = \"1110100110\"\n",
    "\n",
    "'''\n",
    "def palindrome_type(num):\n",
    "    binary_num = bin(num)[2:]\n",
    "    num = str(num)\n",
    "    binary_flag = 0\n",
    "    num_flag = 0\n",
    "    num_count = 0\n",
    "    binary_count = 0\n",
    "    for i in range(len(num)//2):\n",
    "        if num[i]==num[-1-i]:\n",
    "            num_count+=1\n",
    "    for i in range(len(binary_num)//2):\n",
    "        if binary_num[i]==binary_num[-1-i]:\n",
    "            binary_count+=1\n",
    "    if num_count==len(num)//2:\n",
    "        num_flag=1\n",
    "    if binary_count==len(binary_num)//2:\n",
    "        binary_flag=1\n",
    "    \n",
    "    if binary_flag==1 and num_flag==1:\n",
    "        return \"Decimal and binary\"\n",
    "    elif binary_flag==1:\n",
    "        return \"Binary only\"\n",
    "    elif num_flag==1:\n",
    "        return \"Decimal only\"\n",
    "    else:\n",
    "        return \"Neither\"\n",
    "    \n",
    "if __name__ == \"__main__\":\n",
    "    num = int(input(\"enter the number \"))\n",
    "    result = palindrome_type(num)\n",
    "    print(result)\n"
   ]
  },
  {
   "cell_type": "code",
   "execution_count": null,
   "id": "33f63734",
   "metadata": {},
   "outputs": [],
   "source": []
  },
  {
   "cell_type": "code",
   "execution_count": null,
   "id": "50477272",
   "metadata": {},
   "outputs": [],
   "source": []
  },
  {
   "cell_type": "code",
   "execution_count": null,
   "id": "4d1724e0",
   "metadata": {},
   "outputs": [],
   "source": []
  },
  {
   "cell_type": "code",
   "execution_count": null,
   "id": "f58962eb",
   "metadata": {},
   "outputs": [],
   "source": []
  },
  {
   "cell_type": "code",
   "execution_count": null,
   "id": "8019b921",
   "metadata": {},
   "outputs": [],
   "source": []
  },
  {
   "cell_type": "code",
   "execution_count": null,
   "id": "a318960b",
   "metadata": {},
   "outputs": [],
   "source": []
  },
  {
   "cell_type": "code",
   "execution_count": null,
   "id": "cb0df488",
   "metadata": {},
   "outputs": [],
   "source": []
  },
  {
   "cell_type": "code",
   "execution_count": null,
   "id": "d249877b",
   "metadata": {},
   "outputs": [],
   "source": []
  },
  {
   "cell_type": "code",
   "execution_count": null,
   "id": "a5429b03",
   "metadata": {},
   "outputs": [],
   "source": []
  }
 ],
 "metadata": {
  "kernelspec": {
   "display_name": "Python 3 (ipykernel)",
   "language": "python",
   "name": "python3"
  },
  "language_info": {
   "codemirror_mode": {
    "name": "ipython",
    "version": 3
   },
   "file_extension": ".py",
   "mimetype": "text/x-python",
   "name": "python",
   "nbconvert_exporter": "python",
   "pygments_lexer": "ipython3",
   "version": "3.9.12"
  }
 },
 "nbformat": 4,
 "nbformat_minor": 5
}
